{
 "cells": [
  {
   "cell_type": "code",
   "execution_count": 1,
   "metadata": {},
   "outputs": [],
   "source": [
    "import pandas as pd\n",
    "import numpy as np\n",
    "import geopandas\n",
    "import matplotlib.colors as colors\n",
    "import math\n",
    "import matplotlib.pyplot as plt\n",
    "from sklearn.metrics import r2_score\n",
    "import plotly.express as px\n",
    "import pickle\n",
    "\n",
    "from module.variables import *\n",
    "from module.functions import *"
   ]
  },
  {
   "cell_type": "code",
   "execution_count": 2,
   "metadata": {},
   "outputs": [],
   "source": [
    "#EU 2020 population and Ophthalmology Data\n",
    "with open('eu_two_letter.pickle', 'rb') as handle:\n",
    "    l2c = pickle.load(handle)\n",
    "EU_pop = pd.read_csv('EU_Pop.csv')\n",
    "\n",
    "\n",
    "with open('specialty_state_positions.pickle', 'rb') as handle:\n",
    "    residency_state = pickle.load(handle)"
   ]
  },
  {
   "cell_type": "code",
   "execution_count": 3,
   "metadata": {},
   "outputs": [
    {
     "name": "stdout",
     "output_type": "stream",
     "text": [
      "['2.56', 'Greece']\n",
      "['1.26', 'Cyprus']\n",
      "['1.2', 'Ukraine']\n",
      "['0.73', 'Slovenia']\n"
     ]
    }
   ],
   "source": [
    "uk2017 = '3.79(0.04) Czech Republic(CZ) 2.56 Greece(GR) 1.93(0.05) Switzerland(CH) 1.28(0.13) Romania(RO) 1.26 Cyprus(CY) 1.2 Ukraine(UA) 1.15(0.08) Italy(IT) 1.12(0.34) Austria(AT) 1.09(‐0.01) Poland(PL) 1.07(0.05) Latvia(LV) 0.95(0.1) Portugal(PT) 0.95(‐0.29) Bulgaria(BG) 0.93(‐0.02) Belgium(BE) 0.92(0.04) France(FR) 0.91(‐0.02) Estonia(EE) 0.82(‐0.28) Finland(FI) 0.81(0.02) Germany(DE) 0.8(0.01) Croatia(HR) 0.77(‐0.09) Spain(ES) 0.73(0.05) Serbia(RS) 0.73(0.02) Norway(NO) 0.73 Slovenia(SI) 0.66(‐0.02) Sweden(SE) 0.62(‐0.01) Denmark(DK) 0.61(0.01) Hungary(HU) 0.46(0.13) Turkey(TR) 0.42(‐0.01) Netherlands(NL) 0.38(‐0.02) United Kingdom(GB) 0.32(‐0.01)'\n",
    "uk2017 = uk2017.split(\") \")\n",
    "uk2017 = [x.split(\"(\") for x in uk2017] + [[\"Ireland\", \"IE\"]]\n",
    "uk2017_final = []\n",
    "x = 0\n",
    "while x < len(uk2017):\n",
    "    group = uk2017[x]\n",
    "    try:\n",
    "        # print(group)\n",
    "        float(group[0])\n",
    "        uk2017_final.append( (group[0], uk2017[x+1][0], uk2017[x+1][1]) )\n",
    "        x += 2\n",
    "    except:\n",
    "        other  = group[0].split(\" \")\n",
    "        print(other)\n",
    "        # print(group)\n",
    "        uk2017_final.append( (other[0], other[1], group[1]) )  \n",
    "        x += 1    \n",
    "\n",
    "uk2017_pd = pd.DataFrame(columns=[\"NAME_0\", \"ABV\", \"per_10k_2017\"])\n",
    "\n",
    "for x in uk2017_final:\n",
    "    temp = pd.DataFrame(data = [[x[1], x[2], x[0]]], columns = [\"NAME\", \"ABV\", \"per_10k_2017\"])\n",
    "    uk2017_pd = pd.concat([uk2017_pd, temp])\n"
   ]
  },
  {
   "cell_type": "code",
   "execution_count": 4,
   "metadata": {},
   "outputs": [],
   "source": [
    "region_to_name = pd.DataFrame([uk_regions, uk_names]).T\n",
    "region_to_name.columns = [\"ABR\", \"NAME_1\"]"
   ]
  },
  {
   "cell_type": "code",
   "execution_count": 5,
   "metadata": {},
   "outputs": [],
   "source": [
    "providers = pd.DataFrame(uk_data).T\n",
    "providers.columns = [\"Providers\", \"NAME_1\", \"Population\", \"Compensation1\"]\n",
    "providers[\"Compensation1\"] = providers[\"Compensation1\"].astype(\"float\")"
   ]
  },
  {
   "cell_type": "code",
   "execution_count": 6,
   "metadata": {},
   "outputs": [
    {
     "data": {
      "text/html": [
       "<div>\n",
       "<style scoped>\n",
       "    .dataframe tbody tr th:only-of-type {\n",
       "        vertical-align: middle;\n",
       "    }\n",
       "\n",
       "    .dataframe tbody tr th {\n",
       "        vertical-align: top;\n",
       "    }\n",
       "\n",
       "    .dataframe thead th {\n",
       "        text-align: right;\n",
       "    }\n",
       "</style>\n",
       "<table border=\"1\" class=\"dataframe\">\n",
       "  <thead>\n",
       "    <tr style=\"text-align: right;\">\n",
       "      <th></th>\n",
       "      <th>ID_0</th>\n",
       "      <th>ISO</th>\n",
       "      <th>NAME_0</th>\n",
       "      <th>ID_1</th>\n",
       "      <th>NAME_1</th>\n",
       "      <th>TYPE_1</th>\n",
       "      <th>ENGTYPE_1</th>\n",
       "      <th>NL_NAME_1</th>\n",
       "      <th>VARNAME_1</th>\n",
       "      <th>geometry</th>\n",
       "      <th>ABR</th>\n",
       "      <th>Interest_18</th>\n",
       "      <th>Providers</th>\n",
       "      <th>Population</th>\n",
       "      <th>Compensation1</th>\n",
       "      <th>Rate_100k_18</th>\n",
       "      <th>Need_18</th>\n",
       "    </tr>\n",
       "  </thead>\n",
       "  <tbody>\n",
       "    <tr>\n",
       "      <th>0</th>\n",
       "      <td>242</td>\n",
       "      <td>GBR</td>\n",
       "      <td>United Kingdom</td>\n",
       "      <td>1</td>\n",
       "      <td>England</td>\n",
       "      <td>Home Nation|Constituent Country</td>\n",
       "      <td>Kingdom</td>\n",
       "      <td>None</td>\n",
       "      <td>None</td>\n",
       "      <td>MULTIPOLYGON (((-6.38792 49.86875, -6.38792 49...</td>\n",
       "      <td>ENG</td>\n",
       "      <td>56.169231</td>\n",
       "      <td>12601</td>\n",
       "      <td>55977000</td>\n",
       "      <td>79860.0</td>\n",
       "      <td>22.511031</td>\n",
       "      <td>2.495187</td>\n",
       "    </tr>\n",
       "    <tr>\n",
       "      <th>1</th>\n",
       "      <td>242</td>\n",
       "      <td>GBR</td>\n",
       "      <td>United Kingdom</td>\n",
       "      <td>2</td>\n",
       "      <td>Northern Ireland</td>\n",
       "      <td>Home Nation|Constituent Country</td>\n",
       "      <td>Province</td>\n",
       "      <td>None</td>\n",
       "      <td>Ulster</td>\n",
       "      <td>MULTIPOLYGON (((-6.09417 54.05153, -6.09417 54...</td>\n",
       "      <td>NIR</td>\n",
       "      <td>13.646154</td>\n",
       "      <td>35.892</td>\n",
       "      <td>1876000</td>\n",
       "      <td>78296.0</td>\n",
       "      <td>1.913220</td>\n",
       "      <td>7.132560</td>\n",
       "    </tr>\n",
       "    <tr>\n",
       "      <th>2</th>\n",
       "      <td>242</td>\n",
       "      <td>GBR</td>\n",
       "      <td>United Kingdom</td>\n",
       "      <td>3</td>\n",
       "      <td>Scotland</td>\n",
       "      <td>Home Nation|Constituent Country</td>\n",
       "      <td>Kingdom</td>\n",
       "      <td>None</td>\n",
       "      <td>Alba</td>\n",
       "      <td>MULTIPOLYGON (((-4.70083 54.66570, -4.70083 54...</td>\n",
       "      <td>SCT</td>\n",
       "      <td>38.861538</td>\n",
       "      <td>1263</td>\n",
       "      <td>5437000</td>\n",
       "      <td>77779.0</td>\n",
       "      <td>23.229722</td>\n",
       "      <td>1.672923</td>\n",
       "    </tr>\n",
       "    <tr>\n",
       "      <th>3</th>\n",
       "      <td>242</td>\n",
       "      <td>GBR</td>\n",
       "      <td>United Kingdom</td>\n",
       "      <td>4</td>\n",
       "      <td>Wales</td>\n",
       "      <td>Home Nation|Constituent Country</td>\n",
       "      <td>Principality</td>\n",
       "      <td>None</td>\n",
       "      <td>Cymru</td>\n",
       "      <td>MULTIPOLYGON (((-3.10472 51.34153, -3.10472 51...</td>\n",
       "      <td>WLS</td>\n",
       "      <td>15.138462</td>\n",
       "      <td>61.14</td>\n",
       "      <td>3127000</td>\n",
       "      <td>82669.0</td>\n",
       "      <td>1.955229</td>\n",
       "      <td>7.742553</td>\n",
       "    </tr>\n",
       "  </tbody>\n",
       "</table>\n",
       "</div>"
      ],
      "text/plain": [
       "   ID_0  ISO          NAME_0  ID_1            NAME_1  \\\n",
       "0   242  GBR  United Kingdom     1           England   \n",
       "1   242  GBR  United Kingdom     2  Northern Ireland   \n",
       "2   242  GBR  United Kingdom     3          Scotland   \n",
       "3   242  GBR  United Kingdom     4             Wales   \n",
       "\n",
       "                            TYPE_1     ENGTYPE_1 NL_NAME_1 VARNAME_1  \\\n",
       "0  Home Nation|Constituent Country       Kingdom      None      None   \n",
       "1  Home Nation|Constituent Country      Province      None    Ulster   \n",
       "2  Home Nation|Constituent Country       Kingdom      None      Alba   \n",
       "3  Home Nation|Constituent Country  Principality      None     Cymru   \n",
       "\n",
       "                                            geometry  ABR  Interest_18  \\\n",
       "0  MULTIPOLYGON (((-6.38792 49.86875, -6.38792 49...  ENG    56.169231   \n",
       "1  MULTIPOLYGON (((-6.09417 54.05153, -6.09417 54...  NIR    13.646154   \n",
       "2  MULTIPOLYGON (((-4.70083 54.66570, -4.70083 54...  SCT    38.861538   \n",
       "3  MULTIPOLYGON (((-3.10472 51.34153, -3.10472 51...  WLS    15.138462   \n",
       "\n",
       "  Providers Population  Compensation1  Rate_100k_18   Need_18  \n",
       "0     12601   55977000        79860.0     22.511031  2.495187  \n",
       "1    35.892    1876000        78296.0      1.913220  7.132560  \n",
       "2      1263    5437000        77779.0     23.229722  1.672923  \n",
       "3     61.14    3127000        82669.0      1.955229  7.742553  "
      ]
     },
     "execution_count": 6,
     "metadata": {},
     "output_type": "execute_result"
    }
   ],
   "source": [
    "state_to_state = pull_all(10, [2017, 2018], uk_regions, \"UK\").mean()\n",
    "state_to_state = pd.DataFrame(state_to_state)\n",
    "state_to_state.reset_index(inplace=True)\n",
    "state_to_state.columns = [\"ABR\", \"Interest_18\"]\n",
    "state_to_state = state_to_state.merge(region_to_name, on=\"ABR\")\n",
    "states = geopandas.read_file('GBR_adm/GBR_adm1.shp')\n",
    "states = states.merge(state_to_state, on=\"NAME_1\")\n",
    "states = states.merge(providers, on=\"NAME_1\")\n",
    "states[\"Rate_100k_18\"] = states[\"Providers\"]/states[\"Population\"] * 100000\n",
    "states[\"Rate_100k_18\"] = states[\"Rate_100k_18\"].astype('float64')\n",
    "states[\"Need_18\"] = states[\"Interest_18\"]/states[\"Rate_100k_18\"]\n",
    "states"
   ]
  },
  {
   "cell_type": "code",
   "execution_count": 7,
   "metadata": {},
   "outputs": [
    {
     "data": {
      "image/png": "[encoded data removed]",
      "text/plain": [
       "<Figure size 432x288 with 2 Axes>"
      ]
     },
     "metadata": {
      "needs_background": "light"
     },
     "output_type": "display_data"
    }
   ],
   "source": [
    "def truncate_colormap(cmap, minval=0.0, maxval=1.0, n=100):\n",
    "    new_cmap = colors.LinearSegmentedColormap.from_list('trunc({n},{a:.2f},{b:.2f})'.format(n=cmap.name, a=minval, b=maxval),cmap(np.linspace(minval, maxval, n)))\n",
    "    return new_cmap\n",
    "\n",
    "arr = np.linspace(0, 50, 100).reshape((10, 10))\n",
    "fig, ax = plt.subplots(ncols=2)\n",
    "cmap = plt.get_cmap('PuBu')\n",
    "# cmap = plt.get_cmap('seismic')\n",
    "new_cmap = truncate_colormap(cmap, 0.1, 0.9)\n",
    "ax[0].imshow(arr, interpolation='nearest', cmap=cmap)\n",
    "ax[1].imshow(arr, interpolation='nearest', cmap=new_cmap)\n",
    "plt.show()"
   ]
  },
  {
   "cell_type": "code",
   "execution_count": 8,
   "metadata": {},
   "outputs": [
    {
     "data": {
      "image/png": "[encoded data removed]",
      "text/plain": [
       "<Figure size 1080x720 with 5 Axes>"
      ]
     },
     "metadata": {
      "needs_background": "light"
     },
     "output_type": "display_data"
    }
   ],
   "source": [
    "# Geo Map by State\n",
    "fig, ((ax1, ax3), (ax2, ax4)) = plt.subplots(2, 2, figsize=(15, 10))\n",
    "ax1.axis('off')\n",
    "ax1.set_title('Need for Ophtho Providers 18', fontdict={'fontsize': '15', 'fontweight' : '3'})\n",
    "states.plot(column='Need_18',\n",
    "          cmap=new_cmap,\n",
    "          linewidth=0.9,\n",
    "            ax=ax1,\n",
    "            edgecolor='0',\n",
    "            legend=True)\n",
    "\n",
    "#Scatter by State\n",
    "ax3.set_title('2018 Region', fontdict={'fontsize': '15', 'fontweight' : '3'})\n",
    "ax3.set_xlabel(\"Ophtho Interest\")\n",
    "ax3.set_ylabel(\"Provider Rate\")\n",
    "x = states[\"Interest_18\"]\n",
    "y = states[\"Rate_100k_18\"]\n",
    "\n",
    "ax3.plot(x,y,\"+\", \n",
    "         ms=10, \n",
    "         mec=\"k\",)\n",
    "\n",
    "z = np.polyfit(x, y, 1)\n",
    "y_hat = np.poly1d(z)(x)\n",
    "\n",
    "ax3.plot(x, y_hat, \n",
    "         \"r--\",\n",
    "         lw=1)\n",
    "text = f\"$y={z[0]:0.3f}\\;x{z[1]:+0.3f}$\\n$R^2 = {r2_score(y,y_hat):0.3f}$\"\n",
    "ax3.text(13, 27, text,\n",
    "     fontsize=14, verticalalignment='top')\n",
    "\n",
    "#Scatter by State\n",
    "ax4.set_title('2018 Providers per Compensation', fontdict={'fontsize': '15', 'fontweight' : '3'})\n",
    "ax4.set_xlabel(\"Compensation\")\n",
    "ax4.set_ylabel(\"Provider Rate\")\n",
    "x = states[\"Compensation1\"]\n",
    "y = states[\"Rate_100k_18\"]\n",
    "\n",
    "ax4.plot(x,y,\"+\", \n",
    "         ms=10, \n",
    "         mec=\"k\",)\n",
    "\n",
    "z = np.polyfit(x, y, 1)\n",
    "y_hat = np.poly1d(z)(x)\n",
    "\n",
    "ax4.plot(x, y_hat, \n",
    "         \"r--\",\n",
    "         lw=1)\n",
    "text = f\"$y={z[0]:0.3f}\\;x{z[1]:+0.3f}$\\n$R^2 = {r2_score(y,y_hat):0.3f}$\"\n",
    "ax4.text(71200, 19.5, text,\n",
    "     fontsize=14)\n",
    "\n",
    "\n",
    "#Scatter by State\n",
    "ax2.set_title('2021 Compensation per Need', fontdict={'fontsize': '15', 'fontweight' : '3'})\n",
    "ax2.set_xlabel(\"Need\")\n",
    "ax2.set_ylabel(\"Compensation\")\n",
    "x = states[\"Need_18\"]\n",
    "y = states[\"Compensation1\"]\n",
    "\n",
    "ax2.plot(x,y,\"+\", \n",
    "         ms=10, \n",
    "         mec=\"k\",)\n",
    "\n",
    "z = np.polyfit(x, y, 1)\n",
    "y_hat = np.poly1d(z)(x)\n",
    "\n",
    "ax2.plot(x, y_hat, \n",
    "         \"r--\",\n",
    "         lw=1)\n",
    "text = f\"$y={z[0]:0.3f}\\;x{z[1]:+0.3f}$\\n$R^2 = {r2_score(y,y_hat):0.3f}$\"\n",
    "ax2.text(9, 77000, text,\n",
    "     fontsize=14)\n",
    "\n",
    "\n",
    "fig.savefig('Figures/UK.png')"
   ]
  },
  {
   "cell_type": "code",
   "execution_count": 9,
   "metadata": {},
   "outputs": [
    {
     "data": {
      "text/plain": [
       "Text(13, 27, '$y=0.551\\\\;x-4.644$\\n$R^2 = 0.863$')"
      ]
     },
     "execution_count": 9,
     "metadata": {},
     "output_type": "execute_result"
    },
    {
     "data": {
      "image/png": "[encoded data removed]",
      "text/plain": [
       "<Figure size 1080x720 with 3 Axes>"
      ]
     },
     "metadata": {
      "needs_background": "light"
     },
     "output_type": "display_data"
    }
   ],
   "source": [
    "# Geo Map by State\n",
    "fig, ((ax1, ax3)) = plt.subplots(1, 2, figsize=(15, 10))\n",
    "ax1.axis('off')\n",
    "ax1.set_title('Need for Ophtho Providers 21', fontdict={'fontsize': '15', 'fontweight' : '3'})\n",
    "states.plot(column='Need_18',\n",
    "          cmap=new_cmap,\n",
    "          linewidth=0.9,\n",
    "            ax=ax1,\n",
    "            edgecolor='0',\n",
    "            legend=True)\n",
    "\n",
    "#Scatter by State\n",
    "ax3.set_title('2021 States', fontdict={'fontsize': '15', 'fontweight' : '3'})\n",
    "ax3.set_xlabel(\"Ophtho Interest\")\n",
    "ax3.set_ylabel(\"Provider Rate\")\n",
    "x = states[\"Interest_18\"]\n",
    "y = states[\"Rate_100k_18\"]\n",
    "\n",
    "ax3.plot(x,y,\"+\", \n",
    "         ms=10, \n",
    "         mec=\"k\",)\n",
    "\n",
    "z = np.polyfit(x, y, 1)\n",
    "y_hat = np.poly1d(z)(x)\n",
    "\n",
    "ax3.plot(x, y_hat, \n",
    "         \"r--\",\n",
    "         lw=1)\n",
    "text = f\"$y={z[0]:0.3f}\\;x{z[1]:+0.3f}$\\n$R^2 = {r2_score(y,y_hat):0.3f}$\"\n",
    "ax3.text(13, 27, text,\n",
    "     fontsize=14, verticalalignment='top')\n",
    "\n",
    "\n",
    "# fig.savefig('Figures/2021.png')"
   ]
  },
  {
   "cell_type": "code",
   "execution_count": 10,
   "metadata": {},
   "outputs": [],
   "source": [
    "#Parse 2020 ophthalmology Data for EU\n",
    "labels = 'AT 0,80 BE 0,88 BG 1,03 HR 0,95 CY 1,40 CZ 0,99 DK 0,50 EE 1,21 FI 0,89 FR 0,88 DE 0,49 GR 2,80 HU 1,02 IE 0,69 IT 1,26 LV 1,14 LT 1,23 NL 0,38 MK 0,14 NO 1,04 PO 1,24 RO 1,28 RS 0,93 SI 0,71 ES 0,89 SE 0,79 CH 1,38 TR 0,44 UK 0,22'\n",
    "labels = labels.split(\" \")\n",
    "counteries = [labels[x] for x in range(0, len(labels), 2) ]\n",
    "per_10k = [labels[x].replace(\",\", \".\") for x in range(1, len(labels), 2) ]\n",
    "\n",
    "EU = pd.DataFrame(columns=[\"Country\",\"per_10k\"])\n",
    "\n",
    "for x in range(len(counteries)):\n",
    "    country = l2c[counteries[x]]\n",
    "    temp = pd.DataFrame(data=[[country, per_10k[x]]], columns=[\"Country\", \"per_10k\"])\n",
    "    EU = pd.concat([EU, temp])\n",
    "\n",
    "EU = EU.merge(EU_pop, on=\"Country\")\n",
    "\n",
    "EU[\"per_10k\"] = EU[\"per_10k\"].astype(float)\n",
    "EU[\"Population\"] = EU[\"Population\"].astype(int)\n",
    "EU[\"Ophthalmologists\"] = EU[\"per_10k\"]*EU[\"Population\"]/10000\n",
    "EU[\"Rate_100k_2020\"] = EU[\"per_10k\"]*10\n",
    "EU[\"Ophthalmologists\"] = EU[\"Ophthalmologists\"].apply(np.floor).astype(int)\n",
    "EU = EU.drop(\"per_10k\", axis=1)\n",
    "EU = EU.rename(columns = {'Country':'NAME'})\n",
    "\n",
    "EU = EU.merge(uk2017_pd, on=\"NAME\")\n",
    "EU[\"per_10k_2017\"] = EU[\"per_10k_2017\"].astype(float)\n",
    "EU[\"Rate_100k_2017\"] = EU[\"per_10k_2017\"]*10\n",
    "EU[\"Rate_100k_change\"] = (EU[\"Rate_100k_2020\"] - EU[\"Rate_100k_2017\"])/EU[\"Rate_100k_2017\"] * 100\n",
    "EU = EU.drop([\"NAME_0\", \"ABV\", \"per_10k_2017\"], axis = 1)"
   ]
  },
  {
   "cell_type": "code",
   "execution_count": 11,
   "metadata": {},
   "outputs": [],
   "source": [
    "EU_countries = pull_all(10, [2019, 2020], EU_regions, \"EU\").mean()\n",
    "EU_countries = pd.DataFrame(EU_countries)\n",
    "EU_countries.reset_index(inplace=True)\n",
    "EU_countries.columns = [\"ABR\", \"Interest_20\"]\n",
    "EU_countries[\"NAME\"] = \"\"\n",
    "for index, row in EU_countries.iterrows():\n",
    "    if EU_countries.loc[index,\"ABR\"] == \"PL\":\n",
    "        EU_countries.loc[index,\"ABR\"] = \"PO\"\n",
    "    if EU_countries.loc[index,\"ABR\"] == \"GB\":\n",
    "        EU_countries.loc[index,\"ABR\"] = \"UK\"\n",
    "    EU_countries.loc[index,\"NAME\"] = l2c[EU_countries.loc[index,\"ABR\"]]\n",
    "\n",
    "# EU_countries"
   ]
  },
  {
   "cell_type": "code",
   "execution_count": 12,
   "metadata": {},
   "outputs": [],
   "source": [
    "europe = geopandas.read_file('Europe_borders\\Europe_borders.shp')\n",
    "europe = europe.merge(EU, on=\"NAME\", how='left')\n",
    "europe = europe.merge(EU_countries, on=\"NAME\", how='left')\n",
    "europe = europe.fillna(0)\n",
    "europe = europe[(europe.NAME != \"Faeroe Islands (Denmark)\") & (europe.NAME != \"Jan Mayen (Norway)\") & (europe.NAME != \"Svalbard (Norway)\") &\\\n",
    "        (europe.NAME != \"Russia\") & (europe.NAME != \"Gibraltar (UK)\") & (europe.NAME != \"Iceland\")]"
   ]
  },
  {
   "cell_type": "code",
   "execution_count": 13,
   "metadata": {},
   "outputs": [
    {
     "data": {
      "text/html": [
       "<div>\n",
       "<style scoped>\n",
       "    .dataframe tbody tr th:only-of-type {\n",
       "        vertical-align: middle;\n",
       "    }\n",
       "\n",
       "    .dataframe tbody tr th {\n",
       "        vertical-align: top;\n",
       "    }\n",
       "\n",
       "    .dataframe thead th {\n",
       "        text-align: right;\n",
       "    }\n",
       "</style>\n",
       "<table border=\"1\" class=\"dataframe\">\n",
       "  <thead>\n",
       "    <tr style=\"text-align: right;\">\n",
       "      <th></th>\n",
       "      <th>NAME</th>\n",
       "      <th>ORGN_NAME</th>\n",
       "      <th>geometry</th>\n",
       "      <th>Population</th>\n",
       "      <th>Ophthalmologists</th>\n",
       "      <th>Rate_100k_2020</th>\n",
       "      <th>Rate_100k_2017</th>\n",
       "      <th>Rate_100k_change</th>\n",
       "      <th>ABR</th>\n",
       "      <th>Interest_20</th>\n",
       "      <th>Need_21</th>\n",
       "    </tr>\n",
       "  </thead>\n",
       "  <tbody>\n",
       "    <tr>\n",
       "      <th>35</th>\n",
       "      <td>United Kingdom</td>\n",
       "      <td>United Kingdom</td>\n",
       "      <td>MULTIPOLYGON (((-5.33523 51.85830, -5.34557 51...</td>\n",
       "      <td>67326569.0</td>\n",
       "      <td>1481.0</td>\n",
       "      <td>2.2</td>\n",
       "      <td>3.8</td>\n",
       "      <td>-42.105263</td>\n",
       "      <td>UK</td>\n",
       "      <td>59.384615</td>\n",
       "      <td>26.993007</td>\n",
       "    </tr>\n",
       "    <tr>\n",
       "      <th>11</th>\n",
       "      <td>Germany</td>\n",
       "      <td>Deutschland</td>\n",
       "      <td>MULTIPOLYGON (((13.11717 54.54924, 13.12529 54...</td>\n",
       "      <td>83783942.0</td>\n",
       "      <td>4105.0</td>\n",
       "      <td>4.9</td>\n",
       "      <td>8.1</td>\n",
       "      <td>-39.506173</td>\n",
       "      <td>DE</td>\n",
       "      <td>32.523077</td>\n",
       "      <td>6.637363</td>\n",
       "    </tr>\n",
       "    <tr>\n",
       "      <th>2</th>\n",
       "      <td>Austria</td>\n",
       "      <td>Österreich</td>\n",
       "      <td>POLYGON ((16.00000 48.77775, 16.00000 48.78252...</td>\n",
       "      <td>9006398.0</td>\n",
       "      <td>720.0</td>\n",
       "      <td>8.0</td>\n",
       "      <td>11.2</td>\n",
       "      <td>-28.571429</td>\n",
       "      <td>AT</td>\n",
       "      <td>14.884615</td>\n",
       "      <td>1.860577</td>\n",
       "    </tr>\n",
       "    <tr>\n",
       "      <th>34</th>\n",
       "      <td>Switzerland</td>\n",
       "      <td>Schweiz / Suisse / Svizerra / Svizra</td>\n",
       "      <td>POLYGON ((9.53591 47.27354, 9.52660 47.25858, ...</td>\n",
       "      <td>8697723.0</td>\n",
       "      <td>1200.0</td>\n",
       "      <td>13.8</td>\n",
       "      <td>19.3</td>\n",
       "      <td>-28.497409</td>\n",
       "      <td>CH</td>\n",
       "      <td>22.192308</td>\n",
       "      <td>1.608138</td>\n",
       "    </tr>\n",
       "    <tr>\n",
       "      <th>7</th>\n",
       "      <td>Denmark</td>\n",
       "      <td>Danmark</td>\n",
       "      <td>MULTIPOLYGON (((11.99978 54.94118, 11.98534 54...</td>\n",
       "      <td>5792202.0</td>\n",
       "      <td>289.0</td>\n",
       "      <td>5.0</td>\n",
       "      <td>6.2</td>\n",
       "      <td>-19.354839</td>\n",
       "      <td>DK</td>\n",
       "      <td>24.102564</td>\n",
       "      <td>4.820513</td>\n",
       "    </tr>\n",
       "    <tr>\n",
       "      <th>25</th>\n",
       "      <td>Netherlands</td>\n",
       "      <td>Nederland</td>\n",
       "      <td>MULTIPOLYGON (((6.05039 53.44675, 6.04538 53.4...</td>\n",
       "      <td>17134872.0</td>\n",
       "      <td>651.0</td>\n",
       "      <td>3.8</td>\n",
       "      <td>4.2</td>\n",
       "      <td>-9.523810</td>\n",
       "      <td>NL</td>\n",
       "      <td>26.246154</td>\n",
       "      <td>6.906883</td>\n",
       "    </tr>\n",
       "    <tr>\n",
       "      <th>3</th>\n",
       "      <td>Belgium</td>\n",
       "      <td>België / Belgique</td>\n",
       "      <td>POLYGON ((5.00000 49.79374, 4.99724 49.79696, ...</td>\n",
       "      <td>11589623.0</td>\n",
       "      <td>1019.0</td>\n",
       "      <td>8.8</td>\n",
       "      <td>9.3</td>\n",
       "      <td>-5.376344</td>\n",
       "      <td>BE</td>\n",
       "      <td>25.596154</td>\n",
       "      <td>2.908654</td>\n",
       "    </tr>\n",
       "    <tr>\n",
       "      <th>10</th>\n",
       "      <td>France</td>\n",
       "      <td>France</td>\n",
       "      <td>MULTIPOLYGON (((-2.28137 46.68570, -2.31121 46...</td>\n",
       "      <td>65273511.0</td>\n",
       "      <td>5744.0</td>\n",
       "      <td>8.8</td>\n",
       "      <td>9.2</td>\n",
       "      <td>-4.347826</td>\n",
       "      <td>FR</td>\n",
       "      <td>16.523077</td>\n",
       "      <td>1.877622</td>\n",
       "    </tr>\n",
       "    <tr>\n",
       "      <th>47</th>\n",
       "      <td>Turkey</td>\n",
       "      <td>Türkiye</td>\n",
       "      <td>MULTIPOLYGON (((29.11932 40.83066, 29.11734 40...</td>\n",
       "      <td>85042736.0</td>\n",
       "      <td>3741.0</td>\n",
       "      <td>4.4</td>\n",
       "      <td>4.6</td>\n",
       "      <td>-4.347826</td>\n",
       "      <td>TR</td>\n",
       "      <td>4.692308</td>\n",
       "      <td>1.066434</td>\n",
       "    </tr>\n",
       "    <tr>\n",
       "      <th>31</th>\n",
       "      <td>Slovenia</td>\n",
       "      <td>Slovenija</td>\n",
       "      <td>POLYGON ((16.56602 46.48372, 16.54178 46.48717...</td>\n",
       "      <td>2078938.0</td>\n",
       "      <td>147.0</td>\n",
       "      <td>7.1</td>\n",
       "      <td>7.3</td>\n",
       "      <td>-2.739726</td>\n",
       "      <td>SI</td>\n",
       "      <td>13.282051</td>\n",
       "      <td>1.870711</td>\n",
       "    </tr>\n",
       "    <tr>\n",
       "      <th>28</th>\n",
       "      <td>San Marino</td>\n",
       "      <td>San Marino</td>\n",
       "      <td>POLYGON ((12.51004 43.99981, 12.51557 43.99566...</td>\n",
       "      <td>0.0</td>\n",
       "      <td>0.0</td>\n",
       "      <td>0.0</td>\n",
       "      <td>0.0</td>\n",
       "      <td>0.000000</td>\n",
       "      <td>0</td>\n",
       "      <td>0.000000</td>\n",
       "      <td>NaN</td>\n",
       "    </tr>\n",
       "    <tr>\n",
       "      <th>30</th>\n",
       "      <td>Slovakia</td>\n",
       "      <td>Slovensko</td>\n",
       "      <td>POLYGON ((18.85061 49.52131, 18.85416 49.51941...</td>\n",
       "      <td>0.0</td>\n",
       "      <td>0.0</td>\n",
       "      <td>0.0</td>\n",
       "      <td>0.0</td>\n",
       "      <td>0.000000</td>\n",
       "      <td>0</td>\n",
       "      <td>0.000000</td>\n",
       "      <td>NaN</td>\n",
       "    </tr>\n",
       "    <tr>\n",
       "      <th>0</th>\n",
       "      <td>Albania</td>\n",
       "      <td>Shqipëria</td>\n",
       "      <td>MULTIPOLYGON (((19.50115 40.96230, 19.50563 40...</td>\n",
       "      <td>0.0</td>\n",
       "      <td>0.0</td>\n",
       "      <td>0.0</td>\n",
       "      <td>0.0</td>\n",
       "      <td>0.000000</td>\n",
       "      <td>0</td>\n",
       "      <td>0.000000</td>\n",
       "      <td>NaN</td>\n",
       "    </tr>\n",
       "    <tr>\n",
       "      <th>24</th>\n",
       "      <td>Montenegro</td>\n",
       "      <td>Crna Gora</td>\n",
       "      <td>MULTIPOLYGON (((19.22947 43.53458, 19.22795 43...</td>\n",
       "      <td>0.0</td>\n",
       "      <td>0.0</td>\n",
       "      <td>0.0</td>\n",
       "      <td>0.0</td>\n",
       "      <td>0.000000</td>\n",
       "      <td>0</td>\n",
       "      <td>0.000000</td>\n",
       "      <td>NaN</td>\n",
       "    </tr>\n",
       "    <tr>\n",
       "      <th>37</th>\n",
       "      <td>Azerbaijan</td>\n",
       "      <td>Azerbaycan</td>\n",
       "      <td>MULTIPOLYGON (((49.02264 39.19647, 49.02892 39...</td>\n",
       "      <td>0.0</td>\n",
       "      <td>0.0</td>\n",
       "      <td>0.0</td>\n",
       "      <td>0.0</td>\n",
       "      <td>0.000000</td>\n",
       "      <td>0</td>\n",
       "      <td>0.000000</td>\n",
       "      <td>NaN</td>\n",
       "    </tr>\n",
       "    <tr>\n",
       "      <th>38</th>\n",
       "      <td>Belarus</td>\n",
       "      <td>Belarus</td>\n",
       "      <td>POLYGON ((30.00000 51.48946, 29.95314 51.48722...</td>\n",
       "      <td>0.0</td>\n",
       "      <td>0.0</td>\n",
       "      <td>0.0</td>\n",
       "      <td>0.0</td>\n",
       "      <td>0.000000</td>\n",
       "      <td>0</td>\n",
       "      <td>0.000000</td>\n",
       "      <td>NaN</td>\n",
       "    </tr>\n",
       "    <tr>\n",
       "      <th>41</th>\n",
       "      <td>Georgia</td>\n",
       "      <td>Sakartvelo</td>\n",
       "      <td>POLYGON ((40.01024 43.38326, 40.01102 43.39860...</td>\n",
       "      <td>0.0</td>\n",
       "      <td>0.0</td>\n",
       "      <td>0.0</td>\n",
       "      <td>0.0</td>\n",
       "      <td>0.000000</td>\n",
       "      <td>0</td>\n",
       "      <td>0.000000</td>\n",
       "      <td>NaN</td>\n",
       "    </tr>\n",
       "    <tr>\n",
       "      <th>44</th>\n",
       "      <td>Moldova</td>\n",
       "      <td>Moldova</td>\n",
       "      <td>POLYGON ((27.72524 48.45466, 27.74713 48.45837...</td>\n",
       "      <td>0.0</td>\n",
       "      <td>0.0</td>\n",
       "      <td>0.0</td>\n",
       "      <td>0.0</td>\n",
       "      <td>0.000000</td>\n",
       "      <td>0</td>\n",
       "      <td>0.000000</td>\n",
       "      <td>NaN</td>\n",
       "    </tr>\n",
       "    <tr>\n",
       "      <th>45</th>\n",
       "      <td>Romania</td>\n",
       "      <td>România</td>\n",
       "      <td>MULTIPOLYGON (((29.59458 44.81385, 29.57739 44...</td>\n",
       "      <td>19237691.0</td>\n",
       "      <td>2462.0</td>\n",
       "      <td>12.8</td>\n",
       "      <td>12.8</td>\n",
       "      <td>0.000000</td>\n",
       "      <td>RO</td>\n",
       "      <td>8.051282</td>\n",
       "      <td>0.629006</td>\n",
       "    </tr>\n",
       "    <tr>\n",
       "      <th>36</th>\n",
       "      <td>Armenia</td>\n",
       "      <td>Hayastan</td>\n",
       "      <td>MULTIPOLYGON (((45.48185 40.65776, 45.49001 40...</td>\n",
       "      <td>0.0</td>\n",
       "      <td>0.0</td>\n",
       "      <td>0.0</td>\n",
       "      <td>0.0</td>\n",
       "      <td>0.000000</td>\n",
       "      <td>0</td>\n",
       "      <td>0.000000</td>\n",
       "      <td>NaN</td>\n",
       "    </tr>\n",
       "    <tr>\n",
       "      <th>48</th>\n",
       "      <td>Ukraine</td>\n",
       "      <td>Ukrajina</td>\n",
       "      <td>MULTIPOLYGON (((33.52988 45.87363, 33.52778 45...</td>\n",
       "      <td>0.0</td>\n",
       "      <td>0.0</td>\n",
       "      <td>0.0</td>\n",
       "      <td>0.0</td>\n",
       "      <td>0.000000</td>\n",
       "      <td>0</td>\n",
       "      <td>0.000000</td>\n",
       "      <td>NaN</td>\n",
       "    </tr>\n",
       "    <tr>\n",
       "      <th>23</th>\n",
       "      <td>Monaco</td>\n",
       "      <td>Monaco</td>\n",
       "      <td>POLYGON ((7.40680 43.73196, 7.40175 43.73449, ...</td>\n",
       "      <td>0.0</td>\n",
       "      <td>0.0</td>\n",
       "      <td>0.0</td>\n",
       "      <td>0.0</td>\n",
       "      <td>0.000000</td>\n",
       "      <td>0</td>\n",
       "      <td>0.000000</td>\n",
       "      <td>NaN</td>\n",
       "    </tr>\n",
       "    <tr>\n",
       "      <th>21</th>\n",
       "      <td>Macedonia</td>\n",
       "      <td>Makedonija</td>\n",
       "      <td>POLYGON ((22.37382 42.32667, 22.37228 42.32576...</td>\n",
       "      <td>0.0</td>\n",
       "      <td>0.0</td>\n",
       "      <td>0.0</td>\n",
       "      <td>0.0</td>\n",
       "      <td>0.000000</td>\n",
       "      <td>0</td>\n",
       "      <td>0.000000</td>\n",
       "      <td>NaN</td>\n",
       "    </tr>\n",
       "    <tr>\n",
       "      <th>1</th>\n",
       "      <td>Andorra</td>\n",
       "      <td>Andorra</td>\n",
       "      <td>POLYGON ((1.43992 42.60649, 1.45041 42.60596, ...</td>\n",
       "      <td>0.0</td>\n",
       "      <td>0.0</td>\n",
       "      <td>0.0</td>\n",
       "      <td>0.0</td>\n",
       "      <td>0.000000</td>\n",
       "      <td>0</td>\n",
       "      <td>0.000000</td>\n",
       "      <td>NaN</td>\n",
       "    </tr>\n",
       "    <tr>\n",
       "      <th>4</th>\n",
       "      <td>Bosnia Herzegovina</td>\n",
       "      <td>Bosna i Hercegovina</td>\n",
       "      <td>POLYGON ((19.22947 43.53458, 19.22925 43.53597...</td>\n",
       "      <td>0.0</td>\n",
       "      <td>0.0</td>\n",
       "      <td>0.0</td>\n",
       "      <td>0.0</td>\n",
       "      <td>0.000000</td>\n",
       "      <td>0</td>\n",
       "      <td>0.000000</td>\n",
       "      <td>NaN</td>\n",
       "    </tr>\n",
       "    <tr>\n",
       "      <th>6</th>\n",
       "      <td>Czech Republic</td>\n",
       "      <td>Cesko</td>\n",
       "      <td>POLYGON ((14.82523 50.87399, 14.83687 50.86996...</td>\n",
       "      <td>0.0</td>\n",
       "      <td>0.0</td>\n",
       "      <td>0.0</td>\n",
       "      <td>0.0</td>\n",
       "      <td>0.000000</td>\n",
       "      <td>0</td>\n",
       "      <td>0.000000</td>\n",
       "      <td>NaN</td>\n",
       "    </tr>\n",
       "    <tr>\n",
       "      <th>22</th>\n",
       "      <td>Malta</td>\n",
       "      <td>Malta</td>\n",
       "      <td>MULTIPOLYGON (((14.33938 36.00751, 14.33490 36...</td>\n",
       "      <td>0.0</td>\n",
       "      <td>0.0</td>\n",
       "      <td>0.0</td>\n",
       "      <td>0.0</td>\n",
       "      <td>0.000000</td>\n",
       "      <td>0</td>\n",
       "      <td>0.000000</td>\n",
       "      <td>NaN</td>\n",
       "    </tr>\n",
       "    <tr>\n",
       "      <th>50</th>\n",
       "      <td>Portugal</td>\n",
       "      <td>Portugal</td>\n",
       "      <td>POLYGON ((-6.87469 40.00000, -6.87551 39.99289...</td>\n",
       "      <td>0.0</td>\n",
       "      <td>0.0</td>\n",
       "      <td>0.0</td>\n",
       "      <td>0.0</td>\n",
       "      <td>0.000000</td>\n",
       "      <td>0</td>\n",
       "      <td>0.000000</td>\n",
       "      <td>NaN</td>\n",
       "    </tr>\n",
       "    <tr>\n",
       "      <th>20</th>\n",
       "      <td>Luxembourg</td>\n",
       "      <td>Lëtzebuerg / Luxemburg / Luxembourg</td>\n",
       "      <td>POLYGON ((6.13802 50.13290, 6.14092 50.12927, ...</td>\n",
       "      <td>0.0</td>\n",
       "      <td>0.0</td>\n",
       "      <td>0.0</td>\n",
       "      <td>0.0</td>\n",
       "      <td>0.000000</td>\n",
       "      <td>0</td>\n",
       "      <td>0.000000</td>\n",
       "      <td>NaN</td>\n",
       "    </tr>\n",
       "    <tr>\n",
       "      <th>18</th>\n",
       "      <td>Liechtenstein</td>\n",
       "      <td>Liechtenstein</td>\n",
       "      <td>POLYGON ((9.53591 47.27354, 9.56037 47.24912, ...</td>\n",
       "      <td>0.0</td>\n",
       "      <td>0.0</td>\n",
       "      <td>0.0</td>\n",
       "      <td>0.0</td>\n",
       "      <td>0.000000</td>\n",
       "      <td>0</td>\n",
       "      <td>0.000000</td>\n",
       "      <td>NaN</td>\n",
       "    </tr>\n",
       "    <tr>\n",
       "      <th>19</th>\n",
       "      <td>Lithuania</td>\n",
       "      <td>Lietuva</td>\n",
       "      <td>MULTIPOLYGON (((26.22030 55.00000, 26.21693 54...</td>\n",
       "      <td>0.0</td>\n",
       "      <td>0.0</td>\n",
       "      <td>0.0</td>\n",
       "      <td>0.0</td>\n",
       "      <td>0.000000</td>\n",
       "      <td>LT</td>\n",
       "      <td>6.307692</td>\n",
       "      <td>inf</td>\n",
       "    </tr>\n",
       "    <tr>\n",
       "      <th>17</th>\n",
       "      <td>Latvia</td>\n",
       "      <td>Latvija</td>\n",
       "      <td>POLYGON ((22.14997 57.64129, 22.17712 57.65100...</td>\n",
       "      <td>1886198.0</td>\n",
       "      <td>215.0</td>\n",
       "      <td>11.4</td>\n",
       "      <td>10.7</td>\n",
       "      <td>6.542056</td>\n",
       "      <td>LV</td>\n",
       "      <td>19.153846</td>\n",
       "      <td>1.680162</td>\n",
       "    </tr>\n",
       "    <tr>\n",
       "      <th>39</th>\n",
       "      <td>Bulgaria</td>\n",
       "      <td>Balgarija</td>\n",
       "      <td>POLYGON ((22.68183 44.21765, 22.68898 44.21381...</td>\n",
       "      <td>6948445.0</td>\n",
       "      <td>715.0</td>\n",
       "      <td>10.3</td>\n",
       "      <td>9.5</td>\n",
       "      <td>8.421053</td>\n",
       "      <td>BG</td>\n",
       "      <td>5.615385</td>\n",
       "      <td>0.545183</td>\n",
       "    </tr>\n",
       "    <tr>\n",
       "      <th>9</th>\n",
       "      <td>Finland</td>\n",
       "      <td>Suomi</td>\n",
       "      <td>MULTIPOLYGON (((22.07310 60.22830, 22.06502 60...</td>\n",
       "      <td>5540720.0</td>\n",
       "      <td>493.0</td>\n",
       "      <td>8.9</td>\n",
       "      <td>8.2</td>\n",
       "      <td>8.536585</td>\n",
       "      <td>FI</td>\n",
       "      <td>16.096154</td>\n",
       "      <td>1.808557</td>\n",
       "    </tr>\n",
       "    <tr>\n",
       "      <th>13</th>\n",
       "      <td>Greece</td>\n",
       "      <td>Elláda</td>\n",
       "      <td>MULTIPOLYGON (((24.74283 37.59560, 24.73534 37...</td>\n",
       "      <td>10423054.0</td>\n",
       "      <td>2918.0</td>\n",
       "      <td>28.0</td>\n",
       "      <td>25.6</td>\n",
       "      <td>9.375000</td>\n",
       "      <td>GR</td>\n",
       "      <td>4.096154</td>\n",
       "      <td>0.146291</td>\n",
       "    </tr>\n",
       "    <tr>\n",
       "      <th>16</th>\n",
       "      <td>Italy</td>\n",
       "      <td>Italia</td>\n",
       "      <td>MULTIPOLYGON (((12.46117 37.88075, 12.45686 37...</td>\n",
       "      <td>60461826.0</td>\n",
       "      <td>7618.0</td>\n",
       "      <td>12.6</td>\n",
       "      <td>11.5</td>\n",
       "      <td>9.565217</td>\n",
       "      <td>IT</td>\n",
       "      <td>16.476923</td>\n",
       "      <td>1.307692</td>\n",
       "    </tr>\n",
       "    <tr>\n",
       "      <th>27</th>\n",
       "      <td>Poland</td>\n",
       "      <td>Polska</td>\n",
       "      <td>MULTIPOLYGON (((14.21288 53.86478, 14.21349 53...</td>\n",
       "      <td>37846611.0</td>\n",
       "      <td>4692.0</td>\n",
       "      <td>12.4</td>\n",
       "      <td>10.9</td>\n",
       "      <td>13.761468</td>\n",
       "      <td>PO</td>\n",
       "      <td>17.346154</td>\n",
       "      <td>1.398883</td>\n",
       "    </tr>\n",
       "    <tr>\n",
       "      <th>32</th>\n",
       "      <td>Spain</td>\n",
       "      <td>España</td>\n",
       "      <td>MULTIPOLYGON (((-5.60904 36.00032, -5.61149 36...</td>\n",
       "      <td>46754778.0</td>\n",
       "      <td>4161.0</td>\n",
       "      <td>8.9</td>\n",
       "      <td>7.7</td>\n",
       "      <td>15.584416</td>\n",
       "      <td>ES</td>\n",
       "      <td>23.815385</td>\n",
       "      <td>2.675886</td>\n",
       "    </tr>\n",
       "    <tr>\n",
       "      <th>5</th>\n",
       "      <td>Croatia</td>\n",
       "      <td>Hrvatska</td>\n",
       "      <td>MULTIPOLYGON (((14.30038 44.50156, 14.28972 44...</td>\n",
       "      <td>4105267.0</td>\n",
       "      <td>390.0</td>\n",
       "      <td>9.5</td>\n",
       "      <td>8.0</td>\n",
       "      <td>18.750000</td>\n",
       "      <td>HR</td>\n",
       "      <td>8.487179</td>\n",
       "      <td>0.893387</td>\n",
       "    </tr>\n",
       "    <tr>\n",
       "      <th>33</th>\n",
       "      <td>Sweden</td>\n",
       "      <td>Sverige</td>\n",
       "      <td>MULTIPOLYGON (((16.69817 57.43244, 16.69456 57...</td>\n",
       "      <td>10099265.0</td>\n",
       "      <td>797.0</td>\n",
       "      <td>7.9</td>\n",
       "      <td>6.6</td>\n",
       "      <td>19.696970</td>\n",
       "      <td>SE</td>\n",
       "      <td>25.096154</td>\n",
       "      <td>3.176728</td>\n",
       "    </tr>\n",
       "    <tr>\n",
       "      <th>29</th>\n",
       "      <td>Serbia</td>\n",
       "      <td>Srbija</td>\n",
       "      <td>POLYGON ((18.83875 45.90742, 18.86463 45.91018...</td>\n",
       "      <td>6844078.0</td>\n",
       "      <td>636.0</td>\n",
       "      <td>9.3</td>\n",
       "      <td>7.3</td>\n",
       "      <td>27.397260</td>\n",
       "      <td>RS</td>\n",
       "      <td>4.102564</td>\n",
       "      <td>0.441136</td>\n",
       "    </tr>\n",
       "    <tr>\n",
       "      <th>8</th>\n",
       "      <td>Estonia</td>\n",
       "      <td>Eesti</td>\n",
       "      <td>MULTIPOLYGON (((23.97511 58.09691, 23.96645 58...</td>\n",
       "      <td>1326535.0</td>\n",
       "      <td>160.0</td>\n",
       "      <td>12.1</td>\n",
       "      <td>9.1</td>\n",
       "      <td>32.967033</td>\n",
       "      <td>EE</td>\n",
       "      <td>8.961538</td>\n",
       "      <td>0.740623</td>\n",
       "    </tr>\n",
       "    <tr>\n",
       "      <th>26</th>\n",
       "      <td>Norway</td>\n",
       "      <td>Norge</td>\n",
       "      <td>MULTIPOLYGON (((14.82404 68.21677, 14.80662 68...</td>\n",
       "      <td>5408320.0</td>\n",
       "      <td>562.0</td>\n",
       "      <td>10.4</td>\n",
       "      <td>7.3</td>\n",
       "      <td>42.465753</td>\n",
       "      <td>NO</td>\n",
       "      <td>9.211538</td>\n",
       "      <td>0.885725</td>\n",
       "    </tr>\n",
       "    <tr>\n",
       "      <th>14</th>\n",
       "      <td>Hungary</td>\n",
       "      <td>Magyarország</td>\n",
       "      <td>POLYGON ((22.32725 48.36194, 22.32294 48.32583...</td>\n",
       "      <td>9660351.0</td>\n",
       "      <td>985.0</td>\n",
       "      <td>10.2</td>\n",
       "      <td>6.1</td>\n",
       "      <td>67.213115</td>\n",
       "      <td>HU</td>\n",
       "      <td>13.173077</td>\n",
       "      <td>1.291478</td>\n",
       "    </tr>\n",
       "    <tr>\n",
       "      <th>15</th>\n",
       "      <td>Ireland</td>\n",
       "      <td>Éire / Ireland</td>\n",
       "      <td>MULTIPOLYGON (((-10.21726 51.74543, -10.22042 ...</td>\n",
       "      <td>4937786.0</td>\n",
       "      <td>340.0</td>\n",
       "      <td>6.9</td>\n",
       "      <td>3.2</td>\n",
       "      <td>115.625000</td>\n",
       "      <td>IE</td>\n",
       "      <td>28.292308</td>\n",
       "      <td>4.100334</td>\n",
       "    </tr>\n",
       "  </tbody>\n",
       "</table>\n",
       "</div>"
      ],
      "text/plain": [
       "                  NAME                             ORGN_NAME  \\\n",
       "35      United Kingdom                        United Kingdom   \n",
       "11             Germany                           Deutschland   \n",
       "2              Austria                            Österreich   \n",
       "34         Switzerland  Schweiz / Suisse / Svizerra / Svizra   \n",
       "7              Denmark                               Danmark   \n",
       "25         Netherlands                             Nederland   \n",
       "3              Belgium                     België / Belgique   \n",
       "10              France                                France   \n",
       "47              Turkey                               Türkiye   \n",
       "31            Slovenia                             Slovenija   \n",
       "28          San Marino                            San Marino   \n",
       "30            Slovakia                             Slovensko   \n",
       "0              Albania                             Shqipëria   \n",
       "24          Montenegro                             Crna Gora   \n",
       "37          Azerbaijan                            Azerbaycan   \n",
       "38             Belarus                               Belarus   \n",
       "41             Georgia                            Sakartvelo   \n",
       "44             Moldova                               Moldova   \n",
       "45             Romania                               România   \n",
       "36             Armenia                              Hayastan   \n",
       "48             Ukraine                              Ukrajina   \n",
       "23              Monaco                                Monaco   \n",
       "21           Macedonia                            Makedonija   \n",
       "1              Andorra                               Andorra   \n",
       "4   Bosnia Herzegovina                   Bosna i Hercegovina   \n",
       "6       Czech Republic                                 Cesko   \n",
       "22               Malta                                 Malta   \n",
       "50            Portugal                              Portugal   \n",
       "20          Luxembourg   Lëtzebuerg / Luxemburg / Luxembourg   \n",
       "18       Liechtenstein                         Liechtenstein   \n",
       "19           Lithuania                               Lietuva   \n",
       "17              Latvia                               Latvija   \n",
       "39            Bulgaria                             Balgarija   \n",
       "9              Finland                                 Suomi   \n",
       "13              Greece                                Elláda   \n",
       "16               Italy                                Italia   \n",
       "27              Poland                                Polska   \n",
       "32               Spain                                España   \n",
       "5              Croatia                              Hrvatska   \n",
       "33              Sweden                               Sverige   \n",
       "29              Serbia                                Srbija   \n",
       "8              Estonia                                 Eesti   \n",
       "26              Norway                                 Norge   \n",
       "14             Hungary                          Magyarország   \n",
       "15             Ireland                        Éire / Ireland   \n",
       "\n",
       "                                             geometry  Population  \\\n",
       "35  MULTIPOLYGON (((-5.33523 51.85830, -5.34557 51...  67326569.0   \n",
       "11  MULTIPOLYGON (((13.11717 54.54924, 13.12529 54...  83783942.0   \n",
       "2   POLYGON ((16.00000 48.77775, 16.00000 48.78252...   9006398.0   \n",
       "34  POLYGON ((9.53591 47.27354, 9.52660 47.25858, ...   8697723.0   \n",
       "7   MULTIPOLYGON (((11.99978 54.94118, 11.98534 54...   5792202.0   \n",
       "25  MULTIPOLYGON (((6.05039 53.44675, 6.04538 53.4...  17134872.0   \n",
       "3   POLYGON ((5.00000 49.79374, 4.99724 49.79696, ...  11589623.0   \n",
       "10  MULTIPOLYGON (((-2.28137 46.68570, -2.31121 46...  65273511.0   \n",
       "47  MULTIPOLYGON (((29.11932 40.83066, 29.11734 40...  85042736.0   \n",
       "31  POLYGON ((16.56602 46.48372, 16.54178 46.48717...   2078938.0   \n",
       "28  POLYGON ((12.51004 43.99981, 12.51557 43.99566...         0.0   \n",
       "30  POLYGON ((18.85061 49.52131, 18.85416 49.51941...         0.0   \n",
       "0   MULTIPOLYGON (((19.50115 40.96230, 19.50563 40...         0.0   \n",
       "24  MULTIPOLYGON (((19.22947 43.53458, 19.22795 43...         0.0   \n",
       "37  MULTIPOLYGON (((49.02264 39.19647, 49.02892 39...         0.0   \n",
       "38  POLYGON ((30.00000 51.48946, 29.95314 51.48722...         0.0   \n",
       "41  POLYGON ((40.01024 43.38326, 40.01102 43.39860...         0.0   \n",
       "44  POLYGON ((27.72524 48.45466, 27.74713 48.45837...         0.0   \n",
       "45  MULTIPOLYGON (((29.59458 44.81385, 29.57739 44...  19237691.0   \n",
       "36  MULTIPOLYGON (((45.48185 40.65776, 45.49001 40...         0.0   \n",
       "48  MULTIPOLYGON (((33.52988 45.87363, 33.52778 45...         0.0   \n",
       "23  POLYGON ((7.40680 43.73196, 7.40175 43.73449, ...         0.0   \n",
       "21  POLYGON ((22.37382 42.32667, 22.37228 42.32576...         0.0   \n",
       "1   POLYGON ((1.43992 42.60649, 1.45041 42.60596, ...         0.0   \n",
       "4   POLYGON ((19.22947 43.53458, 19.22925 43.53597...         0.0   \n",
       "6   POLYGON ((14.82523 50.87399, 14.83687 50.86996...         0.0   \n",
       "22  MULTIPOLYGON (((14.33938 36.00751, 14.33490 36...         0.0   \n",
       "50  POLYGON ((-6.87469 40.00000, -6.87551 39.99289...         0.0   \n",
       "20  POLYGON ((6.13802 50.13290, 6.14092 50.12927, ...         0.0   \n",
       "18  POLYGON ((9.53591 47.27354, 9.56037 47.24912, ...         0.0   \n",
       "19  MULTIPOLYGON (((26.22030 55.00000, 26.21693 54...         0.0   \n",
       "17  POLYGON ((22.14997 57.64129, 22.17712 57.65100...   1886198.0   \n",
       "39  POLYGON ((22.68183 44.21765, 22.68898 44.21381...   6948445.0   \n",
       "9   MULTIPOLYGON (((22.07310 60.22830, 22.06502 60...   5540720.0   \n",
       "13  MULTIPOLYGON (((24.74283 37.59560, 24.73534 37...  10423054.0   \n",
       "16  MULTIPOLYGON (((12.46117 37.88075, 12.45686 37...  60461826.0   \n",
       "27  MULTIPOLYGON (((14.21288 53.86478, 14.21349 53...  37846611.0   \n",
       "32  MULTIPOLYGON (((-5.60904 36.00032, -5.61149 36...  46754778.0   \n",
       "5   MULTIPOLYGON (((14.30038 44.50156, 14.28972 44...   4105267.0   \n",
       "33  MULTIPOLYGON (((16.69817 57.43244, 16.69456 57...  10099265.0   \n",
       "29  POLYGON ((18.83875 45.90742, 18.86463 45.91018...   6844078.0   \n",
       "8   MULTIPOLYGON (((23.97511 58.09691, 23.96645 58...   1326535.0   \n",
       "26  MULTIPOLYGON (((14.82404 68.21677, 14.80662 68...   5408320.0   \n",
       "14  POLYGON ((22.32725 48.36194, 22.32294 48.32583...   9660351.0   \n",
       "15  MULTIPOLYGON (((-10.21726 51.74543, -10.22042 ...   4937786.0   \n",
       "\n",
       "    Ophthalmologists  Rate_100k_2020  Rate_100k_2017  Rate_100k_change ABR  \\\n",
       "35            1481.0             2.2             3.8        -42.105263  UK   \n",
       "11            4105.0             4.9             8.1        -39.506173  DE   \n",
       "2              720.0             8.0            11.2        -28.571429  AT   \n",
       "34            1200.0            13.8            19.3        -28.497409  CH   \n",
       "7              289.0             5.0             6.2        -19.354839  DK   \n",
       "25             651.0             3.8             4.2         -9.523810  NL   \n",
       "3             1019.0             8.8             9.3         -5.376344  BE   \n",
       "10            5744.0             8.8             9.2         -4.347826  FR   \n",
       "47            3741.0             4.4             4.6         -4.347826  TR   \n",
       "31             147.0             7.1             7.3         -2.739726  SI   \n",
       "28               0.0             0.0             0.0          0.000000   0   \n",
       "30               0.0             0.0             0.0          0.000000   0   \n",
       "0                0.0             0.0             0.0          0.000000   0   \n",
       "24               0.0             0.0             0.0          0.000000   0   \n",
       "37               0.0             0.0             0.0          0.000000   0   \n",
       "38               0.0             0.0             0.0          0.000000   0   \n",
       "41               0.0             0.0             0.0          0.000000   0   \n",
       "44               0.0             0.0             0.0          0.000000   0   \n",
       "45            2462.0            12.8            12.8          0.000000  RO   \n",
       "36               0.0             0.0             0.0          0.000000   0   \n",
       "48               0.0             0.0             0.0          0.000000   0   \n",
       "23               0.0             0.0             0.0          0.000000   0   \n",
       "21               0.0             0.0             0.0          0.000000   0   \n",
       "1                0.0             0.0             0.0          0.000000   0   \n",
       "4                0.0             0.0             0.0          0.000000   0   \n",
       "6                0.0             0.0             0.0          0.000000   0   \n",
       "22               0.0             0.0             0.0          0.000000   0   \n",
       "50               0.0             0.0             0.0          0.000000   0   \n",
       "20               0.0             0.0             0.0          0.000000   0   \n",
       "18               0.0             0.0             0.0          0.000000   0   \n",
       "19               0.0             0.0             0.0          0.000000  LT   \n",
       "17             215.0            11.4            10.7          6.542056  LV   \n",
       "39             715.0            10.3             9.5          8.421053  BG   \n",
       "9              493.0             8.9             8.2          8.536585  FI   \n",
       "13            2918.0            28.0            25.6          9.375000  GR   \n",
       "16            7618.0            12.6            11.5          9.565217  IT   \n",
       "27            4692.0            12.4            10.9         13.761468  PO   \n",
       "32            4161.0             8.9             7.7         15.584416  ES   \n",
       "5              390.0             9.5             8.0         18.750000  HR   \n",
       "33             797.0             7.9             6.6         19.696970  SE   \n",
       "29             636.0             9.3             7.3         27.397260  RS   \n",
       "8              160.0            12.1             9.1         32.967033  EE   \n",
       "26             562.0            10.4             7.3         42.465753  NO   \n",
       "14             985.0            10.2             6.1         67.213115  HU   \n",
       "15             340.0             6.9             3.2        115.625000  IE   \n",
       "\n",
       "    Interest_20    Need_21  \n",
       "35    59.384615  26.993007  \n",
       "11    32.523077   6.637363  \n",
       "2     14.884615   1.860577  \n",
       "34    22.192308   1.608138  \n",
       "7     24.102564   4.820513  \n",
       "25    26.246154   6.906883  \n",
       "3     25.596154   2.908654  \n",
       "10    16.523077   1.877622  \n",
       "47     4.692308   1.066434  \n",
       "31    13.282051   1.870711  \n",
       "28     0.000000        NaN  \n",
       "30     0.000000        NaN  \n",
       "0      0.000000        NaN  \n",
       "24     0.000000        NaN  \n",
       "37     0.000000        NaN  \n",
       "38     0.000000        NaN  \n",
       "41     0.000000        NaN  \n",
       "44     0.000000        NaN  \n",
       "45     8.051282   0.629006  \n",
       "36     0.000000        NaN  \n",
       "48     0.000000        NaN  \n",
       "23     0.000000        NaN  \n",
       "21     0.000000        NaN  \n",
       "1      0.000000        NaN  \n",
       "4      0.000000        NaN  \n",
       "6      0.000000        NaN  \n",
       "22     0.000000        NaN  \n",
       "50     0.000000        NaN  \n",
       "20     0.000000        NaN  \n",
       "18     0.000000        NaN  \n",
       "19     6.307692        inf  \n",
       "17    19.153846   1.680162  \n",
       "39     5.615385   0.545183  \n",
       "9     16.096154   1.808557  \n",
       "13     4.096154   0.146291  \n",
       "16    16.476923   1.307692  \n",
       "27    17.346154   1.398883  \n",
       "32    23.815385   2.675886  \n",
       "5      8.487179   0.893387  \n",
       "33    25.096154   3.176728  \n",
       "29     4.102564   0.441136  \n",
       "8      8.961538   0.740623  \n",
       "26     9.211538   0.885725  \n",
       "14    13.173077   1.291478  \n",
       "15    28.292308   4.100334  "
      ]
     },
     "execution_count": 13,
     "metadata": {},
     "output_type": "execute_result"
    }
   ],
   "source": [
    "europe[\"Need_21\"] = europe[\"Interest_20\"]/europe[\"Rate_100k_2020\"]\n",
    "europe = europe.sort_values(by=\"Rate_100k_change\", ascending = True)\n",
    "europe"
   ]
  },
  {
   "cell_type": "code",
   "execution_count": 14,
   "metadata": {},
   "outputs": [
    {
     "name": "stderr",
     "output_type": "stream",
     "text": [
      "c:\\Users\\aidan\\AppData\\Local\\Programs\\Python\\Python310\\lib\\site-packages\\matplotlib\\colors.py:1254: RuntimeWarning: invalid value encountered in divide\n",
      "  resdat /= (vmax - vmin)\n"
     ]
    },
    {
     "data": {
      "text/plain": [
       "Text(35, 27, '$y=0.165\\\\;x+3.631$\\n$R^2 = 0.119$')"
      ]
     },
     "execution_count": 14,
     "metadata": {},
     "output_type": "execute_result"
    },
    {
     "name": "stderr",
     "output_type": "stream",
     "text": [
      "c:\\Users\\aidan\\AppData\\Local\\Programs\\Python\\Python310\\lib\\site-packages\\matplotlib\\colors.py:1254: RuntimeWarning: invalid value encountered in divide\n",
      "  resdat /= (vmax - vmin)\n"
     ]
    },
    {
     "data": {
      "image/png": "[encoded data removed]",
      "text/plain": [
       "<Figure size 1080x720 with 3 Axes>"
      ]
     },
     "metadata": {
      "needs_background": "light"
     },
     "output_type": "display_data"
    }
   ],
   "source": [
    "fig, (ax1, ax3) = plt.subplots(1, 2, figsize=(15, 10))\n",
    "ax1.axis('off')\n",
    "ax1.set_title(\"Ophtho\", fontdict={'fontsize': '15', 'fontweight' : '3'})\n",
    "europe.plot(column=\"Need_21\",\n",
    "        cmap=new_cmap,\n",
    "        linewidth=0.9,\n",
    "        ax=ax1,\n",
    "        edgecolor='0',\n",
    "        legend=True)\n",
    "\n",
    "ax3.set_title('States', fontdict={'fontsize': '15', 'fontweight' : '3'})\n",
    "ax3.set_xlabel(\"Interest\")\n",
    "ax3.set_ylabel(\"Provider Rate\")\n",
    "x = europe[\"Interest_20\"]\n",
    "y = europe[\"Rate_100k_2020\"]\n",
    "\n",
    "ax3.plot(x,y,\"+\", \n",
    "ms=10, \n",
    "mec=\"k\",)\n",
    "\n",
    "z = np.polyfit(x, y, 1)\n",
    "y_hat = np.poly1d(z)(x)\n",
    "\n",
    "ax3.plot(x, y_hat, \n",
    "\"r--\",\n",
    "lw=1)\n",
    "text = f\"$y={z[0]:0.3f}\\;x{z[1]:+0.3f}$\\n$R^2 = {r2_score(y,y_hat):0.3f}$\"\n",
    "ax3.text(35, 27, text,\n",
    "fontsize=14)"
   ]
  },
  {
   "cell_type": "code",
   "execution_count": 15,
   "metadata": {},
   "outputs": [
    {
     "name": "stderr",
     "output_type": "stream",
     "text": [
      "c:\\Users\\aidan\\AppData\\Local\\Programs\\Python\\Python310\\lib\\site-packages\\matplotlib\\colors.py:1254: RuntimeWarning: invalid value encountered in divide\n",
      "  resdat /= (vmax - vmin)\n"
     ]
    },
    {
     "data": {
      "text/plain": [
       "Text(20, 0, '$y=0.321\\\\;x+1.926$\\n$R^2 = 0.431$')"
      ]
     },
     "execution_count": 15,
     "metadata": {},
     "output_type": "execute_result"
    },
    {
     "name": "stderr",
     "output_type": "stream",
     "text": [
      "c:\\Users\\aidan\\AppData\\Local\\Programs\\Python\\Python310\\lib\\site-packages\\matplotlib\\colors.py:1254: RuntimeWarning: invalid value encountered in divide\n",
      "  resdat /= (vmax - vmin)\n"
     ]
    },
    {
     "data": {
      "image/png": "[encoded data removed]",
      "text/plain": [
       "<Figure size 1080x720 with 3 Axes>"
      ]
     },
     "metadata": {
      "needs_background": "light"
     },
     "output_type": "display_data"
    }
   ],
   "source": [
    "europe2 = europe[(europe.NAME != \"United Kingdom\") & (europe.NAME != \"Greece\")]\n",
    "fig, (ax1, ax3) = plt.subplots(1, 2, figsize=(15, 10))\n",
    "ax1.axis('off')\n",
    "ax1.set_title(\"Ophtho\", fontdict={'fontsize': '15', 'fontweight' : '3'})\n",
    "europe2.plot(column=\"Need_21\",\n",
    "        cmap=new_cmap,\n",
    "        linewidth=0.9,\n",
    "        ax=ax1,\n",
    "        edgecolor='0',\n",
    "        legend=True)\n",
    "\n",
    "ax3.set_title('States', fontdict={'fontsize': '15', 'fontweight' : '3'})\n",
    "ax3.set_xlabel(\"Interest\")\n",
    "ax3.set_ylabel(\"Provider Rate\")\n",
    "x = europe2[\"Interest_20\"]\n",
    "y = europe2[\"Rate_100k_2020\"]\n",
    "\n",
    "ax3.plot(x,y,\"+\", \n",
    "ms=10, \n",
    "mec=\"k\",)\n",
    "\n",
    "z = np.polyfit(x, y, 1)\n",
    "y_hat = np.poly1d(z)(x)\n",
    "\n",
    "ax3.plot(x, y_hat, \n",
    "\"r--\",\n",
    "lw=1)\n",
    "text = f\"$y={z[0]:0.3f}\\;x{z[1]:+0.3f}$\\n$R^2 = {r2_score(y,y_hat):0.3f}$\"\n",
    "ax3.text(20, 0, text,\n",
    "fontsize=14)"
   ]
  },
  {
   "cell_type": "code",
   "execution_count": 16,
   "metadata": {},
   "outputs": [],
   "source": [
    "def truncate_colormap(cmap, minval=0.0, maxval=1.0, n=100):\n",
    "    new_cmap = colors.LinearSegmentedColormap.from_list('trunc({n},{a:.2f},{b:.2f})'.format(n=cmap.name, a=minval, b=maxval),cmap(np.linspace(minval, maxval, n)))\n",
    "    return new_cmap\n",
    "\n",
    "# arr = np.linspace(0, 50, 100).reshape((10, 10))\n",
    "# fig, ax = plt.subplots(ncols=2)\n",
    "# cmap = plt.get_cmap('PuBu')\n",
    "cmap = plt.get_cmap('seismic')\n",
    "new_cmap = truncate_colormap(cmap, 0.7, 0)\n",
    "# ax[0].imshow(arr, interpolation='nearest', cmap=cmap)\n",
    "# ax[1].imshow(arr, interpolation='nearest', cmap=new_cmap)\n",
    "# plt.show()"
   ]
  },
  {
   "cell_type": "code",
   "execution_count": 17,
   "metadata": {},
   "outputs": [
    {
     "data": {
      "text/plain": [
       "Text(0, 27, '$y=0.996\\\\;x+0.257$\\n$R^2 = 0.923$')"
      ]
     },
     "execution_count": 17,
     "metadata": {},
     "output_type": "execute_result"
    },
    {
     "data": {
      "image/png": "[encoded data removed]",
      "text/plain": [
       "<Figure size 1080x720 with 3 Axes>"
      ]
     },
     "metadata": {
      "needs_background": "light"
     },
     "output_type": "display_data"
    }
   ],
   "source": [
    "fig, (ax1, ax3) = plt.subplots(1, 2, figsize=(15, 10))\n",
    "ax1.axis('off')\n",
    "ax1.set_title(\"Ophtho\", fontdict={'fontsize': '15', 'fontweight' : '3'})\n",
    "europe.plot(column=\"Rate_100k_change\",\n",
    "        cmap=new_cmap,\n",
    "        linewidth=0.9,\n",
    "        ax=ax1,\n",
    "        edgecolor='0',\n",
    "        legend=True)\n",
    "\n",
    "ax3.set_title('States', fontdict={'fontsize': '15', 'fontweight' : '3'})\n",
    "ax3.set_xlabel(\"Interest\")\n",
    "ax3.set_ylabel(\"Provider Rate\")\n",
    "x = europe[\"Rate_100k_2017\"]\n",
    "y = europe[\"Rate_100k_2020\"]\n",
    "\n",
    "ax3.plot(x,y,\"+\", \n",
    "ms=10, \n",
    "mec=\"k\",)\n",
    "\n",
    "z = np.polyfit(x, y, 1)\n",
    "y_hat = np.poly1d(z)(x)\n",
    "\n",
    "ax3.plot(x, y_hat, \n",
    "\"r--\",\n",
    "lw=1)\n",
    "text = f\"$y={z[0]:0.3f}\\;x{z[1]:+0.3f}$\\n$R^2 = {r2_score(y,y_hat):0.3f}$\"\n",
    "ax3.text(0, 27, text,\n",
    "fontsize=14)"
   ]
  },
  {
   "cell_type": "code",
   "execution_count": 18,
   "metadata": {},
   "outputs": [
    {
     "data": {
      "application/vnd.plotly.v1+json": {
       "config": {
        "plotlyServerURL": "https://plot.ly"
       },
       "data": [
        {
         "customdata": [
          [
           "United Kingdom"
          ],
          [
           "Germany"
          ],
          [
           "Austria"
          ],
          [
           "Switzerland"
          ],
          [
           "Denmark"
          ],
          [
           "Netherlands"
          ],
          [
           "Belgium"
          ],
          [
           "France"
          ],
          [
           "Turkey"
          ],
          [
           "Slovenia"
          ],
          [
           "San Marino"
          ],
          [
           "Slovakia"
          ],
          [
           "Albania"
          ],
          [
           "Montenegro"
          ],
          [
           "Azerbaijan"
          ],
          [
           "Belarus"
          ],
          [
           "Georgia"
          ],
          [
           "Moldova"
          ],
          [
           "Romania"
          ],
          [
           "Armenia"
          ],
          [
           "Ukraine"
          ],
          [
           "Monaco"
          ],
          [
           "Macedonia"
          ],
          [
           "Andorra"
          ],
          [
           "Bosnia Herzegovina"
          ],
          [
           "Czech Republic"
          ],
          [
           "Malta"
          ],
          [
           "Portugal"
          ],
          [
           "Luxembourg"
          ],
          [
           "Liechtenstein"
          ],
          [
           "Lithuania"
          ],
          [
           "Latvia"
          ],
          [
           "Bulgaria"
          ],
          [
           "Finland"
          ],
          [
           "Greece"
          ],
          [
           "Italy"
          ],
          [
           "Poland"
          ],
          [
           "Spain"
          ],
          [
           "Croatia"
          ],
          [
           "Sweden"
          ],
          [
           "Serbia"
          ],
          [
           "Estonia"
          ],
          [
           "Norway"
          ],
          [
           "Hungary"
          ],
          [
           "Ireland"
          ]
         ],
         "hovertemplate": "Rate_100k_2017=%{x}<br>Rate_100k_2020=%{y}<br>NAME=%{customdata[0]}<br>Rate_100k_change=%{marker.color}<extra></extra>",
         "legendgroup": "",
         "marker": {
          "color": [
           -42.105263157894726,
           -39.506172839506185,
           -28.57142857142858,
           -28.497409326424876,
           -19.35483870967742,
           -9.52380952380953,
           -5.376344086021505,
           -4.347826086956525,
           -4.347826086956525,
           -2.739726027397263,
           0,
           0,
           0,
           0,
           0,
           0,
           0,
           0,
           0,
           0,
           0,
           0,
           0,
           0,
           0,
           0,
           0,
           0,
           0,
           0,
           0,
           6.5420560747663306,
           8.421052631578956,
           8.536585365853671,
           9.374999999999995,
           9.565217391304346,
           13.761467889908257,
           15.584415584415586,
           18.75,
           19.696969696969692,
           27.397260273972616,
           32.967032967032964,
           42.46575342465754,
           67.21311475409836,
           115.62499999999997
          ],
          "coloraxis": "coloraxis",
          "symbol": "circle"
         },
         "mode": "markers",
         "name": "",
         "orientation": "v",
         "showlegend": false,
         "type": "scatter",
         "x": [
          3.8,
          8.100000000000001,
          11.200000000000001,
          19.3,
          6.2,
          4.2,
          9.3,
          9.200000000000001,
          4.6000000000000005,
          7.3,
          0,
          0,
          0,
          0,
          0,
          0,
          0,
          0,
          12.8,
          0,
          0,
          0,
          0,
          0,
          0,
          0,
          0,
          0,
          0,
          0,
          0,
          10.700000000000001,
          9.5,
          8.2,
          25.6,
          11.5,
          10.9,
          7.7,
          8,
          6.6000000000000005,
          7.3,
          9.1,
          7.3,
          6.1,
          3.2
         ],
         "xaxis": "x",
         "y": [
          2.2,
          4.9,
          8,
          13.799999999999999,
          5,
          3.8,
          8.8,
          8.8,
          4.4,
          7.1,
          0,
          0,
          0,
          0,
          0,
          0,
          0,
          0,
          12.8,
          0,
          0,
          0,
          0,
          0,
          0,
          0,
          0,
          0,
          0,
          0,
          0,
          11.399999999999999,
          10.3,
          8.9,
          28,
          12.6,
          12.4,
          8.9,
          9.5,
          7.9,
          9.3,
          12.1,
          10.4,
          10.2,
          6.8999999999999995
         ],
         "yaxis": "y"
        },
        {
         "hovertemplate": "<b>OLS trendline</b><br>Rate_100k_2020 = 0.996273 * Rate_100k_2017 + 0.256638<br>R<sup>2</sup>=0.922917<br><br>Rate_100k_2017=%{x}<br>Rate_100k_2020=%{y} <b>(trend)</b><extra></extra>",
         "legendgroup": "Overall Trendline",
         "mode": "lines",
         "name": "Overall Trendline",
         "showlegend": true,
         "type": "scatter",
         "x": [
          0,
          0,
          0,
          0,
          0,
          0,
          0,
          0,
          0,
          0,
          0,
          0,
          0,
          0,
          0,
          0,
          0,
          0,
          0,
          0,
          3.2,
          3.8,
          4.2,
          4.6000000000000005,
          6.1,
          6.2,
          6.6000000000000005,
          7.3,
          7.3,
          7.3,
          7.7,
          8,
          8.100000000000001,
          8.2,
          9.1,
          9.200000000000001,
          9.3,
          9.5,
          10.700000000000001,
          10.9,
          11.200000000000001,
          11.5,
          12.8,
          19.3,
          25.6
         ],
         "xaxis": "x",
         "y": [
          0.2566384870992976,
          0.2566384870992976,
          0.2566384870992976,
          0.2566384870992976,
          0.2566384870992976,
          0.2566384870992976,
          0.2566384870992976,
          0.2566384870992976,
          0.2566384870992976,
          0.2566384870992976,
          0.2566384870992976,
          0.2566384870992976,
          0.2566384870992976,
          0.2566384870992976,
          0.2566384870992976,
          0.2566384870992976,
          0.2566384870992976,
          0.2566384870992976,
          0.2566384870992976,
          0.2566384870992976,
          3.4447107657892464,
          4.042474318043611,
          4.440983352879855,
          4.839492387716099,
          6.333901268352012,
          6.433528527061073,
          6.832037561897317,
          7.5294283728607425,
          7.5294283728607425,
          7.5294283728607425,
          7.927937407696986,
          8.226819183824169,
          8.326446442533232,
          8.426073701242291,
          9.322719029623839,
          9.422346288332902,
          9.521973547041963,
          9.721228064460083,
          10.916755168968816,
          11.116009686386937,
          11.41489146251412,
          11.713773238641302,
          13.008927601859094,
          19.48469941794805,
          25.76121671661889
         ],
         "yaxis": "y"
        }
       ],
       "layout": {
        "coloraxis": {
         "colorbar": {
          "title": {
           "text": "Rate_100k_change"
          }
         },
         "colorscale": [
          [
           0,
           "#0d0887"
          ],
          [
           0.1111111111111111,
           "#46039f"
          ],
          [
           0.2222222222222222,
           "#7201a8"
          ],
          [
           0.3333333333333333,
           "#9c179e"
          ],
          [
           0.4444444444444444,
           "#bd3786"
          ],
          [
           0.5555555555555556,
           "#d8576b"
          ],
          [
           0.6666666666666666,
           "#ed7953"
          ],
          [
           0.7777777777777778,
           "#fb9f3a"
          ],
          [
           0.8888888888888888,
           "#fdca26"
          ],
          [
           1,
           "#f0f921"
          ]
         ]
        },
        "legend": {
         "tracegroupgap": 0
        },
        "template": {
         "data": {
          "bar": [
           {
            "error_x": {
             "color": "#2a3f5f"
            },
            "error_y": {
             "color": "#2a3f5f"
            },
            "marker": {
             "line": {
              "color": "#E5ECF6",
              "width": 0.5
             },
             "pattern": {
              "fillmode": "overlay",
              "size": 10,
              "solidity": 0.2
             }
            },
            "type": "bar"
           }
          ],
          "barpolar": [
           {
            "marker": {
             "line": {
              "color": "#E5ECF6",
              "width": 0.5
             },
             "pattern": {
              "fillmode": "overlay",
              "size": 10,
              "solidity": 0.2
             }
            },
            "type": "barpolar"
           }
          ],
          "carpet": [
           {
            "aaxis": {
             "endlinecolor": "#2a3f5f",
             "gridcolor": "white",
             "linecolor": "white",
             "minorgridcolor": "white",
             "startlinecolor": "#2a3f5f"
            },
            "baxis": {
             "endlinecolor": "#2a3f5f",
             "gridcolor": "white",
             "linecolor": "white",
             "minorgridcolor": "white",
             "startlinecolor": "#2a3f5f"
            },
            "type": "carpet"
           }
          ],
          "choropleth": [
           {
            "colorbar": {
             "outlinewidth": 0,
             "ticks": ""
            },
            "type": "choropleth"
           }
          ],
          "contour": [
           {
            "colorbar": {
             "outlinewidth": 0,
             "ticks": ""
            },
            "colorscale": [
             [
              0,
              "#0d0887"
             ],
             [
              0.1111111111111111,
              "#46039f"
             ],
             [
              0.2222222222222222,
              "#7201a8"
             ],
             [
              0.3333333333333333,
              "#9c179e"
             ],
             [
              0.4444444444444444,
              "#bd3786"
             ],
             [
              0.5555555555555556,
              "#d8576b"
             ],
             [
              0.6666666666666666,
              "#ed7953"
             ],
             [
              0.7777777777777778,
              "#fb9f3a"
             ],
             [
              0.8888888888888888,
              "#fdca26"
             ],
             [
              1,
              "#f0f921"
             ]
            ],
            "type": "contour"
           }
          ],
          "contourcarpet": [
           {
            "colorbar": {
             "outlinewidth": 0,
             "ticks": ""
            },
            "type": "contourcarpet"
           }
          ],
          "heatmap": [
           {
            "colorbar": {
             "outlinewidth": 0,
             "ticks": ""
            },
            "colorscale": [
             [
              0,
              "#0d0887"
             ],
             [
              0.1111111111111111,
              "#46039f"
             ],
             [
              0.2222222222222222,
              "#7201a8"
             ],
             [
              0.3333333333333333,
              "#9c179e"
             ],
             [
              0.4444444444444444,
              "#bd3786"
             ],
             [
              0.5555555555555556,
              "#d8576b"
             ],
             [
              0.6666666666666666,
              "#ed7953"
             ],
             [
              0.7777777777777778,
              "#fb9f3a"
             ],
             [
              0.8888888888888888,
              "#fdca26"
             ],
             [
              1,
              "#f0f921"
             ]
            ],
            "type": "heatmap"
           }
          ],
          "heatmapgl": [
           {
            "colorbar": {
             "outlinewidth": 0,
             "ticks": ""
            },
            "colorscale": [
             [
              0,
              "#0d0887"
             ],
             [
              0.1111111111111111,
              "#46039f"
             ],
             [
              0.2222222222222222,
              "#7201a8"
             ],
             [
              0.3333333333333333,
              "#9c179e"
             ],
             [
              0.4444444444444444,
              "#bd3786"
             ],
             [
              0.5555555555555556,
              "#d8576b"
             ],
             [
              0.6666666666666666,
              "#ed7953"
             ],
             [
              0.7777777777777778,
              "#fb9f3a"
             ],
             [
              0.8888888888888888,
              "#fdca26"
             ],
             [
              1,
              "#f0f921"
             ]
            ],
            "type": "heatmapgl"
           }
          ],
          "histogram": [
           {
            "marker": {
             "pattern": {
              "fillmode": "overlay",
              "size": 10,
              "solidity": 0.2
             }
            },
            "type": "histogram"
           }
          ],
          "histogram2d": [
           {
            "colorbar": {
             "outlinewidth": 0,
             "ticks": ""
            },
            "colorscale": [
             [
              0,
              "#0d0887"
             ],
             [
              0.1111111111111111,
              "#46039f"
             ],
             [
              0.2222222222222222,
              "#7201a8"
             ],
             [
              0.3333333333333333,
              "#9c179e"
             ],
             [
              0.4444444444444444,
              "#bd3786"
             ],
             [
              0.5555555555555556,
              "#d8576b"
             ],
             [
              0.6666666666666666,
              "#ed7953"
             ],
             [
              0.7777777777777778,
              "#fb9f3a"
             ],
             [
              0.8888888888888888,
              "#fdca26"
             ],
             [
              1,
              "#f0f921"
             ]
            ],
            "type": "histogram2d"
           }
          ],
          "histogram2dcontour": [
           {
            "colorbar": {
             "outlinewidth": 0,
             "ticks": ""
            },
            "colorscale": [
             [
              0,
              "#0d0887"
             ],
             [
              0.1111111111111111,
              "#46039f"
             ],
             [
              0.2222222222222222,
              "#7201a8"
             ],
             [
              0.3333333333333333,
              "#9c179e"
             ],
             [
              0.4444444444444444,
              "#bd3786"
             ],
             [
              0.5555555555555556,
              "#d8576b"
             ],
             [
              0.6666666666666666,
              "#ed7953"
             ],
             [
              0.7777777777777778,
              "#fb9f3a"
             ],
             [
              0.8888888888888888,
              "#fdca26"
             ],
             [
              1,
              "#f0f921"
             ]
            ],
            "type": "histogram2dcontour"
           }
          ],
          "mesh3d": [
           {
            "colorbar": {
             "outlinewidth": 0,
             "ticks": ""
            },
            "type": "mesh3d"
           }
          ],
          "parcoords": [
           {
            "line": {
             "colorbar": {
              "outlinewidth": 0,
              "ticks": ""
             }
            },
            "type": "parcoords"
           }
          ],
          "pie": [
           {
            "automargin": true,
            "type": "pie"
           }
          ],
          "scatter": [
           {
            "fillpattern": {
             "fillmode": "overlay",
             "size": 10,
             "solidity": 0.2
            },
            "type": "scatter"
           }
          ],
          "scatter3d": [
           {
            "line": {
             "colorbar": {
              "outlinewidth": 0,
              "ticks": ""
             }
            },
            "marker": {
             "colorbar": {
              "outlinewidth": 0,
              "ticks": ""
             }
            },
            "type": "scatter3d"
           }
          ],
          "scattercarpet": [
           {
            "marker": {
             "colorbar": {
              "outlinewidth": 0,
              "ticks": ""
             }
            },
            "type": "scattercarpet"
           }
          ],
          "scattergeo": [
           {
            "marker": {
             "colorbar": {
              "outlinewidth": 0,
              "ticks": ""
             }
            },
            "type": "scattergeo"
           }
          ],
          "scattergl": [
           {
            "marker": {
             "colorbar": {
              "outlinewidth": 0,
              "ticks": ""
             }
            },
            "type": "scattergl"
           }
          ],
          "scattermapbox": [
           {
            "marker": {
             "colorbar": {
              "outlinewidth": 0,
              "ticks": ""
             }
            },
            "type": "scattermapbox"
           }
          ],
          "scatterpolar": [
           {
            "marker": {
             "colorbar": {
              "outlinewidth": 0,
              "ticks": ""
             }
            },
            "type": "scatterpolar"
           }
          ],
          "scatterpolargl": [
           {
            "marker": {
             "colorbar": {
              "outlinewidth": 0,
              "ticks": ""
             }
            },
            "type": "scatterpolargl"
           }
          ],
          "scatterternary": [
           {
            "marker": {
             "colorbar": {
              "outlinewidth": 0,
              "ticks": ""
             }
            },
            "type": "scatterternary"
           }
          ],
          "surface": [
           {
            "colorbar": {
             "outlinewidth": 0,
             "ticks": ""
            },
            "colorscale": [
             [
              0,
              "#0d0887"
             ],
             [
              0.1111111111111111,
              "#46039f"
             ],
             [
              0.2222222222222222,
              "#7201a8"
             ],
             [
              0.3333333333333333,
              "#9c179e"
             ],
             [
              0.4444444444444444,
              "#bd3786"
             ],
             [
              0.5555555555555556,
              "#d8576b"
             ],
             [
              0.6666666666666666,
              "#ed7953"
             ],
             [
              0.7777777777777778,
              "#fb9f3a"
             ],
             [
              0.8888888888888888,
              "#fdca26"
             ],
             [
              1,
              "#f0f921"
             ]
            ],
            "type": "surface"
           }
          ],
          "table": [
           {
            "cells": {
             "fill": {
              "color": "#EBF0F8"
             },
             "line": {
              "color": "white"
             }
            },
            "header": {
             "fill": {
              "color": "#C8D4E3"
             },
             "line": {
              "color": "white"
             }
            },
            "type": "table"
           }
          ]
         },
         "layout": {
          "annotationdefaults": {
           "arrowcolor": "#2a3f5f",
           "arrowhead": 0,
           "arrowwidth": 1
          },
          "autotypenumbers": "strict",
          "coloraxis": {
           "colorbar": {
            "outlinewidth": 0,
            "ticks": ""
           }
          },
          "colorscale": {
           "diverging": [
            [
             0,
             "#8e0152"
            ],
            [
             0.1,
             "#c51b7d"
            ],
            [
             0.2,
             "#de77ae"
            ],
            [
             0.3,
             "#f1b6da"
            ],
            [
             0.4,
             "#fde0ef"
            ],
            [
             0.5,
             "#f7f7f7"
            ],
            [
             0.6,
             "#e6f5d0"
            ],
            [
             0.7,
             "#b8e186"
            ],
            [
             0.8,
             "#7fbc41"
            ],
            [
             0.9,
             "#4d9221"
            ],
            [
             1,
             "#276419"
            ]
           ],
           "sequential": [
            [
             0,
             "#0d0887"
            ],
            [
             0.1111111111111111,
             "#46039f"
            ],
            [
             0.2222222222222222,
             "#7201a8"
            ],
            [
             0.3333333333333333,
             "#9c179e"
            ],
            [
             0.4444444444444444,
             "#bd3786"
            ],
            [
             0.5555555555555556,
             "#d8576b"
            ],
            [
             0.6666666666666666,
             "#ed7953"
            ],
            [
             0.7777777777777778,
             "#fb9f3a"
            ],
            [
             0.8888888888888888,
             "#fdca26"
            ],
            [
             1,
             "#f0f921"
            ]
           ],
           "sequentialminus": [
            [
             0,
             "#0d0887"
            ],
            [
             0.1111111111111111,
             "#46039f"
            ],
            [
             0.2222222222222222,
             "#7201a8"
            ],
            [
             0.3333333333333333,
             "#9c179e"
            ],
            [
             0.4444444444444444,
             "#bd3786"
            ],
            [
             0.5555555555555556,
             "#d8576b"
            ],
            [
             0.6666666666666666,
             "#ed7953"
            ],
            [
             0.7777777777777778,
             "#fb9f3a"
            ],
            [
             0.8888888888888888,
             "#fdca26"
            ],
            [
             1,
             "#f0f921"
            ]
           ]
          },
          "colorway": [
           "#636efa",
           "#EF553B",
           "#00cc96",
           "#ab63fa",
           "#FFA15A",
           "#19d3f3",
           "#FF6692",
           "#B6E880",
           "#FF97FF",
           "#FECB52"
          ],
          "font": {
           "color": "#2a3f5f"
          },
          "geo": {
           "bgcolor": "white",
           "lakecolor": "white",
           "landcolor": "#E5ECF6",
           "showlakes": true,
           "showland": true,
           "subunitcolor": "white"
          },
          "hoverlabel": {
           "align": "left"
          },
          "hovermode": "closest",
          "mapbox": {
           "style": "light"
          },
          "paper_bgcolor": "white",
          "plot_bgcolor": "#E5ECF6",
          "polar": {
           "angularaxis": {
            "gridcolor": "white",
            "linecolor": "white",
            "ticks": ""
           },
           "bgcolor": "#E5ECF6",
           "radialaxis": {
            "gridcolor": "white",
            "linecolor": "white",
            "ticks": ""
           }
          },
          "scene": {
           "xaxis": {
            "backgroundcolor": "#E5ECF6",
            "gridcolor": "white",
            "gridwidth": 2,
            "linecolor": "white",
            "showbackground": true,
            "ticks": "",
            "zerolinecolor": "white"
           },
           "yaxis": {
            "backgroundcolor": "#E5ECF6",
            "gridcolor": "white",
            "gridwidth": 2,
            "linecolor": "white",
            "showbackground": true,
            "ticks": "",
            "zerolinecolor": "white"
           },
           "zaxis": {
            "backgroundcolor": "#E5ECF6",
            "gridcolor": "white",
            "gridwidth": 2,
            "linecolor": "white",
            "showbackground": true,
            "ticks": "",
            "zerolinecolor": "white"
           }
          },
          "shapedefaults": {
           "line": {
            "color": "#2a3f5f"
           }
          },
          "ternary": {
           "aaxis": {
            "gridcolor": "white",
            "linecolor": "white",
            "ticks": ""
           },
           "baxis": {
            "gridcolor": "white",
            "linecolor": "white",
            "ticks": ""
           },
           "bgcolor": "#E5ECF6",
           "caxis": {
            "gridcolor": "white",
            "linecolor": "white",
            "ticks": ""
           }
          },
          "title": {
           "x": 0.05
          },
          "xaxis": {
           "automargin": true,
           "gridcolor": "white",
           "linecolor": "white",
           "ticks": "",
           "title": {
            "standoff": 15
           },
           "zerolinecolor": "white",
           "zerolinewidth": 2
          },
          "yaxis": {
           "automargin": true,
           "gridcolor": "white",
           "linecolor": "white",
           "ticks": "",
           "title": {
            "standoff": 15
           },
           "zerolinecolor": "white",
           "zerolinewidth": 2
          }
         }
        },
        "title": {
         "text": "EU Ophto Provider Change"
        },
        "xaxis": {
         "anchor": "y",
         "domain": [
          0,
          1
         ],
         "title": {
          "text": "Rate_100k_2017"
         }
        },
        "yaxis": {
         "anchor": "x",
         "domain": [
          0,
          1
         ],
         "title": {
          "text": "Rate_100k_2020"
         }
        }
       }
      }
     },
     "metadata": {},
     "output_type": "display_data"
    }
   ],
   "source": [
    "fig1 = px.scatter(europe, title = \"EU Ophto Provider Change\", x=\"Rate_100k_2017\",y=\"Rate_100k_2020\", color=\"Rate_100k_change\", trendline=\"ols\", trendline_scope=\"overall\", hover_data=[\"NAME\"])\n",
    "fig1.show()"
   ]
  }
 ],
 "metadata": {
  "kernelspec": {
   "display_name": "Python 3.10.5 64-bit",
   "language": "python",
   "name": "python3"
  },
  "language_info": {
   "codemirror_mode": {
    "name": "ipython",
    "version": 3
   },
   "file_extension": ".py",
   "mimetype": "text/x-python",
   "name": "python",
   "nbconvert_exporter": "python",
   "pygments_lexer": "ipython3",
   "version": "3.10.5"
  },
  "orig_nbformat": 4,
  "vscode": {
   "interpreter": {
    "hash": "59ce7d6bb8cd4ae6d5cf8ba5759d47519be8aa1ee658f53dd34a0e354aee55b2"
   }
  }
 },
 "nbformat": 4,
 "nbformat_minor": 2
}
