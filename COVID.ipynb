{
 "cells": [
  {
   "cell_type": "code",
   "execution_count": 3,
   "metadata": {
    "pycharm": {
     "is_executing": false
    },
    "scrolled": true
   },
   "outputs": [],
   "source": [
    "import pandas as pd\n",
    "import numpy as np\n",
    "import plotly.express as px\n",
    "import datetime"
   ]
  },
  {
   "cell_type": "code",
   "execution_count": 4,
   "metadata": {
    "pycharm": {
     "name": "#%%\n"
    }
   },
   "outputs": [],
   "source": [
    "regions_to_states = {\n",
    "    'South': ['West Virginia', 'District of Columbia', 'Maryland', 'Virginia',\n",
    "              'Kentucky', 'Tennessee', 'North Carolina', 'Mississippi',\n",
    "              'Arkansas', 'Louisiana', 'Alabama', 'Georgia', 'South Carolina',\n",
    "              'Florida', 'Delaware'],\n",
    "    'Southwest': ['Arizona', 'New Mexico', 'Oklahoma', 'Texas'],\n",
    "    'West': ['Washington', 'Oregon', 'California', 'Nevada', 'Idaho', 'Montana',\n",
    "             'Wyoming', 'Utah', 'Colorado', 'Alaska', 'Hawaii'],\n",
    "    'Midwest': ['North Dakota', 'South Dakota', 'Nebraska', 'Kansas', 'Minnesota',\n",
    "                'Iowa', 'Missouri', 'Wisconsin', 'Illinois', 'Michigan', 'Indiana',\n",
    "                'Ohio'],\n",
    "    'Northeast': ['Maine', 'Vermont', 'New York', 'New Hampshire', 'Massachusetts',\n",
    "                  'Rhode Island', 'Connecticut', 'New Jersey', 'Pennsylvania']\n",
    "}\n",
    "\n",
    "states_to_regions = {\n",
    "    'Washington': 'West', 'Oregon': 'West', 'California': 'West', 'Nevada': 'West',\n",
    "    'Idaho': 'West', 'Montana': 'West', 'Wyoming': 'West', 'Utah': 'West',\n",
    "    'Colorado': 'West', 'Alaska': 'West', 'Hawaii': 'West', 'Maine': 'Northeast',\n",
    "    'Vermont': 'Northeast', 'New York': 'Northeast', 'New Hampshire': 'Northeast',\n",
    "    'Massachusetts': 'Northeast', 'Rhode Island': 'Northeast', 'Connecticut': 'Northeast',\n",
    "    'New Jersey': 'Northeast', 'Pennsylvania': 'Northeast', 'North Dakota': 'Midwest',\n",
    "    'South Dakota': 'Midwest', 'Nebraska': 'Midwest', 'Kansas': 'Midwest',\n",
    "    'Minnesota': 'Midwest', 'Iowa': 'Midwest', 'Missouri': 'Midwest', 'Wisconsin': 'Midwest',\n",
    "    'Illinois': 'Midwest', 'Michigan': 'Midwest', 'Indiana': 'Midwest', 'Ohio': 'Midwest',\n",
    "    'West Virginia': 'South', 'District of Columbia': 'South', 'Maryland': 'South',\n",
    "    'Virginia': 'South', 'Kentucky': 'South', 'Tennessee': 'South', 'North Carolina': 'South',\n",
    "    'Mississippi': 'South', 'Arkansas': 'South', 'Louisiana': 'South', 'Alabama': 'South',\n",
    "    'Georgia': 'South', 'South Carolina': 'South', 'Florida': 'South', 'Delaware': 'South',\n",
    "    'Arizona': 'Southwest', 'New Mexico': 'Southwest', 'Oklahoma': 'Southwest',\n",
    "    'Texas': 'Southwest'}\n",
    "\n",
    "\n",
    "kw_list = [\"glaucoma\", \"cataract\", \"diabetic retinopathy\", \"macular degeneration\", \"uveitis\"]"
   ]
  },
  {
   "cell_type": "code",
   "execution_count": 5,
   "metadata": {
    "pycharm": {
     "name": "#%%\n"
    }
   },
   "outputs": [],
   "source": [
    "def covid_total_pull(condition, month, years):\n",
    "    \n",
    "    years_all = [x for x in range(years[0], years[-1]+1)]\n",
    "    months = [\"0\"+str(x) for x in range(1,10)] + [str(x) for x in range(10,13)]\n",
    "    dates = [str(years_all[0])+\"-\"+months[y]+\"-01\" for y in range(month-1, 12)]\n",
    "    if len(years_all) >=2:\n",
    "        dates += [str(years_all[-1])+\"-\"+months[y]+\"-01\" for y in range(0,month)]\n",
    "    if len(years_all) >2:\n",
    "        for x in range(years_all[1], years_all[-1]):\n",
    "            dates += [str(x)+\"-\"+months[y]+\"-01\" for y in range(0,12)]\n",
    "    dates = sorted(dates)\n",
    "    \n",
    "    \n",
    "    df = pd.read_csv(\"COVID/\"+condition+\"_US.csv\").drop(\"isPartial\", axis = 1)\n",
    "    df = df[df[\"date\"].isin(dates)]\n",
    "    return(df)\n"
   ]
  },
  {
   "cell_type": "code",
   "execution_count": 6,
   "metadata": {
    "pycharm": {
     "name": "#%%\n"
    }
   },
   "outputs": [],
   "source": [
    "all_data = covid_total_pull(\"glaucoma\", 3, [2018, 2022])\n",
    "all_data[\"cataract\"] = covid_total_pull(\"cataract\", 3, [2018, 2022])[\"cataract\"]\n",
    "all_data[\"uveitis\"] = covid_total_pull(\"uveitis\", 3, [2018, 2022])[\"uveitis\"]\n",
    "all_data[\"MD\"] = covid_total_pull(\"macular degeneration\", 3, [2018, 2022])[\"macular degeneration\"]\n",
    "all_data[\"DR\"] = covid_total_pull(\"diabetic retinopathy\", 3, [2018, 2022])[\"diabetic retinopathy\"]\n",
    "all_data = all_data.set_index(\"date\")\n"
   ]
  },
  {
   "cell_type": "code",
   "execution_count": 7,
   "metadata": {
    "pycharm": {
     "name": "#%%\n"
    }
   },
   "outputs": [],
   "source": [
    "years = [2018, 2022]\n",
    "month = 3\n",
    "\n",
    "years_all = [x for x in range(years[0], years[-1]+1)]\n",
    "months = [\"0\"+str(x) for x in range(1,10)] + [str(x) for x in range(10,13)]\n",
    "dates = [str(years_all[0])+\"_\"+months[y]+\"_01\" for y in range(month-1, 12)]\n",
    "if len(years_all) >=2:\n",
    "    dates += [str(years_all[-1])+\"_\"+months[y]+\"_01\" for y in range(0,month)]\n",
    "if len(years_all) >2:\n",
    "    for x in range(years_all[1], years_all[-1]):\n",
    "        dates += [str(x)+\"_\"+months[y]+\"_01\" for y in range(0,12)]\n",
    "dates = sorted(dates)"
   ]
  },
  {
   "cell_type": "code",
   "execution_count": 12,
   "metadata": {
    "pycharm": {
     "name": "#%%\n"
    }
   },
   "outputs": [],
   "source": [
    "fig = px.line(all_data, title=\"COVID\")\n",
    "# fig.write_image(file='Figures/COVID.png', format='png')\n",
    "# fig.show()\n",
    "fig.write_html('Figures/COVID.html')"
   ]
  },
  {
   "cell_type": "code",
   "execution_count": null,
   "metadata": {},
   "outputs": [],
   "source": []
  },
  {
   "cell_type": "code",
   "execution_count": 13,
   "metadata": {},
   "outputs": [
    {
     "name": "stdout",
     "output_type": "stream",
     "text": [
      "Collecting kaleido\n",
      "  Downloading kaleido-0.2.1-py2.py3-none-win_amd64.whl (65.9 MB)\n",
      "Installing collected packages: kaleido\n",
      "Successfully installed kaleido-0.2.1\n",
      "Note: you may need to restart the kernel to use updated packages.\n"
     ]
    }
   ],
   "source": [
    "pip install -U kaleido"
   ]
  }
 ],
 "metadata": {
  "kernelspec": {
   "display_name": "Python 3",
   "language": "python",
   "name": "python3"
  },
  "language_info": {
   "codemirror_mode": {
    "name": "ipython",
    "version": 3
   },
   "file_extension": ".py",
   "mimetype": "text/x-python",
   "name": "python",
   "nbconvert_exporter": "python",
   "pygments_lexer": "ipython3",
   "version": "3.7.6"
  },
  "pycharm": {
   "stem_cell": {
    "cell_type": "raw",
    "metadata": {
     "collapsed": false
    },
    "source": []
   }
  }
 },
 "nbformat": 4,
 "nbformat_minor": 1
}
