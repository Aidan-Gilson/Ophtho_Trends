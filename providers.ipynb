{
 "cells": [
  {
   "cell_type": "markdown",
   "metadata": {},
   "source": [
    "    Area Health Resources File"
   ]
  },
  {
   "cell_type": "markdown",
   "metadata": {},
   "source": [
    "Imports and Variables"
   ]
  },
  {
   "cell_type": "code",
   "execution_count": 1,
   "metadata": {
    "pycharm": {
     "is_executing": false
    }
   },
   "outputs": [],
   "source": [
    "import pandas as pd\n",
    "import numpy as np\n",
    "import geopandas\n",
    "import matplotlib.colors as colors\n",
    "import math\n",
    "import matplotlib.pyplot as plt\n",
    "from sklearn.metrics import r2_score\n",
    "import plotly.express as px\n",
    "\n",
    "from module.variables import *\n",
    "from module.functions import *\n",
    "\n",
    "import pickle\n"
   ]
  },
  {
   "cell_type": "markdown",
   "metadata": {},
   "source": [
    "Load Data and Functions"
   ]
  },
  {
   "cell_type": "code",
   "execution_count": 2,
   "metadata": {
    "pycharm": {
     "is_executing": false
    }
   },
   "outputs": [],
   "source": [
    "# USA Provider Information for Each State\n",
    "yr_21 = pd.read_csv(\"Providers/AHRFDashboard_20-21.csv\", skiprows = 2).drop(\"Source\", axis = 1).rename(columns={\"State/Territory\":\"NAME\", \"M.D., Ophthalmology (County Level File)\":\"Ophthalmologists_21\", \"Population, All (County Level File)\":\"Pop_21\", \"Rate (per 100,000 population)\":\"Rate_100k_21_Ophtho\"}).loc[0:53, :]\n",
    "yr_20 = pd.read_csv(\"Providers/AHRFDashboard_19_20.csv\", skiprows = 2).drop(\"Source\", axis = 1).rename(columns={\"State/Territory\":\"NAME\", \"M.D., Ophthalmology (County Level File)\":\"Ophthalmologists_20\", \"Population, All (County Level File)\":\"Pop_20\", \"Rate (per 100,000 population)\":\"Rate_100k_20_Ophtho\"}).loc[0:53, :]\n",
    "yr_19 = pd.read_csv(\"Providers/AHRFDashboard_18_19.csv\", skiprows = 2).drop(\"Source\", axis = 1).rename(columns={\"State/Territory\":\"NAME\", \"M.D., Ophthalmology (County Level File)\":\"Ophthalmologists_19\", \"Population, All (County Level File)\":\"Pop_19\", \"Rate (per 100,000 population)\":\"Rate_100k_19_Ophtho\"}).loc[0:53, :]\n",
    "\n",
    "#All MDs for the USA\n",
    "all_providers = pd.read_csv('all_md.csv')\n",
    "for index, row in all_providers.iterrows():\n",
    "    pop = int(\"\".join([x for x in row[\"Pop_22\"] if x != \",\"]))\n",
    "    MD = float(\"\".join([x for x in row[\"MD_22\"] if x != \",\"]))\n",
    "    all_providers.loc[index,\"Pop_22\"] = pop\n",
    "    all_providers.loc[index,\"MD_22\"] = MD\n",
    "all_providers[\"Pop_22\"] = all_providers[\"Pop_22\"].astype(float)\n",
    "all_providers[\"MD_22\"] = all_providers[\"MD_22\"].astype(float)\n",
    "\n",
    "#Ophthalmology residents in the USA by state\n",
    "residents = pd.read_csv(\"Residency.csv\", header = None)"
   ]
  },
  {
   "cell_type": "code",
   "execution_count": 3,
   "metadata": {},
   "outputs": [],
   "source": [
    "with open('specialty_state_positions.pickle', 'rb') as handle:\n",
    "    residency_state = pickle.load(handle)\n",
    "\n",
    "\n",
    "residents_all = pd.DataFrame(0 ,columns= list(residency_state.keys()) + [\"All\"], index=state_salaries)\n",
    "for s in residency_state:\n",
    "    for state in residency_state[s]:\n",
    "        if state in state_salaries:\n",
    "            residents_all.loc[state,\"All\"] +=  residency_state[s][state]\n",
    "            residents_all.loc[state,s] =  residency_state[s][state]\n",
    "\n",
    "residents_ophtho_all = residents_all.loc[:, [\"Ophthalmology\", \"All\"]]\n",
    "residents_ophtho_all.reset_index(inplace=True)\n",
    "residents_ophtho_all = residents_ophtho_all.rename(columns = {'index':'STUSPS'})\n",
    "residents_ophtho_all = residents_ophtho_all.rename(columns = {'Ophthalmology':'Ophtho_Residents'})"
   ]
  },
  {
   "cell_type": "code",
   "execution_count": 4,
   "metadata": {},
   "outputs": [],
   "source": [
    "#Formats the resident data for USA ophtho\n",
    "residents.columns = [\"NAME\"]\n",
    "residents[\"Ophtho_Residents\"] = 0\n",
    "\n",
    "for x in residents[\"NAME\"]:\n",
    "    y = x.split(\" \")\n",
    "    if len(y) == 3:\n",
    "        state = y[0] + \" \" + y[1]\n",
    "    else:\n",
    "        state = y[0]\n",
    "    number = y[-1]\n",
    "    number = int(number[1:-1])\n",
    "    residents.loc[residents[\"NAME\"] == x, \"Ophtho_Residents\"] = number\n",
    "    residents.loc[residents[\"NAME\"] == x, \"NAME\"] = state"
   ]
  },
  {
   "cell_type": "code",
   "execution_count": 5,
   "metadata": {},
   "outputs": [],
   "source": [
    "#Create DataFrames for Salaries for Each State\n",
    "salaries_df = pd.DataFrame([state_salaries, salaries]).T\n",
    "salaries_df.columns = [\"STUSPS\", \"Salaries\"]"
   ]
  },
  {
   "cell_type": "code",
   "execution_count": 6,
   "metadata": {},
   "outputs": [
    {
     "data": {
      "text/plain": [
       "'#Parse 2020 ophthalmology Data for EU\\nlabels = \\'AT 0,80 BE 0,88 BG 1,03 HR 0,95 CY 1,40 CZ 0,99 DK 0,50 EE 1,21 FI 0,89 FR 0,88 DE 0,49 GR 2,80 HU 1,02 IE 0,69 IT 1,26 LV 1,14 LT 1,23 NL 0,38 MK 0,14 NO 1,04 PO 1,24 RO 1,28 RS 0,93 SI 0,71 ES 0,89 SE 0,79 CH 1,38 TR 0,44 UK 0,22\\'\\nlabels = labels.split(\" \")\\ncounteries = [labels[x] for x in range(0, len(labels), 2) ]\\nper_10k = [labels[x].replace(\",\", \".\") for x in range(1, len(labels), 2) ]\\n\\nEU = pd.DataFrame(columns=[\"Country\",\"per_10k\"])\\n\\nfor x in range(len(counteries)):\\n    country = l2c[counteries[x]]\\n    temp = pd.DataFrame(data=[[country, per_10k[x]]], columns=[\"Country\", \"per_10k\"])\\n    EU = pd.concat([EU, temp])\\n\\nEU = EU.merge(EU_pop, on=\"Country\")\\n\\nEU[\"per_10k\"] = EU[\"per_10k\"].astype(float)\\nEU[\"Population\"] = EU[\"Population\"].astype(int)\\nEU[\"Ophthalmologists\"] = EU[\"per_10k\"]*EU[\"Population\"]/10000\\nEU[\"Rate_100k\"] = EU[\"per_10k\"]*10\\nEU[\"Ophthalmologists\"] = EU[\"Ophthalmologists\"].apply(np.floor).astype(int)\\nEU = EU.drop(\"per_10k\", axis=1)\\n\\nEU'"
      ]
     },
     "execution_count": 6,
     "metadata": {},
     "output_type": "execute_result"
    }
   ],
   "source": [
    "'''#Parse 2020 ophthalmology Data for EU\n",
    "labels = 'AT 0,80 BE 0,88 BG 1,03 HR 0,95 CY 1,40 CZ 0,99 DK 0,50 EE 1,21 FI 0,89 FR 0,88 DE 0,49 GR 2,80 HU 1,02 IE 0,69 IT 1,26 LV 1,14 LT 1,23 NL 0,38 MK 0,14 NO 1,04 PO 1,24 RO 1,28 RS 0,93 SI 0,71 ES 0,89 SE 0,79 CH 1,38 TR 0,44 UK 0,22'\n",
    "labels = labels.split(\" \")\n",
    "counteries = [labels[x] for x in range(0, len(labels), 2) ]\n",
    "per_10k = [labels[x].replace(\",\", \".\") for x in range(1, len(labels), 2) ]\n",
    "\n",
    "EU = pd.DataFrame(columns=[\"Country\",\"per_10k\"])\n",
    "\n",
    "for x in range(len(counteries)):\n",
    "    country = l2c[counteries[x]]\n",
    "    temp = pd.DataFrame(data=[[country, per_10k[x]]], columns=[\"Country\", \"per_10k\"])\n",
    "    EU = pd.concat([EU, temp])\n",
    "\n",
    "EU = EU.merge(EU_pop, on=\"Country\")\n",
    "\n",
    "EU[\"per_10k\"] = EU[\"per_10k\"].astype(float)\n",
    "EU[\"Population\"] = EU[\"Population\"].astype(int)\n",
    "EU[\"Ophthalmologists\"] = EU[\"per_10k\"]*EU[\"Population\"]/10000\n",
    "EU[\"Rate_100k\"] = EU[\"per_10k\"]*10\n",
    "EU[\"Ophthalmologists\"] = EU[\"Ophthalmologists\"].apply(np.floor).astype(int)\n",
    "EU = EU.drop(\"per_10k\", axis=1)\n",
    "\n",
    "EU'''"
   ]
  },
  {
   "cell_type": "markdown",
   "metadata": {},
   "source": [
    "Structure Data"
   ]
  },
  {
   "cell_type": "code",
   "execution_count": 7,
   "metadata": {
    "pycharm": {
     "is_executing": false
    },
    "scrolled": true
   },
   "outputs": [],
   "source": [
    "#Pull all salary data and interest level data for the states of interest\n",
    "state_to_state = pull_all(10, [2020, 2021], state_salaries, \"COVID\").mean()\n",
    "state_to_state = pd.DataFrame(state_to_state, columns = [\"Interest_21\"])\n",
    "state_to_state[\"Interest_20\"] = pull_all(10, [2019, 2020], state_salaries, \"COVID\").mean()\n",
    "state_to_state[\"Interest_19\"] = pull_all(10, [2018, 2019], state_salaries, \"COVID\").mean()\n",
    "state_to_state[\"STUSPS\"] = state_to_state.index\n",
    "state_to_state = state_to_state.merge(salaries_df, on=\"STUSPS\")\n",
    "state_to_state[\"Salaries\"] = state_to_state[\"Salaries\"].astype('float')"
   ]
  },
  {
   "cell_type": "code",
   "execution_count": 8,
   "metadata": {
    "pycharm": {
     "is_executing": false
    },
    "scrolled": true
   },
   "outputs": [
    {
     "data": {
      "text/html": [
       "<div>\n",
       "<style scoped>\n",
       "    .dataframe tbody tr th:only-of-type {\n",
       "        vertical-align: middle;\n",
       "    }\n",
       "\n",
       "    .dataframe tbody tr th {\n",
       "        vertical-align: top;\n",
       "    }\n",
       "\n",
       "    .dataframe thead th {\n",
       "        text-align: right;\n",
       "    }\n",
       "</style>\n",
       "<table border=\"1\" class=\"dataframe\">\n",
       "  <thead>\n",
       "    <tr style=\"text-align: right;\">\n",
       "      <th></th>\n",
       "      <th>STATEFP</th>\n",
       "      <th>STATENS</th>\n",
       "      <th>AFFGEOID</th>\n",
       "      <th>GEOID</th>\n",
       "      <th>STUSPS</th>\n",
       "      <th>NAME</th>\n",
       "      <th>LSAD</th>\n",
       "      <th>ALAND</th>\n",
       "      <th>AWATER</th>\n",
       "      <th>region</th>\n",
       "      <th>...</th>\n",
       "      <th>Pop_20</th>\n",
       "      <th>Rate_100k_20_Ophtho</th>\n",
       "      <th>Ophthalmologists_19</th>\n",
       "      <th>Pop_19</th>\n",
       "      <th>Rate_100k_19_Ophtho</th>\n",
       "      <th>Pop_22</th>\n",
       "      <th>MD_22</th>\n",
       "      <th>Rate_100k_22_All</th>\n",
       "      <th>Ophtho_Residents</th>\n",
       "      <th>All</th>\n",
       "    </tr>\n",
       "  </thead>\n",
       "  <tbody>\n",
       "    <tr>\n",
       "      <th>41</th>\n",
       "      <td>01</td>\n",
       "      <td>01779775</td>\n",
       "      <td>0400000US01</td>\n",
       "      <td>01</td>\n",
       "      <td>AL</td>\n",
       "      <td>Alabama</td>\n",
       "      <td>00</td>\n",
       "      <td>131172403111</td>\n",
       "      <td>4594951242</td>\n",
       "      <td>Southeast</td>\n",
       "      <td>...</td>\n",
       "      <td>4903185.0</td>\n",
       "      <td>4.63</td>\n",
       "      <td>228.0</td>\n",
       "      <td>4887871.0</td>\n",
       "      <td>4.66</td>\n",
       "      <td>4903185.0</td>\n",
       "      <td>10983.0</td>\n",
       "      <td>224.0</td>\n",
       "      <td>5</td>\n",
       "      <td>482</td>\n",
       "    </tr>\n",
       "    <tr>\n",
       "      <th>19</th>\n",
       "      <td>04</td>\n",
       "      <td>01779777</td>\n",
       "      <td>0400000US04</td>\n",
       "      <td>04</td>\n",
       "      <td>AZ</td>\n",
       "      <td>Arizona</td>\n",
       "      <td>00</td>\n",
       "      <td>294205282243</td>\n",
       "      <td>1027790845</td>\n",
       "      <td>Southwest</td>\n",
       "      <td>...</td>\n",
       "      <td>7278717.0</td>\n",
       "      <td>4.23</td>\n",
       "      <td>295.0</td>\n",
       "      <td>7171646.0</td>\n",
       "      <td>4.11</td>\n",
       "      <td>7278717.0</td>\n",
       "      <td>18343.0</td>\n",
       "      <td>252.0</td>\n",
       "      <td>4</td>\n",
       "      <td>567</td>\n",
       "    </tr>\n",
       "    <tr>\n",
       "      <th>20</th>\n",
       "      <td>05</td>\n",
       "      <td>00068085</td>\n",
       "      <td>0400000US05</td>\n",
       "      <td>05</td>\n",
       "      <td>AR</td>\n",
       "      <td>Arkansas</td>\n",
       "      <td>00</td>\n",
       "      <td>134771603434</td>\n",
       "      <td>2960200961</td>\n",
       "      <td>Southeast</td>\n",
       "      <td>...</td>\n",
       "      <td>3017804.0</td>\n",
       "      <td>3.91</td>\n",
       "      <td>127.0</td>\n",
       "      <td>3013825.0</td>\n",
       "      <td>4.21</td>\n",
       "      <td>3017804.0</td>\n",
       "      <td>6500.0</td>\n",
       "      <td>215.4</td>\n",
       "      <td>4</td>\n",
       "      <td>329</td>\n",
       "    </tr>\n",
       "    <tr>\n",
       "      <th>0</th>\n",
       "      <td>06</td>\n",
       "      <td>01779778</td>\n",
       "      <td>0400000US06</td>\n",
       "      <td>06</td>\n",
       "      <td>CA</td>\n",
       "      <td>California</td>\n",
       "      <td>00</td>\n",
       "      <td>403483823181</td>\n",
       "      <td>20483271881</td>\n",
       "      <td>West</td>\n",
       "      <td>...</td>\n",
       "      <td>39512223.0</td>\n",
       "      <td>6.13</td>\n",
       "      <td>2417.0</td>\n",
       "      <td>39557045.0</td>\n",
       "      <td>6.11</td>\n",
       "      <td>39512223.0</td>\n",
       "      <td>113718.0</td>\n",
       "      <td>287.8</td>\n",
       "      <td>48</td>\n",
       "      <td>3666</td>\n",
       "    </tr>\n",
       "    <tr>\n",
       "      <th>21</th>\n",
       "      <td>08</td>\n",
       "      <td>01779779</td>\n",
       "      <td>0400000US08</td>\n",
       "      <td>08</td>\n",
       "      <td>CO</td>\n",
       "      <td>Colorado</td>\n",
       "      <td>00</td>\n",
       "      <td>268426928342</td>\n",
       "      <td>1176085119</td>\n",
       "      <td>West</td>\n",
       "      <td>...</td>\n",
       "      <td>5758736.0</td>\n",
       "      <td>4.97</td>\n",
       "      <td>278.0</td>\n",
       "      <td>5695564.0</td>\n",
       "      <td>4.88</td>\n",
       "      <td>5758736.0</td>\n",
       "      <td>16956.0</td>\n",
       "      <td>294.4</td>\n",
       "      <td>6</td>\n",
       "      <td>407</td>\n",
       "    </tr>\n",
       "    <tr>\n",
       "      <th>23</th>\n",
       "      <td>09</td>\n",
       "      <td>01779780</td>\n",
       "      <td>0400000US09</td>\n",
       "      <td>09</td>\n",
       "      <td>CT</td>\n",
       "      <td>Connecticut</td>\n",
       "      <td>00</td>\n",
       "      <td>12542396439</td>\n",
       "      <td>1814978794</td>\n",
       "      <td>Northeast</td>\n",
       "      <td>...</td>\n",
       "      <td>3565287.0</td>\n",
       "      <td>7.94</td>\n",
       "      <td>289.0</td>\n",
       "      <td>3572665.0</td>\n",
       "      <td>8.09</td>\n",
       "      <td>3565287.0</td>\n",
       "      <td>12977.0</td>\n",
       "      <td>364.0</td>\n",
       "      <td>5</td>\n",
       "      <td>618</td>\n",
       "    </tr>\n",
       "    <tr>\n",
       "      <th>39</th>\n",
       "      <td>10</td>\n",
       "      <td>01779781</td>\n",
       "      <td>0400000US10</td>\n",
       "      <td>10</td>\n",
       "      <td>DE</td>\n",
       "      <td>Delaware</td>\n",
       "      <td>00</td>\n",
       "      <td>5047093738</td>\n",
       "      <td>1398754502</td>\n",
       "      <td>Northeast</td>\n",
       "      <td>...</td>\n",
       "      <td>973764.0</td>\n",
       "      <td>4.21</td>\n",
       "      <td>45.0</td>\n",
       "      <td>967171.0</td>\n",
       "      <td>4.65</td>\n",
       "      <td>973764.0</td>\n",
       "      <td>2850.0</td>\n",
       "      <td>292.7</td>\n",
       "      <td>0</td>\n",
       "      <td>132</td>\n",
       "    </tr>\n",
       "    <tr>\n",
       "      <th>1</th>\n",
       "      <td>11</td>\n",
       "      <td>01702382</td>\n",
       "      <td>0400000US11</td>\n",
       "      <td>11</td>\n",
       "      <td>DC</td>\n",
       "      <td>District of Columbia</td>\n",
       "      <td>00</td>\n",
       "      <td>158350578</td>\n",
       "      <td>18633500</td>\n",
       "      <td>Northeast</td>\n",
       "      <td>...</td>\n",
       "      <td>705749.0</td>\n",
       "      <td>13.32</td>\n",
       "      <td>97.0</td>\n",
       "      <td>702455.0</td>\n",
       "      <td>13.81</td>\n",
       "      <td>705749.0</td>\n",
       "      <td>6147.0</td>\n",
       "      <td>871.0</td>\n",
       "      <td>13</td>\n",
       "      <td>412</td>\n",
       "    </tr>\n",
       "    <tr>\n",
       "      <th>2</th>\n",
       "      <td>12</td>\n",
       "      <td>00294478</td>\n",
       "      <td>0400000US12</td>\n",
       "      <td>12</td>\n",
       "      <td>FL</td>\n",
       "      <td>Florida</td>\n",
       "      <td>00</td>\n",
       "      <td>138903200855</td>\n",
       "      <td>31407883551</td>\n",
       "      <td>Southeast</td>\n",
       "      <td>...</td>\n",
       "      <td>21477737.0</td>\n",
       "      <td>6.06</td>\n",
       "      <td>1289.0</td>\n",
       "      <td>21299325.0</td>\n",
       "      <td>6.05</td>\n",
       "      <td>21477737.0</td>\n",
       "      <td>58822.0</td>\n",
       "      <td>273.9</td>\n",
       "      <td>23</td>\n",
       "      <td>2266</td>\n",
       "    </tr>\n",
       "    <tr>\n",
       "      <th>3</th>\n",
       "      <td>13</td>\n",
       "      <td>01705317</td>\n",
       "      <td>0400000US13</td>\n",
       "      <td>13</td>\n",
       "      <td>GA</td>\n",
       "      <td>Georgia</td>\n",
       "      <td>00</td>\n",
       "      <td>148963503399</td>\n",
       "      <td>4947080103</td>\n",
       "      <td>Southeast</td>\n",
       "      <td>...</td>\n",
       "      <td>10617423.0</td>\n",
       "      <td>4.38</td>\n",
       "      <td>446.0</td>\n",
       "      <td>10519475.0</td>\n",
       "      <td>4.24</td>\n",
       "      <td>10617423.0</td>\n",
       "      <td>25072.0</td>\n",
       "      <td>236.1</td>\n",
       "      <td>9</td>\n",
       "      <td>911</td>\n",
       "    </tr>\n",
       "    <tr>\n",
       "      <th>4</th>\n",
       "      <td>16</td>\n",
       "      <td>01779783</td>\n",
       "      <td>0400000US16</td>\n",
       "      <td>16</td>\n",
       "      <td>ID</td>\n",
       "      <td>Idaho</td>\n",
       "      <td>00</td>\n",
       "      <td>214045425549</td>\n",
       "      <td>2397728105</td>\n",
       "      <td>West</td>\n",
       "      <td>...</td>\n",
       "      <td>1787065.0</td>\n",
       "      <td>3.81</td>\n",
       "      <td>67.0</td>\n",
       "      <td>1754208.0</td>\n",
       "      <td>3.82</td>\n",
       "      <td>1787065.0</td>\n",
       "      <td>3504.0</td>\n",
       "      <td>196.1</td>\n",
       "      <td>0</td>\n",
       "      <td>80</td>\n",
       "    </tr>\n",
       "    <tr>\n",
       "      <th>5</th>\n",
       "      <td>17</td>\n",
       "      <td>01779784</td>\n",
       "      <td>0400000US17</td>\n",
       "      <td>17</td>\n",
       "      <td>IL</td>\n",
       "      <td>Illinois</td>\n",
       "      <td>00</td>\n",
       "      <td>143794747023</td>\n",
       "      <td>6200927458</td>\n",
       "      <td>Midwest</td>\n",
       "      <td>...</td>\n",
       "      <td>12671821.0</td>\n",
       "      <td>5.92</td>\n",
       "      <td>754.0</td>\n",
       "      <td>12741080.0</td>\n",
       "      <td>5.92</td>\n",
       "      <td>12671821.0</td>\n",
       "      <td>37122.0</td>\n",
       "      <td>292.9</td>\n",
       "      <td>23</td>\n",
       "      <td>1803</td>\n",
       "    </tr>\n",
       "    <tr>\n",
       "      <th>22</th>\n",
       "      <td>18</td>\n",
       "      <td>00448508</td>\n",
       "      <td>0400000US18</td>\n",
       "      <td>18</td>\n",
       "      <td>IN</td>\n",
       "      <td>Indiana</td>\n",
       "      <td>00</td>\n",
       "      <td>92790411854</td>\n",
       "      <td>1535839439</td>\n",
       "      <td>Midwest</td>\n",
       "      <td>...</td>\n",
       "      <td>6732219.0</td>\n",
       "      <td>3.88</td>\n",
       "      <td>262.0</td>\n",
       "      <td>6691878.0</td>\n",
       "      <td>3.92</td>\n",
       "      <td>6732219.0</td>\n",
       "      <td>15918.0</td>\n",
       "      <td>236.4</td>\n",
       "      <td>6</td>\n",
       "      <td>451</td>\n",
       "    </tr>\n",
       "    <tr>\n",
       "      <th>6</th>\n",
       "      <td>19</td>\n",
       "      <td>01779785</td>\n",
       "      <td>0400000US19</td>\n",
       "      <td>19</td>\n",
       "      <td>IA</td>\n",
       "      <td>Iowa</td>\n",
       "      <td>00</td>\n",
       "      <td>144668594415</td>\n",
       "      <td>1076856589</td>\n",
       "      <td>Midwest</td>\n",
       "      <td>...</td>\n",
       "      <td>3155070.0</td>\n",
       "      <td>5.26</td>\n",
       "      <td>157.0</td>\n",
       "      <td>3156145.0</td>\n",
       "      <td>4.97</td>\n",
       "      <td>3155070.0</td>\n",
       "      <td>7056.0</td>\n",
       "      <td>223.6</td>\n",
       "      <td>6</td>\n",
       "      <td>266</td>\n",
       "    </tr>\n",
       "    <tr>\n",
       "      <th>45</th>\n",
       "      <td>20</td>\n",
       "      <td>00481813</td>\n",
       "      <td>0400000US20</td>\n",
       "      <td>20</td>\n",
       "      <td>KS</td>\n",
       "      <td>Kansas</td>\n",
       "      <td>00</td>\n",
       "      <td>211752875517</td>\n",
       "      <td>1346704962</td>\n",
       "      <td>Midwest</td>\n",
       "      <td>...</td>\n",
       "      <td>2913314.0</td>\n",
       "      <td>4.77</td>\n",
       "      <td>142.0</td>\n",
       "      <td>2911505.0</td>\n",
       "      <td>4.88</td>\n",
       "      <td>2913314.0</td>\n",
       "      <td>6874.0</td>\n",
       "      <td>236.0</td>\n",
       "      <td>4</td>\n",
       "      <td>240</td>\n",
       "    </tr>\n",
       "    <tr>\n",
       "      <th>7</th>\n",
       "      <td>21</td>\n",
       "      <td>01779786</td>\n",
       "      <td>0400000US21</td>\n",
       "      <td>21</td>\n",
       "      <td>KY</td>\n",
       "      <td>Kentucky</td>\n",
       "      <td>00</td>\n",
       "      <td>102262419204</td>\n",
       "      <td>2393338940</td>\n",
       "      <td>Southeast</td>\n",
       "      <td>...</td>\n",
       "      <td>4467673.0</td>\n",
       "      <td>4.63</td>\n",
       "      <td>206.0</td>\n",
       "      <td>4468402.0</td>\n",
       "      <td>4.61</td>\n",
       "      <td>4467673.0</td>\n",
       "      <td>10528.0</td>\n",
       "      <td>235.6</td>\n",
       "      <td>8</td>\n",
       "      <td>385</td>\n",
       "    </tr>\n",
       "    <tr>\n",
       "      <th>8</th>\n",
       "      <td>22</td>\n",
       "      <td>01629543</td>\n",
       "      <td>0400000US22</td>\n",
       "      <td>22</td>\n",
       "      <td>LA</td>\n",
       "      <td>Louisiana</td>\n",
       "      <td>00</td>\n",
       "      <td>111901043977</td>\n",
       "      <td>23750204105</td>\n",
       "      <td>Southeast</td>\n",
       "      <td>...</td>\n",
       "      <td>4648794.0</td>\n",
       "      <td>7.31</td>\n",
       "      <td>346.0</td>\n",
       "      <td>4659978.0</td>\n",
       "      <td>7.42</td>\n",
       "      <td>4648794.0</td>\n",
       "      <td>12557.0</td>\n",
       "      <td>270.1</td>\n",
       "      <td>18</td>\n",
       "      <td>616</td>\n",
       "    </tr>\n",
       "    <tr>\n",
       "      <th>28</th>\n",
       "      <td>23</td>\n",
       "      <td>01779787</td>\n",
       "      <td>0400000US23</td>\n",
       "      <td>23</td>\n",
       "      <td>ME</td>\n",
       "      <td>Maine</td>\n",
       "      <td>00</td>\n",
       "      <td>79885244456</td>\n",
       "      <td>11749091526</td>\n",
       "      <td>Northeast</td>\n",
       "      <td>...</td>\n",
       "      <td>1344212.0</td>\n",
       "      <td>5.06</td>\n",
       "      <td>72.0</td>\n",
       "      <td>1338404.0</td>\n",
       "      <td>5.38</td>\n",
       "      <td>1344212.0</td>\n",
       "      <td>4459.0</td>\n",
       "      <td>331.7</td>\n",
       "      <td>0</td>\n",
       "      <td>108</td>\n",
       "    </tr>\n",
       "    <tr>\n",
       "      <th>9</th>\n",
       "      <td>24</td>\n",
       "      <td>01714934</td>\n",
       "      <td>0400000US24</td>\n",
       "      <td>24</td>\n",
       "      <td>MD</td>\n",
       "      <td>Maryland</td>\n",
       "      <td>00</td>\n",
       "      <td>25147575220</td>\n",
       "      <td>6983455225</td>\n",
       "      <td>Northeast</td>\n",
       "      <td>...</td>\n",
       "      <td>6045680.0</td>\n",
       "      <td>9.35</td>\n",
       "      <td>570.0</td>\n",
       "      <td>6042718.0</td>\n",
       "      <td>9.43</td>\n",
       "      <td>6045680.0</td>\n",
       "      <td>23791.0</td>\n",
       "      <td>393.5</td>\n",
       "      <td>18</td>\n",
       "      <td>842</td>\n",
       "    </tr>\n",
       "    <tr>\n",
       "      <th>29</th>\n",
       "      <td>25</td>\n",
       "      <td>00606926</td>\n",
       "      <td>0400000US25</td>\n",
       "      <td>25</td>\n",
       "      <td>MA</td>\n",
       "      <td>Massachusetts</td>\n",
       "      <td>00</td>\n",
       "      <td>20203936287</td>\n",
       "      <td>7131805598</td>\n",
       "      <td>Northeast</td>\n",
       "      <td>...</td>\n",
       "      <td>6892503.0</td>\n",
       "      <td>8.52</td>\n",
       "      <td>607.0</td>\n",
       "      <td>6902149.0</td>\n",
       "      <td>8.79</td>\n",
       "      <td>6892503.0</td>\n",
       "      <td>32116.0</td>\n",
       "      <td>466.0</td>\n",
       "      <td>18</td>\n",
       "      <td>1352</td>\n",
       "    </tr>\n",
       "    <tr>\n",
       "      <th>10</th>\n",
       "      <td>26</td>\n",
       "      <td>01779789</td>\n",
       "      <td>0400000US26</td>\n",
       "      <td>26</td>\n",
       "      <td>MI</td>\n",
       "      <td>Michigan</td>\n",
       "      <td>00</td>\n",
       "      <td>146455316950</td>\n",
       "      <td>104031344385</td>\n",
       "      <td>Midwest</td>\n",
       "      <td>...</td>\n",
       "      <td>9986857.0</td>\n",
       "      <td>6.01</td>\n",
       "      <td>603.0</td>\n",
       "      <td>9995915.0</td>\n",
       "      <td>6.03</td>\n",
       "      <td>9986857.0</td>\n",
       "      <td>30040.0</td>\n",
       "      <td>300.8</td>\n",
       "      <td>27</td>\n",
       "      <td>1958</td>\n",
       "    </tr>\n",
       "    <tr>\n",
       "      <th>11</th>\n",
       "      <td>27</td>\n",
       "      <td>00662849</td>\n",
       "      <td>0400000US27</td>\n",
       "      <td>27</td>\n",
       "      <td>MN</td>\n",
       "      <td>Minnesota</td>\n",
       "      <td>00</td>\n",
       "      <td>206236605303</td>\n",
       "      <td>18924324242</td>\n",
       "      <td>Midwest</td>\n",
       "      <td>...</td>\n",
       "      <td>5639632.0</td>\n",
       "      <td>5.37</td>\n",
       "      <td>305.0</td>\n",
       "      <td>5611179.0</td>\n",
       "      <td>5.44</td>\n",
       "      <td>5639632.0</td>\n",
       "      <td>17617.0</td>\n",
       "      <td>312.4</td>\n",
       "      <td>9</td>\n",
       "      <td>555</td>\n",
       "    </tr>\n",
       "    <tr>\n",
       "      <th>30</th>\n",
       "      <td>28</td>\n",
       "      <td>01779790</td>\n",
       "      <td>0400000US28</td>\n",
       "      <td>28</td>\n",
       "      <td>MS</td>\n",
       "      <td>Mississippi</td>\n",
       "      <td>00</td>\n",
       "      <td>121531899917</td>\n",
       "      <td>3928587545</td>\n",
       "      <td>Southeast</td>\n",
       "      <td>...</td>\n",
       "      <td>2976149.0</td>\n",
       "      <td>4.33</td>\n",
       "      <td>131.0</td>\n",
       "      <td>2986530.0</td>\n",
       "      <td>4.39</td>\n",
       "      <td>2976149.0</td>\n",
       "      <td>5857.0</td>\n",
       "      <td>196.8</td>\n",
       "      <td>4</td>\n",
       "      <td>283</td>\n",
       "    </tr>\n",
       "    <tr>\n",
       "      <th>12</th>\n",
       "      <td>29</td>\n",
       "      <td>01779791</td>\n",
       "      <td>0400000US29</td>\n",
       "      <td>29</td>\n",
       "      <td>MO</td>\n",
       "      <td>Missouri</td>\n",
       "      <td>00</td>\n",
       "      <td>178039995643</td>\n",
       "      <td>2500220114</td>\n",
       "      <td>Midwest</td>\n",
       "      <td>...</td>\n",
       "      <td>6137428.0</td>\n",
       "      <td>5.39</td>\n",
       "      <td>329.0</td>\n",
       "      <td>6126452.0</td>\n",
       "      <td>5.37</td>\n",
       "      <td>6137428.0</td>\n",
       "      <td>18297.0</td>\n",
       "      <td>298.1</td>\n",
       "      <td>17</td>\n",
       "      <td>750</td>\n",
       "    </tr>\n",
       "    <tr>\n",
       "      <th>31</th>\n",
       "      <td>30</td>\n",
       "      <td>00767982</td>\n",
       "      <td>0400000US30</td>\n",
       "      <td>30</td>\n",
       "      <td>MT</td>\n",
       "      <td>Montana</td>\n",
       "      <td>00</td>\n",
       "      <td>376963849026</td>\n",
       "      <td>3867840830</td>\n",
       "      <td>West</td>\n",
       "      <td>...</td>\n",
       "      <td>1068778.0</td>\n",
       "      <td>4.87</td>\n",
       "      <td>55.0</td>\n",
       "      <td>1062305.0</td>\n",
       "      <td>5.18</td>\n",
       "      <td>1068778.0</td>\n",
       "      <td>2750.0</td>\n",
       "      <td>257.3</td>\n",
       "      <td>0</td>\n",
       "      <td>30</td>\n",
       "    </tr>\n",
       "    <tr>\n",
       "      <th>24</th>\n",
       "      <td>31</td>\n",
       "      <td>01779792</td>\n",
       "      <td>0400000US31</td>\n",
       "      <td>31</td>\n",
       "      <td>NE</td>\n",
       "      <td>Nebraska</td>\n",
       "      <td>00</td>\n",
       "      <td>198972282955</td>\n",
       "      <td>1356441861</td>\n",
       "      <td>Midwest</td>\n",
       "      <td>...</td>\n",
       "      <td>1934408.0</td>\n",
       "      <td>5.01</td>\n",
       "      <td>97.0</td>\n",
       "      <td>1929268.0</td>\n",
       "      <td>5.03</td>\n",
       "      <td>1934408.0</td>\n",
       "      <td>4820.0</td>\n",
       "      <td>249.2</td>\n",
       "      <td>2</td>\n",
       "      <td>222</td>\n",
       "    </tr>\n",
       "    <tr>\n",
       "      <th>46</th>\n",
       "      <td>32</td>\n",
       "      <td>01779793</td>\n",
       "      <td>0400000US32</td>\n",
       "      <td>32</td>\n",
       "      <td>NV</td>\n",
       "      <td>Nevada</td>\n",
       "      <td>00</td>\n",
       "      <td>284331571298</td>\n",
       "      <td>2049092975</td>\n",
       "      <td>West</td>\n",
       "      <td>...</td>\n",
       "      <td>3080156.0</td>\n",
       "      <td>3.21</td>\n",
       "      <td>100.0</td>\n",
       "      <td>3034392.0</td>\n",
       "      <td>3.30</td>\n",
       "      <td>3080156.0</td>\n",
       "      <td>6731.0</td>\n",
       "      <td>218.5</td>\n",
       "      <td>0</td>\n",
       "      <td>263</td>\n",
       "    </tr>\n",
       "    <tr>\n",
       "      <th>47</th>\n",
       "      <td>33</td>\n",
       "      <td>01779794</td>\n",
       "      <td>0400000US33</td>\n",
       "      <td>33</td>\n",
       "      <td>NH</td>\n",
       "      <td>New Hampshire</td>\n",
       "      <td>00</td>\n",
       "      <td>23187964254</td>\n",
       "      <td>1026252314</td>\n",
       "      <td>Northeast</td>\n",
       "      <td>...</td>\n",
       "      <td>1359711.0</td>\n",
       "      <td>4.78</td>\n",
       "      <td>67.0</td>\n",
       "      <td>1356458.0</td>\n",
       "      <td>4.94</td>\n",
       "      <td>1359711.0</td>\n",
       "      <td>4391.0</td>\n",
       "      <td>322.9</td>\n",
       "      <td>2</td>\n",
       "      <td>148</td>\n",
       "    </tr>\n",
       "    <tr>\n",
       "      <th>48</th>\n",
       "      <td>34</td>\n",
       "      <td>01779795</td>\n",
       "      <td>0400000US34</td>\n",
       "      <td>34</td>\n",
       "      <td>NJ</td>\n",
       "      <td>New Jersey</td>\n",
       "      <td>00</td>\n",
       "      <td>19048769408</td>\n",
       "      <td>3542752545</td>\n",
       "      <td>Northeast</td>\n",
       "      <td>...</td>\n",
       "      <td>8882190.0</td>\n",
       "      <td>6.59</td>\n",
       "      <td>596.0</td>\n",
       "      <td>8908520.0</td>\n",
       "      <td>6.69</td>\n",
       "      <td>8882190.0</td>\n",
       "      <td>27832.0</td>\n",
       "      <td>313.3</td>\n",
       "      <td>5</td>\n",
       "      <td>1212</td>\n",
       "    </tr>\n",
       "    <tr>\n",
       "      <th>25</th>\n",
       "      <td>35</td>\n",
       "      <td>00897535</td>\n",
       "      <td>0400000US35</td>\n",
       "      <td>35</td>\n",
       "      <td>NM</td>\n",
       "      <td>New Mexico</td>\n",
       "      <td>00</td>\n",
       "      <td>314161410324</td>\n",
       "      <td>755712514</td>\n",
       "      <td>Southwest</td>\n",
       "      <td>...</td>\n",
       "      <td>2096829.0</td>\n",
       "      <td>3.39</td>\n",
       "      <td>73.0</td>\n",
       "      <td>2095428.0</td>\n",
       "      <td>3.48</td>\n",
       "      <td>2096829.0</td>\n",
       "      <td>5269.0</td>\n",
       "      <td>251.3</td>\n",
       "      <td>0</td>\n",
       "      <td>192</td>\n",
       "    </tr>\n",
       "    <tr>\n",
       "      <th>13</th>\n",
       "      <td>36</td>\n",
       "      <td>01779796</td>\n",
       "      <td>0400000US36</td>\n",
       "      <td>36</td>\n",
       "      <td>NY</td>\n",
       "      <td>New York</td>\n",
       "      <td>00</td>\n",
       "      <td>122054577774</td>\n",
       "      <td>19242052501</td>\n",
       "      <td>Northeast</td>\n",
       "      <td>...</td>\n",
       "      <td>19453561.0</td>\n",
       "      <td>8.67</td>\n",
       "      <td>1705.0</td>\n",
       "      <td>19542209.0</td>\n",
       "      <td>8.72</td>\n",
       "      <td>19453561.0</td>\n",
       "      <td>75749.0</td>\n",
       "      <td>389.4</td>\n",
       "      <td>76</td>\n",
       "      <td>4777</td>\n",
       "    </tr>\n",
       "    <tr>\n",
       "      <th>26</th>\n",
       "      <td>37</td>\n",
       "      <td>01027616</td>\n",
       "      <td>0400000US37</td>\n",
       "      <td>37</td>\n",
       "      <td>NC</td>\n",
       "      <td>North Carolina</td>\n",
       "      <td>00</td>\n",
       "      <td>125917995955</td>\n",
       "      <td>13472722504</td>\n",
       "      <td>Southeast</td>\n",
       "      <td>...</td>\n",
       "      <td>10488084.0</td>\n",
       "      <td>5.22</td>\n",
       "      <td>525.0</td>\n",
       "      <td>10383620.0</td>\n",
       "      <td>5.06</td>\n",
       "      <td>10488084.0</td>\n",
       "      <td>27650.0</td>\n",
       "      <td>263.6</td>\n",
       "      <td>14</td>\n",
       "      <td>1025</td>\n",
       "    </tr>\n",
       "    <tr>\n",
       "      <th>42</th>\n",
       "      <td>38</td>\n",
       "      <td>01779797</td>\n",
       "      <td>0400000US38</td>\n",
       "      <td>38</td>\n",
       "      <td>ND</td>\n",
       "      <td>North Dakota</td>\n",
       "      <td>00</td>\n",
       "      <td>178708787440</td>\n",
       "      <td>4398990288</td>\n",
       "      <td>Midwest</td>\n",
       "      <td>...</td>\n",
       "      <td>762062.0</td>\n",
       "      <td>3.94</td>\n",
       "      <td>30.0</td>\n",
       "      <td>760077.0</td>\n",
       "      <td>3.95</td>\n",
       "      <td>762062.0</td>\n",
       "      <td>1826.0</td>\n",
       "      <td>239.6</td>\n",
       "      <td>0</td>\n",
       "      <td>54</td>\n",
       "    </tr>\n",
       "    <tr>\n",
       "      <th>27</th>\n",
       "      <td>39</td>\n",
       "      <td>01085497</td>\n",
       "      <td>0400000US39</td>\n",
       "      <td>39</td>\n",
       "      <td>OH</td>\n",
       "      <td>Ohio</td>\n",
       "      <td>00</td>\n",
       "      <td>105831263791</td>\n",
       "      <td>10266413579</td>\n",
       "      <td>Midwest</td>\n",
       "      <td>...</td>\n",
       "      <td>11689100.0</td>\n",
       "      <td>5.46</td>\n",
       "      <td>648.0</td>\n",
       "      <td>11689442.0</td>\n",
       "      <td>5.54</td>\n",
       "      <td>11689100.0</td>\n",
       "      <td>35333.0</td>\n",
       "      <td>302.3</td>\n",
       "      <td>23</td>\n",
       "      <td>1901</td>\n",
       "    </tr>\n",
       "    <tr>\n",
       "      <th>32</th>\n",
       "      <td>40</td>\n",
       "      <td>01102857</td>\n",
       "      <td>0400000US40</td>\n",
       "      <td>40</td>\n",
       "      <td>OK</td>\n",
       "      <td>Oklahoma</td>\n",
       "      <td>00</td>\n",
       "      <td>177662951360</td>\n",
       "      <td>3374301679</td>\n",
       "      <td>Southwest</td>\n",
       "      <td>...</td>\n",
       "      <td>3956971.0</td>\n",
       "      <td>3.92</td>\n",
       "      <td>152.0</td>\n",
       "      <td>3943079.0</td>\n",
       "      <td>3.85</td>\n",
       "      <td>3956971.0</td>\n",
       "      <td>8293.0</td>\n",
       "      <td>209.6</td>\n",
       "      <td>5</td>\n",
       "      <td>362</td>\n",
       "    </tr>\n",
       "    <tr>\n",
       "      <th>14</th>\n",
       "      <td>41</td>\n",
       "      <td>01155107</td>\n",
       "      <td>0400000US41</td>\n",
       "      <td>41</td>\n",
       "      <td>OR</td>\n",
       "      <td>Oregon</td>\n",
       "      <td>00</td>\n",
       "      <td>248608666869</td>\n",
       "      <td>6190902750</td>\n",
       "      <td>West</td>\n",
       "      <td>...</td>\n",
       "      <td>4217737.0</td>\n",
       "      <td>6.92</td>\n",
       "      <td>293.0</td>\n",
       "      <td>4190713.0</td>\n",
       "      <td>6.99</td>\n",
       "      <td>4217737.0</td>\n",
       "      <td>13127.0</td>\n",
       "      <td>311.2</td>\n",
       "      <td>5</td>\n",
       "      <td>280</td>\n",
       "    </tr>\n",
       "    <tr>\n",
       "      <th>43</th>\n",
       "      <td>42</td>\n",
       "      <td>01779798</td>\n",
       "      <td>0400000US42</td>\n",
       "      <td>42</td>\n",
       "      <td>PA</td>\n",
       "      <td>Pennsylvania</td>\n",
       "      <td>00</td>\n",
       "      <td>115884023072</td>\n",
       "      <td>3396010541</td>\n",
       "      <td>Northeast</td>\n",
       "      <td>...</td>\n",
       "      <td>12801989.0</td>\n",
       "      <td>6.84</td>\n",
       "      <td>861.0</td>\n",
       "      <td>12807060.0</td>\n",
       "      <td>6.72</td>\n",
       "      <td>12801989.0</td>\n",
       "      <td>42051.0</td>\n",
       "      <td>328.5</td>\n",
       "      <td>31</td>\n",
       "      <td>2490</td>\n",
       "    </tr>\n",
       "    <tr>\n",
       "      <th>40</th>\n",
       "      <td>44</td>\n",
       "      <td>01219835</td>\n",
       "      <td>0400000US44</td>\n",
       "      <td>44</td>\n",
       "      <td>RI</td>\n",
       "      <td>Rhode Island</td>\n",
       "      <td>00</td>\n",
       "      <td>2677751247</td>\n",
       "      <td>1323482672</td>\n",
       "      <td>Northeast</td>\n",
       "      <td>...</td>\n",
       "      <td>1059361.0</td>\n",
       "      <td>6.42</td>\n",
       "      <td>73.0</td>\n",
       "      <td>1057315.0</td>\n",
       "      <td>6.90</td>\n",
       "      <td>1059361.0</td>\n",
       "      <td>4063.0</td>\n",
       "      <td>383.5</td>\n",
       "      <td>3</td>\n",
       "      <td>219</td>\n",
       "    </tr>\n",
       "    <tr>\n",
       "      <th>33</th>\n",
       "      <td>45</td>\n",
       "      <td>01779799</td>\n",
       "      <td>0400000US45</td>\n",
       "      <td>45</td>\n",
       "      <td>SC</td>\n",
       "      <td>South Carolina</td>\n",
       "      <td>00</td>\n",
       "      <td>77857913931</td>\n",
       "      <td>5074749305</td>\n",
       "      <td>Southeast</td>\n",
       "      <td>...</td>\n",
       "      <td>5148714.0</td>\n",
       "      <td>4.95</td>\n",
       "      <td>256.0</td>\n",
       "      <td>5084127.0</td>\n",
       "      <td>5.04</td>\n",
       "      <td>5148714.0</td>\n",
       "      <td>12197.0</td>\n",
       "      <td>236.9</td>\n",
       "      <td>7</td>\n",
       "      <td>501</td>\n",
       "    </tr>\n",
       "    <tr>\n",
       "      <th>34</th>\n",
       "      <td>46</td>\n",
       "      <td>01785534</td>\n",
       "      <td>0400000US46</td>\n",
       "      <td>46</td>\n",
       "      <td>SD</td>\n",
       "      <td>South Dakota</td>\n",
       "      <td>00</td>\n",
       "      <td>196348876870</td>\n",
       "      <td>3379900654</td>\n",
       "      <td>Midwest</td>\n",
       "      <td>...</td>\n",
       "      <td>884659.0</td>\n",
       "      <td>4.18</td>\n",
       "      <td>35.0</td>\n",
       "      <td>882235.0</td>\n",
       "      <td>3.97</td>\n",
       "      <td>884659.0</td>\n",
       "      <td>2214.0</td>\n",
       "      <td>250.3</td>\n",
       "      <td>0</td>\n",
       "      <td>45</td>\n",
       "    </tr>\n",
       "    <tr>\n",
       "      <th>15</th>\n",
       "      <td>47</td>\n",
       "      <td>01325873</td>\n",
       "      <td>0400000US47</td>\n",
       "      <td>47</td>\n",
       "      <td>TN</td>\n",
       "      <td>Tennessee</td>\n",
       "      <td>00</td>\n",
       "      <td>106800130794</td>\n",
       "      <td>2352882756</td>\n",
       "      <td>Southeast</td>\n",
       "      <td>...</td>\n",
       "      <td>6829174.0</td>\n",
       "      <td>5.33</td>\n",
       "      <td>353.0</td>\n",
       "      <td>6770010.0</td>\n",
       "      <td>5.21</td>\n",
       "      <td>6829174.0</td>\n",
       "      <td>17687.0</td>\n",
       "      <td>259.0</td>\n",
       "      <td>10</td>\n",
       "      <td>674</td>\n",
       "    </tr>\n",
       "    <tr>\n",
       "      <th>16</th>\n",
       "      <td>48</td>\n",
       "      <td>01779801</td>\n",
       "      <td>0400000US48</td>\n",
       "      <td>48</td>\n",
       "      <td>TX</td>\n",
       "      <td>Texas</td>\n",
       "      <td>00</td>\n",
       "      <td>676601887070</td>\n",
       "      <td>19059877230</td>\n",
       "      <td>Southwest</td>\n",
       "      <td>...</td>\n",
       "      <td>28995881.0</td>\n",
       "      <td>4.42</td>\n",
       "      <td>1280.0</td>\n",
       "      <td>28701845.0</td>\n",
       "      <td>4.46</td>\n",
       "      <td>28995881.0</td>\n",
       "      <td>67182.0</td>\n",
       "      <td>231.7</td>\n",
       "      <td>43</td>\n",
       "      <td>2735</td>\n",
       "    </tr>\n",
       "    <tr>\n",
       "      <th>35</th>\n",
       "      <td>49</td>\n",
       "      <td>01455989</td>\n",
       "      <td>0400000US49</td>\n",
       "      <td>49</td>\n",
       "      <td>UT</td>\n",
       "      <td>Utah</td>\n",
       "      <td>00</td>\n",
       "      <td>212883424892</td>\n",
       "      <td>7000211755</td>\n",
       "      <td>West</td>\n",
       "      <td>...</td>\n",
       "      <td>3205958.0</td>\n",
       "      <td>5.68</td>\n",
       "      <td>173.0</td>\n",
       "      <td>3161105.0</td>\n",
       "      <td>5.47</td>\n",
       "      <td>3205958.0</td>\n",
       "      <td>7198.0</td>\n",
       "      <td>224.5</td>\n",
       "      <td>4</td>\n",
       "      <td>215</td>\n",
       "    </tr>\n",
       "    <tr>\n",
       "      <th>44</th>\n",
       "      <td>50</td>\n",
       "      <td>01779802</td>\n",
       "      <td>0400000US50</td>\n",
       "      <td>50</td>\n",
       "      <td>VT</td>\n",
       "      <td>Vermont</td>\n",
       "      <td>00</td>\n",
       "      <td>23871896411</td>\n",
       "      <td>1034369068</td>\n",
       "      <td>Northeast</td>\n",
       "      <td>...</td>\n",
       "      <td>623989.0</td>\n",
       "      <td>6.25</td>\n",
       "      <td>39.0</td>\n",
       "      <td>626299.0</td>\n",
       "      <td>6.23</td>\n",
       "      <td>623989.0</td>\n",
       "      <td>2410.0</td>\n",
       "      <td>386.2</td>\n",
       "      <td>0</td>\n",
       "      <td>76</td>\n",
       "    </tr>\n",
       "    <tr>\n",
       "      <th>17</th>\n",
       "      <td>51</td>\n",
       "      <td>01779803</td>\n",
       "      <td>0400000US51</td>\n",
       "      <td>51</td>\n",
       "      <td>VA</td>\n",
       "      <td>Virginia</td>\n",
       "      <td>00</td>\n",
       "      <td>102283343474</td>\n",
       "      <td>8504608966</td>\n",
       "      <td>Southeast</td>\n",
       "      <td>...</td>\n",
       "      <td>8535519.0</td>\n",
       "      <td>5.47</td>\n",
       "      <td>473.0</td>\n",
       "      <td>8517685.0</td>\n",
       "      <td>5.55</td>\n",
       "      <td>8535519.0</td>\n",
       "      <td>22874.0</td>\n",
       "      <td>268.0</td>\n",
       "      <td>10</td>\n",
       "      <td>791</td>\n",
       "    </tr>\n",
       "    <tr>\n",
       "      <th>36</th>\n",
       "      <td>53</td>\n",
       "      <td>01779804</td>\n",
       "      <td>0400000US53</td>\n",
       "      <td>53</td>\n",
       "      <td>WA</td>\n",
       "      <td>Washington</td>\n",
       "      <td>00</td>\n",
       "      <td>172120795268</td>\n",
       "      <td>12540315747</td>\n",
       "      <td>West</td>\n",
       "      <td>...</td>\n",
       "      <td>7614893.0</td>\n",
       "      <td>4.87</td>\n",
       "      <td>371.0</td>\n",
       "      <td>7535591.0</td>\n",
       "      <td>4.92</td>\n",
       "      <td>7614893.0</td>\n",
       "      <td>21731.0</td>\n",
       "      <td>285.4</td>\n",
       "      <td>7</td>\n",
       "      <td>601</td>\n",
       "    </tr>\n",
       "    <tr>\n",
       "      <th>37</th>\n",
       "      <td>54</td>\n",
       "      <td>01779805</td>\n",
       "      <td>0400000US54</td>\n",
       "      <td>54</td>\n",
       "      <td>WV</td>\n",
       "      <td>West Virginia</td>\n",
       "      <td>00</td>\n",
       "      <td>62266581604</td>\n",
       "      <td>489443020</td>\n",
       "      <td>Southeast</td>\n",
       "      <td>...</td>\n",
       "      <td>1792147.0</td>\n",
       "      <td>5.80</td>\n",
       "      <td>105.0</td>\n",
       "      <td>1805832.0</td>\n",
       "      <td>5.81</td>\n",
       "      <td>1792147.0</td>\n",
       "      <td>4914.0</td>\n",
       "      <td>274.2</td>\n",
       "      <td>4</td>\n",
       "      <td>261</td>\n",
       "    </tr>\n",
       "    <tr>\n",
       "      <th>18</th>\n",
       "      <td>55</td>\n",
       "      <td>01779806</td>\n",
       "      <td>0400000US55</td>\n",
       "      <td>55</td>\n",
       "      <td>WI</td>\n",
       "      <td>Wisconsin</td>\n",
       "      <td>00</td>\n",
       "      <td>140269495483</td>\n",
       "      <td>29365430262</td>\n",
       "      <td>Midwest</td>\n",
       "      <td>...</td>\n",
       "      <td>5822434.0</td>\n",
       "      <td>5.48</td>\n",
       "      <td>316.0</td>\n",
       "      <td>5813568.0</td>\n",
       "      <td>5.44</td>\n",
       "      <td>5822434.0</td>\n",
       "      <td>15975.0</td>\n",
       "      <td>274.4</td>\n",
       "      <td>7</td>\n",
       "      <td>524</td>\n",
       "    </tr>\n",
       "    <tr>\n",
       "      <th>38</th>\n",
       "      <td>56</td>\n",
       "      <td>01779807</td>\n",
       "      <td>0400000US56</td>\n",
       "      <td>56</td>\n",
       "      <td>WY</td>\n",
       "      <td>Wyoming</td>\n",
       "      <td>00</td>\n",
       "      <td>251471960305</td>\n",
       "      <td>1862600347</td>\n",
       "      <td>West</td>\n",
       "      <td>...</td>\n",
       "      <td>578759.0</td>\n",
       "      <td>1.38</td>\n",
       "      <td>8.0</td>\n",
       "      <td>577737.0</td>\n",
       "      <td>1.38</td>\n",
       "      <td>578759.0</td>\n",
       "      <td>1225.0</td>\n",
       "      <td>211.7</td>\n",
       "      <td>0</td>\n",
       "      <td>15</td>\n",
       "    </tr>\n",
       "  </tbody>\n",
       "</table>\n",
       "<p>49 rows × 29 columns</p>\n",
       "</div>"
      ],
      "text/plain": [
       "   STATEFP   STATENS     AFFGEOID GEOID STUSPS                  NAME LSAD  \\\n",
       "41      01  01779775  0400000US01    01     AL               Alabama   00   \n",
       "19      04  01779777  0400000US04    04     AZ               Arizona   00   \n",
       "20      05  00068085  0400000US05    05     AR              Arkansas   00   \n",
       "0       06  01779778  0400000US06    06     CA            California   00   \n",
       "21      08  01779779  0400000US08    08     CO              Colorado   00   \n",
       "23      09  01779780  0400000US09    09     CT           Connecticut   00   \n",
       "39      10  01779781  0400000US10    10     DE              Delaware   00   \n",
       "1       11  01702382  0400000US11    11     DC  District of Columbia   00   \n",
       "2       12  00294478  0400000US12    12     FL               Florida   00   \n",
       "3       13  01705317  0400000US13    13     GA               Georgia   00   \n",
       "4       16  01779783  0400000US16    16     ID                 Idaho   00   \n",
       "5       17  01779784  0400000US17    17     IL              Illinois   00   \n",
       "22      18  00448508  0400000US18    18     IN               Indiana   00   \n",
       "6       19  01779785  0400000US19    19     IA                  Iowa   00   \n",
       "45      20  00481813  0400000US20    20     KS                Kansas   00   \n",
       "7       21  01779786  0400000US21    21     KY              Kentucky   00   \n",
       "8       22  01629543  0400000US22    22     LA             Louisiana   00   \n",
       "28      23  01779787  0400000US23    23     ME                 Maine   00   \n",
       "9       24  01714934  0400000US24    24     MD              Maryland   00   \n",
       "29      25  00606926  0400000US25    25     MA         Massachusetts   00   \n",
       "10      26  01779789  0400000US26    26     MI              Michigan   00   \n",
       "11      27  00662849  0400000US27    27     MN             Minnesota   00   \n",
       "30      28  01779790  0400000US28    28     MS           Mississippi   00   \n",
       "12      29  01779791  0400000US29    29     MO              Missouri   00   \n",
       "31      30  00767982  0400000US30    30     MT               Montana   00   \n",
       "24      31  01779792  0400000US31    31     NE              Nebraska   00   \n",
       "46      32  01779793  0400000US32    32     NV                Nevada   00   \n",
       "47      33  01779794  0400000US33    33     NH         New Hampshire   00   \n",
       "48      34  01779795  0400000US34    34     NJ            New Jersey   00   \n",
       "25      35  00897535  0400000US35    35     NM            New Mexico   00   \n",
       "13      36  01779796  0400000US36    36     NY              New York   00   \n",
       "26      37  01027616  0400000US37    37     NC        North Carolina   00   \n",
       "42      38  01779797  0400000US38    38     ND          North Dakota   00   \n",
       "27      39  01085497  0400000US39    39     OH                  Ohio   00   \n",
       "32      40  01102857  0400000US40    40     OK              Oklahoma   00   \n",
       "14      41  01155107  0400000US41    41     OR                Oregon   00   \n",
       "43      42  01779798  0400000US42    42     PA          Pennsylvania   00   \n",
       "40      44  01219835  0400000US44    44     RI          Rhode Island   00   \n",
       "33      45  01779799  0400000US45    45     SC        South Carolina   00   \n",
       "34      46  01785534  0400000US46    46     SD          South Dakota   00   \n",
       "15      47  01325873  0400000US47    47     TN             Tennessee   00   \n",
       "16      48  01779801  0400000US48    48     TX                 Texas   00   \n",
       "35      49  01455989  0400000US49    49     UT                  Utah   00   \n",
       "44      50  01779802  0400000US50    50     VT               Vermont   00   \n",
       "17      51  01779803  0400000US51    51     VA              Virginia   00   \n",
       "36      53  01779804  0400000US53    53     WA            Washington   00   \n",
       "37      54  01779805  0400000US54    54     WV         West Virginia   00   \n",
       "18      55  01779806  0400000US55    55     WI             Wisconsin   00   \n",
       "38      56  01779807  0400000US56    56     WY               Wyoming   00   \n",
       "\n",
       "           ALAND        AWATER     region  ...      Pop_20  \\\n",
       "41  131172403111    4594951242  Southeast  ...   4903185.0   \n",
       "19  294205282243    1027790845  Southwest  ...   7278717.0   \n",
       "20  134771603434    2960200961  Southeast  ...   3017804.0   \n",
       "0   403483823181   20483271881       West  ...  39512223.0   \n",
       "21  268426928342    1176085119       West  ...   5758736.0   \n",
       "23   12542396439    1814978794  Northeast  ...   3565287.0   \n",
       "39    5047093738    1398754502  Northeast  ...    973764.0   \n",
       "1      158350578      18633500  Northeast  ...    705749.0   \n",
       "2   138903200855   31407883551  Southeast  ...  21477737.0   \n",
       "3   148963503399    4947080103  Southeast  ...  10617423.0   \n",
       "4   214045425549    2397728105       West  ...   1787065.0   \n",
       "5   143794747023    6200927458    Midwest  ...  12671821.0   \n",
       "22   92790411854    1535839439    Midwest  ...   6732219.0   \n",
       "6   144668594415    1076856589    Midwest  ...   3155070.0   \n",
       "45  211752875517    1346704962    Midwest  ...   2913314.0   \n",
       "7   102262419204    2393338940  Southeast  ...   4467673.0   \n",
       "8   111901043977   23750204105  Southeast  ...   4648794.0   \n",
       "28   79885244456   11749091526  Northeast  ...   1344212.0   \n",
       "9    25147575220    6983455225  Northeast  ...   6045680.0   \n",
       "29   20203936287    7131805598  Northeast  ...   6892503.0   \n",
       "10  146455316950  104031344385    Midwest  ...   9986857.0   \n",
       "11  206236605303   18924324242    Midwest  ...   5639632.0   \n",
       "30  121531899917    3928587545  Southeast  ...   2976149.0   \n",
       "12  178039995643    2500220114    Midwest  ...   6137428.0   \n",
       "31  376963849026    3867840830       West  ...   1068778.0   \n",
       "24  198972282955    1356441861    Midwest  ...   1934408.0   \n",
       "46  284331571298    2049092975       West  ...   3080156.0   \n",
       "47   23187964254    1026252314  Northeast  ...   1359711.0   \n",
       "48   19048769408    3542752545  Northeast  ...   8882190.0   \n",
       "25  314161410324     755712514  Southwest  ...   2096829.0   \n",
       "13  122054577774   19242052501  Northeast  ...  19453561.0   \n",
       "26  125917995955   13472722504  Southeast  ...  10488084.0   \n",
       "42  178708787440    4398990288    Midwest  ...    762062.0   \n",
       "27  105831263791   10266413579    Midwest  ...  11689100.0   \n",
       "32  177662951360    3374301679  Southwest  ...   3956971.0   \n",
       "14  248608666869    6190902750       West  ...   4217737.0   \n",
       "43  115884023072    3396010541  Northeast  ...  12801989.0   \n",
       "40    2677751247    1323482672  Northeast  ...   1059361.0   \n",
       "33   77857913931    5074749305  Southeast  ...   5148714.0   \n",
       "34  196348876870    3379900654    Midwest  ...    884659.0   \n",
       "15  106800130794    2352882756  Southeast  ...   6829174.0   \n",
       "16  676601887070   19059877230  Southwest  ...  28995881.0   \n",
       "35  212883424892    7000211755       West  ...   3205958.0   \n",
       "44   23871896411    1034369068  Northeast  ...    623989.0   \n",
       "17  102283343474    8504608966  Southeast  ...   8535519.0   \n",
       "36  172120795268   12540315747       West  ...   7614893.0   \n",
       "37   62266581604     489443020  Southeast  ...   1792147.0   \n",
       "18  140269495483   29365430262    Midwest  ...   5822434.0   \n",
       "38  251471960305    1862600347       West  ...    578759.0   \n",
       "\n",
       "    Rate_100k_20_Ophtho  Ophthalmologists_19      Pop_19  Rate_100k_19_Ophtho  \\\n",
       "41                 4.63                228.0   4887871.0                 4.66   \n",
       "19                 4.23                295.0   7171646.0                 4.11   \n",
       "20                 3.91                127.0   3013825.0                 4.21   \n",
       "0                  6.13               2417.0  39557045.0                 6.11   \n",
       "21                 4.97                278.0   5695564.0                 4.88   \n",
       "23                 7.94                289.0   3572665.0                 8.09   \n",
       "39                 4.21                 45.0    967171.0                 4.65   \n",
       "1                 13.32                 97.0    702455.0                13.81   \n",
       "2                  6.06               1289.0  21299325.0                 6.05   \n",
       "3                  4.38                446.0  10519475.0                 4.24   \n",
       "4                  3.81                 67.0   1754208.0                 3.82   \n",
       "5                  5.92                754.0  12741080.0                 5.92   \n",
       "22                 3.88                262.0   6691878.0                 3.92   \n",
       "6                  5.26                157.0   3156145.0                 4.97   \n",
       "45                 4.77                142.0   2911505.0                 4.88   \n",
       "7                  4.63                206.0   4468402.0                 4.61   \n",
       "8                  7.31                346.0   4659978.0                 7.42   \n",
       "28                 5.06                 72.0   1338404.0                 5.38   \n",
       "9                  9.35                570.0   6042718.0                 9.43   \n",
       "29                 8.52                607.0   6902149.0                 8.79   \n",
       "10                 6.01                603.0   9995915.0                 6.03   \n",
       "11                 5.37                305.0   5611179.0                 5.44   \n",
       "30                 4.33                131.0   2986530.0                 4.39   \n",
       "12                 5.39                329.0   6126452.0                 5.37   \n",
       "31                 4.87                 55.0   1062305.0                 5.18   \n",
       "24                 5.01                 97.0   1929268.0                 5.03   \n",
       "46                 3.21                100.0   3034392.0                 3.30   \n",
       "47                 4.78                 67.0   1356458.0                 4.94   \n",
       "48                 6.59                596.0   8908520.0                 6.69   \n",
       "25                 3.39                 73.0   2095428.0                 3.48   \n",
       "13                 8.67               1705.0  19542209.0                 8.72   \n",
       "26                 5.22                525.0  10383620.0                 5.06   \n",
       "42                 3.94                 30.0    760077.0                 3.95   \n",
       "27                 5.46                648.0  11689442.0                 5.54   \n",
       "32                 3.92                152.0   3943079.0                 3.85   \n",
       "14                 6.92                293.0   4190713.0                 6.99   \n",
       "43                 6.84                861.0  12807060.0                 6.72   \n",
       "40                 6.42                 73.0   1057315.0                 6.90   \n",
       "33                 4.95                256.0   5084127.0                 5.04   \n",
       "34                 4.18                 35.0    882235.0                 3.97   \n",
       "15                 5.33                353.0   6770010.0                 5.21   \n",
       "16                 4.42               1280.0  28701845.0                 4.46   \n",
       "35                 5.68                173.0   3161105.0                 5.47   \n",
       "44                 6.25                 39.0    626299.0                 6.23   \n",
       "17                 5.47                473.0   8517685.0                 5.55   \n",
       "36                 4.87                371.0   7535591.0                 4.92   \n",
       "37                 5.80                105.0   1805832.0                 5.81   \n",
       "18                 5.48                316.0   5813568.0                 5.44   \n",
       "38                 1.38                  8.0    577737.0                 1.38   \n",
       "\n",
       "        Pop_22     MD_22  Rate_100k_22_All  Ophtho_Residents   All  \n",
       "41   4903185.0   10983.0             224.0                 5   482  \n",
       "19   7278717.0   18343.0             252.0                 4   567  \n",
       "20   3017804.0    6500.0             215.4                 4   329  \n",
       "0   39512223.0  113718.0             287.8                48  3666  \n",
       "21   5758736.0   16956.0             294.4                 6   407  \n",
       "23   3565287.0   12977.0             364.0                 5   618  \n",
       "39    973764.0    2850.0             292.7                 0   132  \n",
       "1     705749.0    6147.0             871.0                13   412  \n",
       "2   21477737.0   58822.0             273.9                23  2266  \n",
       "3   10617423.0   25072.0             236.1                 9   911  \n",
       "4    1787065.0    3504.0             196.1                 0    80  \n",
       "5   12671821.0   37122.0             292.9                23  1803  \n",
       "22   6732219.0   15918.0             236.4                 6   451  \n",
       "6    3155070.0    7056.0             223.6                 6   266  \n",
       "45   2913314.0    6874.0             236.0                 4   240  \n",
       "7    4467673.0   10528.0             235.6                 8   385  \n",
       "8    4648794.0   12557.0             270.1                18   616  \n",
       "28   1344212.0    4459.0             331.7                 0   108  \n",
       "9    6045680.0   23791.0             393.5                18   842  \n",
       "29   6892503.0   32116.0             466.0                18  1352  \n",
       "10   9986857.0   30040.0             300.8                27  1958  \n",
       "11   5639632.0   17617.0             312.4                 9   555  \n",
       "30   2976149.0    5857.0             196.8                 4   283  \n",
       "12   6137428.0   18297.0             298.1                17   750  \n",
       "31   1068778.0    2750.0             257.3                 0    30  \n",
       "24   1934408.0    4820.0             249.2                 2   222  \n",
       "46   3080156.0    6731.0             218.5                 0   263  \n",
       "47   1359711.0    4391.0             322.9                 2   148  \n",
       "48   8882190.0   27832.0             313.3                 5  1212  \n",
       "25   2096829.0    5269.0             251.3                 0   192  \n",
       "13  19453561.0   75749.0             389.4                76  4777  \n",
       "26  10488084.0   27650.0             263.6                14  1025  \n",
       "42    762062.0    1826.0             239.6                 0    54  \n",
       "27  11689100.0   35333.0             302.3                23  1901  \n",
       "32   3956971.0    8293.0             209.6                 5   362  \n",
       "14   4217737.0   13127.0             311.2                 5   280  \n",
       "43  12801989.0   42051.0             328.5                31  2490  \n",
       "40   1059361.0    4063.0             383.5                 3   219  \n",
       "33   5148714.0   12197.0             236.9                 7   501  \n",
       "34    884659.0    2214.0             250.3                 0    45  \n",
       "15   6829174.0   17687.0             259.0                10   674  \n",
       "16  28995881.0   67182.0             231.7                43  2735  \n",
       "35   3205958.0    7198.0             224.5                 4   215  \n",
       "44    623989.0    2410.0             386.2                 0    76  \n",
       "17   8535519.0   22874.0             268.0                10   791  \n",
       "36   7614893.0   21731.0             285.4                 7   601  \n",
       "37   1792147.0    4914.0             274.2                 4   261  \n",
       "18   5822434.0   15975.0             274.4                 7   524  \n",
       "38    578759.0    1225.0             211.7                 0    15  \n",
       "\n",
       "[49 rows x 29 columns]"
      ]
     },
     "execution_count": 8,
     "metadata": {},
     "output_type": "execute_result"
    }
   ],
   "source": [
    "#Combine it with provider level information and geography plots\n",
    "states = geopandas.read_file('data/usa-states-census-2014.shp')\n",
    "states = states.drop_duplicates()\n",
    "states = states.merge(state_to_state, on=\"STUSPS\")\n",
    "states = states.merge(yr_21, on=\"NAME\")\n",
    "states = states.merge(yr_20, on=\"NAME\")\n",
    "states = states.merge(yr_19, on=\"NAME\")\n",
    "states = states.merge(all_providers, on=\"NAME\")\n",
    "states = states.merge(residents_ophtho_all, on=\"STUSPS\", how='left')\n",
    "states['Ophtho_Residents'] = states['Ophtho_Residents'].fillna(0)\n",
    "states = states.sort_values(by=['NAME'])\n",
    "states\n"
   ]
  },
  {
   "cell_type": "code",
   "execution_count": 38,
   "metadata": {
    "pycharm": {
     "is_executing": false
    },
    "scrolled": true
   },
   "outputs": [],
   "source": [
    "#Create Meatcolumns for values of interest\n",
    "states[\"Need_21\"] = states[\"Interest_21\"]/states[\"Rate_100k_21_Ophtho\"]\n",
    "states[\"Need_20\"] = states[\"Interest_20\"]/states[\"Rate_100k_20_Ophtho\"]\n",
    "states[\"Need_19\"] = states[\"Interest_19\"]/states[\"Rate_100k_19_Ophtho\"]\n",
    "states[\"Rate_100k_dif_21_19\"] = (states[\"Rate_100k_21_Ophtho\"] - states[\"Rate_100k_19_Ophtho\"])/states[\"Rate_100k_19_Ophtho\"]*100\n",
    "states[\"Need_Salaries\"] = states[\"Salaries\"]/states[\"Interest_21\"]\n",
    "states[\"Provider_Ratio_Optho\"] = states[\"Ophthalmologists_21\"]/states[\"Ophtho_Residents\"]\n",
    "states[\"Provider_Ratio_All\"] = states[\"MD_22\"]/states[\"All\"]\n",
    "states['Salaries_Region'] = states.groupby(['region'])['Salaries'].transform('mean')\n",
    "states['Need_21_Region'] = states.groupby(['region'])['Need_21'].transform('mean')\n",
    "states['Need_20_Region'] = states.groupby(['region'])['Need_20'].transform('mean')\n",
    "states['Need_19_Region'] = states.groupby(['region'])['Need_19'].transform('mean')\n",
    "states['Provider_Ratio_Optho_Region'] = states.groupby(['region'])['Provider_Ratio_Optho'].transform('mean')\n",
    "states['Provider_Ratio_All_Region'] = states.groupby(['region'])['Provider_Ratio_All'].transform('mean')\n",
    "states['Ophtho_Residents_Region'] = states.groupby(['region'])['Ophtho_Residents'].transform('mean')\n",
    "states['Interest_21_Region'] = states.groupby(['region'])['Interest_21'].transform('mean')\n",
    "states['Interest_20_Region'] = states.groupby(['region'])['Interest_20'].transform('mean')\n",
    "states['Interest_19_Region'] = states.groupby(['region'])['Interest_19'].transform('mean')\n",
    "states['Rate_100k_21_Ophtho_Region'] = states.groupby(['region'])['Rate_100k_21_Ophtho'].transform('mean')\n",
    "states['Rate_100k_20_Ophtho_Region'] = states.groupby(['region'])['Rate_100k_20_Ophtho'].transform('mean')\n",
    "states['Rate_100k_19_Ophtho_Region'] = states.groupby(['region'])['Rate_100k_19_Ophtho'].transform('mean')\n",
    "states['Rate_100k_dif_21_19_Region'] = states.groupby(['region'])['Rate_100k_dif_21_19'].transform('mean')\n",
    "states['Need_Salaries_Region'] = states.groupby(['region'])['Need_Salaries'].transform('mean')\n",
    "states['Ophthalmologists_21_Region'] = states.groupby(['region'])['Ophthalmologists_21'].transform('mean')\n",
    "# states.sort_values(by=[\"Need_21_Region\"])"
   ]
  },
  {
   "cell_type": "code",
   "execution_count": 10,
   "metadata": {},
   "outputs": [],
   "source": [
    "states[\"Pop_per_Resident\"] = states[\"Pop_21\"]/states[\"Ophtho_Residents\"]\n",
    "states[\"new\"] = states[\"NAME\"]\n",
    "states = states.sort_values(by=\"Pop_per_Resident\", ascending = False)\n",
    "# states[[\"NAME\", \"Pop_per_Resident\"], :]"
   ]
  },
  {
   "cell_type": "code",
   "execution_count": 11,
   "metadata": {
    "pycharm": {
     "is_executing": false
    }
   },
   "outputs": [],
   "source": [
    "# Merge to regional level information\n",
    "regions = states.dissolve(by='region')"
   ]
  },
  {
   "cell_type": "markdown",
   "metadata": {},
   "source": [
    "Plots"
   ]
  },
  {
   "cell_type": "code",
   "execution_count": 12,
   "metadata": {
    "pycharm": {
     "is_executing": false
    }
   },
   "outputs": [],
   "source": [
    "def truncate_colormap(cmap, minval=0.0, maxval=1.0, n=100):\n",
    "    new_cmap = colors.LinearSegmentedColormap.from_list('trunc({n},{a:.2f},{b:.2f})'.format(n=cmap.name, a=minval, b=maxval),cmap(np.linspace(minval, maxval, n)))\n",
    "    return new_cmap\n",
    "\n",
    "arr = np.linspace(0, 50, 100).reshape((10, 10))\n",
    "# fig, ax = plt.subplots(ncols=2)\n",
    "cmap = plt.get_cmap('PuBu')\n",
    "new_cmap = truncate_colormap(cmap, 0.1, 0.9)\n",
    "# ax[0].imshow(arr, interpolation='nearest', cmap=cmap)\n",
    "# ax[1].imshow(arr, interpolation='nearest', cmap=new_cmap)\n",
    "# plt.show()"
   ]
  },
  {
   "cell_type": "code",
   "execution_count": 13,
   "metadata": {},
   "outputs": [
    {
     "name": "stderr",
     "output_type": "stream",
     "text": [
      "c:\\Users\\aidan\\AppData\\Local\\Programs\\Python\\Python310\\lib\\site-packages\\matplotlib\\colors.py:1254: RuntimeWarning: invalid value encountered in divide\n",
      "  resdat /= (vmax - vmin)\n",
      "c:\\Users\\aidan\\AppData\\Local\\Programs\\Python\\Python310\\lib\\site-packages\\matplotlib\\colors.py:1254: RuntimeWarning: invalid value encountered in divide\n",
      "  resdat /= (vmax - vmin)\n",
      "c:\\Users\\aidan\\AppData\\Local\\Programs\\Python\\Python310\\lib\\site-packages\\matplotlib\\colors.py:1254: RuntimeWarning: invalid value encountered in divide\n",
      "  resdat /= (vmax - vmin)\n"
     ]
    },
    {
     "data": {
      "image/png": "[encoded data removed]",
      "text/plain": [
       "<Figure size 1080x720 with 6 Axes>"
      ]
     },
     "metadata": {
      "needs_background": "light"
     },
     "output_type": "display_data"
    }
   ],
   "source": [
    "fig, ((ax1, ax3), (ax2, ax4)) = plot_us(states, regions, \"Provider_Ratio_Optho\", \"Ophtho_Residents\", \"Rate_100k_21_Ophtho\", new_cmap, 'Ophto Residency vs Ophtho Provider', 'Residents', 'Rate 100k', 40, 12, 2700, 850, region_map=\"Provider_Ratio_All\", region_x = \"All\", region_y=\"Rate_100k_22_All\", region_title='All Residency vs All Provider')"
   ]
  },
  {
   "cell_type": "code",
   "execution_count": 14,
   "metadata": {},
   "outputs": [
    {
     "name": "stderr",
     "output_type": "stream",
     "text": [
      "c:\\Users\\aidan\\AppData\\Local\\Programs\\Python\\Python310\\lib\\site-packages\\matplotlib\\colors.py:1254: RuntimeWarning: invalid value encountered in divide\n",
      "  resdat /= (vmax - vmin)\n",
      "c:\\Users\\aidan\\AppData\\Local\\Programs\\Python\\Python310\\lib\\site-packages\\matplotlib\\colors.py:1254: RuntimeWarning: invalid value encountered in divide\n",
      "  resdat /= (vmax - vmin)\n",
      "c:\\Users\\aidan\\AppData\\Local\\Programs\\Python\\Python310\\lib\\site-packages\\matplotlib\\colors.py:1254: RuntimeWarning: invalid value encountered in divide\n",
      "  resdat /= (vmax - vmin)\n"
     ]
    },
    {
     "data": {
      "image/png": "[encoded data removed]",
      "text/plain": [
       "<Figure size 1080x720 with 6 Axes>"
      ]
     },
     "metadata": {
      "needs_background": "light"
     },
     "output_type": "display_data"
    }
   ],
   "source": [
    "fig, ((ax1, ax3), (ax2, ax4)) = plot_us(states, regions, \"Provider_Ratio_Optho\", \"Ophtho_Residents\", \"Ophthalmologists_21\", new_cmap, 'Ophto Residency vs Ophtho Provider', 'Residents', 'Rate 100k', 40, 12, 2700, 850, region_map=\"Provider_Ratio_All\", region_x = \"All\", region_y=\"MD_22\", region_title='All Residency vs All Provider')"
   ]
  },
  {
   "cell_type": "code",
   "execution_count": 27,
   "metadata": {},
   "outputs": [],
   "source": [
    "def truncate_colormap(cmap, minval=0.0, maxval=1.0, n=100):\n",
    "    new_cmap = colors.LinearSegmentedColormap.from_list('trunc({n},{a:.2f},{b:.2f})'.format(n=cmap.name, a=minval, b=maxval),cmap(np.linspace(minval, maxval, n)))\n",
    "    return new_cmap\n",
    "\n",
    "# arr = np.linspace(0, 50, 100).reshape((10, 10))\n",
    "# fig, ax = plt.subplots(ncols=2)\n",
    "# cmap = plt.get_cmap('PuBu')\n",
    "cmap = plt.get_cmap('seismic')\n",
    "new_cmap = truncate_colormap(cmap, 0.7, 0)\n",
    "# ax[0].imshow(arr, interpolation='nearest', cmap=cmap)\n",
    "# ax[1].imshow(arr, interpolation='nearest', cmap=new_cmap)\n",
    "# plt.show()"
   ]
  },
  {
   "cell_type": "code",
   "execution_count": 39,
   "metadata": {},
   "outputs": [
    {
     "data": {
      "image/png": "[encoded data removed]",
      "text/plain": [
       "<Figure size 1080x720 with 6 Axes>"
      ]
     },
     "metadata": {
      "needs_background": "light"
     },
     "output_type": "display_data"
    }
   ],
   "source": [
    "fig, ((ax1, ax3), (ax2, ax4)) = plot_us(states, regions, \"Rate_100k_dif_21_19\", \"Rate_100k_21_Ophtho\", \"Rate_100k_19_Ophtho\", new_cmap, 'Provider Change', 'Rate_100k_19_Ophtho', 'Rate_100k_21_Ophtho', 1.5, 12, 3.9, 7.5)"
   ]
  },
  {
   "cell_type": "code",
   "execution_count": 15,
   "metadata": {},
   "outputs": [
    {
     "data": {
      "image/png": "[encoded data removed]",
      "text/plain": [
       "<Figure size 1080x720 with 6 Axes>"
      ]
     },
     "metadata": {
      "needs_background": "light"
     },
     "output_type": "display_data"
    }
   ],
   "source": [
    "fig = plot_us(states, regions, \"Need_Salaries\", \"Need_21\", \"Salaries\", new_cmap, 'Salary per Interest', 'Need', 'Salaries', 6, 265000, 5.8, 323000)"
   ]
  },
  {
   "cell_type": "code",
   "execution_count": 16,
   "metadata": {},
   "outputs": [
    {
     "data": {
      "image/png": "[encoded data removed]",
      "text/plain": [
       "<Figure size 1080x720 with 6 Axes>"
      ]
     },
     "metadata": {
      "needs_background": "light"
     },
     "output_type": "display_data"
    }
   ],
   "source": [
    "fig = plot_us(states, regions, \"Need_21\", \"Interest_21\", \"Rate_100k_21_Ophtho\", new_cmap, 'Need for Ophtho Providers 21', 'Ophtho Interest', 'Provider Rate', 9, 12, 31.2, 7.3)"
   ]
  },
  {
   "cell_type": "code",
   "execution_count": 17,
   "metadata": {},
   "outputs": [
    {
     "data": {
      "image/png": "[encoded data removed]",
      "text/plain": [
       "<Figure size 1080x720 with 6 Axes>"
      ]
     },
     "metadata": {
      "needs_background": "light"
     },
     "output_type": "display_data"
    }
   ],
   "source": [
    "fig = plot_us(states, regions, \"Need_20\", \"Interest_20\", \"Rate_100k_20_Ophtho\", new_cmap, 'Need for Ophtho Providers 20', 'Ophtho Interest', 'Provider Rate', 6, 12, 28.5, 7.3)"
   ]
  },
  {
   "cell_type": "code",
   "execution_count": 18,
   "metadata": {},
   "outputs": [
    {
     "data": {
      "image/png": "[encoded data removed]",
      "text/plain": [
       "<Figure size 1080x720 with 6 Axes>"
      ]
     },
     "metadata": {
      "needs_background": "light"
     },
     "output_type": "display_data"
    }
   ],
   "source": [
    "fig = plot_us(states, regions, \"Need_19\", \"Interest_19\", \"Rate_100k_19_Ophtho\", new_cmap, 'Need for Ophtho Providers 19', 'Ophtho Interest', 'Provider Rate', 6, 12, 29.2, 7.5)"
   ]
  },
  {
   "cell_type": "markdown",
   "metadata": {},
   "source": [
    "PLOTLY Graphs"
   ]
  },
  {
   "cell_type": "code",
   "execution_count": 19,
   "metadata": {
    "pycharm": {
     "is_executing": false
    }
   },
   "outputs": [],
   "source": [
    "from plotly.subplots import make_subplots\n",
    "import plotly.graph_objects as go"
   ]
  },
  {
   "cell_type": "code",
   "execution_count": 20,
   "metadata": {
    "pycharm": {
     "is_executing": false
    }
   },
   "outputs": [],
   "source": [
    "# fig = px.choropleth(states, geojson=states.geometry, \n",
    "#                     locationmode = 'USA-states',\n",
    "#                     locations=states.STUSPS, \n",
    "#                     color=\"Need_19\",\n",
    "#                     height=500,\n",
    "#                     hover_name = states.NAME,\n",
    "#                     hover_data = [states.Interest_19, states.Rate_100k_19_Ophtho],\n",
    "#                    color_continuous_scale=\"Viridis\")\n",
    "# fig.update_geos(fitbounds=\"locations\", visible=False)\n",
    "# fig.update_layout(\n",
    "#     title_text='2019'\n",
    "# )\n",
    "# fig.update(layout = dict(title=dict(x=0.5)))\n",
    "# fig.update_layout(\n",
    "#     margin={\"r\":0,\"t\":30,\"l\":10,\"b\":10},\n",
    "#     coloraxis_colorbar={\n",
    "#         'title':'Sum'})\n",
    "# fig.show()\n",
    "\n",
    "# fig2 = px.choropleth(states, geojson=states.geometry, \n",
    "#                     locationmode = 'USA-states',\n",
    "#                     locations=states.STUSPS, \n",
    "#                     color=\"Need_20\",\n",
    "#                     height=500,\n",
    "#                     hover_name = states.NAME,\n",
    "#                     hover_data = [states.Interest_20, states.Rate_100k_20_Ophtho],\n",
    "#                    color_continuous_scale=\"Viridis\")\n",
    "# fig2.update_geos(fitbounds=\"locations\", visible=False)\n",
    "# fig2.update_layout(\n",
    "#     title_text='2020'\n",
    "# )\n",
    "# fig2.update(layout = dict(title=dict(x=0.5)))\n",
    "# fig2.update_layout(\n",
    "#     margin={\"r\":0,\"t\":30,\"l\":10,\"b\":10},\n",
    "#     coloraxis_colorbar={\n",
    "#         'title':'Sum'})\n",
    "# fig2.show()\n",
    "\n",
    "# fig3 = px.choropleth(states, geojson=states.geometry, \n",
    "#                     locationmode = 'USA-states',\n",
    "#                     locations=states.STUSPS, \n",
    "#                     color=\"Need_21\",\n",
    "#                     height=500,\n",
    "#                     hover_name = states.NAME,\n",
    "#                     hover_data = [states.Interest_21, states.Rate_100k_21_Ophtho],\n",
    "#                    color_continuous_scale=\"Viridis\")\n",
    "# fig3.update_geos(fitbounds=\"locations\", visible=False)\n",
    "# fig3.update_layout(\n",
    "#     title_text='2021'\n",
    "# )\n",
    "# fig3.update(layout = dict(title=dict(x=0.5)))\n",
    "# fig3.update_layout(\n",
    "#     margin={\"r\":0,\"t\":30,\"l\":10,\"b\":10},\n",
    "#     coloraxis_colorbar={\n",
    "#         'title':'Sum'})\n",
    "# fig3.show()"
   ]
  },
  {
   "cell_type": "code",
   "execution_count": 21,
   "metadata": {
    "pycharm": {
     "is_executing": false
    }
   },
   "outputs": [
    {
     "data": {
      "application/vnd.plotly.v1+json": {
       "config": {
        "plotlyServerURL": "https://plot.ly"
       },
       "data": [
        {
         "customdata": [
          [
           "Montana"
          ],
          [
           "Idaho"
          ],
          [
           "Nevada"
          ],
          [
           "Wyoming"
          ],
          [
           "Washington"
          ],
          [
           "Colorado"
          ],
          [
           "Oregon"
          ],
          [
           "California"
          ],
          [
           "Utah"
          ]
         ],
         "hovertemplate": "region=West<br>Interest_19=%{x}<br>Rate_100k_19_Ophtho=%{y}<br>NAME=%{customdata[0]}<extra></extra>",
         "legendgroup": "West",
         "marker": {
          "color": "#636efa",
          "symbol": "circle"
         },
         "mode": "markers",
         "name": "West",
         "orientation": "v",
         "showlegend": true,
         "type": "scatter",
         "x": [
          16.76923076923077,
          17.500000000000004,
          21.138461538461538,
          21.538461538461537,
          48.2,
          38.36923076923077,
          35.15384615384615,
          56.63076923076924,
          23.569230769230767
         ],
         "xaxis": "x",
         "y": [
          5.18,
          3.82,
          3.3,
          1.38,
          4.92,
          4.88,
          6.99,
          6.11,
          5.47
         ],
         "yaxis": "y"
        },
        {
         "customdata": [
          [
           "Vermont"
          ],
          [
           "Maine"
          ],
          [
           "Delaware"
          ],
          [
           "New Jersey"
          ],
          [
           "Connecticut"
          ],
          [
           "New Hampshire"
          ],
          [
           "Pennsylvania"
          ],
          [
           "Massachusetts"
          ],
          [
           "Rhode Island"
          ],
          [
           "Maryland"
          ],
          [
           "New York"
          ],
          [
           "District of Columbia"
          ]
         ],
         "hovertemplate": "region=Northeast<br>Interest_19=%{x}<br>Rate_100k_19_Ophtho=%{y}<br>NAME=%{customdata[0]}<extra></extra>",
         "legendgroup": "Northeast",
         "marker": {
          "color": "#EF553B",
          "symbol": "circle"
         },
         "mode": "markers",
         "name": "Northeast",
         "orientation": "v",
         "showlegend": true,
         "type": "scatter",
         "x": [
          19.44230769230769,
          29.115384615384617,
          14.096153846153847,
          39.8,
          34.353846153846156,
          22.861538461538462,
          52.138461538461534,
          44.63076923076923,
          23.092307692307692,
          39.138461538461534,
          60.04615384615386,
          42.82692307692307
         ],
         "xaxis": "x",
         "y": [
          6.23,
          5.38,
          4.65,
          6.69,
          8.09,
          4.94,
          6.72,
          8.79,
          6.9,
          9.43,
          8.72,
          13.81
         ],
         "yaxis": "y"
        },
        {
         "customdata": [
          [
           "South Dakota"
          ],
          [
           "North Dakota"
          ],
          [
           "Indiana"
          ],
          [
           "Nebraska"
          ],
          [
           "Wisconsin"
          ],
          [
           "Kansas"
          ],
          [
           "Minnesota"
          ],
          [
           "Illinois"
          ],
          [
           "Iowa"
          ],
          [
           "Ohio"
          ],
          [
           "Michigan"
          ],
          [
           "Missouri"
          ]
         ],
         "hovertemplate": "region=Midwest<br>Interest_19=%{x}<br>Rate_100k_19_Ophtho=%{y}<br>NAME=%{customdata[0]}<extra></extra>",
         "legendgroup": "Midwest",
         "marker": {
          "color": "#00cc96",
          "symbol": "circle"
         },
         "mode": "markers",
         "name": "Midwest",
         "orientation": "v",
         "showlegend": true,
         "type": "scatter",
         "x": [
          16.26923076923077,
          12.58974358974359,
          28.076923076923077,
          20.46153846153846,
          37.36923076923077,
          31.04615384615385,
          45.09230769230769,
          47.55384615384615,
          21.984615384615385,
          43.29230769230769,
          39.64615384615385,
          31.569230769230774
         ],
         "xaxis": "x",
         "y": [
          3.97,
          3.95,
          3.92,
          5.03,
          5.44,
          4.88,
          5.44,
          5.92,
          4.97,
          5.54,
          6.03,
          5.37
         ],
         "yaxis": "y"
        },
        {
         "customdata": [
          [
           "New Mexico"
          ],
          [
           "Arizona"
          ],
          [
           "Oklahoma"
          ],
          [
           "Texas"
          ]
         ],
         "hovertemplate": "region=Southwest<br>Interest_19=%{x}<br>Rate_100k_19_Ophtho=%{y}<br>NAME=%{customdata[0]}<extra></extra>",
         "legendgroup": "Southwest",
         "marker": {
          "color": "#ab63fa",
          "symbol": "circle"
         },
         "mode": "markers",
         "name": "Southwest",
         "orientation": "v",
         "showlegend": true,
         "type": "scatter",
         "x": [
          12.015384615384615,
          39.76923076923076,
          25.6,
          49.98461538461539
         ],
         "xaxis": "x",
         "y": [
          3.48,
          4.11,
          3.85,
          4.46
         ],
         "yaxis": "y"
        },
        {
         "customdata": [
          [
           "Georgia"
          ],
          [
           "Alabama"
          ],
          [
           "Florida"
          ],
          [
           "Virginia"
          ],
          [
           "Arkansas"
          ],
          [
           "North Carolina"
          ],
          [
           "South Carolina"
          ],
          [
           "Mississippi"
          ],
          [
           "Tennessee"
          ],
          [
           "Kentucky"
          ],
          [
           "West Virginia"
          ],
          [
           "Louisiana"
          ]
         ],
         "hovertemplate": "region=Southeast<br>Interest_19=%{x}<br>Rate_100k_19_Ophtho=%{y}<br>NAME=%{customdata[0]}<extra></extra>",
         "legendgroup": "Southeast",
         "marker": {
          "color": "#FFA15A",
          "symbol": "circle"
         },
         "mode": "markers",
         "name": "Southeast",
         "orientation": "v",
         "showlegend": true,
         "type": "scatter",
         "x": [
          38.353846153846156,
          27.83076923076924,
          53.32307692307692,
          46.215384615384615,
          17.692307692307693,
          36.30769230769231,
          23.66153846153846,
          22.369230769230768,
          32.49230769230769,
          31.4,
          15.092307692307694,
          26.8
         ],
         "xaxis": "x",
         "y": [
          4.24,
          4.66,
          6.05,
          5.55,
          4.21,
          5.06,
          5.04,
          4.39,
          5.21,
          4.61,
          5.81,
          7.42
         ],
         "yaxis": "y"
        },
        {
         "hovertemplate": "<b>OLS trendline</b><br>Rate_100k_19_Ophtho = 0.0679516 * Interest_19 + 3.34767<br>R<sup>2</sup>=0.200494<br><br>Interest_19=%{x}<br>Rate_100k_19_Ophtho=%{y} <b>(trend)</b><extra></extra>",
         "legendgroup": "Overall Trendline",
         "line": {
          "color": "#19d3f3"
         },
         "mode": "lines",
         "name": "Overall Trendline",
         "showlegend": true,
         "type": "scatter",
         "x": [
          12.015384615384615,
          12.58974358974359,
          14.096153846153847,
          15.092307692307694,
          16.26923076923077,
          16.76923076923077,
          17.500000000000004,
          17.692307692307693,
          19.44230769230769,
          20.46153846153846,
          21.138461538461538,
          21.538461538461537,
          21.984615384615385,
          22.369230769230768,
          22.861538461538462,
          23.092307692307692,
          23.569230769230767,
          23.66153846153846,
          25.6,
          26.8,
          27.83076923076924,
          28.076923076923077,
          29.115384615384617,
          31.04615384615385,
          31.4,
          31.569230769230774,
          32.49230769230769,
          34.353846153846156,
          35.15384615384615,
          36.30769230769231,
          37.36923076923077,
          38.353846153846156,
          38.36923076923077,
          39.138461538461534,
          39.64615384615385,
          39.76923076923076,
          39.8,
          42.82692307692307,
          43.29230769230769,
          44.63076923076923,
          45.09230769230769,
          46.215384615384615,
          47.55384615384615,
          48.2,
          49.98461538461539,
          52.138461538461534,
          53.32307692307692,
          56.63076923076924,
          60.04615384615386
         ],
         "xaxis": "x",
         "y": [
          4.164134961928696,
          4.203163545550382,
          4.305526460183154,
          4.373216659902017,
          4.453190409376812,
          4.487166185297476,
          4.53682308856614,
          4.549890694689473,
          4.668805910411799,
          4.738064222865462,
          4.784062196419592,
          4.811242817156124,
          4.841559663362256,
          4.867694875608921,
          4.901147947284652,
          4.916829074632651,
          4.949236737818516,
          4.955509188757715,
          5.087230658480908,
          5.168772520690503,
          5.238814889511566,
          5.255541425349431,
          5.326106498415427,
          5.457305263893685,
          5.4813496591606174,
          5.492849152549151,
          5.555573661941146,
          5.682068089215006,
          5.736429330688069,
          5.814834967428064,
          5.88696815322886,
          5.953874296580324,
          5.954919705070189,
          6.00719012956352,
          6.0416886097291185,
          6.05005187764805,
          6.0521426946277845,
          6.257826815009038,
          6.289450421827503,
          6.380400960445899,
          6.411763215141896,
          6.488078034902158,
          6.579028573520553,
          6.622935730094951,
          6.744203114919477,
          6.890560303500801,
          6.97105675722053,
          7.1958195825418505,
          7.427900267292237
         ],
         "yaxis": "y"
        }
       ],
       "layout": {
        "legend": {
         "title": {
          "text": "region"
         },
         "tracegroupgap": 0
        },
        "template": {
         "data": {
          "bar": [
           {
            "error_x": {
             "color": "#2a3f5f"
            },
            "error_y": {
             "color": "#2a3f5f"
            },
            "marker": {
             "line": {
              "color": "#E5ECF6",
              "width": 0.5
             },
             "pattern": {
              "fillmode": "overlay",
              "size": 10,
              "solidity": 0.2
             }
            },
            "type": "bar"
           }
          ],
          "barpolar": [
           {
            "marker": {
             "line": {
              "color": "#E5ECF6",
              "width": 0.5
             },
             "pattern": {
              "fillmode": "overlay",
              "size": 10,
              "solidity": 0.2
             }
            },
            "type": "barpolar"
           }
          ],
          "carpet": [
           {
            "aaxis": {
             "endlinecolor": "#2a3f5f",
             "gridcolor": "white",
             "linecolor": "white",
             "minorgridcolor": "white",
             "startlinecolor": "#2a3f5f"
            },
            "baxis": {
             "endlinecolor": "#2a3f5f",
             "gridcolor": "white",
             "linecolor": "white",
             "minorgridcolor": "white",
             "startlinecolor": "#2a3f5f"
            },
            "type": "carpet"
           }
          ],
          "choropleth": [
           {
            "colorbar": {
             "outlinewidth": 0,
             "ticks": ""
            },
            "type": "choropleth"
           }
          ],
          "contour": [
           {
            "colorbar": {
             "outlinewidth": 0,
             "ticks": ""
            },
            "colorscale": [
             [
              0,
              "#0d0887"
             ],
             [
              0.1111111111111111,
              "#46039f"
             ],
             [
              0.2222222222222222,
              "#7201a8"
             ],
             [
              0.3333333333333333,
              "#9c179e"
             ],
             [
              0.4444444444444444,
              "#bd3786"
             ],
             [
              0.5555555555555556,
              "#d8576b"
             ],
             [
              0.6666666666666666,
              "#ed7953"
             ],
             [
              0.7777777777777778,
              "#fb9f3a"
             ],
             [
              0.8888888888888888,
              "#fdca26"
             ],
             [
              1,
              "#f0f921"
             ]
            ],
            "type": "contour"
           }
          ],
          "contourcarpet": [
           {
            "colorbar": {
             "outlinewidth": 0,
             "ticks": ""
            },
            "type": "contourcarpet"
           }
          ],
          "heatmap": [
           {
            "colorbar": {
             "outlinewidth": 0,
             "ticks": ""
            },
            "colorscale": [
             [
              0,
              "#0d0887"
             ],
             [
              0.1111111111111111,
              "#46039f"
             ],
             [
              0.2222222222222222,
              "#7201a8"
             ],
             [
              0.3333333333333333,
              "#9c179e"
             ],
             [
              0.4444444444444444,
              "#bd3786"
             ],
             [
              0.5555555555555556,
              "#d8576b"
             ],
             [
              0.6666666666666666,
              "#ed7953"
             ],
             [
              0.7777777777777778,
              "#fb9f3a"
             ],
             [
              0.8888888888888888,
              "#fdca26"
             ],
             [
              1,
              "#f0f921"
             ]
            ],
            "type": "heatmap"
           }
          ],
          "heatmapgl": [
           {
            "colorbar": {
             "outlinewidth": 0,
             "ticks": ""
            },
            "colorscale": [
             [
              0,
              "#0d0887"
             ],
             [
              0.1111111111111111,
              "#46039f"
             ],
             [
              0.2222222222222222,
              "#7201a8"
             ],
             [
              0.3333333333333333,
              "#9c179e"
             ],
             [
              0.4444444444444444,
              "#bd3786"
             ],
             [
              0.5555555555555556,
              "#d8576b"
             ],
             [
              0.6666666666666666,
              "#ed7953"
             ],
             [
              0.7777777777777778,
              "#fb9f3a"
             ],
             [
              0.8888888888888888,
              "#fdca26"
             ],
             [
              1,
              "#f0f921"
             ]
            ],
            "type": "heatmapgl"
           }
          ],
          "histogram": [
           {
            "marker": {
             "pattern": {
              "fillmode": "overlay",
              "size": 10,
              "solidity": 0.2
             }
            },
            "type": "histogram"
           }
          ],
          "histogram2d": [
           {
            "colorbar": {
             "outlinewidth": 0,
             "ticks": ""
            },
            "colorscale": [
             [
              0,
              "#0d0887"
             ],
             [
              0.1111111111111111,
              "#46039f"
             ],
             [
              0.2222222222222222,
              "#7201a8"
             ],
             [
              0.3333333333333333,
              "#9c179e"
             ],
             [
              0.4444444444444444,
              "#bd3786"
             ],
             [
              0.5555555555555556,
              "#d8576b"
             ],
             [
              0.6666666666666666,
              "#ed7953"
             ],
             [
              0.7777777777777778,
              "#fb9f3a"
             ],
             [
              0.8888888888888888,
              "#fdca26"
             ],
             [
              1,
              "#f0f921"
             ]
            ],
            "type": "histogram2d"
           }
          ],
          "histogram2dcontour": [
           {
            "colorbar": {
             "outlinewidth": 0,
             "ticks": ""
            },
            "colorscale": [
             [
              0,
              "#0d0887"
             ],
             [
              0.1111111111111111,
              "#46039f"
             ],
             [
              0.2222222222222222,
              "#7201a8"
             ],
             [
              0.3333333333333333,
              "#9c179e"
             ],
             [
              0.4444444444444444,
              "#bd3786"
             ],
             [
              0.5555555555555556,
              "#d8576b"
             ],
             [
              0.6666666666666666,
              "#ed7953"
             ],
             [
              0.7777777777777778,
              "#fb9f3a"
             ],
             [
              0.8888888888888888,
              "#fdca26"
             ],
             [
              1,
              "#f0f921"
             ]
            ],
            "type": "histogram2dcontour"
           }
          ],
          "mesh3d": [
           {
            "colorbar": {
             "outlinewidth": 0,
             "ticks": ""
            },
            "type": "mesh3d"
           }
          ],
          "parcoords": [
           {
            "line": {
             "colorbar": {
              "outlinewidth": 0,
              "ticks": ""
             }
            },
            "type": "parcoords"
           }
          ],
          "pie": [
           {
            "automargin": true,
            "type": "pie"
           }
          ],
          "scatter": [
           {
            "fillpattern": {
             "fillmode": "overlay",
             "size": 10,
             "solidity": 0.2
            },
            "type": "scatter"
           }
          ],
          "scatter3d": [
           {
            "line": {
             "colorbar": {
              "outlinewidth": 0,
              "ticks": ""
             }
            },
            "marker": {
             "colorbar": {
              "outlinewidth": 0,
              "ticks": ""
             }
            },
            "type": "scatter3d"
           }
          ],
          "scattercarpet": [
           {
            "marker": {
             "colorbar": {
              "outlinewidth": 0,
              "ticks": ""
             }
            },
            "type": "scattercarpet"
           }
          ],
          "scattergeo": [
           {
            "marker": {
             "colorbar": {
              "outlinewidth": 0,
              "ticks": ""
             }
            },
            "type": "scattergeo"
           }
          ],
          "scattergl": [
           {
            "marker": {
             "colorbar": {
              "outlinewidth": 0,
              "ticks": ""
             }
            },
            "type": "scattergl"
           }
          ],
          "scattermapbox": [
           {
            "marker": {
             "colorbar": {
              "outlinewidth": 0,
              "ticks": ""
             }
            },
            "type": "scattermapbox"
           }
          ],
          "scatterpolar": [
           {
            "marker": {
             "colorbar": {
              "outlinewidth": 0,
              "ticks": ""
             }
            },
            "type": "scatterpolar"
           }
          ],
          "scatterpolargl": [
           {
            "marker": {
             "colorbar": {
              "outlinewidth": 0,
              "ticks": ""
             }
            },
            "type": "scatterpolargl"
           }
          ],
          "scatterternary": [
           {
            "marker": {
             "colorbar": {
              "outlinewidth": 0,
              "ticks": ""
             }
            },
            "type": "scatterternary"
           }
          ],
          "surface": [
           {
            "colorbar": {
             "outlinewidth": 0,
             "ticks": ""
            },
            "colorscale": [
             [
              0,
              "#0d0887"
             ],
             [
              0.1111111111111111,
              "#46039f"
             ],
             [
              0.2222222222222222,
              "#7201a8"
             ],
             [
              0.3333333333333333,
              "#9c179e"
             ],
             [
              0.4444444444444444,
              "#bd3786"
             ],
             [
              0.5555555555555556,
              "#d8576b"
             ],
             [
              0.6666666666666666,
              "#ed7953"
             ],
             [
              0.7777777777777778,
              "#fb9f3a"
             ],
             [
              0.8888888888888888,
              "#fdca26"
             ],
             [
              1,
              "#f0f921"
             ]
            ],
            "type": "surface"
           }
          ],
          "table": [
           {
            "cells": {
             "fill": {
              "color": "#EBF0F8"
             },
             "line": {
              "color": "white"
             }
            },
            "header": {
             "fill": {
              "color": "#C8D4E3"
             },
             "line": {
              "color": "white"
             }
            },
            "type": "table"
           }
          ]
         },
         "layout": {
          "annotationdefaults": {
           "arrowcolor": "#2a3f5f",
           "arrowhead": 0,
           "arrowwidth": 1
          },
          "autotypenumbers": "strict",
          "coloraxis": {
           "colorbar": {
            "outlinewidth": 0,
            "ticks": ""
           }
          },
          "colorscale": {
           "diverging": [
            [
             0,
             "#8e0152"
            ],
            [
             0.1,
             "#c51b7d"
            ],
            [
             0.2,
             "#de77ae"
            ],
            [
             0.3,
             "#f1b6da"
            ],
            [
             0.4,
             "#fde0ef"
            ],
            [
             0.5,
             "#f7f7f7"
            ],
            [
             0.6,
             "#e6f5d0"
            ],
            [
             0.7,
             "#b8e186"
            ],
            [
             0.8,
             "#7fbc41"
            ],
            [
             0.9,
             "#4d9221"
            ],
            [
             1,
             "#276419"
            ]
           ],
           "sequential": [
            [
             0,
             "#0d0887"
            ],
            [
             0.1111111111111111,
             "#46039f"
            ],
            [
             0.2222222222222222,
             "#7201a8"
            ],
            [
             0.3333333333333333,
             "#9c179e"
            ],
            [
             0.4444444444444444,
             "#bd3786"
            ],
            [
             0.5555555555555556,
             "#d8576b"
            ],
            [
             0.6666666666666666,
             "#ed7953"
            ],
            [
             0.7777777777777778,
             "#fb9f3a"
            ],
            [
             0.8888888888888888,
             "#fdca26"
            ],
            [
             1,
             "#f0f921"
            ]
           ],
           "sequentialminus": [
            [
             0,
             "#0d0887"
            ],
            [
             0.1111111111111111,
             "#46039f"
            ],
            [
             0.2222222222222222,
             "#7201a8"
            ],
            [
             0.3333333333333333,
             "#9c179e"
            ],
            [
             0.4444444444444444,
             "#bd3786"
            ],
            [
             0.5555555555555556,
             "#d8576b"
            ],
            [
             0.6666666666666666,
             "#ed7953"
            ],
            [
             0.7777777777777778,
             "#fb9f3a"
            ],
            [
             0.8888888888888888,
             "#fdca26"
            ],
            [
             1,
             "#f0f921"
            ]
           ]
          },
          "colorway": [
           "#636efa",
           "#EF553B",
           "#00cc96",
           "#ab63fa",
           "#FFA15A",
           "#19d3f3",
           "#FF6692",
           "#B6E880",
           "#FF97FF",
           "#FECB52"
          ],
          "font": {
           "color": "#2a3f5f"
          },
          "geo": {
           "bgcolor": "white",
           "lakecolor": "white",
           "landcolor": "#E5ECF6",
           "showlakes": true,
           "showland": true,
           "subunitcolor": "white"
          },
          "hoverlabel": {
           "align": "left"
          },
          "hovermode": "closest",
          "mapbox": {
           "style": "light"
          },
          "paper_bgcolor": "white",
          "plot_bgcolor": "#E5ECF6",
          "polar": {
           "angularaxis": {
            "gridcolor": "white",
            "linecolor": "white",
            "ticks": ""
           },
           "bgcolor": "#E5ECF6",
           "radialaxis": {
            "gridcolor": "white",
            "linecolor": "white",
            "ticks": ""
           }
          },
          "scene": {
           "xaxis": {
            "backgroundcolor": "#E5ECF6",
            "gridcolor": "white",
            "gridwidth": 2,
            "linecolor": "white",
            "showbackground": true,
            "ticks": "",
            "zerolinecolor": "white"
           },
           "yaxis": {
            "backgroundcolor": "#E5ECF6",
            "gridcolor": "white",
            "gridwidth": 2,
            "linecolor": "white",
            "showbackground": true,
            "ticks": "",
            "zerolinecolor": "white"
           },
           "zaxis": {
            "backgroundcolor": "#E5ECF6",
            "gridcolor": "white",
            "gridwidth": 2,
            "linecolor": "white",
            "showbackground": true,
            "ticks": "",
            "zerolinecolor": "white"
           }
          },
          "shapedefaults": {
           "line": {
            "color": "#2a3f5f"
           }
          },
          "ternary": {
           "aaxis": {
            "gridcolor": "white",
            "linecolor": "white",
            "ticks": ""
           },
           "baxis": {
            "gridcolor": "white",
            "linecolor": "white",
            "ticks": ""
           },
           "bgcolor": "#E5ECF6",
           "caxis": {
            "gridcolor": "white",
            "linecolor": "white",
            "ticks": ""
           }
          },
          "title": {
           "x": 0.05
          },
          "xaxis": {
           "automargin": true,
           "gridcolor": "white",
           "linecolor": "white",
           "ticks": "",
           "title": {
            "standoff": 15
           },
           "zerolinecolor": "white",
           "zerolinewidth": 2
          },
          "yaxis": {
           "automargin": true,
           "gridcolor": "white",
           "linecolor": "white",
           "ticks": "",
           "title": {
            "standoff": 15
           },
           "zerolinecolor": "white",
           "zerolinewidth": 2
          }
         }
        },
        "title": {
         "text": "2019"
        },
        "xaxis": {
         "anchor": "y",
         "domain": [
          0,
          1
         ],
         "title": {
          "text": "Interest_19"
         }
        },
        "yaxis": {
         "anchor": "x",
         "domain": [
          0,
          1
         ],
         "title": {
          "text": "Rate_100k_19_Ophtho"
         }
        }
       }
      }
     },
     "metadata": {},
     "output_type": "display_data"
    },
    {
     "data": {
      "application/vnd.plotly.v1+json": {
       "config": {
        "plotlyServerURL": "https://plot.ly"
       },
       "data": [
        {
         "customdata": [
          [
           "Montana"
          ],
          [
           "Idaho"
          ],
          [
           "Nevada"
          ],
          [
           "Wyoming"
          ],
          [
           "Washington"
          ],
          [
           "Colorado"
          ],
          [
           "Oregon"
          ],
          [
           "California"
          ],
          [
           "Utah"
          ]
         ],
         "hovertemplate": "region=West<br>Interest_20=%{x}<br>Rate_100k_20_Ophtho=%{y}<br>NAME=%{customdata[0]}<extra></extra>",
         "legendgroup": "West",
         "marker": {
          "color": "#636efa",
          "symbol": "circle"
         },
         "mode": "markers",
         "name": "West",
         "orientation": "v",
         "showlegend": true,
         "type": "scatter",
         "x": [
          15.557692307692308,
          16.673076923076923,
          21.46153846153846,
          19.358974358974358,
          45.9076923076923,
          35.184615384615384,
          32.738461538461536,
          50.27692307692308,
          24.47692307692308
         ],
         "xaxis": "x",
         "y": [
          4.87,
          3.81,
          3.21,
          1.38,
          4.87,
          4.97,
          6.92,
          6.13,
          5.68
         ],
         "yaxis": "y"
        },
        {
         "customdata": [
          [
           "Vermont"
          ],
          [
           "Maine"
          ],
          [
           "Delaware"
          ],
          [
           "New Jersey"
          ],
          [
           "Connecticut"
          ],
          [
           "New Hampshire"
          ],
          [
           "Pennsylvania"
          ],
          [
           "Massachusetts"
          ],
          [
           "Rhode Island"
          ],
          [
           "Maryland"
          ],
          [
           "New York"
          ],
          [
           "District of Columbia"
          ]
         ],
         "hovertemplate": "region=Northeast<br>Interest_20=%{x}<br>Rate_100k_20_Ophtho=%{y}<br>NAME=%{customdata[0]}<extra></extra>",
         "legendgroup": "Northeast",
         "marker": {
          "color": "#EF553B",
          "symbol": "circle"
         },
         "mode": "markers",
         "name": "Northeast",
         "orientation": "v",
         "showlegend": true,
         "type": "scatter",
         "x": [
          16.865384615384617,
          25.807692307692307,
          14.057692307692308,
          35.47692307692308,
          30.615384615384613,
          21.89230769230769,
          47.523076923076914,
          42.646153846153844,
          17.353846153846153,
          35.661538461538456,
          54.69230769230769,
          34.90384615384615
         ],
         "xaxis": "x",
         "y": [
          6.25,
          5.06,
          4.21,
          6.59,
          7.94,
          4.78,
          6.84,
          8.52,
          6.42,
          9.35,
          8.67,
          13.32
         ],
         "yaxis": "y"
        },
        {
         "customdata": [
          [
           "South Dakota"
          ],
          [
           "North Dakota"
          ],
          [
           "Indiana"
          ],
          [
           "Nebraska"
          ],
          [
           "Wisconsin"
          ],
          [
           "Kansas"
          ],
          [
           "Minnesota"
          ],
          [
           "Illinois"
          ],
          [
           "Iowa"
          ],
          [
           "Ohio"
          ],
          [
           "Michigan"
          ],
          [
           "Missouri"
          ]
         ],
         "hovertemplate": "region=Midwest<br>Interest_20=%{x}<br>Rate_100k_20_Ophtho=%{y}<br>NAME=%{customdata[0]}<extra></extra>",
         "legendgroup": "Midwest",
         "marker": {
          "color": "#00cc96",
          "symbol": "circle"
         },
         "mode": "markers",
         "name": "Midwest",
         "orientation": "v",
         "showlegend": true,
         "type": "scatter",
         "x": [
          15.538461538461538,
          12.051282051282051,
          29.492307692307698,
          19.70769230769231,
          36.56923076923077,
          27.138461538461534,
          44.15384615384615,
          44.15384615384615,
          21.784615384615385,
          38.47692307692308,
          38.184615384615384,
          29.33846153846154
         ],
         "xaxis": "x",
         "y": [
          4.18,
          3.94,
          3.88,
          5.01,
          5.48,
          4.77,
          5.37,
          5.92,
          5.26,
          5.46,
          6.01,
          5.39
         ],
         "yaxis": "y"
        },
        {
         "customdata": [
          [
           "New Mexico"
          ],
          [
           "Arizona"
          ],
          [
           "Oklahoma"
          ],
          [
           "Texas"
          ]
         ],
         "hovertemplate": "region=Southwest<br>Interest_20=%{x}<br>Rate_100k_20_Ophtho=%{y}<br>NAME=%{customdata[0]}<extra></extra>",
         "legendgroup": "Southwest",
         "marker": {
          "color": "#ab63fa",
          "symbol": "circle"
         },
         "mode": "markers",
         "name": "Southwest",
         "orientation": "v",
         "showlegend": true,
         "type": "scatter",
         "x": [
          10.692307692307693,
          36.41538461538461,
          24.36923076923077,
          48.261538461538464
         ],
         "xaxis": "x",
         "y": [
          3.39,
          4.23,
          3.92,
          4.42
         ],
         "yaxis": "y"
        },
        {
         "customdata": [
          [
           "Georgia"
          ],
          [
           "Alabama"
          ],
          [
           "Florida"
          ],
          [
           "Virginia"
          ],
          [
           "Arkansas"
          ],
          [
           "North Carolina"
          ],
          [
           "South Carolina"
          ],
          [
           "Mississippi"
          ],
          [
           "Tennessee"
          ],
          [
           "Kentucky"
          ],
          [
           "West Virginia"
          ],
          [
           "Louisiana"
          ]
         ],
         "hovertemplate": "region=Southeast<br>Interest_20=%{x}<br>Rate_100k_20_Ophtho=%{y}<br>NAME=%{customdata[0]}<extra></extra>",
         "legendgroup": "Southeast",
         "marker": {
          "color": "#FFA15A",
          "symbol": "circle"
         },
         "mode": "markers",
         "name": "Southeast",
         "orientation": "v",
         "showlegend": true,
         "type": "scatter",
         "x": [
          38.01538461538461,
          26.938461538461535,
          50.89230769230769,
          43.261538461538464,
          16.06153846153846,
          34.246153846153845,
          22.323076923076922,
          20.784615384615385,
          32.12307692307693,
          28.076923076923077,
          13.56923076923077,
          26.092307692307692
         ],
         "xaxis": "x",
         "y": [
          4.38,
          4.63,
          6.06,
          5.47,
          3.91,
          5.22,
          4.95,
          4.33,
          5.33,
          4.63,
          5.8,
          7.31
         ],
         "yaxis": "y"
        },
        {
         "hovertemplate": "<b>OLS trendline</b><br>Rate_100k_20_Ophtho = 0.0655624 * Interest_20 + 3.51438<br>R<sup>2</sup>=0.170493<br><br>Interest_20=%{x}<br>Rate_100k_20_Ophtho=%{y} <b>(trend)</b><extra></extra>",
         "legendgroup": "Overall Trendline",
         "line": {
          "color": "#19d3f3"
         },
         "mode": "lines",
         "name": "Overall Trendline",
         "showlegend": true,
         "type": "scatter",
         "x": [
          10.692307692307693,
          12.051282051282051,
          13.56923076923077,
          14.057692307692308,
          15.538461538461538,
          15.557692307692308,
          16.06153846153846,
          16.673076923076923,
          16.865384615384617,
          17.353846153846153,
          19.358974358974358,
          19.70769230769231,
          20.784615384615385,
          21.46153846153846,
          21.784615384615385,
          21.89230769230769,
          22.323076923076922,
          24.36923076923077,
          24.47692307692308,
          25.807692307692307,
          26.092307692307692,
          26.938461538461535,
          27.138461538461534,
          28.076923076923077,
          29.33846153846154,
          29.492307692307698,
          30.615384615384613,
          32.12307692307693,
          32.738461538461536,
          34.246153846153845,
          34.90384615384615,
          35.184615384615384,
          35.47692307692308,
          35.661538461538456,
          36.41538461538461,
          36.56923076923077,
          38.01538461538461,
          38.184615384615384,
          38.47692307692308,
          42.646153846153844,
          43.261538461538464,
          44.15384615384615,
          44.15384615384615,
          45.9076923076923,
          47.523076923076914,
          48.261538461538464,
          50.27692307692308,
          50.89230769230769,
          54.69230769230769
         ],
         "xaxis": "x",
         "y": [
          4.215391871051422,
          4.304489520407952,
          4.404009913651471,
          4.436034634788111,
          4.533117450832254,
          4.534378266625035,
          4.567411640395899,
          4.607505582606338,
          4.620113740534149,
          4.652138461670788,
          4.783599521664762,
          4.806462314707192,
          4.877067999102932,
          4.921448715008826,
          4.942630420327548,
          4.949690988767122,
          4.9779332625254185,
          5.112084062877325,
          5.1191446313169,
          5.20639308417735,
          5.2250531579105095,
          5.280529052792877,
          5.2936415370378,
          5.355169347725517,
          5.437878863731956,
          5.447965390074205,
          5.521597032372619,
          5.620444990526656,
          5.66079109589565,
          5.759639054049687,
          5.802758954162799,
          5.821166864737403,
          5.840331264787676,
          5.852435096398374,
          5.901859075475393,
          5.911945601817641,
          6.006758949434778,
          6.017854128411252,
          6.037018528461525,
          6.310363392336463,
          6.3507094977054575,
          6.409211350490499,
          6.409211350490499,
          6.5241977507921325,
          6.630106277385743,
          6.678521603828537,
          6.810655098911995,
          6.851001204280989,
          7.10013840493453
         ],
         "yaxis": "y"
        }
       ],
       "layout": {
        "legend": {
         "title": {
          "text": "region"
         },
         "tracegroupgap": 0
        },
        "template": {
         "data": {
          "bar": [
           {
            "error_x": {
             "color": "#2a3f5f"
            },
            "error_y": {
             "color": "#2a3f5f"
            },
            "marker": {
             "line": {
              "color": "#E5ECF6",
              "width": 0.5
             },
             "pattern": {
              "fillmode": "overlay",
              "size": 10,
              "solidity": 0.2
             }
            },
            "type": "bar"
           }
          ],
          "barpolar": [
           {
            "marker": {
             "line": {
              "color": "#E5ECF6",
              "width": 0.5
             },
             "pattern": {
              "fillmode": "overlay",
              "size": 10,
              "solidity": 0.2
             }
            },
            "type": "barpolar"
           }
          ],
          "carpet": [
           {
            "aaxis": {
             "endlinecolor": "#2a3f5f",
             "gridcolor": "white",
             "linecolor": "white",
             "minorgridcolor": "white",
             "startlinecolor": "#2a3f5f"
            },
            "baxis": {
             "endlinecolor": "#2a3f5f",
             "gridcolor": "white",
             "linecolor": "white",
             "minorgridcolor": "white",
             "startlinecolor": "#2a3f5f"
            },
            "type": "carpet"
           }
          ],
          "choropleth": [
           {
            "colorbar": {
             "outlinewidth": 0,
             "ticks": ""
            },
            "type": "choropleth"
           }
          ],
          "contour": [
           {
            "colorbar": {
             "outlinewidth": 0,
             "ticks": ""
            },
            "colorscale": [
             [
              0,
              "#0d0887"
             ],
             [
              0.1111111111111111,
              "#46039f"
             ],
             [
              0.2222222222222222,
              "#7201a8"
             ],
             [
              0.3333333333333333,
              "#9c179e"
             ],
             [
              0.4444444444444444,
              "#bd3786"
             ],
             [
              0.5555555555555556,
              "#d8576b"
             ],
             [
              0.6666666666666666,
              "#ed7953"
             ],
             [
              0.7777777777777778,
              "#fb9f3a"
             ],
             [
              0.8888888888888888,
              "#fdca26"
             ],
             [
              1,
              "#f0f921"
             ]
            ],
            "type": "contour"
           }
          ],
          "contourcarpet": [
           {
            "colorbar": {
             "outlinewidth": 0,
             "ticks": ""
            },
            "type": "contourcarpet"
           }
          ],
          "heatmap": [
           {
            "colorbar": {
             "outlinewidth": 0,
             "ticks": ""
            },
            "colorscale": [
             [
              0,
              "#0d0887"
             ],
             [
              0.1111111111111111,
              "#46039f"
             ],
             [
              0.2222222222222222,
              "#7201a8"
             ],
             [
              0.3333333333333333,
              "#9c179e"
             ],
             [
              0.4444444444444444,
              "#bd3786"
             ],
             [
              0.5555555555555556,
              "#d8576b"
             ],
             [
              0.6666666666666666,
              "#ed7953"
             ],
             [
              0.7777777777777778,
              "#fb9f3a"
             ],
             [
              0.8888888888888888,
              "#fdca26"
             ],
             [
              1,
              "#f0f921"
             ]
            ],
            "type": "heatmap"
           }
          ],
          "heatmapgl": [
           {
            "colorbar": {
             "outlinewidth": 0,
             "ticks": ""
            },
            "colorscale": [
             [
              0,
              "#0d0887"
             ],
             [
              0.1111111111111111,
              "#46039f"
             ],
             [
              0.2222222222222222,
              "#7201a8"
             ],
             [
              0.3333333333333333,
              "#9c179e"
             ],
             [
              0.4444444444444444,
              "#bd3786"
             ],
             [
              0.5555555555555556,
              "#d8576b"
             ],
             [
              0.6666666666666666,
              "#ed7953"
             ],
             [
              0.7777777777777778,
              "#fb9f3a"
             ],
             [
              0.8888888888888888,
              "#fdca26"
             ],
             [
              1,
              "#f0f921"
             ]
            ],
            "type": "heatmapgl"
           }
          ],
          "histogram": [
           {
            "marker": {
             "pattern": {
              "fillmode": "overlay",
              "size": 10,
              "solidity": 0.2
             }
            },
            "type": "histogram"
           }
          ],
          "histogram2d": [
           {
            "colorbar": {
             "outlinewidth": 0,
             "ticks": ""
            },
            "colorscale": [
             [
              0,
              "#0d0887"
             ],
             [
              0.1111111111111111,
              "#46039f"
             ],
             [
              0.2222222222222222,
              "#7201a8"
             ],
             [
              0.3333333333333333,
              "#9c179e"
             ],
             [
              0.4444444444444444,
              "#bd3786"
             ],
             [
              0.5555555555555556,
              "#d8576b"
             ],
             [
              0.6666666666666666,
              "#ed7953"
             ],
             [
              0.7777777777777778,
              "#fb9f3a"
             ],
             [
              0.8888888888888888,
              "#fdca26"
             ],
             [
              1,
              "#f0f921"
             ]
            ],
            "type": "histogram2d"
           }
          ],
          "histogram2dcontour": [
           {
            "colorbar": {
             "outlinewidth": 0,
             "ticks": ""
            },
            "colorscale": [
             [
              0,
              "#0d0887"
             ],
             [
              0.1111111111111111,
              "#46039f"
             ],
             [
              0.2222222222222222,
              "#7201a8"
             ],
             [
              0.3333333333333333,
              "#9c179e"
             ],
             [
              0.4444444444444444,
              "#bd3786"
             ],
             [
              0.5555555555555556,
              "#d8576b"
             ],
             [
              0.6666666666666666,
              "#ed7953"
             ],
             [
              0.7777777777777778,
              "#fb9f3a"
             ],
             [
              0.8888888888888888,
              "#fdca26"
             ],
             [
              1,
              "#f0f921"
             ]
            ],
            "type": "histogram2dcontour"
           }
          ],
          "mesh3d": [
           {
            "colorbar": {
             "outlinewidth": 0,
             "ticks": ""
            },
            "type": "mesh3d"
           }
          ],
          "parcoords": [
           {
            "line": {
             "colorbar": {
              "outlinewidth": 0,
              "ticks": ""
             }
            },
            "type": "parcoords"
           }
          ],
          "pie": [
           {
            "automargin": true,
            "type": "pie"
           }
          ],
          "scatter": [
           {
            "fillpattern": {
             "fillmode": "overlay",
             "size": 10,
             "solidity": 0.2
            },
            "type": "scatter"
           }
          ],
          "scatter3d": [
           {
            "line": {
             "colorbar": {
              "outlinewidth": 0,
              "ticks": ""
             }
            },
            "marker": {
             "colorbar": {
              "outlinewidth": 0,
              "ticks": ""
             }
            },
            "type": "scatter3d"
           }
          ],
          "scattercarpet": [
           {
            "marker": {
             "colorbar": {
              "outlinewidth": 0,
              "ticks": ""
             }
            },
            "type": "scattercarpet"
           }
          ],
          "scattergeo": [
           {
            "marker": {
             "colorbar": {
              "outlinewidth": 0,
              "ticks": ""
             }
            },
            "type": "scattergeo"
           }
          ],
          "scattergl": [
           {
            "marker": {
             "colorbar": {
              "outlinewidth": 0,
              "ticks": ""
             }
            },
            "type": "scattergl"
           }
          ],
          "scattermapbox": [
           {
            "marker": {
             "colorbar": {
              "outlinewidth": 0,
              "ticks": ""
             }
            },
            "type": "scattermapbox"
           }
          ],
          "scatterpolar": [
           {
            "marker": {
             "colorbar": {
              "outlinewidth": 0,
              "ticks": ""
             }
            },
            "type": "scatterpolar"
           }
          ],
          "scatterpolargl": [
           {
            "marker": {
             "colorbar": {
              "outlinewidth": 0,
              "ticks": ""
             }
            },
            "type": "scatterpolargl"
           }
          ],
          "scatterternary": [
           {
            "marker": {
             "colorbar": {
              "outlinewidth": 0,
              "ticks": ""
             }
            },
            "type": "scatterternary"
           }
          ],
          "surface": [
           {
            "colorbar": {
             "outlinewidth": 0,
             "ticks": ""
            },
            "colorscale": [
             [
              0,
              "#0d0887"
             ],
             [
              0.1111111111111111,
              "#46039f"
             ],
             [
              0.2222222222222222,
              "#7201a8"
             ],
             [
              0.3333333333333333,
              "#9c179e"
             ],
             [
              0.4444444444444444,
              "#bd3786"
             ],
             [
              0.5555555555555556,
              "#d8576b"
             ],
             [
              0.6666666666666666,
              "#ed7953"
             ],
             [
              0.7777777777777778,
              "#fb9f3a"
             ],
             [
              0.8888888888888888,
              "#fdca26"
             ],
             [
              1,
              "#f0f921"
             ]
            ],
            "type": "surface"
           }
          ],
          "table": [
           {
            "cells": {
             "fill": {
              "color": "#EBF0F8"
             },
             "line": {
              "color": "white"
             }
            },
            "header": {
             "fill": {
              "color": "#C8D4E3"
             },
             "line": {
              "color": "white"
             }
            },
            "type": "table"
           }
          ]
         },
         "layout": {
          "annotationdefaults": {
           "arrowcolor": "#2a3f5f",
           "arrowhead": 0,
           "arrowwidth": 1
          },
          "autotypenumbers": "strict",
          "coloraxis": {
           "colorbar": {
            "outlinewidth": 0,
            "ticks": ""
           }
          },
          "colorscale": {
           "diverging": [
            [
             0,
             "#8e0152"
            ],
            [
             0.1,
             "#c51b7d"
            ],
            [
             0.2,
             "#de77ae"
            ],
            [
             0.3,
             "#f1b6da"
            ],
            [
             0.4,
             "#fde0ef"
            ],
            [
             0.5,
             "#f7f7f7"
            ],
            [
             0.6,
             "#e6f5d0"
            ],
            [
             0.7,
             "#b8e186"
            ],
            [
             0.8,
             "#7fbc41"
            ],
            [
             0.9,
             "#4d9221"
            ],
            [
             1,
             "#276419"
            ]
           ],
           "sequential": [
            [
             0,
             "#0d0887"
            ],
            [
             0.1111111111111111,
             "#46039f"
            ],
            [
             0.2222222222222222,
             "#7201a8"
            ],
            [
             0.3333333333333333,
             "#9c179e"
            ],
            [
             0.4444444444444444,
             "#bd3786"
            ],
            [
             0.5555555555555556,
             "#d8576b"
            ],
            [
             0.6666666666666666,
             "#ed7953"
            ],
            [
             0.7777777777777778,
             "#fb9f3a"
            ],
            [
             0.8888888888888888,
             "#fdca26"
            ],
            [
             1,
             "#f0f921"
            ]
           ],
           "sequentialminus": [
            [
             0,
             "#0d0887"
            ],
            [
             0.1111111111111111,
             "#46039f"
            ],
            [
             0.2222222222222222,
             "#7201a8"
            ],
            [
             0.3333333333333333,
             "#9c179e"
            ],
            [
             0.4444444444444444,
             "#bd3786"
            ],
            [
             0.5555555555555556,
             "#d8576b"
            ],
            [
             0.6666666666666666,
             "#ed7953"
            ],
            [
             0.7777777777777778,
             "#fb9f3a"
            ],
            [
             0.8888888888888888,
             "#fdca26"
            ],
            [
             1,
             "#f0f921"
            ]
           ]
          },
          "colorway": [
           "#636efa",
           "#EF553B",
           "#00cc96",
           "#ab63fa",
           "#FFA15A",
           "#19d3f3",
           "#FF6692",
           "#B6E880",
           "#FF97FF",
           "#FECB52"
          ],
          "font": {
           "color": "#2a3f5f"
          },
          "geo": {
           "bgcolor": "white",
           "lakecolor": "white",
           "landcolor": "#E5ECF6",
           "showlakes": true,
           "showland": true,
           "subunitcolor": "white"
          },
          "hoverlabel": {
           "align": "left"
          },
          "hovermode": "closest",
          "mapbox": {
           "style": "light"
          },
          "paper_bgcolor": "white",
          "plot_bgcolor": "#E5ECF6",
          "polar": {
           "angularaxis": {
            "gridcolor": "white",
            "linecolor": "white",
            "ticks": ""
           },
           "bgcolor": "#E5ECF6",
           "radialaxis": {
            "gridcolor": "white",
            "linecolor": "white",
            "ticks": ""
           }
          },
          "scene": {
           "xaxis": {
            "backgroundcolor": "#E5ECF6",
            "gridcolor": "white",
            "gridwidth": 2,
            "linecolor": "white",
            "showbackground": true,
            "ticks": "",
            "zerolinecolor": "white"
           },
           "yaxis": {
            "backgroundcolor": "#E5ECF6",
            "gridcolor": "white",
            "gridwidth": 2,
            "linecolor": "white",
            "showbackground": true,
            "ticks": "",
            "zerolinecolor": "white"
           },
           "zaxis": {
            "backgroundcolor": "#E5ECF6",
            "gridcolor": "white",
            "gridwidth": 2,
            "linecolor": "white",
            "showbackground": true,
            "ticks": "",
            "zerolinecolor": "white"
           }
          },
          "shapedefaults": {
           "line": {
            "color": "#2a3f5f"
           }
          },
          "ternary": {
           "aaxis": {
            "gridcolor": "white",
            "linecolor": "white",
            "ticks": ""
           },
           "baxis": {
            "gridcolor": "white",
            "linecolor": "white",
            "ticks": ""
           },
           "bgcolor": "#E5ECF6",
           "caxis": {
            "gridcolor": "white",
            "linecolor": "white",
            "ticks": ""
           }
          },
          "title": {
           "x": 0.05
          },
          "xaxis": {
           "automargin": true,
           "gridcolor": "white",
           "linecolor": "white",
           "ticks": "",
           "title": {
            "standoff": 15
           },
           "zerolinecolor": "white",
           "zerolinewidth": 2
          },
          "yaxis": {
           "automargin": true,
           "gridcolor": "white",
           "linecolor": "white",
           "ticks": "",
           "title": {
            "standoff": 15
           },
           "zerolinecolor": "white",
           "zerolinewidth": 2
          }
         }
        },
        "title": {
         "text": "2020"
        },
        "xaxis": {
         "anchor": "y",
         "domain": [
          0,
          1
         ],
         "title": {
          "text": "Interest_20"
         }
        },
        "yaxis": {
         "anchor": "x",
         "domain": [
          0,
          1
         ],
         "title": {
          "text": "Rate_100k_20_Ophtho"
         }
        }
       }
      }
     },
     "metadata": {},
     "output_type": "display_data"
    },
    {
     "data": {
      "application/vnd.plotly.v1+json": {
       "config": {
        "plotlyServerURL": "https://plot.ly"
       },
       "data": [
        {
         "customdata": [
          [
           "Montana"
          ],
          [
           "Idaho"
          ],
          [
           "Nevada"
          ],
          [
           "Wyoming"
          ],
          [
           "Washington"
          ],
          [
           "Colorado"
          ],
          [
           "Oregon"
          ],
          [
           "California"
          ],
          [
           "Utah"
          ]
         ],
         "hovertemplate": "region=West<br>Interest_21=%{x}<br>Rate_100k_21_Ophtho=%{y}<br>NAME=%{customdata[0]}<extra></extra>",
         "legendgroup": "West",
         "marker": {
          "color": "#636efa",
          "symbol": "circle"
         },
         "mode": "markers",
         "name": "West",
         "orientation": "v",
         "showlegend": true,
         "type": "scatter",
         "x": [
          17.57692307692308,
          18.94230769230769,
          21.769230769230766,
          18.128205128205128,
          48.8,
          39.04615384615384,
          35.29230769230769,
          57.30769230769231,
          24.123076923076923
         ],
         "xaxis": "x",
         "y": [
          5.09,
          3.72,
          3.35,
          1.37,
          5.03,
          5.2,
          6.81,
          6.23,
          5.85
         ],
         "yaxis": "y"
        },
        {
         "customdata": [
          [
           "Vermont"
          ],
          [
           "Maine"
          ],
          [
           "Delaware"
          ],
          [
           "New Jersey"
          ],
          [
           "Connecticut"
          ],
          [
           "New Hampshire"
          ],
          [
           "Pennsylvania"
          ],
          [
           "Massachusetts"
          ],
          [
           "Rhode Island"
          ],
          [
           "Maryland"
          ],
          [
           "New York"
          ],
          [
           "District of Columbia"
          ]
         ],
         "hovertemplate": "region=Northeast<br>Interest_21=%{x}<br>Rate_100k_21_Ophtho=%{y}<br>NAME=%{customdata[0]}<extra></extra>",
         "legendgroup": "Northeast",
         "marker": {
          "color": "#EF553B",
          "symbol": "circle"
         },
         "mode": "markers",
         "name": "Northeast",
         "orientation": "v",
         "showlegend": true,
         "type": "scatter",
         "x": [
          21.615384615384617,
          25.75,
          15.365384615384615,
          42.6,
          34.184615384615384,
          21.66153846153846,
          52.15384615384617,
          49.33846153846154,
          24.292307692307695,
          37.70769230769231,
          58.13846153846155,
          39.24999999999999
         ],
         "xaxis": "x",
         "y": [
          6.1,
          5.11,
          3.75,
          6.53,
          7.82,
          4.83,
          6.84,
          8.81,
          7.28,
          9.18,
          8.62,
          13.61
         ],
         "yaxis": "y"
        },
        {
         "customdata": [
          [
           "South Dakota"
          ],
          [
           "North Dakota"
          ],
          [
           "Indiana"
          ],
          [
           "Nebraska"
          ],
          [
           "Wisconsin"
          ],
          [
           "Kansas"
          ],
          [
           "Minnesota"
          ],
          [
           "Illinois"
          ],
          [
           "Iowa"
          ],
          [
           "Ohio"
          ],
          [
           "Michigan"
          ],
          [
           "Missouri"
          ]
         ],
         "hovertemplate": "region=Midwest<br>Interest_21=%{x}<br>Rate_100k_21_Ophtho=%{y}<br>NAME=%{customdata[0]}<extra></extra>",
         "legendgroup": "Midwest",
         "marker": {
          "color": "#00cc96",
          "symbol": "circle"
         },
         "mode": "markers",
         "name": "Midwest",
         "orientation": "v",
         "showlegend": true,
         "type": "scatter",
         "x": [
          18.115384615384617,
          11.589743589743591,
          32.58461538461539,
          20.923076923076923,
          41.50769230769231,
          31.384615384615387,
          52.230769230769226,
          50.800000000000004,
          24.246153846153845,
          45.96923076923076,
          42.49230769230768,
          33.49230769230769
         ],
         "xaxis": "x",
         "y": [
          4.37,
          4.05,
          3.8,
          5.21,
          5.45,
          5.35,
          5.52,
          5.97,
          5.12,
          5.49,
          6.05,
          5.46
         ],
         "yaxis": "y"
        },
        {
         "customdata": [
          [
           "New Mexico"
          ],
          [
           "Arizona"
          ],
          [
           "Oklahoma"
          ],
          [
           "Texas"
          ]
         ],
         "hovertemplate": "region=Southwest<br>Interest_21=%{x}<br>Rate_100k_21_Ophtho=%{y}<br>NAME=%{customdata[0]}<extra></extra>",
         "legendgroup": "Southwest",
         "marker": {
          "color": "#ab63fa",
          "symbol": "circle"
         },
         "mode": "markers",
         "name": "Southwest",
         "orientation": "v",
         "showlegend": true,
         "type": "scatter",
         "x": [
          12.646153846153847,
          41.30769230769231,
          27.353846153846156,
          53.061538461538454
         ],
         "xaxis": "x",
         "y": [
          3.18,
          4.28,
          3.87,
          4.41
         ],
         "yaxis": "y"
        },
        {
         "customdata": [
          [
           "Georgia"
          ],
          [
           "Alabama"
          ],
          [
           "Florida"
          ],
          [
           "Virginia"
          ],
          [
           "Arkansas"
          ],
          [
           "North Carolina"
          ],
          [
           "South Carolina"
          ],
          [
           "Mississippi"
          ],
          [
           "Tennessee"
          ],
          [
           "Kentucky"
          ],
          [
           "West Virginia"
          ],
          [
           "Louisiana"
          ]
         ],
         "hovertemplate": "region=Southeast<br>Interest_21=%{x}<br>Rate_100k_21_Ophtho=%{y}<br>NAME=%{customdata[0]}<extra></extra>",
         "legendgroup": "Southeast",
         "marker": {
          "color": "#FFA15A",
          "symbol": "circle"
         },
         "mode": "markers",
         "name": "Southeast",
         "orientation": "v",
         "showlegend": true,
         "type": "scatter",
         "x": [
          40.90769230769231,
          27.492307692307698,
          55.12307692307693,
          50.53846153846153,
          19.169230769230772,
          38.06153846153846,
          24.63076923076923,
          20.800000000000004,
          34.66153846153846,
          34.50769230769231,
          14.661538461538461,
          30.430769230769233
         ],
         "xaxis": "x",
         "y": [
          4.38,
          4.69,
          6.11,
          5.47,
          4.26,
          5.13,
          4.94,
          4.55,
          5.27,
          4.69,
          5.83,
          7.25
         ],
         "yaxis": "y"
        },
        {
         "hovertemplate": "<b>OLS trendline</b><br>Rate_100k_21_Ophtho = 0.0602034 * Interest_21 + 3.52905<br>R<sup>2</sup>=0.178576<br><br>Interest_21=%{x}<br>Rate_100k_21_Ophtho=%{y} <b>(trend)</b><extra></extra>",
         "legendgroup": "Overall Trendline",
         "line": {
          "color": "#19d3f3"
         },
         "mode": "lines",
         "name": "Overall Trendline",
         "showlegend": true,
         "type": "scatter",
         "x": [
          11.589743589743591,
          12.646153846153847,
          14.661538461538461,
          15.365384615384615,
          17.57692307692308,
          18.115384615384617,
          18.128205128205128,
          18.94230769230769,
          19.169230769230772,
          20.800000000000004,
          20.923076923076923,
          21.615384615384617,
          21.66153846153846,
          21.769230769230766,
          24.123076923076923,
          24.246153846153845,
          24.292307692307695,
          24.63076923076923,
          25.75,
          27.353846153846156,
          27.492307692307698,
          30.430769230769233,
          31.384615384615387,
          32.58461538461539,
          33.49230769230769,
          34.184615384615384,
          34.50769230769231,
          34.66153846153846,
          35.29230769230769,
          37.70769230769231,
          38.06153846153846,
          39.04615384615384,
          39.24999999999999,
          40.90769230769231,
          41.30769230769231,
          41.50769230769231,
          42.49230769230768,
          42.6,
          45.96923076923076,
          48.8,
          49.33846153846154,
          50.53846153846153,
          50.800000000000004,
          52.15384615384617,
          52.230769230769226,
          53.061538461538454,
          55.12307692307693,
          57.30769230769231,
          58.13846153846155
         ],
         "xaxis": "x",
         "y": [
          4.226796477182194,
          4.290395993917936,
          4.4117290525448585,
          4.454103002408841,
          4.5872451946044155,
          4.619662424008554,
          4.620434262803891,
          4.669446026307769,
          4.683107572985229,
          4.781285467752052,
          4.788695120187283,
          4.830374415135463,
          4.833153034798675,
          4.839636480679503,
          4.981346083503314,
          4.988755735938546,
          4.9915343556017575,
          5.011910899798646,
          5.079292426631536,
          5.175849459928152,
          5.184185318917788,
          5.361090770808951,
          5.418515577181998,
          5.49075968842551,
          5.545405875135345,
          5.587085170083525,
          5.606535507726009,
          5.615797573270049,
          5.653772042000613,
          5.79918647104204,
          5.820489221793331,
          5.879766441275186,
          5.89203867812104,
          5.99183743435807,
          6.015918804772573,
          6.027959489979826,
          6.08723670946168,
          6.093720155342509,
          6.296559390756983,
          6.466981396767318,
          6.499398626171457,
          6.571642737414969,
          6.587388248839837,
          6.668894425627389,
          6.673525458399408,
          6.723540612337223,
          6.847652290627359,
          6.979173621352726,
          7.029188775290542
         ],
         "yaxis": "y"
        }
       ],
       "layout": {
        "legend": {
         "title": {
          "text": "region"
         },
         "tracegroupgap": 0
        },
        "template": {
         "data": {
          "bar": [
           {
            "error_x": {
             "color": "#2a3f5f"
            },
            "error_y": {
             "color": "#2a3f5f"
            },
            "marker": {
             "line": {
              "color": "#E5ECF6",
              "width": 0.5
             },
             "pattern": {
              "fillmode": "overlay",
              "size": 10,
              "solidity": 0.2
             }
            },
            "type": "bar"
           }
          ],
          "barpolar": [
           {
            "marker": {
             "line": {
              "color": "#E5ECF6",
              "width": 0.5
             },
             "pattern": {
              "fillmode": "overlay",
              "size": 10,
              "solidity": 0.2
             }
            },
            "type": "barpolar"
           }
          ],
          "carpet": [
           {
            "aaxis": {
             "endlinecolor": "#2a3f5f",
             "gridcolor": "white",
             "linecolor": "white",
             "minorgridcolor": "white",
             "startlinecolor": "#2a3f5f"
            },
            "baxis": {
             "endlinecolor": "#2a3f5f",
             "gridcolor": "white",
             "linecolor": "white",
             "minorgridcolor": "white",
             "startlinecolor": "#2a3f5f"
            },
            "type": "carpet"
           }
          ],
          "choropleth": [
           {
            "colorbar": {
             "outlinewidth": 0,
             "ticks": ""
            },
            "type": "choropleth"
           }
          ],
          "contour": [
           {
            "colorbar": {
             "outlinewidth": 0,
             "ticks": ""
            },
            "colorscale": [
             [
              0,
              "#0d0887"
             ],
             [
              0.1111111111111111,
              "#46039f"
             ],
             [
              0.2222222222222222,
              "#7201a8"
             ],
             [
              0.3333333333333333,
              "#9c179e"
             ],
             [
              0.4444444444444444,
              "#bd3786"
             ],
             [
              0.5555555555555556,
              "#d8576b"
             ],
             [
              0.6666666666666666,
              "#ed7953"
             ],
             [
              0.7777777777777778,
              "#fb9f3a"
             ],
             [
              0.8888888888888888,
              "#fdca26"
             ],
             [
              1,
              "#f0f921"
             ]
            ],
            "type": "contour"
           }
          ],
          "contourcarpet": [
           {
            "colorbar": {
             "outlinewidth": 0,
             "ticks": ""
            },
            "type": "contourcarpet"
           }
          ],
          "heatmap": [
           {
            "colorbar": {
             "outlinewidth": 0,
             "ticks": ""
            },
            "colorscale": [
             [
              0,
              "#0d0887"
             ],
             [
              0.1111111111111111,
              "#46039f"
             ],
             [
              0.2222222222222222,
              "#7201a8"
             ],
             [
              0.3333333333333333,
              "#9c179e"
             ],
             [
              0.4444444444444444,
              "#bd3786"
             ],
             [
              0.5555555555555556,
              "#d8576b"
             ],
             [
              0.6666666666666666,
              "#ed7953"
             ],
             [
              0.7777777777777778,
              "#fb9f3a"
             ],
             [
              0.8888888888888888,
              "#fdca26"
             ],
             [
              1,
              "#f0f921"
             ]
            ],
            "type": "heatmap"
           }
          ],
          "heatmapgl": [
           {
            "colorbar": {
             "outlinewidth": 0,
             "ticks": ""
            },
            "colorscale": [
             [
              0,
              "#0d0887"
             ],
             [
              0.1111111111111111,
              "#46039f"
             ],
             [
              0.2222222222222222,
              "#7201a8"
             ],
             [
              0.3333333333333333,
              "#9c179e"
             ],
             [
              0.4444444444444444,
              "#bd3786"
             ],
             [
              0.5555555555555556,
              "#d8576b"
             ],
             [
              0.6666666666666666,
              "#ed7953"
             ],
             [
              0.7777777777777778,
              "#fb9f3a"
             ],
             [
              0.8888888888888888,
              "#fdca26"
             ],
             [
              1,
              "#f0f921"
             ]
            ],
            "type": "heatmapgl"
           }
          ],
          "histogram": [
           {
            "marker": {
             "pattern": {
              "fillmode": "overlay",
              "size": 10,
              "solidity": 0.2
             }
            },
            "type": "histogram"
           }
          ],
          "histogram2d": [
           {
            "colorbar": {
             "outlinewidth": 0,
             "ticks": ""
            },
            "colorscale": [
             [
              0,
              "#0d0887"
             ],
             [
              0.1111111111111111,
              "#46039f"
             ],
             [
              0.2222222222222222,
              "#7201a8"
             ],
             [
              0.3333333333333333,
              "#9c179e"
             ],
             [
              0.4444444444444444,
              "#bd3786"
             ],
             [
              0.5555555555555556,
              "#d8576b"
             ],
             [
              0.6666666666666666,
              "#ed7953"
             ],
             [
              0.7777777777777778,
              "#fb9f3a"
             ],
             [
              0.8888888888888888,
              "#fdca26"
             ],
             [
              1,
              "#f0f921"
             ]
            ],
            "type": "histogram2d"
           }
          ],
          "histogram2dcontour": [
           {
            "colorbar": {
             "outlinewidth": 0,
             "ticks": ""
            },
            "colorscale": [
             [
              0,
              "#0d0887"
             ],
             [
              0.1111111111111111,
              "#46039f"
             ],
             [
              0.2222222222222222,
              "#7201a8"
             ],
             [
              0.3333333333333333,
              "#9c179e"
             ],
             [
              0.4444444444444444,
              "#bd3786"
             ],
             [
              0.5555555555555556,
              "#d8576b"
             ],
             [
              0.6666666666666666,
              "#ed7953"
             ],
             [
              0.7777777777777778,
              "#fb9f3a"
             ],
             [
              0.8888888888888888,
              "#fdca26"
             ],
             [
              1,
              "#f0f921"
             ]
            ],
            "type": "histogram2dcontour"
           }
          ],
          "mesh3d": [
           {
            "colorbar": {
             "outlinewidth": 0,
             "ticks": ""
            },
            "type": "mesh3d"
           }
          ],
          "parcoords": [
           {
            "line": {
             "colorbar": {
              "outlinewidth": 0,
              "ticks": ""
             }
            },
            "type": "parcoords"
           }
          ],
          "pie": [
           {
            "automargin": true,
            "type": "pie"
           }
          ],
          "scatter": [
           {
            "fillpattern": {
             "fillmode": "overlay",
             "size": 10,
             "solidity": 0.2
            },
            "type": "scatter"
           }
          ],
          "scatter3d": [
           {
            "line": {
             "colorbar": {
              "outlinewidth": 0,
              "ticks": ""
             }
            },
            "marker": {
             "colorbar": {
              "outlinewidth": 0,
              "ticks": ""
             }
            },
            "type": "scatter3d"
           }
          ],
          "scattercarpet": [
           {
            "marker": {
             "colorbar": {
              "outlinewidth": 0,
              "ticks": ""
             }
            },
            "type": "scattercarpet"
           }
          ],
          "scattergeo": [
           {
            "marker": {
             "colorbar": {
              "outlinewidth": 0,
              "ticks": ""
             }
            },
            "type": "scattergeo"
           }
          ],
          "scattergl": [
           {
            "marker": {
             "colorbar": {
              "outlinewidth": 0,
              "ticks": ""
             }
            },
            "type": "scattergl"
           }
          ],
          "scattermapbox": [
           {
            "marker": {
             "colorbar": {
              "outlinewidth": 0,
              "ticks": ""
             }
            },
            "type": "scattermapbox"
           }
          ],
          "scatterpolar": [
           {
            "marker": {
             "colorbar": {
              "outlinewidth": 0,
              "ticks": ""
             }
            },
            "type": "scatterpolar"
           }
          ],
          "scatterpolargl": [
           {
            "marker": {
             "colorbar": {
              "outlinewidth": 0,
              "ticks": ""
             }
            },
            "type": "scatterpolargl"
           }
          ],
          "scatterternary": [
           {
            "marker": {
             "colorbar": {
              "outlinewidth": 0,
              "ticks": ""
             }
            },
            "type": "scatterternary"
           }
          ],
          "surface": [
           {
            "colorbar": {
             "outlinewidth": 0,
             "ticks": ""
            },
            "colorscale": [
             [
              0,
              "#0d0887"
             ],
             [
              0.1111111111111111,
              "#46039f"
             ],
             [
              0.2222222222222222,
              "#7201a8"
             ],
             [
              0.3333333333333333,
              "#9c179e"
             ],
             [
              0.4444444444444444,
              "#bd3786"
             ],
             [
              0.5555555555555556,
              "#d8576b"
             ],
             [
              0.6666666666666666,
              "#ed7953"
             ],
             [
              0.7777777777777778,
              "#fb9f3a"
             ],
             [
              0.8888888888888888,
              "#fdca26"
             ],
             [
              1,
              "#f0f921"
             ]
            ],
            "type": "surface"
           }
          ],
          "table": [
           {
            "cells": {
             "fill": {
              "color": "#EBF0F8"
             },
             "line": {
              "color": "white"
             }
            },
            "header": {
             "fill": {
              "color": "#C8D4E3"
             },
             "line": {
              "color": "white"
             }
            },
            "type": "table"
           }
          ]
         },
         "layout": {
          "annotationdefaults": {
           "arrowcolor": "#2a3f5f",
           "arrowhead": 0,
           "arrowwidth": 1
          },
          "autotypenumbers": "strict",
          "coloraxis": {
           "colorbar": {
            "outlinewidth": 0,
            "ticks": ""
           }
          },
          "colorscale": {
           "diverging": [
            [
             0,
             "#8e0152"
            ],
            [
             0.1,
             "#c51b7d"
            ],
            [
             0.2,
             "#de77ae"
            ],
            [
             0.3,
             "#f1b6da"
            ],
            [
             0.4,
             "#fde0ef"
            ],
            [
             0.5,
             "#f7f7f7"
            ],
            [
             0.6,
             "#e6f5d0"
            ],
            [
             0.7,
             "#b8e186"
            ],
            [
             0.8,
             "#7fbc41"
            ],
            [
             0.9,
             "#4d9221"
            ],
            [
             1,
             "#276419"
            ]
           ],
           "sequential": [
            [
             0,
             "#0d0887"
            ],
            [
             0.1111111111111111,
             "#46039f"
            ],
            [
             0.2222222222222222,
             "#7201a8"
            ],
            [
             0.3333333333333333,
             "#9c179e"
            ],
            [
             0.4444444444444444,
             "#bd3786"
            ],
            [
             0.5555555555555556,
             "#d8576b"
            ],
            [
             0.6666666666666666,
             "#ed7953"
            ],
            [
             0.7777777777777778,
             "#fb9f3a"
            ],
            [
             0.8888888888888888,
             "#fdca26"
            ],
            [
             1,
             "#f0f921"
            ]
           ],
           "sequentialminus": [
            [
             0,
             "#0d0887"
            ],
            [
             0.1111111111111111,
             "#46039f"
            ],
            [
             0.2222222222222222,
             "#7201a8"
            ],
            [
             0.3333333333333333,
             "#9c179e"
            ],
            [
             0.4444444444444444,
             "#bd3786"
            ],
            [
             0.5555555555555556,
             "#d8576b"
            ],
            [
             0.6666666666666666,
             "#ed7953"
            ],
            [
             0.7777777777777778,
             "#fb9f3a"
            ],
            [
             0.8888888888888888,
             "#fdca26"
            ],
            [
             1,
             "#f0f921"
            ]
           ]
          },
          "colorway": [
           "#636efa",
           "#EF553B",
           "#00cc96",
           "#ab63fa",
           "#FFA15A",
           "#19d3f3",
           "#FF6692",
           "#B6E880",
           "#FF97FF",
           "#FECB52"
          ],
          "font": {
           "color": "#2a3f5f"
          },
          "geo": {
           "bgcolor": "white",
           "lakecolor": "white",
           "landcolor": "#E5ECF6",
           "showlakes": true,
           "showland": true,
           "subunitcolor": "white"
          },
          "hoverlabel": {
           "align": "left"
          },
          "hovermode": "closest",
          "mapbox": {
           "style": "light"
          },
          "paper_bgcolor": "white",
          "plot_bgcolor": "#E5ECF6",
          "polar": {
           "angularaxis": {
            "gridcolor": "white",
            "linecolor": "white",
            "ticks": ""
           },
           "bgcolor": "#E5ECF6",
           "radialaxis": {
            "gridcolor": "white",
            "linecolor": "white",
            "ticks": ""
           }
          },
          "scene": {
           "xaxis": {
            "backgroundcolor": "#E5ECF6",
            "gridcolor": "white",
            "gridwidth": 2,
            "linecolor": "white",
            "showbackground": true,
            "ticks": "",
            "zerolinecolor": "white"
           },
           "yaxis": {
            "backgroundcolor": "#E5ECF6",
            "gridcolor": "white",
            "gridwidth": 2,
            "linecolor": "white",
            "showbackground": true,
            "ticks": "",
            "zerolinecolor": "white"
           },
           "zaxis": {
            "backgroundcolor": "#E5ECF6",
            "gridcolor": "white",
            "gridwidth": 2,
            "linecolor": "white",
            "showbackground": true,
            "ticks": "",
            "zerolinecolor": "white"
           }
          },
          "shapedefaults": {
           "line": {
            "color": "#2a3f5f"
           }
          },
          "ternary": {
           "aaxis": {
            "gridcolor": "white",
            "linecolor": "white",
            "ticks": ""
           },
           "baxis": {
            "gridcolor": "white",
            "linecolor": "white",
            "ticks": ""
           },
           "bgcolor": "#E5ECF6",
           "caxis": {
            "gridcolor": "white",
            "linecolor": "white",
            "ticks": ""
           }
          },
          "title": {
           "x": 0.05
          },
          "xaxis": {
           "automargin": true,
           "gridcolor": "white",
           "linecolor": "white",
           "ticks": "",
           "title": {
            "standoff": 15
           },
           "zerolinecolor": "white",
           "zerolinewidth": 2
          },
          "yaxis": {
           "automargin": true,
           "gridcolor": "white",
           "linecolor": "white",
           "ticks": "",
           "title": {
            "standoff": 15
           },
           "zerolinecolor": "white",
           "zerolinewidth": 2
          }
         }
        },
        "title": {
         "text": "2021"
        },
        "xaxis": {
         "anchor": "y",
         "domain": [
          0,
          1
         ],
         "title": {
          "text": "Interest_21"
         }
        },
        "yaxis": {
         "anchor": "x",
         "domain": [
          0,
          1
         ],
         "title": {
          "text": "Rate_100k_21_Ophtho"
         }
        }
       }
      }
     },
     "metadata": {},
     "output_type": "display_data"
    },
    {
     "data": {
      "application/vnd.plotly.v1+json": {
       "config": {
        "plotlyServerURL": "https://plot.ly"
       },
       "data": [
        {
         "customdata": [
          [
           "Montana"
          ],
          [
           "Idaho"
          ],
          [
           "Nevada"
          ],
          [
           "Wyoming"
          ],
          [
           "Washington"
          ],
          [
           "Colorado"
          ],
          [
           "Oregon"
          ],
          [
           "California"
          ],
          [
           "Utah"
          ]
         ],
         "hovertemplate": "region=West<br>Ophtho_Residents=%{x}<br>Ophthalmologists_21=%{y}<br>NAME=%{customdata[0]}<extra></extra>",
         "legendgroup": "West",
         "marker": {
          "color": "#636efa",
          "symbol": "circle"
         },
         "mode": "markers",
         "name": "West",
         "orientation": "v",
         "showlegend": true,
         "type": "scatter",
         "x": [
          0,
          0,
          0,
          0,
          7,
          6,
          5,
          48,
          4
         ],
         "xaxis": "x",
         "y": [
          55,
          68,
          105,
          8,
          387,
          302,
          289,
          2454,
          190
         ],
         "yaxis": "y"
        },
        {
         "customdata": [
          [
           "Vermont"
          ],
          [
           "Maine"
          ],
          [
           "Delaware"
          ],
          [
           "New Jersey"
          ],
          [
           "Connecticut"
          ],
          [
           "New Hampshire"
          ],
          [
           "Pennsylvania"
          ],
          [
           "Massachusetts"
          ],
          [
           "Rhode Island"
          ],
          [
           "Maryland"
          ],
          [
           "New York"
          ],
          [
           "District of Columbia"
          ]
         ],
         "hovertemplate": "region=Northeast<br>Ophtho_Residents=%{x}<br>Ophthalmologists_21=%{y}<br>NAME=%{customdata[0]}<extra></extra>",
         "legendgroup": "Northeast",
         "marker": {
          "color": "#EF553B",
          "symbol": "circle"
         },
         "mode": "markers",
         "name": "Northeast",
         "orientation": "v",
         "showlegend": true,
         "type": "scatter",
         "x": [
          0,
          0,
          0,
          5,
          5,
          2,
          31,
          18,
          3,
          18,
          76,
          13
         ],
         "xaxis": "x",
         "y": [
          38,
          69,
          37,
          580,
          278,
          66,
          874,
          607,
          77,
          556,
          1666,
          97
         ],
         "yaxis": "y"
        },
        {
         "customdata": [
          [
           "South Dakota"
          ],
          [
           "North Dakota"
          ],
          [
           "Indiana"
          ],
          [
           "Nebraska"
          ],
          [
           "Wisconsin"
          ],
          [
           "Kansas"
          ],
          [
           "Minnesota"
          ],
          [
           "Illinois"
          ],
          [
           "Iowa"
          ],
          [
           "Ohio"
          ],
          [
           "Michigan"
          ],
          [
           "Missouri"
          ]
         ],
         "hovertemplate": "region=Midwest<br>Ophtho_Residents=%{x}<br>Ophthalmologists_21=%{y}<br>NAME=%{customdata[0]}<extra></extra>",
         "legendgroup": "Midwest",
         "marker": {
          "color": "#00cc96",
          "symbol": "circle"
         },
         "mode": "markers",
         "name": "Midwest",
         "orientation": "v",
         "showlegend": true,
         "type": "scatter",
         "x": [
          0,
          0,
          6,
          2,
          7,
          4,
          9,
          23,
          6,
          23,
          27,
          17
         ],
         "xaxis": "x",
         "y": [
          39,
          31,
          257,
          101,
          318,
          156,
          312,
          751,
          162,
          642,
          603,
          336
         ],
         "yaxis": "y"
        },
        {
         "customdata": [
          [
           "New Mexico"
          ],
          [
           "Arizona"
          ],
          [
           "Oklahoma"
          ],
          [
           "Texas"
          ]
         ],
         "hovertemplate": "region=Southwest<br>Ophtho_Residents=%{x}<br>Ophthalmologists_21=%{y}<br>NAME=%{customdata[0]}<extra></extra>",
         "legendgroup": "Southwest",
         "marker": {
          "color": "#ab63fa",
          "symbol": "circle"
         },
         "mode": "markers",
         "name": "Southwest",
         "orientation": "v",
         "showlegend": true,
         "type": "scatter",
         "x": [
          0,
          4,
          5,
          43
         ],
         "xaxis": "x",
         "y": [
          67,
          318,
          154,
          1295
         ],
         "yaxis": "y"
        },
        {
         "customdata": [
          [
           "Georgia"
          ],
          [
           "Alabama"
          ],
          [
           "Florida"
          ],
          [
           "Virginia"
          ],
          [
           "Arkansas"
          ],
          [
           "North Carolina"
          ],
          [
           "South Carolina"
          ],
          [
           "Mississippi"
          ],
          [
           "Tennessee"
          ],
          [
           "Kentucky"
          ],
          [
           "West Virginia"
          ],
          [
           "Louisiana"
          ]
         ],
         "hovertemplate": "region=Southeast<br>Ophtho_Residents=%{x}<br>Ophthalmologists_21=%{y}<br>NAME=%{customdata[0]}<extra></extra>",
         "legendgroup": "Southeast",
         "marker": {
          "color": "#FFA15A",
          "symbol": "circle"
         },
         "mode": "markers",
         "name": "Southeast",
         "orientation": "v",
         "showlegend": true,
         "type": "scatter",
         "x": [
          9,
          5,
          23,
          10,
          4,
          14,
          7,
          4,
          10,
          8,
          4,
          18
         ],
         "xaxis": "x",
         "y": [
          469,
          231,
          1328,
          470,
          129,
          544,
          258,
          135,
          363,
          210,
          104,
          337
         ],
         "yaxis": "y"
        },
        {
         "hovertemplate": "<b>OLS trendline</b><br>Ophthalmologists_21 = 28.3588 * Ophtho_Residents + 77.7089<br>R<sup>2</sup>=0.777612<br><br>Ophtho_Residents=%{x}<br>Ophthalmologists_21=%{y} <b>(trend)</b><extra></extra>",
         "legendgroup": "Overall Trendline",
         "line": {
          "color": "#19d3f3"
         },
         "mode": "lines",
         "name": "Overall Trendline",
         "showlegend": true,
         "type": "scatter",
         "x": [
          0,
          0,
          0,
          0,
          0,
          0,
          0,
          0,
          0,
          0,
          2,
          2,
          3,
          4,
          4,
          4,
          4,
          4,
          4,
          5,
          5,
          5,
          5,
          5,
          6,
          6,
          6,
          7,
          7,
          7,
          8,
          9,
          9,
          10,
          10,
          13,
          14,
          17,
          18,
          18,
          18,
          23,
          23,
          23,
          27,
          31,
          43,
          48,
          76
         ],
         "xaxis": "x",
         "y": [
          77.70889668040451,
          77.70889668040451,
          77.70889668040451,
          77.70889668040451,
          77.70889668040451,
          77.70889668040451,
          77.70889668040451,
          77.70889668040451,
          77.70889668040451,
          77.70889668040451,
          134.42658547087424,
          134.42658547087424,
          162.7854298661091,
          191.14427426134398,
          191.14427426134398,
          191.14427426134398,
          191.14427426134398,
          191.14427426134398,
          191.14427426134398,
          219.50311865657883,
          219.50311865657883,
          219.50311865657883,
          219.50311865657883,
          219.50311865657883,
          247.8619630518137,
          247.8619630518137,
          247.8619630518137,
          276.22080744704857,
          276.22080744704857,
          276.22080744704857,
          304.5796518422834,
          332.9384962375183,
          332.9384962375183,
          361.29734063275316,
          361.29734063275316,
          446.37387381845775,
          474.73271821369264,
          559.8092513993972,
          588.1680957946321,
          588.1680957946321,
          588.1680957946321,
          729.9623177708063,
          729.9623177708063,
          729.9623177708063,
          843.3976953517458,
          956.8330729326854,
          1297.1392056755037,
          1438.933427651678,
          2232.981070718254
         ],
         "yaxis": "y"
        }
       ],
       "layout": {
        "legend": {
         "title": {
          "text": "region"
         },
         "tracegroupgap": 0
        },
        "template": {
         "data": {
          "bar": [
           {
            "error_x": {
             "color": "#2a3f5f"
            },
            "error_y": {
             "color": "#2a3f5f"
            },
            "marker": {
             "line": {
              "color": "#E5ECF6",
              "width": 0.5
             },
             "pattern": {
              "fillmode": "overlay",
              "size": 10,
              "solidity": 0.2
             }
            },
            "type": "bar"
           }
          ],
          "barpolar": [
           {
            "marker": {
             "line": {
              "color": "#E5ECF6",
              "width": 0.5
             },
             "pattern": {
              "fillmode": "overlay",
              "size": 10,
              "solidity": 0.2
             }
            },
            "type": "barpolar"
           }
          ],
          "carpet": [
           {
            "aaxis": {
             "endlinecolor": "#2a3f5f",
             "gridcolor": "white",
             "linecolor": "white",
             "minorgridcolor": "white",
             "startlinecolor": "#2a3f5f"
            },
            "baxis": {
             "endlinecolor": "#2a3f5f",
             "gridcolor": "white",
             "linecolor": "white",
             "minorgridcolor": "white",
             "startlinecolor": "#2a3f5f"
            },
            "type": "carpet"
           }
          ],
          "choropleth": [
           {
            "colorbar": {
             "outlinewidth": 0,
             "ticks": ""
            },
            "type": "choropleth"
           }
          ],
          "contour": [
           {
            "colorbar": {
             "outlinewidth": 0,
             "ticks": ""
            },
            "colorscale": [
             [
              0,
              "#0d0887"
             ],
             [
              0.1111111111111111,
              "#46039f"
             ],
             [
              0.2222222222222222,
              "#7201a8"
             ],
             [
              0.3333333333333333,
              "#9c179e"
             ],
             [
              0.4444444444444444,
              "#bd3786"
             ],
             [
              0.5555555555555556,
              "#d8576b"
             ],
             [
              0.6666666666666666,
              "#ed7953"
             ],
             [
              0.7777777777777778,
              "#fb9f3a"
             ],
             [
              0.8888888888888888,
              "#fdca26"
             ],
             [
              1,
              "#f0f921"
             ]
            ],
            "type": "contour"
           }
          ],
          "contourcarpet": [
           {
            "colorbar": {
             "outlinewidth": 0,
             "ticks": ""
            },
            "type": "contourcarpet"
           }
          ],
          "heatmap": [
           {
            "colorbar": {
             "outlinewidth": 0,
             "ticks": ""
            },
            "colorscale": [
             [
              0,
              "#0d0887"
             ],
             [
              0.1111111111111111,
              "#46039f"
             ],
             [
              0.2222222222222222,
              "#7201a8"
             ],
             [
              0.3333333333333333,
              "#9c179e"
             ],
             [
              0.4444444444444444,
              "#bd3786"
             ],
             [
              0.5555555555555556,
              "#d8576b"
             ],
             [
              0.6666666666666666,
              "#ed7953"
             ],
             [
              0.7777777777777778,
              "#fb9f3a"
             ],
             [
              0.8888888888888888,
              "#fdca26"
             ],
             [
              1,
              "#f0f921"
             ]
            ],
            "type": "heatmap"
           }
          ],
          "heatmapgl": [
           {
            "colorbar": {
             "outlinewidth": 0,
             "ticks": ""
            },
            "colorscale": [
             [
              0,
              "#0d0887"
             ],
             [
              0.1111111111111111,
              "#46039f"
             ],
             [
              0.2222222222222222,
              "#7201a8"
             ],
             [
              0.3333333333333333,
              "#9c179e"
             ],
             [
              0.4444444444444444,
              "#bd3786"
             ],
             [
              0.5555555555555556,
              "#d8576b"
             ],
             [
              0.6666666666666666,
              "#ed7953"
             ],
             [
              0.7777777777777778,
              "#fb9f3a"
             ],
             [
              0.8888888888888888,
              "#fdca26"
             ],
             [
              1,
              "#f0f921"
             ]
            ],
            "type": "heatmapgl"
           }
          ],
          "histogram": [
           {
            "marker": {
             "pattern": {
              "fillmode": "overlay",
              "size": 10,
              "solidity": 0.2
             }
            },
            "type": "histogram"
           }
          ],
          "histogram2d": [
           {
            "colorbar": {
             "outlinewidth": 0,
             "ticks": ""
            },
            "colorscale": [
             [
              0,
              "#0d0887"
             ],
             [
              0.1111111111111111,
              "#46039f"
             ],
             [
              0.2222222222222222,
              "#7201a8"
             ],
             [
              0.3333333333333333,
              "#9c179e"
             ],
             [
              0.4444444444444444,
              "#bd3786"
             ],
             [
              0.5555555555555556,
              "#d8576b"
             ],
             [
              0.6666666666666666,
              "#ed7953"
             ],
             [
              0.7777777777777778,
              "#fb9f3a"
             ],
             [
              0.8888888888888888,
              "#fdca26"
             ],
             [
              1,
              "#f0f921"
             ]
            ],
            "type": "histogram2d"
           }
          ],
          "histogram2dcontour": [
           {
            "colorbar": {
             "outlinewidth": 0,
             "ticks": ""
            },
            "colorscale": [
             [
              0,
              "#0d0887"
             ],
             [
              0.1111111111111111,
              "#46039f"
             ],
             [
              0.2222222222222222,
              "#7201a8"
             ],
             [
              0.3333333333333333,
              "#9c179e"
             ],
             [
              0.4444444444444444,
              "#bd3786"
             ],
             [
              0.5555555555555556,
              "#d8576b"
             ],
             [
              0.6666666666666666,
              "#ed7953"
             ],
             [
              0.7777777777777778,
              "#fb9f3a"
             ],
             [
              0.8888888888888888,
              "#fdca26"
             ],
             [
              1,
              "#f0f921"
             ]
            ],
            "type": "histogram2dcontour"
           }
          ],
          "mesh3d": [
           {
            "colorbar": {
             "outlinewidth": 0,
             "ticks": ""
            },
            "type": "mesh3d"
           }
          ],
          "parcoords": [
           {
            "line": {
             "colorbar": {
              "outlinewidth": 0,
              "ticks": ""
             }
            },
            "type": "parcoords"
           }
          ],
          "pie": [
           {
            "automargin": true,
            "type": "pie"
           }
          ],
          "scatter": [
           {
            "fillpattern": {
             "fillmode": "overlay",
             "size": 10,
             "solidity": 0.2
            },
            "type": "scatter"
           }
          ],
          "scatter3d": [
           {
            "line": {
             "colorbar": {
              "outlinewidth": 0,
              "ticks": ""
             }
            },
            "marker": {
             "colorbar": {
              "outlinewidth": 0,
              "ticks": ""
             }
            },
            "type": "scatter3d"
           }
          ],
          "scattercarpet": [
           {
            "marker": {
             "colorbar": {
              "outlinewidth": 0,
              "ticks": ""
             }
            },
            "type": "scattercarpet"
           }
          ],
          "scattergeo": [
           {
            "marker": {
             "colorbar": {
              "outlinewidth": 0,
              "ticks": ""
             }
            },
            "type": "scattergeo"
           }
          ],
          "scattergl": [
           {
            "marker": {
             "colorbar": {
              "outlinewidth": 0,
              "ticks": ""
             }
            },
            "type": "scattergl"
           }
          ],
          "scattermapbox": [
           {
            "marker": {
             "colorbar": {
              "outlinewidth": 0,
              "ticks": ""
             }
            },
            "type": "scattermapbox"
           }
          ],
          "scatterpolar": [
           {
            "marker": {
             "colorbar": {
              "outlinewidth": 0,
              "ticks": ""
             }
            },
            "type": "scatterpolar"
           }
          ],
          "scatterpolargl": [
           {
            "marker": {
             "colorbar": {
              "outlinewidth": 0,
              "ticks": ""
             }
            },
            "type": "scatterpolargl"
           }
          ],
          "scatterternary": [
           {
            "marker": {
             "colorbar": {
              "outlinewidth": 0,
              "ticks": ""
             }
            },
            "type": "scatterternary"
           }
          ],
          "surface": [
           {
            "colorbar": {
             "outlinewidth": 0,
             "ticks": ""
            },
            "colorscale": [
             [
              0,
              "#0d0887"
             ],
             [
              0.1111111111111111,
              "#46039f"
             ],
             [
              0.2222222222222222,
              "#7201a8"
             ],
             [
              0.3333333333333333,
              "#9c179e"
             ],
             [
              0.4444444444444444,
              "#bd3786"
             ],
             [
              0.5555555555555556,
              "#d8576b"
             ],
             [
              0.6666666666666666,
              "#ed7953"
             ],
             [
              0.7777777777777778,
              "#fb9f3a"
             ],
             [
              0.8888888888888888,
              "#fdca26"
             ],
             [
              1,
              "#f0f921"
             ]
            ],
            "type": "surface"
           }
          ],
          "table": [
           {
            "cells": {
             "fill": {
              "color": "#EBF0F8"
             },
             "line": {
              "color": "white"
             }
            },
            "header": {
             "fill": {
              "color": "#C8D4E3"
             },
             "line": {
              "color": "white"
             }
            },
            "type": "table"
           }
          ]
         },
         "layout": {
          "annotationdefaults": {
           "arrowcolor": "#2a3f5f",
           "arrowhead": 0,
           "arrowwidth": 1
          },
          "autotypenumbers": "strict",
          "coloraxis": {
           "colorbar": {
            "outlinewidth": 0,
            "ticks": ""
           }
          },
          "colorscale": {
           "diverging": [
            [
             0,
             "#8e0152"
            ],
            [
             0.1,
             "#c51b7d"
            ],
            [
             0.2,
             "#de77ae"
            ],
            [
             0.3,
             "#f1b6da"
            ],
            [
             0.4,
             "#fde0ef"
            ],
            [
             0.5,
             "#f7f7f7"
            ],
            [
             0.6,
             "#e6f5d0"
            ],
            [
             0.7,
             "#b8e186"
            ],
            [
             0.8,
             "#7fbc41"
            ],
            [
             0.9,
             "#4d9221"
            ],
            [
             1,
             "#276419"
            ]
           ],
           "sequential": [
            [
             0,
             "#0d0887"
            ],
            [
             0.1111111111111111,
             "#46039f"
            ],
            [
             0.2222222222222222,
             "#7201a8"
            ],
            [
             0.3333333333333333,
             "#9c179e"
            ],
            [
             0.4444444444444444,
             "#bd3786"
            ],
            [
             0.5555555555555556,
             "#d8576b"
            ],
            [
             0.6666666666666666,
             "#ed7953"
            ],
            [
             0.7777777777777778,
             "#fb9f3a"
            ],
            [
             0.8888888888888888,
             "#fdca26"
            ],
            [
             1,
             "#f0f921"
            ]
           ],
           "sequentialminus": [
            [
             0,
             "#0d0887"
            ],
            [
             0.1111111111111111,
             "#46039f"
            ],
            [
             0.2222222222222222,
             "#7201a8"
            ],
            [
             0.3333333333333333,
             "#9c179e"
            ],
            [
             0.4444444444444444,
             "#bd3786"
            ],
            [
             0.5555555555555556,
             "#d8576b"
            ],
            [
             0.6666666666666666,
             "#ed7953"
            ],
            [
             0.7777777777777778,
             "#fb9f3a"
            ],
            [
             0.8888888888888888,
             "#fdca26"
            ],
            [
             1,
             "#f0f921"
            ]
           ]
          },
          "colorway": [
           "#636efa",
           "#EF553B",
           "#00cc96",
           "#ab63fa",
           "#FFA15A",
           "#19d3f3",
           "#FF6692",
           "#B6E880",
           "#FF97FF",
           "#FECB52"
          ],
          "font": {
           "color": "#2a3f5f"
          },
          "geo": {
           "bgcolor": "white",
           "lakecolor": "white",
           "landcolor": "#E5ECF6",
           "showlakes": true,
           "showland": true,
           "subunitcolor": "white"
          },
          "hoverlabel": {
           "align": "left"
          },
          "hovermode": "closest",
          "mapbox": {
           "style": "light"
          },
          "paper_bgcolor": "white",
          "plot_bgcolor": "#E5ECF6",
          "polar": {
           "angularaxis": {
            "gridcolor": "white",
            "linecolor": "white",
            "ticks": ""
           },
           "bgcolor": "#E5ECF6",
           "radialaxis": {
            "gridcolor": "white",
            "linecolor": "white",
            "ticks": ""
           }
          },
          "scene": {
           "xaxis": {
            "backgroundcolor": "#E5ECF6",
            "gridcolor": "white",
            "gridwidth": 2,
            "linecolor": "white",
            "showbackground": true,
            "ticks": "",
            "zerolinecolor": "white"
           },
           "yaxis": {
            "backgroundcolor": "#E5ECF6",
            "gridcolor": "white",
            "gridwidth": 2,
            "linecolor": "white",
            "showbackground": true,
            "ticks": "",
            "zerolinecolor": "white"
           },
           "zaxis": {
            "backgroundcolor": "#E5ECF6",
            "gridcolor": "white",
            "gridwidth": 2,
            "linecolor": "white",
            "showbackground": true,
            "ticks": "",
            "zerolinecolor": "white"
           }
          },
          "shapedefaults": {
           "line": {
            "color": "#2a3f5f"
           }
          },
          "ternary": {
           "aaxis": {
            "gridcolor": "white",
            "linecolor": "white",
            "ticks": ""
           },
           "baxis": {
            "gridcolor": "white",
            "linecolor": "white",
            "ticks": ""
           },
           "bgcolor": "#E5ECF6",
           "caxis": {
            "gridcolor": "white",
            "linecolor": "white",
            "ticks": ""
           }
          },
          "title": {
           "x": 0.05
          },
          "xaxis": {
           "automargin": true,
           "gridcolor": "white",
           "linecolor": "white",
           "ticks": "",
           "title": {
            "standoff": 15
           },
           "zerolinecolor": "white",
           "zerolinewidth": 2
          },
          "yaxis": {
           "automargin": true,
           "gridcolor": "white",
           "linecolor": "white",
           "ticks": "",
           "title": {
            "standoff": 15
           },
           "zerolinecolor": "white",
           "zerolinewidth": 2
          }
         }
        },
        "title": {
         "text": "Ophtho_Residents"
        },
        "xaxis": {
         "anchor": "y",
         "domain": [
          0,
          1
         ],
         "title": {
          "text": "Ophtho_Residents"
         }
        },
        "yaxis": {
         "anchor": "x",
         "domain": [
          0,
          1
         ],
         "title": {
          "text": "Ophthalmologists_21"
         }
        }
       }
      }
     },
     "metadata": {},
     "output_type": "display_data"
    }
   ],
   "source": [
    "fig1 = px.scatter(states, title = \"2019\", x=\"Interest_19\",y=\"Rate_100k_19_Ophtho\", color=\"region\", trendline=\"ols\", trendline_scope=\"overall\", hover_data=[\"NAME\"])\n",
    "fig1.show()\n",
    "fig1.write_html('Figures/2019.html')\n",
    "fig2 = px.scatter(states, title = \"2020\", x=\"Interest_20\",y=\"Rate_100k_20_Ophtho\", color=\"region\", trendline=\"ols\", trendline_scope=\"overall\", hover_data=[\"NAME\"])\n",
    "fig2.show()\n",
    "fig2.write_html('Figures/2020.html')\n",
    "fig3 = px.scatter(states, title = \"2021\", x=\"Interest_21\",y=\"Rate_100k_21_Ophtho\", color=\"region\", trendline=\"ols\", trendline_scope=\"overall\", hover_data=[\"NAME\"])\n",
    "fig3.show()\n",
    "fig3.write_html('Figures/2021.html')\n",
    "fig4 = px.scatter(states, title = \"Ophtho_Residents\", x=\"Ophtho_Residents\",y=\"Ophthalmologists_21\", color=\"region\", trendline=\"ols\", trendline_scope=\"overall\", hover_data=[\"NAME\"])\n",
    "fig4.show()\n",
    "fig4.write_html('Figures/Residents.html')\n"
   ]
  },
  {
   "cell_type": "code",
   "execution_count": null,
   "metadata": {},
   "outputs": [],
   "source": []
  }
 ],
 "metadata": {
  "kernelspec": {
   "display_name": "Python 3.10.5 64-bit",
   "language": "python",
   "name": "python3"
  },
  "language_info": {
   "codemirror_mode": {
    "name": "ipython",
    "version": 3
   },
   "file_extension": ".py",
   "mimetype": "text/x-python",
   "name": "python",
   "nbconvert_exporter": "python",
   "pygments_lexer": "ipython3",
   "version": "3.10.5"
  },
  "vscode": {
   "interpreter": {
    "hash": "59ce7d6bb8cd4ae6d5cf8ba5759d47519be8aa1ee658f53dd34a0e354aee55b2"
   }
  }
 },
 "nbformat": 4,
 "nbformat_minor": 1
}
