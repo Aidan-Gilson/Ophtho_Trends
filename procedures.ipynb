{
 "cells": [
  {
   "cell_type": "code",
   "execution_count": null,
   "metadata": {},
   "outputs": [],
   "source": [
    "Data \n",
    "\n",
    "https://www.cms.gov/Research-Statistics-Data-and-Systems/Statistics-Trends-and-Reports/Medicare-Provider-Charge-Data/Physician-and-Other-Supplier\n",
    "    rea Health Resources File"
   ]
  },
  {
   "cell_type": "code",
   "execution_count": null,
   "metadata": {
    "collapsed": true
   },
   "outputs": [],
   "source": [
    "glaucoma\n",
    "\n",
    "65820\n",
    "65850\n",
    "65855\n",
    "66170\n",
    "66172\n",
    "66174\n",
    "66175\n",
    "66179\n",
    "66180\n",
    "66183\n",
    "66184\n",
    "66185\n",
    "66710\n",
    "66711\n",
    "66761\n",
    "66762\n",
    "66982\n",
    "66984\n",
    "66987\n",
    "66988\n",
    "66989\n",
    "66991\n",
    "0191T\n",
    "0253T\n",
    "0449T\n",
    "0450T\n",
    "0671T\n",
    "\n",
    "\n",
    "https://www.glaucomaphysician.net/issues/2022/march-2022/coding-new-migs-cpt-codes\n"
   ]
  },
  {
   "cell_type": "code",
   "execution_count": null,
   "metadata": {},
   "outputs": [],
   "source": [
    "cataract = 66830\n",
    "66840\n",
    "66850\n",
    "66852\n",
    "66920\n",
    "66930\n",
    "66940\n",
    "66982\n",
    "66983\n",
    "66984\n",
    "V2632*\n",
    "V2787**\n",
    "V2788\n",
    "\n",
    "\n",
    "https://www.wpsgha.com/wps/portal/mac/site/claims/guides-and-resources/cataract-surgery/!ut/p/z0/fY3LbsIwEEV_BRZZWmMo0GzTqlWEiEBdVIk31cgY4za1w8ykj79vwq4VZXnvnTkHDNRgIn4EjxJSxHbIjVm97MpyVc5yvdnOK62L6vH55iHf3OVPM1iD-fdgfbtYjoQ5VfeVB9OhHFWIhwT1ISVxpMhx6sk6htomSqOaer4KPVsvQ30f9o4Vxv0vMAoSWlHck3f0PT6H19PJFGBsiuK-BOrPjifnEGXiom8DHzMtqQtW2aFzlGnbYnjnTF-yDOtfS_dmGmWanIvp9Aeoc_tM/#"
   ]
  },
  {
   "cell_type": "code",
   "execution_count": null,
   "metadata": {},
   "outputs": [],
   "source": [
    "DR\n",
    "\n",
    "67105 Repair of retinal detachment, including drainage of subretinal fluid when performed; photocoagulation\n",
    "67145 Prophylaxis of retinal detachment (eg, retinal break, lattice degeneration) w/o drainage, 1 or more sessions; photocoagulation\n",
    "67210 Destruction of localized lesion of retina (eg, macular edema, tumors), 1 or more sessions; photocoagulation\n",
    "67220 Destruction of localized lesion of choroid (eg, choroidal neovascularization); photocoagulation 1 or more sessions\n",
    "67228 Treatment of extensive or progressive retinopathy; (eg diabetic retinopathy), photocoagulation\n",
    "67229 Treatment of extensive or progressive retinopathy, 1 or more sessions, preterm infant; (less than 37 weeks gestation at birth), performed from birth up to 1 year of age (eg, retinopathy of prematurity), photocoagulation or cryotherapy\n",
    "\n",
    "https://www.outsourcestrategies.com/blog/coding-for-diabetic-retinopathy/"
   ]
  }
 ],
 "metadata": {
  "kernelspec": {
   "display_name": "Python 3",
   "language": "python",
   "name": "python3"
  },
  "language_info": {
   "codemirror_mode": {
    "name": "ipython",
    "version": 3
   },
   "file_extension": ".py",
   "mimetype": "text/x-python",
   "name": "python",
   "nbconvert_exporter": "python",
   "pygments_lexer": "ipython3",
   "version": "3.7.6"
  }
 },
 "nbformat": 4,
 "nbformat_minor": 1
}
