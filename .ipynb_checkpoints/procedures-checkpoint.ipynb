{
 "cells": [
  {
   "cell_type": "code",
   "execution_count": null,
   "metadata": {
    "collapsed": true
   },
   "outputs": [],
   "source": [
    "glaucoma\n",
    "\n",
    "65820\n",
    "65850\n",
    "65855\n",
    "66170\n",
    "66172\n",
    "66174\n",
    "66175\n",
    "66179\n",
    "66180\n",
    "66183\n",
    "66184\n",
    "66185\n",
    "66710\n",
    "66711\n",
    "66761\n",
    "66762\n",
    "66982\n",
    "66984\n",
    "66987\n",
    "66988\n",
    "66989\n",
    "66991\n",
    "0191T\n",
    "0253T\n",
    "0449T\n",
    "0450T\n",
    "0671T\n",
    "\n"
   ]
  }
 ],
 "metadata": {
  "kernelspec": {
   "display_name": "Python 3",
   "language": "python",
   "name": "python3"
  },
  "language_info": {
   "codemirror_mode": {
    "name": "ipython",
    "version": 3
   },
   "file_extension": ".py",
   "mimetype": "text/x-python",
   "name": "python",
   "nbconvert_exporter": "python",
   "pygments_lexer": "ipython3",
   "version": "3.7.6"
  }
 },
 "nbformat": 4,
 "nbformat_minor": 1
}
