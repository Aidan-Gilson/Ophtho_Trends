{
 "cells": [
  {
   "cell_type": "code",
   "execution_count": 2,
   "metadata": {},
   "outputs": [],
   "source": [
    "from bs4 import BeautifulSoup\n",
    "import requests\n",
    "from selenium import webdriver\n",
    "from selenium.webdriver import Chrome\n",
    "from time import sleep\n",
    "from tqdm import tqdm\n",
    "import pickle\n",
    "\n",
    "from webdriver_manager.chrome import ChromeDriverManager\n",
    "from selenium.webdriver.common.by import By\n"
   ]
  },
  {
   "cell_type": "code",
   "execution_count": 3,
   "metadata": {},
   "outputs": [],
   "source": [
    "base_url = \"https://www.doximity.com/residency/specialties\""
   ]
  },
  {
   "cell_type": "code",
   "execution_count": 11,
   "metadata": {},
   "outputs": [],
   "source": []
  },
  {
   "cell_type": "code",
   "execution_count": 4,
   "metadata": {},
   "outputs": [],
   "source": [
    "with open(\"parse.txt\") as f:\n",
    "  data = f.read()\n",
    "f.close()"
   ]
  },
  {
   "cell_type": "code",
   "execution_count": 5,
   "metadata": {},
   "outputs": [],
   "source": [
    "# sourceCode, driver = parse2(base_url)\n",
    "soup = BeautifulSoup(data)\n",
    "# mydivs = soup.find_all(\"li\")#, {\"class\": \"residency-specialties-directory-list-item\"})\n",
    "# print(mydivs)"
   ]
  },
  {
   "cell_type": "code",
   "execution_count": 6,
   "metadata": {},
   "outputs": [],
   "source": [
    "specialties = set([])\n",
    "mydivs = soup.find_all(\"li\")#, {\"class\": \"residency-specialties-directory-list-item\"})\n",
    "for li in mydivs:\n",
    "    a= li.find_all(\"a\")\n",
    "    text = a[0].text.split(\"\\n\")[1].split(\" \")\n",
    "    text = \" \".join([x for x in text if x!=''])\n",
    "    # print(text)\n",
    "    specialties.add((text,a[0]['href'] ))\n"
   ]
  },
  {
   "cell_type": "code",
   "execution_count": 7,
   "metadata": {},
   "outputs": [
    {
     "name": "stderr",
     "output_type": "stream",
     "text": [
      "100%|██████████| 28/28 [00:29<00:00,  1.06s/it]\n"
     ]
    }
   ],
   "source": [
    "specialty_to_location = {}\n",
    "specialty_url = \"https://www.doximity.com\"\n",
    "for specialty in tqdm(specialties):\n",
    "    specialty_to_location[specialty[0]] = []\n",
    "    data = requests.get(specialty_url+specialty[1])\n",
    "    soup = BeautifulSoup(data.text, 'html.parser')\n",
    "    mydivs = soup.find_all('div', {\"class\": \"residency-institution-directory-content\"})\n",
    "    myli = mydivs[0].find_all(\"li\")\n",
    "    for x in myli:\n",
    "        a = x.find_all(\"a\")\n",
    "        specialty_to_location[specialty[0]].append(a[0]['href'])\n"
   ]
  },
  {
   "cell_type": "code",
   "execution_count": 9,
   "metadata": {},
   "outputs": [
    {
     "name": "stdout",
     "output_type": "stream",
     "text": [
      "28\n",
      "0 Physical Medicine & Rehabilitation\n"
     ]
    },
    {
     "name": "stderr",
     "output_type": "stream",
     "text": [
      "100%|██████████| 100/100 [00:54<00:00,  1.83it/s]\n"
     ]
    },
    {
     "name": "stdout",
     "output_type": "stream",
     "text": [
      "1 Pediatrics\n"
     ]
    },
    {
     "name": "stderr",
     "output_type": "stream",
     "text": [
      "100%|██████████| 212/212 [01:55<00:00,  1.84it/s]\n"
     ]
    },
    {
     "name": "stdout",
     "output_type": "stream",
     "text": [
      "2 Child Neurology\n"
     ]
    },
    {
     "name": "stderr",
     "output_type": "stream",
     "text": [
      " 48%|████▊     | 37/77 [00:18<00:19,  2.06it/s]"
     ]
    },
    {
     "name": "stdout",
     "output_type": "stream",
     "text": [
      "Child Neurology https://www.doximity.com/residency/programs/52de3512-d019-4fdc-ae1b-6d86a74cde72-sidney-kimmel-medical-college-at-thomas-jefferson-university-dupont-hospital-for-children-child-neurology\n"
     ]
    },
    {
     "name": "stderr",
     "output_type": "stream",
     "text": [
      "100%|██████████| 77/77 [00:38<00:00,  2.01it/s]\n"
     ]
    },
    {
     "name": "stdout",
     "output_type": "stream",
     "text": [
      "3 Medicine/Pediatrics\n"
     ]
    },
    {
     "name": "stderr",
     "output_type": "stream",
     "text": [
      "100%|██████████| 78/78 [00:42<00:00,  1.84it/s]\n"
     ]
    },
    {
     "name": "stdout",
     "output_type": "stream",
     "text": [
      "4 Neurology\n"
     ]
    },
    {
     "name": "stderr",
     "output_type": "stream",
     "text": [
      "100%|██████████| 169/169 [01:28<00:00,  1.92it/s]\n"
     ]
    },
    {
     "name": "stdout",
     "output_type": "stream",
     "text": [
      "5 Otolaryngology\n"
     ]
    },
    {
     "name": "stderr",
     "output_type": "stream",
     "text": [
      "100%|██████████| 128/128 [01:08<00:00,  1.86it/s]\n"
     ]
    },
    {
     "name": "stdout",
     "output_type": "stream",
     "text": [
      "6 Radiation Oncology\n"
     ]
    },
    {
     "name": "stderr",
     "output_type": "stream",
     "text": [
      " 38%|███▊      | 34/90 [00:17<00:25,  2.22it/s]"
     ]
    },
    {
     "name": "stdout",
     "output_type": "stream",
     "text": [
      "Radiation Oncology https://www.doximity.com/residency/programs/a70a555e-dc8d-4d3c-bb0f-8794b9fc0fe0-oregon-health-science-university-radiation-oncology\n"
     ]
    },
    {
     "name": "stderr",
     "output_type": "stream",
     "text": [
      "100%|██████████| 90/90 [00:45<00:00,  1.96it/s]\n"
     ]
    },
    {
     "name": "stdout",
     "output_type": "stream",
     "text": [
      "7 Urology\n"
     ]
    },
    {
     "name": "stderr",
     "output_type": "stream",
     "text": [
      " 50%|█████     | 74/147 [00:37<00:44,  1.63it/s]"
     ]
    },
    {
     "name": "stdout",
     "output_type": "stream",
     "text": [
      "Urology https://www.doximity.com/residency/programs/8749b81c-242b-4809-8438-aed330f8cbb9-sidney-kimmel-medical-college-at-thomas-jefferson-university-tjuh-urology\n"
     ]
    },
    {
     "name": "stderr",
     "output_type": "stream",
     "text": [
      "100%|██████████| 147/147 [01:16<00:00,  1.92it/s]\n"
     ]
    },
    {
     "name": "stdout",
     "output_type": "stream",
     "text": [
      "8 Preventive Medicine\n"
     ]
    },
    {
     "name": "stderr",
     "output_type": "stream",
     "text": [
      "100%|██████████| 72/72 [00:36<00:00,  1.98it/s]\n"
     ]
    },
    {
     "name": "stdout",
     "output_type": "stream",
     "text": [
      "9 Plastic Surgery (Integrated)\n"
     ]
    },
    {
     "name": "stderr",
     "output_type": "stream",
     "text": [
      "100%|██████████| 86/86 [00:47<00:00,  1.80it/s]\n"
     ]
    },
    {
     "name": "stdout",
     "output_type": "stream",
     "text": [
      "10 Emergency Medicine\n"
     ]
    },
    {
     "name": "stderr",
     "output_type": "stream",
     "text": [
      "100%|██████████| 276/276 [02:16<00:00,  2.03it/s]\n"
     ]
    },
    {
     "name": "stdout",
     "output_type": "stream",
     "text": [
      "11 Vascular Surgery (Integrated)\n"
     ]
    },
    {
     "name": "stderr",
     "output_type": "stream",
     "text": [
      "100%|██████████| 69/69 [00:33<00:00,  2.08it/s]\n"
     ]
    },
    {
     "name": "stdout",
     "output_type": "stream",
     "text": [
      "12 Surgery\n"
     ]
    },
    {
     "name": "stderr",
     "output_type": "stream",
     "text": [
      "100%|██████████| 345/345 [03:01<00:00,  1.90it/s]\n"
     ]
    },
    {
     "name": "stdout",
     "output_type": "stream",
     "text": [
      "13 Family Medicine\n"
     ]
    },
    {
     "name": "stderr",
     "output_type": "stream",
     "text": [
      " 69%|██████▉   | 494/718 [04:06<01:52,  2.00it/s]"
     ]
    },
    {
     "name": "stdout",
     "output_type": "stream",
     "text": [
      "Family Medicine https://www.doximity.com/residency/programs/3a025aea-535d-4b8b-b4e5-e5dd369e40f6-st-peter-hospital-elma-family-medicine\n"
     ]
    },
    {
     "name": "stderr",
     "output_type": "stream",
     "text": [
      "100%|██████████| 718/718 [06:02<00:00,  1.98it/s]\n"
     ]
    },
    {
     "name": "stdout",
     "output_type": "stream",
     "text": [
      "14 Dermatology\n"
     ]
    },
    {
     "name": "stderr",
     "output_type": "stream",
     "text": [
      " 43%|████▎     | 61/143 [00:33<00:51,  1.59it/s]"
     ]
    },
    {
     "name": "stdout",
     "output_type": "stream",
     "text": [
      "Dermatology https://www.doximity.com/residency/programs/0d3450a6-cfb2-4df2-836d-082fa7ebdf01-nuvance-health-dermatology\n"
     ]
    },
    {
     "name": "stderr",
     "output_type": "stream",
     "text": [
      "100%|██████████| 143/143 [01:16<00:00,  1.87it/s]\n"
     ]
    },
    {
     "name": "stdout",
     "output_type": "stream",
     "text": [
      "15 Psychiatry\n"
     ]
    },
    {
     "name": "stderr",
     "output_type": "stream",
     "text": [
      "100%|██████████| 289/289 [02:41<00:00,  1.79it/s]\n"
     ]
    },
    {
     "name": "stdout",
     "output_type": "stream",
     "text": [
      "16 Nuclear Medicine\n"
     ]
    },
    {
     "name": "stderr",
     "output_type": "stream",
     "text": [
      " 14%|█▎        | 5/37 [00:02<00:16,  1.95it/s]"
     ]
    },
    {
     "name": "stdout",
     "output_type": "stream",
     "text": [
      "Nuclear Medicine https://www.doximity.com/residency/programs/c6ca8ac8-1827-45c4-a29b-b009cf895bf0-indiana-university-school-of-medicine-nuclear-medicine\n"
     ]
    },
    {
     "name": "stderr",
     "output_type": "stream",
     "text": [
      " 19%|█▉        | 7/37 [00:03<00:14,  2.03it/s]"
     ]
    },
    {
     "name": "stdout",
     "output_type": "stream",
     "text": [
      "Nuclear Medicine https://www.doximity.com/residency/programs/e8d0460a-cf98-48a0-9a02-2baef9ab681b-medical-university-of-south-carolina-nuclear-medicine\n"
     ]
    },
    {
     "name": "stderr",
     "output_type": "stream",
     "text": [
      " 32%|███▏      | 12/37 [00:06<00:12,  1.93it/s]"
     ]
    },
    {
     "name": "stdout",
     "output_type": "stream",
     "text": [
      "Nuclear Medicine https://www.doximity.com/residency/programs/b5388d3b-2926-4a4b-8d30-e37299f97ebc-oregon-health-science-university-nuclear-medicine\n"
     ]
    },
    {
     "name": "stderr",
     "output_type": "stream",
     "text": [
      " 35%|███▌      | 13/37 [00:06<00:12,  2.00it/s]"
     ]
    },
    {
     "name": "stdout",
     "output_type": "stream",
     "text": [
      "Nuclear Medicine https://www.doximity.com/residency/programs/1f32e6fb-55ab-44fd-9180-0072ac46e51d-penn-state-milton-s-hershey-medical-center-nuclear-medicine\n"
     ]
    },
    {
     "name": "stderr",
     "output_type": "stream",
     "text": [
      " 38%|███▊      | 14/37 [00:06<00:11,  2.02it/s]"
     ]
    },
    {
     "name": "stdout",
     "output_type": "stream",
     "text": [
      "Nuclear Medicine https://www.doximity.com/residency/programs/0fd5c3a1-fda9-456c-9c83-f5c57fa39381-rush-university-medical-center-nuclear-medicine\n"
     ]
    },
    {
     "name": "stderr",
     "output_type": "stream",
     "text": [
      " 78%|███████▊  | 29/37 [00:15<00:03,  2.05it/s]"
     ]
    },
    {
     "name": "stdout",
     "output_type": "stream",
     "text": [
      "Nuclear Medicine https://www.doximity.com/residency/programs/1affb419-3c24-49f4-8832-cffd86b08355-university-of-missouri-columbia-nuclear-medicine\n"
     ]
    },
    {
     "name": "stderr",
     "output_type": "stream",
     "text": [
      " 81%|████████  | 30/37 [00:15<00:03,  2.01it/s]"
     ]
    },
    {
     "name": "stdout",
     "output_type": "stream",
     "text": [
      "Nuclear Medicine https://www.doximity.com/residency/programs/c79be661-11c8-4ee3-8005-f657dd280d05-university-of-oklahoma-health-sciences-center-nuclear-medicine\n"
     ]
    },
    {
     "name": "stderr",
     "output_type": "stream",
     "text": [
      " 95%|█████████▍| 35/37 [00:18<00:01,  1.90it/s]"
     ]
    },
    {
     "name": "stdout",
     "output_type": "stream",
     "text": [
      "Nuclear Medicine https://www.doximity.com/residency/programs/dac7b484-9c6d-44f8-ad40-ccd53ce3bfda-university-of-wisconsin-hospitals-and-clinics-nuclear-medicine\n"
     ]
    },
    {
     "name": "stderr",
     "output_type": "stream",
     "text": [
      " 97%|█████████▋| 36/37 [00:19<00:00,  1.73it/s]"
     ]
    },
    {
     "name": "stdout",
     "output_type": "stream",
     "text": [
      "Nuclear Medicine https://www.doximity.com/residency/programs/4da4d488-956e-4a89-bbef-7e5866470999-vanderbilt-university-medical-center-nuclear-medicine\n"
     ]
    },
    {
     "name": "stderr",
     "output_type": "stream",
     "text": [
      "100%|██████████| 37/37 [00:19<00:00,  1.89it/s]\n"
     ]
    },
    {
     "name": "stdout",
     "output_type": "stream",
     "text": [
      "17 Neurological Surgery\n"
     ]
    },
    {
     "name": "stderr",
     "output_type": "stream",
     "text": [
      "100%|██████████| 116/116 [01:06<00:00,  1.75it/s]\n"
     ]
    },
    {
     "name": "stdout",
     "output_type": "stream",
     "text": [
      "18 Interventional Radiology (Integrated)\n"
     ]
    },
    {
     "name": "stderr",
     "output_type": "stream",
     "text": [
      "  2%|▏         | 2/92 [00:01<01:00,  1.48it/s]"
     ]
    },
    {
     "name": "stdout",
     "output_type": "stream",
     "text": [
      "Interventional Radiology (Integrated) https://www.doximity.com/residency/programs/398b8232-51ee-47ce-8cd8-b91fe28dbb03-albert-einstein-healthcare-network-interventional-radiology-integrated\n"
     ]
    },
    {
     "name": "stderr",
     "output_type": "stream",
     "text": [
      "  3%|▎         | 3/92 [00:01<00:51,  1.73it/s]"
     ]
    },
    {
     "name": "stdout",
     "output_type": "stream",
     "text": [
      "Interventional Radiology (Integrated) https://www.doximity.com/residency/programs/b2c6f88a-e542-4779-b597-f8a8b3d609a3-aurora-health-care-interventional-radiology-integrated\n"
     ]
    },
    {
     "name": "stderr",
     "output_type": "stream",
     "text": [
      " 54%|█████▍    | 50/92 [00:25<00:24,  1.70it/s]"
     ]
    },
    {
     "name": "stdout",
     "output_type": "stream",
     "text": [
      "Interventional Radiology (Integrated) https://www.doximity.com/residency/programs/b372dd77-e924-4fe4-b824-49797ea20b4b-temple-university-hospital-interventional-radiology-integrated\n"
     ]
    },
    {
     "name": "stderr",
     "output_type": "stream",
     "text": [
      "100%|██████████| 92/92 [00:49<00:00,  1.87it/s]\n"
     ]
    },
    {
     "name": "stdout",
     "output_type": "stream",
     "text": [
      "19 Pathology (Anatomic & Clinical)\n"
     ]
    },
    {
     "name": "stderr",
     "output_type": "stream",
     "text": [
      "100%|██████████| 144/144 [01:16<00:00,  1.89it/s]\n"
     ]
    },
    {
     "name": "stdout",
     "output_type": "stream",
     "text": [
      "20 Orthopaedic Surgery\n"
     ]
    },
    {
     "name": "stderr",
     "output_type": "stream",
     "text": [
      "100%|██████████| 202/202 [01:52<00:00,  1.80it/s]\n"
     ]
    },
    {
     "name": "stdout",
     "output_type": "stream",
     "text": [
      "21 Internal Medicine\n"
     ]
    },
    {
     "name": "stderr",
     "output_type": "stream",
     "text": [
      "100%|██████████| 596/596 [04:56<00:00,  2.01it/s]\n"
     ]
    },
    {
     "name": "stdout",
     "output_type": "stream",
     "text": [
      "22 Anesthesiology\n"
     ]
    },
    {
     "name": "stderr",
     "output_type": "stream",
     "text": [
      "100%|██████████| 163/163 [01:22<00:00,  1.97it/s]\n"
     ]
    },
    {
     "name": "stdout",
     "output_type": "stream",
     "text": [
      "23 Obstetrics & Gynecology\n"
     ]
    },
    {
     "name": "stderr",
     "output_type": "stream",
     "text": [
      "100%|██████████| 296/296 [02:32<00:00,  1.94it/s]\n"
     ]
    },
    {
     "name": "stdout",
     "output_type": "stream",
     "text": [
      "24 Medical Genetics\n"
     ]
    },
    {
     "name": "stderr",
     "output_type": "stream",
     "text": [
      "100%|██████████| 44/44 [00:22<00:00,  1.99it/s]\n"
     ]
    },
    {
     "name": "stdout",
     "output_type": "stream",
     "text": [
      "25 Ophthalmology\n"
     ]
    },
    {
     "name": "stderr",
     "output_type": "stream",
     "text": [
      "100%|██████████| 124/124 [01:02<00:00,  1.98it/s]\n"
     ]
    },
    {
     "name": "stdout",
     "output_type": "stream",
     "text": [
      "26 Radiology (Diagnostic)\n"
     ]
    },
    {
     "name": "stderr",
     "output_type": "stream",
     "text": [
      " 63%|██████▎   | 124/197 [01:03<00:41,  1.75it/s]"
     ]
    },
    {
     "name": "stdout",
     "output_type": "stream",
     "text": [
      "Radiology (Diagnostic) https://www.doximity.com/residency/programs/7a0b2d78-6201-478c-be3a-252c705789d2-temple-university-hospital-radiology-diagnostic\n"
     ]
    },
    {
     "name": "stderr",
     "output_type": "stream",
     "text": [
      "100%|██████████| 197/197 [01:40<00:00,  1.97it/s]\n"
     ]
    },
    {
     "name": "stdout",
     "output_type": "stream",
     "text": [
      "27 Thoracic Surgery (Integrated)\n"
     ]
    },
    {
     "name": "stderr",
     "output_type": "stream",
     "text": [
      "100%|██████████| 34/34 [00:18<00:00,  1.86it/s]\n"
     ]
    }
   ],
   "source": [
    "specialty_state_positions = {}\n",
    "print(len(specialty_to_location.keys()))\n",
    "counter = 0\n",
    "for specialty in specialty_to_location.keys():\n",
    "    print(counter, specialty)\n",
    "    locations = specialty_to_location[specialty]\n",
    "    specialty_state_positions[specialty] = {}\n",
    "    for location in tqdm(locations):\n",
    "        data = requests.get(specialty_url+location)\n",
    "        soup = BeautifulSoup(data.text, 'html.parser')\n",
    "        mydivs = soup.find_all('div', {\"data-residency-positions-per-cycle=\": \"\"})\n",
    "\n",
    "        try:\n",
    "            mydivs = mydivs[0].find_all('main',{\"class\", \"page\"})#,  class=\"residency-program-metric-icon\"\n",
    "            mydivs = mydivs[0].find_all('div', {\"class\": \"residency-program-details-show\"})\n",
    "            mydivs = mydivs[0].find_all('div', {\"class\": \"fs-unmask\"})\n",
    "            mydivs = mydivs[0].find_all('div', {\"class\": \"residency-program-metric-container\"})\n",
    "            mydivs = mydivs[0].find_all('strong', {\"class\": \"metric-box-number\"})\n",
    "            positions = mydivs[0].text.split('\\n')[1].split(\"  \")[-1].split(' ')[0]\n",
    "\n",
    "            mydivs = soup.find_all('div', {\"data-residency-positions-per-cycle=\": \"\"})\n",
    "            mydivs = mydivs[0].find_all('main',{\"class\", \"page\"})#,  class=\"residency-program-metric-icon\"\n",
    "            mydivs = mydivs[0].find_all('div', {\"class\": \"residency-program-details-show\"})\n",
    "            mydivs = mydivs[0].find_all('div', {\"class\": \"fs-unmask\"})\n",
    "            mydivs = mydivs[0].find_all('p', {\"class\": \"residency-program-hero-subtitle\"})\n",
    "            state = mydivs[0].text.split('\\n')[1].split(' ')[-1]\n",
    "\n",
    "            if state not in specialty_state_positions[specialty]:\n",
    "                specialty_state_positions[specialty][state] = int(positions)\n",
    "            else:\n",
    "                specialty_state_positions[specialty][state] += int(positions)\n",
    "        except:\n",
    "            print(specialty, specialty_url+location)\n",
    "    counter += 1\n",
    "        "
   ]
  },
  {
   "cell_type": "code",
   "execution_count": 10,
   "metadata": {},
   "outputs": [],
   "source": [
    "with open('specialty_state_positions.pickle', 'wb') as handle:\n",
    "    pickle.dump(specialty_state_positions, handle, protocol=pickle.HIGHEST_PROTOCOL)"
   ]
  },
  {
   "cell_type": "code",
   "execution_count": 11,
   "metadata": {},
   "outputs": [
    {
     "data": {
      "text/plain": [
       "{'Physical Medicine & Rehabilitation': {'NY': 86,\n",
       "  'PA': 53,\n",
       "  'TX': 38,\n",
       "  'MI': 28,\n",
       "  'NC': 14,\n",
       "  'OH': 23,\n",
       "  'VA': 13,\n",
       "  'GA': 6,\n",
       "  'NV': 5,\n",
       "  'AZ': 2,\n",
       "  'IN': 4,\n",
       "  'NJ': 14,\n",
       "  'MD': 17,\n",
       "  'FL': 39,\n",
       "  'CA': 32,\n",
       "  'LA': 6,\n",
       "  'IL': 25,\n",
       "  'MN': 12,\n",
       "  'DC': 6,\n",
       "  'WI': 9,\n",
       "  'WA': 11,\n",
       "  'MA': 14,\n",
       "  'AL': 4,\n",
       "  'AR': 4,\n",
       "  'CO': 6,\n",
       "  'CT': 4,\n",
       "  'KS': 4,\n",
       "  'KY': 9,\n",
       "  'MO': 8,\n",
       "  'NE': 4,\n",
       "  'NM': 5,\n",
       "  'PR': 6,\n",
       "  'UT': 6,\n",
       "  'TN': 4},\n",
       " 'Pediatrics': {'FL': 193,\n",
       "  'IL': 154,\n",
       "  'NY': 482,\n",
       "  'PA': 152,\n",
       "  'MI': 126,\n",
       "  'IN': 35,\n",
       "  'NJ': 92,\n",
       "  'GA': 71,\n",
       "  'TX': 247,\n",
       "  'RI': 18,\n",
       "  'VA': 86,\n",
       "  'NC': 76,\n",
       "  'OH': 190,\n",
       "  'IA': 23,\n",
       "  'WV': 19,\n",
       "  'CA': 328,\n",
       "  'MA': 89,\n",
       "  'DC': 51,\n",
       "  'MO': 85,\n",
       "  'NH': 7,\n",
       "  'TN': 68,\n",
       "  'ID': 4,\n",
       "  'PR': 32,\n",
       "  'MD': 64,\n",
       "  'NV': 13,\n",
       "  'LA': 50,\n",
       "  'WA': 51,\n",
       "  'ME': 6,\n",
       "  'WI': 47,\n",
       "  'MN': 37,\n",
       "  'SC': 41,\n",
       "  'OK': 44,\n",
       "  'OR': 18,\n",
       "  'AZ': 62,\n",
       "  'DE': 22,\n",
       "  'HI': 17,\n",
       "  'AL': 39,\n",
       "  'AR': 25,\n",
       "  'CO': 33,\n",
       "  'CT': 41,\n",
       "  'KS': 5,\n",
       "  'KY': 41,\n",
       "  'MS': 16,\n",
       "  'NE': 15,\n",
       "  'NM': 21,\n",
       "  'SD': 6,\n",
       "  'UT': 22,\n",
       "  'VT': 7},\n",
       " 'Child Neurology': {'TX': 16,\n",
       "  'MA': 13,\n",
       "  'OH': 13,\n",
       "  'CA': 18,\n",
       "  'PA': 13,\n",
       "  'MO': 10,\n",
       "  'DC': 4,\n",
       "  'MI': 8,\n",
       "  'NC': 6,\n",
       "  'GA': 5,\n",
       "  'NY': 16,\n",
       "  'IN': 1,\n",
       "  'NJ': 3,\n",
       "  'MD': 5,\n",
       "  'LA': 1,\n",
       "  'FL': 3,\n",
       "  'MN': 2,\n",
       "  'IL': 5,\n",
       "  'WI': 3,\n",
       "  'SC': 1,\n",
       "  'OR': 1,\n",
       "  'AZ': 4,\n",
       "  'AL': 2,\n",
       "  'AR': 1,\n",
       "  'CO': 4,\n",
       "  'IA': 2,\n",
       "  'KY': 5,\n",
       "  'MS': 1,\n",
       "  'NM': 1,\n",
       "  'PR': 1,\n",
       "  'TN': 6,\n",
       "  'UT': 3,\n",
       "  'VA': 2,\n",
       "  'WA': 3,\n",
       "  'CT': 2},\n",
       " 'Medicine/Pediatrics': {'NY': 24,\n",
       "  'TX': 21,\n",
       "  'MI': 33,\n",
       "  'MA': 21,\n",
       "  'RI': 4,\n",
       "  'OH': 27,\n",
       "  'NC': 18,\n",
       "  'PA': 19,\n",
       "  'IN': 14,\n",
       "  'MD': 8,\n",
       "  'CA': 18,\n",
       "  'LA': 17,\n",
       "  'IL': 24,\n",
       "  'ME': 4,\n",
       "  'WV': 6,\n",
       "  'WI': 8,\n",
       "  'DC': 4,\n",
       "  'SC': 9,\n",
       "  'NJ': 4,\n",
       "  'DE': 6,\n",
       "  'AL': 6,\n",
       "  'AZ': 6,\n",
       "  'AR': 4,\n",
       "  'CO': 4,\n",
       "  'KS': 3,\n",
       "  'KY': 11,\n",
       "  'FL': 10,\n",
       "  'MN': 12,\n",
       "  'MS': 5,\n",
       "  'MO': 10,\n",
       "  'NE': 4,\n",
       "  'OK': 6,\n",
       "  'PR': 2,\n",
       "  'TN': 20,\n",
       "  'UT': 3,\n",
       "  'VA': 6,\n",
       "  'CT': 4},\n",
       " 'Neurology': {'NY': 123,\n",
       "  'PA': 74,\n",
       "  'CA': 86,\n",
       "  'MI': 46,\n",
       "  'AZ': 23,\n",
       "  'TX': 78,\n",
       "  'MA': 51,\n",
       "  'RI': 6,\n",
       "  'VA': 17,\n",
       "  'IL': 46,\n",
       "  'OH': 58,\n",
       "  'FL': 62,\n",
       "  'NJ': 22,\n",
       "  'NE': 8,\n",
       "  'NH': 5,\n",
       "  'NC': 20,\n",
       "  'GA': 15,\n",
       "  'DC': 13,\n",
       "  'CO': 15,\n",
       "  'NV': 5,\n",
       "  'IN': 10,\n",
       "  'MD': 21,\n",
       "  'LA': 16,\n",
       "  'WA': 10,\n",
       "  'ME': 4,\n",
       "  'WV': 12,\n",
       "  'MN': 15,\n",
       "  'WI': 13,\n",
       "  'SC': 20,\n",
       "  'OR': 5,\n",
       "  'MO': 26,\n",
       "  'AL': 14,\n",
       "  'ND': 3,\n",
       "  'AR': 4,\n",
       "  'CT': 17,\n",
       "  'IA': 8,\n",
       "  'KS': 8,\n",
       "  'KY': 11,\n",
       "  'MS': 4,\n",
       "  'NM': 5,\n",
       "  'OK': 6,\n",
       "  'PR': 3,\n",
       "  'TN': 14,\n",
       "  'UT': 8,\n",
       "  'VT': 5},\n",
       " 'Otolaryngology': {'NY': 34,\n",
       "  'PA': 28,\n",
       "  'MI': 19,\n",
       "  'TX': 24,\n",
       "  'MA': 13,\n",
       "  'OH': 21,\n",
       "  'CA': 37,\n",
       "  'NJ': 4,\n",
       "  'NH': 1,\n",
       "  'NC': 11,\n",
       "  'VA': 11,\n",
       "  'GA': 6,\n",
       "  'DC': 4,\n",
       "  'IN': 4,\n",
       "  'MD': 10,\n",
       "  'MO': 10,\n",
       "  'NV': 1,\n",
       "  'LA': 10,\n",
       "  'IL': 16,\n",
       "  'WA': 6,\n",
       "  'FL': 12,\n",
       "  'AZ': 4,\n",
       "  'MN': 9,\n",
       "  'WI': 6,\n",
       "  'SC': 4,\n",
       "  'OK': 3,\n",
       "  'OR': 3,\n",
       "  'HI': 2,\n",
       "  'AL': 4,\n",
       "  'AR': 3,\n",
       "  'CO': 4,\n",
       "  'CT': 5,\n",
       "  'IA': 5,\n",
       "  'KS': 4,\n",
       "  'KY': 7,\n",
       "  'MS': 3,\n",
       "  'NE': 3,\n",
       "  'NM': 2,\n",
       "  'PR': 2,\n",
       "  'TN': 9,\n",
       "  'UT': 3,\n",
       "  'VT': 1,\n",
       "  'WV': 3},\n",
       " 'Radiation Oncology': {'PA': 11,\n",
       "  'TX': 16,\n",
       "  'MI': 8,\n",
       "  'MA': 9,\n",
       "  'OH': 8,\n",
       "  'CA': 21,\n",
       "  'NH': 1,\n",
       "  'NC': 6,\n",
       "  'GA': 4,\n",
       "  'NY': 23,\n",
       "  'IN': 2,\n",
       "  'MD': 8,\n",
       "  'IL': 8,\n",
       "  'AZ': 2,\n",
       "  'FL': 8,\n",
       "  'MN': 4,\n",
       "  'DC': 1,\n",
       "  'WI': 4,\n",
       "  'SC': 1,\n",
       "  'NJ': 2,\n",
       "  'AL': 3,\n",
       "  'AR': 1,\n",
       "  'CO': 2,\n",
       "  'IA': 1,\n",
       "  'KS': 1,\n",
       "  'KY': 2,\n",
       "  'MS': 1,\n",
       "  'NE': 1,\n",
       "  'OK': 1,\n",
       "  'TN': 3,\n",
       "  'UT': 2,\n",
       "  'VA': 3,\n",
       "  'WA': 2,\n",
       "  'MO': 4,\n",
       "  'WV': 1,\n",
       "  'CT': 3},\n",
       " 'Urology': {'OH': 17,\n",
       "  'NY': 47,\n",
       "  'PA': 23,\n",
       "  'MI': 20,\n",
       "  'TX': 27,\n",
       "  'MA': 15,\n",
       "  'RI': 2,\n",
       "  'NC': 12,\n",
       "  'CA': 32,\n",
       "  'WV': 4,\n",
       "  'IL': 20,\n",
       "  'NJ': 10,\n",
       "  'NE': 4,\n",
       "  'NH': 2,\n",
       "  'VA': 7,\n",
       "  'GA': 7,\n",
       "  'DC': 5,\n",
       "  'IN': 4,\n",
       "  'MD': 7,\n",
       "  'FL': 16,\n",
       "  'LA': 10,\n",
       "  'WA': 6,\n",
       "  'ME': 1,\n",
       "  'AZ': 5,\n",
       "  'MN': 8,\n",
       "  'WI': 6,\n",
       "  'SC': 3,\n",
       "  'OR': 3,\n",
       "  'MO': 7,\n",
       "  'HI': 1,\n",
       "  'AL': 3,\n",
       "  'AR': 2,\n",
       "  'CO': 3,\n",
       "  'CT': 6,\n",
       "  'IA': 3,\n",
       "  'KS': 4,\n",
       "  'KY': 5,\n",
       "  'MS': 2,\n",
       "  'NM': 3,\n",
       "  'OK': 4,\n",
       "  'PR': 2,\n",
       "  'TN': 10,\n",
       "  'UT': 3,\n",
       "  'VT': 1},\n",
       " 'Preventive Medicine': {'MA': 13,\n",
       "  'CA': 36,\n",
       "  'OH': 21,\n",
       "  'GA': 13,\n",
       "  'IL': 5,\n",
       "  'NH': 20,\n",
       "  'NC': 12,\n",
       "  'FL': 24,\n",
       "  'CT': 7,\n",
       "  'MN': 6,\n",
       "  'NY': 21,\n",
       "  'MD': 36,\n",
       "  'WA': 9,\n",
       "  'ME': 2,\n",
       "  'TN': 5,\n",
       "  'SC': 4,\n",
       "  'NJ': 4,\n",
       "  'NV': 2,\n",
       "  'TX': 18,\n",
       "  'LA': 4,\n",
       "  'AL': 24,\n",
       "  'CO': 6,\n",
       "  'KY': 4,\n",
       "  'MI': 7,\n",
       "  'MS': 2,\n",
       "  'NM': 4,\n",
       "  'PA': 8,\n",
       "  'UT': 10,\n",
       "  'WI': 2,\n",
       "  'WV': 4},\n",
       " 'Plastic Surgery (Integrated)': {'NY': 18,\n",
       "  'TX': 16,\n",
       "  'MA': 7,\n",
       "  'RI': 2,\n",
       "  'VA': 7,\n",
       "  'OH': 11,\n",
       "  'NJ': 4,\n",
       "  'NH': 1,\n",
       "  'NC': 8,\n",
       "  'GA': 2,\n",
       "  'PA': 10,\n",
       "  'IN': 2,\n",
       "  'MD': 4,\n",
       "  'NV': 1,\n",
       "  'FL': 10,\n",
       "  'CA': 21,\n",
       "  'LA': 2,\n",
       "  'IL': 9,\n",
       "  'AZ': 1,\n",
       "  'MN': 6,\n",
       "  'DC': 4,\n",
       "  'WI': 5,\n",
       "  'SC': 2,\n",
       "  'OR': 3,\n",
       "  'MI': 6,\n",
       "  'MO': 8,\n",
       "  'AL': 2,\n",
       "  'CO': 2,\n",
       "  'IA': 1,\n",
       "  'KS': 3,\n",
       "  'KY': 4,\n",
       "  'MS': 2,\n",
       "  'NM': 1,\n",
       "  'UT': 2,\n",
       "  'WA': 5,\n",
       "  'TN': 1,\n",
       "  'WV': 1,\n",
       "  'CT': 3},\n",
       " 'Emergency Medicine': {'IL': 150,\n",
       "  'AZ': 56,\n",
       "  'FL': 223,\n",
       "  'OH': 171,\n",
       "  'CA': 291,\n",
       "  'NY': 378,\n",
       "  'PA': 243,\n",
       "  'MI': 254,\n",
       "  'NJ': 121,\n",
       "  'TX': 207,\n",
       "  'MA': 72,\n",
       "  'RI': 22,\n",
       "  'NC': 85,\n",
       "  'VA': 75,\n",
       "  'WV': 16,\n",
       "  'DE': 16,\n",
       "  'GA': 72,\n",
       "  'NH': 6,\n",
       "  'CO': 17,\n",
       "  'DC': 21,\n",
       "  'NV': 31,\n",
       "  'SC': 55,\n",
       "  'MN': 35,\n",
       "  'PR': 17,\n",
       "  'IN': 22,\n",
       "  'OK': 38,\n",
       "  'MD': 30,\n",
       "  'MO': 50,\n",
       "  'LA': 48,\n",
       "  'WA': 24,\n",
       "  'MS': 28,\n",
       "  'ME': 10,\n",
       "  'WI': 25,\n",
       "  'OR': 11,\n",
       "  'AL': 18,\n",
       "  'AR': 20,\n",
       "  'CT': 37,\n",
       "  'IA': 10,\n",
       "  'KS': 10,\n",
       "  'KY': 25,\n",
       "  'NE': 12,\n",
       "  'NM': 12,\n",
       "  'TN': 37,\n",
       "  'UT': 12,\n",
       "  'VT': 6},\n",
       " 'Vascular Surgery (Integrated)': {'NY': 11,\n",
       "  'PA': 6,\n",
       "  'TX': 6,\n",
       "  'MA': 5,\n",
       "  'IL': 4,\n",
       "  'OH': 7,\n",
       "  'WV': 1,\n",
       "  'NJ': 4,\n",
       "  'NH': 1,\n",
       "  'NC': 2,\n",
       "  'VA': 1,\n",
       "  'GA': 2,\n",
       "  'IN': 1,\n",
       "  'CA': 10,\n",
       "  'LA': 2,\n",
       "  'ME': 1,\n",
       "  'MN': 2,\n",
       "  'DC': 2,\n",
       "  'SC': 2,\n",
       "  'MI': 2,\n",
       "  'MO': 2,\n",
       "  'AL': 1,\n",
       "  'AZ': 1,\n",
       "  'AR': 1,\n",
       "  'CO': 1,\n",
       "  'IA': 1,\n",
       "  'FL': 3,\n",
       "  'WA': 2,\n",
       "  'WI': 1,\n",
       "  'CT': 1},\n",
       " 'Surgery': {'IL': 81,\n",
       "  'PA': 136,\n",
       "  'AZ': 47,\n",
       "  'FL': 122,\n",
       "  'OH': 100,\n",
       "  'NY': 259,\n",
       "  'MD': 43,\n",
       "  'CA': 160,\n",
       "  'MI': 115,\n",
       "  'IN': 21,\n",
       "  'NJ': 71,\n",
       "  'GA': 46,\n",
       "  'TN': 46,\n",
       "  'DE': 10,\n",
       "  'TX': 139,\n",
       "  'MA': 79,\n",
       "  'AL': 22,\n",
       "  'RI': 9,\n",
       "  'NC': 56,\n",
       "  'VA': 40,\n",
       "  'IA': 16,\n",
       "  'WV': 14,\n",
       "  'NE': 12,\n",
       "  'CT': 33,\n",
       "  'NH': 6,\n",
       "  'DC': 24,\n",
       "  'WI': 23,\n",
       "  'CO': 30,\n",
       "  'KS': 17,\n",
       "  'NV': 15,\n",
       "  'SC': 30,\n",
       "  'MN': 29,\n",
       "  'PR': 11,\n",
       "  'MO': 29,\n",
       "  'MS': 11,\n",
       "  'LA': 37,\n",
       "  'WA': 29,\n",
       "  'ME': 5,\n",
       "  'OK': 14,\n",
       "  'OR': 18,\n",
       "  'HI': 9,\n",
       "  'AR': 7,\n",
       "  'KY': 24,\n",
       "  'NM': 8,\n",
       "  'ND': 5,\n",
       "  'SD': 4,\n",
       "  'UT': 7,\n",
       "  'VT': 4},\n",
       " 'Family Medicine': {'IL': 275,\n",
       "  'PA': 388,\n",
       "  'AZ': 77,\n",
       "  'WV': 51,\n",
       "  'OH': 230,\n",
       "  'FL': 245,\n",
       "  'CA': 615,\n",
       "  'SC': 125,\n",
       "  'NY': 303,\n",
       "  'MN': 86,\n",
       "  'ND': 29,\n",
       "  'KY': 54,\n",
       "  'AR': 92,\n",
       "  'MI': 270,\n",
       "  'IN': 117,\n",
       "  'NJ': 138,\n",
       "  'NC': 160,\n",
       "  'GA': 144,\n",
       "  'WI': 124,\n",
       "  'TN': 85,\n",
       "  'MS': 60,\n",
       "  'AL': 90,\n",
       "  'LA': 68,\n",
       "  'DE': 25,\n",
       "  'TX': 370,\n",
       "  'MA': 55,\n",
       "  'PR': 26,\n",
       "  'VA': 124,\n",
       "  'IA': 64,\n",
       "  'SD': 17,\n",
       "  'ME': 34,\n",
       "  'WA': 169,\n",
       "  'NH': 16,\n",
       "  'MO': 80,\n",
       "  'NE': 48,\n",
       "  'CT': 27,\n",
       "  'ID': 47,\n",
       "  'CO': 90,\n",
       "  'NV': 50,\n",
       "  'HI': 21,\n",
       "  'NM': 41,\n",
       "  'DC': 6,\n",
       "  'OK': 91,\n",
       "  'RI': 16,\n",
       "  'UT': 30,\n",
       "  'MD': 35,\n",
       "  'MT': 20,\n",
       "  'OR': 58,\n",
       "  'AK': 12,\n",
       "  'KS': 43,\n",
       "  'VT': 6,\n",
       "  'WY': 15},\n",
       " 'Dermatology': {'TX': 50,\n",
       "  'MI': 25,\n",
       "  'MA': 22,\n",
       "  'FL': 42,\n",
       "  'RI': 4,\n",
       "  'NC': 17,\n",
       "  'VA': 11,\n",
       "  'OH': 25,\n",
       "  'IL': 25,\n",
       "  'NJ': 6,\n",
       "  'NH': 3,\n",
       "  'GA': 11,\n",
       "  'PA': 33,\n",
       "  'DC': 9,\n",
       "  'MN': 17,\n",
       "  'AZ': 9,\n",
       "  'NY': 58,\n",
       "  'IN': 3,\n",
       "  'MD': 16,\n",
       "  'CA': 53,\n",
       "  'LA': 9,\n",
       "  'WI': 12,\n",
       "  'SC': 5,\n",
       "  'OR': 8,\n",
       "  'MO': 15,\n",
       "  'AL': 6,\n",
       "  'AR': 3,\n",
       "  'CO': 6,\n",
       "  'CT': 9,\n",
       "  'IA': 5,\n",
       "  'KS': 5,\n",
       "  'KY': 2,\n",
       "  'MS': 4,\n",
       "  'NE': 2,\n",
       "  'NM': 3,\n",
       "  'OK': 3,\n",
       "  'PR': 3,\n",
       "  'TN': 8,\n",
       "  'UT': 4,\n",
       "  'VT': 2,\n",
       "  'WA': 4,\n",
       "  'WV': 2},\n",
       " 'Psychiatry': {'OH': 78,\n",
       "  'IL': 75,\n",
       "  'NY': 301,\n",
       "  'PA': 117,\n",
       "  'CA': 215,\n",
       "  'NJ': 59,\n",
       "  'AR': 17,\n",
       "  'FL': 139,\n",
       "  'TX': 163,\n",
       "  'MI': 93,\n",
       "  'MA': 94,\n",
       "  'RI': 9,\n",
       "  'NC': 72,\n",
       "  'VA': 49,\n",
       "  'WV': 21,\n",
       "  'DE': 10,\n",
       "  'GA': 45,\n",
       "  'IN': 25,\n",
       "  'NE': 10,\n",
       "  'AZ': 23,\n",
       "  'NH': 15,\n",
       "  'TN': 37,\n",
       "  'DC': 29,\n",
       "  'CO': 23,\n",
       "  'NV': 20,\n",
       "  'MN': 29,\n",
       "  'CT': 34,\n",
       "  'IA': 19,\n",
       "  'MD': 43,\n",
       "  'MO': 41,\n",
       "  'LA': 37,\n",
       "  'ME': 7,\n",
       "  'WI': 25,\n",
       "  'SC': 36,\n",
       "  'MS': 13,\n",
       "  'OK': 23,\n",
       "  'OR': 12,\n",
       "  'PR': 12,\n",
       "  'WA': 27,\n",
       "  'HI': 15,\n",
       "  'AL': 13,\n",
       "  'KS': 14,\n",
       "  'KY': 18,\n",
       "  'NM': 14,\n",
       "  'ND': 6,\n",
       "  'SD': 8,\n",
       "  'UT': 14,\n",
       "  'VT': 5,\n",
       "  'ID': 6},\n",
       " 'Nuclear Medicine': {'MA': 2,\n",
       "  'NC': 1,\n",
       "  'GA': 2,\n",
       "  'NY': 8,\n",
       "  'MD': 5,\n",
       "  'TX': 2,\n",
       "  'MO': 2,\n",
       "  'CA': 6,\n",
       "  'AL': 1,\n",
       "  'AR': 1,\n",
       "  'IA': 1,\n",
       "  'FL': 1,\n",
       "  'MI': 1,\n",
       "  'PR': 2,\n",
       "  'WA': 2},\n",
       " 'Neurological Surgery': {'NY': 23,\n",
       "  'PA': 18,\n",
       "  'MI': 8,\n",
       "  'AZ': 6,\n",
       "  'TX': 16,\n",
       "  'MA': 9,\n",
       "  'RI': 1,\n",
       "  'VA': 7,\n",
       "  'NC': 8,\n",
       "  'OH': 9,\n",
       "  'CA': 21,\n",
       "  'MD': 8,\n",
       "  'NH': 1,\n",
       "  'GA': 4,\n",
       "  'DC': 3,\n",
       "  'IN': 2,\n",
       "  'LA': 4,\n",
       "  'IL': 10,\n",
       "  'FL': 9,\n",
       "  'MN': 6,\n",
       "  'WI': 3,\n",
       "  'SC': 2,\n",
       "  'OR': 3,\n",
       "  'NJ': 2,\n",
       "  'MO': 5,\n",
       "  'AL': 3,\n",
       "  'AR': 2,\n",
       "  'CO': 2,\n",
       "  'CT': 3,\n",
       "  'IA': 2,\n",
       "  'KS': 2,\n",
       "  'KY': 4,\n",
       "  'MS': 1,\n",
       "  'NE': 2,\n",
       "  'OK': 1,\n",
       "  'TN': 5,\n",
       "  'UT': 2,\n",
       "  'VT': 1,\n",
       "  'WA': 3,\n",
       "  'WV': 1},\n",
       " 'Interventional Radiology (Integrated)': {'NY': 19,\n",
       "  'MI': 10,\n",
       "  'MA': 9,\n",
       "  'RI': 2,\n",
       "  'OH': 5,\n",
       "  'DE': 1,\n",
       "  'AZ': 5,\n",
       "  'NH': 3,\n",
       "  'NC': 5,\n",
       "  'GA': 5,\n",
       "  'PA': 9,\n",
       "  'DC': 3,\n",
       "  'IN': 2,\n",
       "  'MD': 5,\n",
       "  'CA': 17,\n",
       "  'LA': 3,\n",
       "  'ME': 1,\n",
       "  'FL': 7,\n",
       "  'MN': 3,\n",
       "  'IL': 10,\n",
       "  'WI': 3,\n",
       "  'SC': 2,\n",
       "  'OR': 1,\n",
       "  'NJ': 1,\n",
       "  'MO': 3,\n",
       "  'AL': 2,\n",
       "  'AR': 1,\n",
       "  'CO': 2,\n",
       "  'IA': 1,\n",
       "  'KS': 1,\n",
       "  'MS': 1,\n",
       "  'NE': 1,\n",
       "  'TX': 9,\n",
       "  'UT': 1,\n",
       "  'VA': 5,\n",
       "  'WA': 3,\n",
       "  'TN': 3,\n",
       "  'CT': 3},\n",
       " 'Pathology (Anatomic & Clinical)': {'NY': 75,\n",
       "  'PA': 39,\n",
       "  'MI': 19,\n",
       "  'TX': 53,\n",
       "  'MA': 40,\n",
       "  'AL': 13,\n",
       "  'RI': 4,\n",
       "  'OH': 28,\n",
       "  'CA': 60,\n",
       "  'NE': 5,\n",
       "  'CT': 13,\n",
       "  'NH': 3,\n",
       "  'NC': 18,\n",
       "  'TN': 13,\n",
       "  'GA': 13,\n",
       "  'DC': 9,\n",
       "  'FL': 23,\n",
       "  'IN': 5,\n",
       "  'MD': 21,\n",
       "  'LA': 9,\n",
       "  'IL': 29,\n",
       "  'WA': 10,\n",
       "  'MN': 12,\n",
       "  'WI': 9,\n",
       "  'SC': 5,\n",
       "  'OR': 3,\n",
       "  'CO': 8,\n",
       "  'NJ': 10,\n",
       "  'MO': 19,\n",
       "  'AZ': 4,\n",
       "  'AR': 4,\n",
       "  'HI': 2,\n",
       "  'IA': 5,\n",
       "  'KS': 4,\n",
       "  'KY': 7,\n",
       "  'MS': 4,\n",
       "  'NM': 4,\n",
       "  'OK': 4,\n",
       "  'PR': 2,\n",
       "  'SD': 2,\n",
       "  'UT': 5,\n",
       "  'VT': 4,\n",
       "  'VA': 10,\n",
       "  'WV': 3},\n",
       " 'Orthopaedic Surgery': {'OH': 61,\n",
       "  'NY': 101,\n",
       "  'PA': 71,\n",
       "  'MI': 65,\n",
       "  'TX': 65,\n",
       "  'MA': 26,\n",
       "  'FL': 36,\n",
       "  'RI': 6,\n",
       "  'NC': 27,\n",
       "  'CA': 78,\n",
       "  'NJ': 28,\n",
       "  'NH': 4,\n",
       "  'GA': 16,\n",
       "  'TN': 18,\n",
       "  'IL': 38,\n",
       "  'DC': 12,\n",
       "  'IN': 6,\n",
       "  'AL': 12,\n",
       "  'MD': 22,\n",
       "  'MO': 26,\n",
       "  'NV': 6,\n",
       "  'LA': 14,\n",
       "  'WA': 11,\n",
       "  'WV': 7,\n",
       "  'AZ': 11,\n",
       "  'MN': 21,\n",
       "  'WI': 11,\n",
       "  'SC': 12,\n",
       "  'VA': 14,\n",
       "  'OK': 8,\n",
       "  'OR': 8,\n",
       "  'HI': 5,\n",
       "  'ND': 3,\n",
       "  'AR': 6,\n",
       "  'CO': 7,\n",
       "  'CT': 10,\n",
       "  'IA': 6,\n",
       "  'KS': 8,\n",
       "  'KY': 10,\n",
       "  'MS': 4,\n",
       "  'NE': 5,\n",
       "  'NM': 5,\n",
       "  'PR': 4,\n",
       "  'UT': 6,\n",
       "  'VT': 3},\n",
       " 'Internal Medicine': {'IL': 536,\n",
       "  'MN': 127,\n",
       "  'PA': 712,\n",
       "  'AZ': 154,\n",
       "  'OH': 530,\n",
       "  'FL': 770,\n",
       "  'CA': 974,\n",
       "  'NY': 1694,\n",
       "  'MD': 293,\n",
       "  'KY': 78,\n",
       "  'GA': 321,\n",
       "  'AR': 101,\n",
       "  'MO': 178,\n",
       "  'MI': 521,\n",
       "  'IN': 102,\n",
       "  'NJ': 467,\n",
       "  'WI': 97,\n",
       "  'TX': 721,\n",
       "  'MS': 95,\n",
       "  'LA': 165,\n",
       "  'DE': 29,\n",
       "  'MA': 432,\n",
       "  'MT': 10,\n",
       "  'CT': 253,\n",
       "  'AL': 141,\n",
       "  'RI': 80,\n",
       "  'NC': 242,\n",
       "  'VA': 193,\n",
       "  'WV': 67,\n",
       "  'NE': 54,\n",
       "  'PR': 93,\n",
       "  'NH': 32,\n",
       "  'TN': 176,\n",
       "  'WA': 128,\n",
       "  'DC': 136,\n",
       "  'CO': 96,\n",
       "  'KS': 60,\n",
       "  'NV': 91,\n",
       "  'ID': 23,\n",
       "  'SC': 80,\n",
       "  'IA': 57,\n",
       "  'HI': 42,\n",
       "  'OR': 92,\n",
       "  'ME': 15,\n",
       "  'NM': 43,\n",
       "  'OK': 62,\n",
       "  'ND': 8,\n",
       "  'SD': 8,\n",
       "  'UT': 39,\n",
       "  'VT': 16},\n",
       " 'Anesthesiology': {'IL': 105,\n",
       "  'NY': 251,\n",
       "  'PA': 115,\n",
       "  'TX': 147,\n",
       "  'MI': 73,\n",
       "  'MA': 134,\n",
       "  'RI': 16,\n",
       "  'OH': 91,\n",
       "  'CA': 212,\n",
       "  'FL': 110,\n",
       "  'NJ': 41,\n",
       "  'NH': 10,\n",
       "  'NC': 47,\n",
       "  'GA': 27,\n",
       "  'DC': 20,\n",
       "  'NV': 8,\n",
       "  'SC': 21,\n",
       "  'IN': 28,\n",
       "  'MD': 55,\n",
       "  'LA': 36,\n",
       "  'ME': 8,\n",
       "  'AZ': 18,\n",
       "  'MN': 29,\n",
       "  'WI': 38,\n",
       "  'VA': 34,\n",
       "  'OK': 15,\n",
       "  'OR': 13,\n",
       "  'MO': 45,\n",
       "  'AL': 21,\n",
       "  'AR': 14,\n",
       "  'CO': 14,\n",
       "  'CT': 31,\n",
       "  'IA': 15,\n",
       "  'KS': 16,\n",
       "  'KY': 27,\n",
       "  'MS': 9,\n",
       "  'NE': 12,\n",
       "  'NM': 8,\n",
       "  'PR': 3,\n",
       "  'TN': 31,\n",
       "  'UT': 12,\n",
       "  'VT': 6,\n",
       "  'WA': 37,\n",
       "  'WV': 9},\n",
       " 'Obstetrics & Gynecology': {'IL': 69,\n",
       "  'PA': 100,\n",
       "  'CA': 127,\n",
       "  'OH': 90,\n",
       "  'NY': 180,\n",
       "  'MD': 30,\n",
       "  'MI': 102,\n",
       "  'IN': 15,\n",
       "  'NJ': 71,\n",
       "  'GA': 36,\n",
       "  'WI': 19,\n",
       "  'TN': 38,\n",
       "  'FL': 67,\n",
       "  'TX': 141,\n",
       "  'MA': 38,\n",
       "  'CT': 34,\n",
       "  'NC': 49,\n",
       "  'VA': 34,\n",
       "  'WV': 9,\n",
       "  'DE': 7,\n",
       "  'NE': 8,\n",
       "  'AZ': 22,\n",
       "  'NH': 4,\n",
       "  'DC': 22,\n",
       "  'KS': 14,\n",
       "  'NV': 10,\n",
       "  'SC': 19,\n",
       "  'PR': 13,\n",
       "  'LA': 30,\n",
       "  'WA': 17,\n",
       "  'ME': 5,\n",
       "  'MN': 14,\n",
       "  'MO': 33,\n",
       "  'OK': 19,\n",
       "  'OR': 7,\n",
       "  'CO': 14,\n",
       "  'HI': 11,\n",
       "  'AL': 12,\n",
       "  'AR': 5,\n",
       "  'IA': 6,\n",
       "  'KY': 14,\n",
       "  'MS': 6,\n",
       "  'NM': 6,\n",
       "  'UT': 8,\n",
       "  'VT': 3,\n",
       "  'RI': 8},\n",
       " 'Medical Genetics': {'TX': 9,\n",
       "  'OH': 6,\n",
       "  'PA': 3,\n",
       "  'MA': 4,\n",
       "  'DC': 1,\n",
       "  'MI': 5,\n",
       "  'NC': 4,\n",
       "  'GA': 1,\n",
       "  'SC': 2,\n",
       "  'NY': 7,\n",
       "  'IN': 2,\n",
       "  'MD': 8,\n",
       "  'MN': 1,\n",
       "  'WI': 3,\n",
       "  'OR': 2,\n",
       "  'CA': 14,\n",
       "  'AL': 3,\n",
       "  'CO': 2,\n",
       "  'IA': 1,\n",
       "  'FL': 1,\n",
       "  'NE': 1,\n",
       "  'OK': 2,\n",
       "  'UT': 1,\n",
       "  'WA': 2,\n",
       "  'TN': 1,\n",
       "  'VA': 1,\n",
       "  'MO': 1,\n",
       "  'CT': 2},\n",
       " 'Ophthalmology': {'NY': 76,\n",
       "  'MI': 27,\n",
       "  'TX': 43,\n",
       "  'MA': 18,\n",
       "  'RI': 3,\n",
       "  'CA': 48,\n",
       "  'OH': 23,\n",
       "  'IL': 23,\n",
       "  'NH': 2,\n",
       "  'NC': 14,\n",
       "  'VA': 10,\n",
       "  'GA': 9,\n",
       "  'PA': 31,\n",
       "  'DC': 13,\n",
       "  'FL': 23,\n",
       "  'IN': 6,\n",
       "  'MD': 18,\n",
       "  'LA': 18,\n",
       "  'WA': 7,\n",
       "  'MN': 9,\n",
       "  'WI': 7,\n",
       "  'SC': 7,\n",
       "  'OR': 5,\n",
       "  'NJ': 5,\n",
       "  'MO': 17,\n",
       "  'AL': 5,\n",
       "  'AZ': 4,\n",
       "  'AR': 4,\n",
       "  'CO': 6,\n",
       "  'IA': 6,\n",
       "  'KS': 4,\n",
       "  'KY': 8,\n",
       "  'MS': 4,\n",
       "  'NE': 2,\n",
       "  'OK': 5,\n",
       "  'PR': 4,\n",
       "  'TN': 10,\n",
       "  'UT': 4,\n",
       "  'WV': 4,\n",
       "  'CT': 5},\n",
       " 'Radiology (Diagnostic)': {'IL': 60,\n",
       "  'FL': 67,\n",
       "  'NY': 151,\n",
       "  'PA': 74,\n",
       "  'CA': 127,\n",
       "  'MI': 65,\n",
       "  'NJ': 29,\n",
       "  'OH': 53,\n",
       "  'WI': 21,\n",
       "  'TN': 26,\n",
       "  'TX': 91,\n",
       "  'MA': 66,\n",
       "  'CT': 29,\n",
       "  'AL': 18,\n",
       "  'RI': 7,\n",
       "  'DE': 6,\n",
       "  'NE': 9,\n",
       "  'AZ': 21,\n",
       "  'NH': 5,\n",
       "  'NC': 31,\n",
       "  'VA': 30,\n",
       "  'GA': 26,\n",
       "  'DC': 10,\n",
       "  'NV': 5,\n",
       "  'IN': 17,\n",
       "  'OK': 13,\n",
       "  'MD': 29,\n",
       "  'LA': 20,\n",
       "  'WA': 22,\n",
       "  'ME': 5,\n",
       "  'MN': 24,\n",
       "  'SC': 11,\n",
       "  'OR': 6,\n",
       "  'MO': 36,\n",
       "  'HI': 5,\n",
       "  'AR': 7,\n",
       "  'CO': 10,\n",
       "  'IA': 7,\n",
       "  'KS': 10,\n",
       "  'KY': 14,\n",
       "  'MS': 7,\n",
       "  'NM': 6,\n",
       "  'PR': 4,\n",
       "  'UT': 7,\n",
       "  'VT': 6,\n",
       "  'WV': 6},\n",
       " 'Thoracic Surgery (Integrated)': {'TX': 2,\n",
       "  'MA': 2,\n",
       "  'CA': 9,\n",
       "  'OH': 5,\n",
       "  'NC': 4,\n",
       "  'GA': 2,\n",
       "  'NY': 8,\n",
       "  'IN': 1,\n",
       "  'IL': 1,\n",
       "  'SC': 2,\n",
       "  'PA': 4,\n",
       "  'FL': 1,\n",
       "  'IA': 1,\n",
       "  'KY': 1,\n",
       "  'MD': 1,\n",
       "  'MI': 2,\n",
       "  'UT': 1,\n",
       "  'VA': 1,\n",
       "  'WA': 1,\n",
       "  'CT': 2}}"
      ]
     },
     "execution_count": 11,
     "metadata": {},
     "output_type": "execute_result"
    }
   ],
   "source": [
    "specialty_state_positions"
   ]
  },
  {
   "cell_type": "code",
   "execution_count": 98,
   "metadata": {},
   "outputs": [
    {
     "data": {
      "text/plain": [
       "'2'"
      ]
     },
     "execution_count": 98,
     "metadata": {},
     "output_type": "execute_result"
    }
   ],
   "source": [
    "mydivs = soup.find_all('div', {\"data-residency-positions-per-cycle=\": \"\"})\n",
    "mydivs = mydivs[0].find_all('main',{\"class\", \"page\"})#,  class=\"residency-program-metric-icon\"\n",
    "mydivs = mydivs[0].find_all('div', {\"class\": \"residency-program-details-show\"})\n",
    "mydivs = mydivs[0].find_all('div', {\"class\": \"fs-unmask\"})\n",
    "mydivs = mydivs[0].find_all('div', {\"class\": \"residency-program-metric-container\"})\n",
    "mydivs = mydivs[0].find_all('strong', {\"class\": \"metric-box-number\"})\n",
    "\n",
    "mydivs[0].text.split('\\n')[1].split(\"  \")[-1].split(' ')[0]"
   ]
  },
  {
   "cell_type": "code",
   "execution_count": 103,
   "metadata": {},
   "outputs": [
    {
     "data": {
      "text/plain": [
       "'OH'"
      ]
     },
     "execution_count": 103,
     "metadata": {},
     "output_type": "execute_result"
    }
   ],
   "source": [
    "mydivs = soup.find_all('div', {\"data-residency-positions-per-cycle=\": \"\"})\n",
    "mydivs = mydivs[0].find_all('main',{\"class\", \"page\"})#,  class=\"residency-program-metric-icon\"\n",
    "mydivs = mydivs[0].find_all('div', {\"class\": \"residency-program-details-show\"})\n",
    "mydivs = mydivs[0].find_all('div', {\"class\": \"fs-unmask\"})\n",
    "mydivs = mydivs[0].find_all('p', {\"class\": \"residency-program-hero-subtitle\"})\n",
    "\n",
    "\n",
    "mydivs[0].text.split('\\n')[1].split(' ')[-1]"
   ]
  }
 ],
 "metadata": {
  "kernelspec": {
   "display_name": "Python 3.10.5 64-bit",
   "language": "python",
   "name": "python3"
  },
  "language_info": {
   "codemirror_mode": {
    "name": "ipython",
    "version": 3
   },
   "file_extension": ".py",
   "mimetype": "text/x-python",
   "name": "python",
   "nbconvert_exporter": "python",
   "pygments_lexer": "ipython3",
   "version": "3.10.5"
  },
  "orig_nbformat": 4,
  "vscode": {
   "interpreter": {
    "hash": "59ce7d6bb8cd4ae6d5cf8ba5759d47519be8aa1ee658f53dd34a0e354aee55b2"
   }
  }
 },
 "nbformat": 4,
 "nbformat_minor": 2
}
