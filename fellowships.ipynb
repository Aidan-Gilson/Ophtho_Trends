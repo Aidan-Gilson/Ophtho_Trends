{
 "cells": [
  {
   "cell_type": "code",
   "execution_count": 1,
   "metadata": {},
   "outputs": [],
   "source": [
    "from bs4 import BeautifulSoup\n",
    "import requests\n",
    "from selenium import webdriver\n",
    "from selenium.webdriver import Chrome\n",
    "from time import sleep\n",
    "from tqdm import tqdm\n",
    "import pickle\n",
    "\n",
    "from webdriver_manager.chrome import ChromeDriverManager\n",
    "from selenium.webdriver.common.by import By\n"
   ]
  },
  {
   "cell_type": "code",
   "execution_count": 2,
   "metadata": {},
   "outputs": [],
   "source": [
    "base_url_1 = \"https://aupofcc.org/programs-in-compliance?institution=&state=All&sub_specialty%5B\"\n",
    "base_url_2 = \"%5D=\"\n",
    "base_url_3 = \"&page=\""
   ]
  },
  {
   "cell_type": "code",
   "execution_count": 30,
   "metadata": {},
   "outputs": [],
   "source": [
    "specialties = [\"cornea-disease-surgery\", \"cornea-disease\", \"glaucoma\", \"medical-retina\", \"neuro-ophthalmology\", \"ocular-oncology\", \"oncology-pathology\", \"ophthalmic-pathology\", \"pediatric-ophthalmology\", \"surgical-retina-vitreous\", \"uveitis\"]"
   ]
  },
  {
   "cell_type": "code",
   "execution_count": 31,
   "metadata": {},
   "outputs": [],
   "source": [
    "def parse2(url):\n",
    "    options = webdriver.ChromeOptions()\n",
    "    options.add_argument('--ignore-certificate-errors')\n",
    "    options.add_argument('--incognito')\n",
    "    options.add_argument('--headless')\n",
    "    driver = webdriver.Chrome(ChromeDriverManager().install(), options=options)\n",
    "    driver.get(url)\n",
    "    sleep(3)\n",
    "    sourceCode = driver.page_source\n",
    "    return sourceCode, driver"
   ]
  },
  {
   "cell_type": "code",
   "execution_count": 32,
   "metadata": {},
   "outputs": [
    {
     "name": "stdout",
     "output_type": "stream",
     "text": [
      "\n"
     ]
    },
    {
     "name": "stderr",
     "output_type": "stream",
     "text": [
      "[WDM] - ====== WebDriver manager ======\n",
      "[WDM] - Current google-chrome version is 103.0.5060\n",
      "[WDM] - Get LATEST chromedriver version for 103.0.5060 google-chrome\n",
      "[WDM] - Driver [C:\\Users\\aidan\\.wdm\\drivers\\chromedriver\\win32\\103.0.5060.53\\chromedriver.exe] found in cache\n",
      "C:\\Users\\aidan\\AppData\\Local\\Temp\\ipykernel_16016\\1225161985.py:6: DeprecationWarning: executable_path has been deprecated, please pass in a Service object\n",
      "  driver = webdriver.Chrome(ChromeDriverManager().install(), options=options)\n"
     ]
    },
    {
     "name": "stdout",
     "output_type": "stream",
     "text": [
      "\n"
     ]
    },
    {
     "name": "stderr",
     "output_type": "stream",
     "text": [
      "[WDM] - ====== WebDriver manager ======\n",
      "[WDM] - Current google-chrome version is 103.0.5060\n",
      "[WDM] - Get LATEST chromedriver version for 103.0.5060 google-chrome\n",
      "[WDM] - Driver [C:\\Users\\aidan\\.wdm\\drivers\\chromedriver\\win32\\103.0.5060.53\\chromedriver.exe] found in cache\n"
     ]
    },
    {
     "name": "stdout",
     "output_type": "stream",
     "text": [
      "\n"
     ]
    },
    {
     "name": "stderr",
     "output_type": "stream",
     "text": [
      "[WDM] - ====== WebDriver manager ======\n",
      "[WDM] - Current google-chrome version is 103.0.5060\n",
      "[WDM] - Get LATEST chromedriver version for 103.0.5060 google-chrome\n",
      "[WDM] - Driver [C:\\Users\\aidan\\.wdm\\drivers\\chromedriver\\win32\\103.0.5060.53\\chromedriver.exe] found in cache\n"
     ]
    },
    {
     "name": "stdout",
     "output_type": "stream",
     "text": [
      "\n"
     ]
    },
    {
     "name": "stderr",
     "output_type": "stream",
     "text": [
      "[WDM] - ====== WebDriver manager ======\n",
      "[WDM] - Current google-chrome version is 103.0.5060\n",
      "[WDM] - Get LATEST chromedriver version for 103.0.5060 google-chrome\n",
      "[WDM] - Driver [C:\\Users\\aidan\\.wdm\\drivers\\chromedriver\\win32\\103.0.5060.53\\chromedriver.exe] found in cache\n"
     ]
    },
    {
     "name": "stdout",
     "output_type": "stream",
     "text": [
      "\n"
     ]
    },
    {
     "name": "stderr",
     "output_type": "stream",
     "text": [
      "[WDM] - ====== WebDriver manager ======\n",
      "[WDM] - Current google-chrome version is 103.0.5060\n",
      "[WDM] - Get LATEST chromedriver version for 103.0.5060 google-chrome\n",
      "[WDM] - Driver [C:\\Users\\aidan\\.wdm\\drivers\\chromedriver\\win32\\103.0.5060.53\\chromedriver.exe] found in cache\n"
     ]
    },
    {
     "name": "stdout",
     "output_type": "stream",
     "text": [
      "\n"
     ]
    },
    {
     "name": "stderr",
     "output_type": "stream",
     "text": [
      "[WDM] - ====== WebDriver manager ======\n",
      "[WDM] - Current google-chrome version is 103.0.5060\n",
      "[WDM] - Get LATEST chromedriver version for 103.0.5060 google-chrome\n",
      "[WDM] - Driver [C:\\Users\\aidan\\.wdm\\drivers\\chromedriver\\win32\\103.0.5060.53\\chromedriver.exe] found in cache\n"
     ]
    },
    {
     "name": "stdout",
     "output_type": "stream",
     "text": [
      "\n"
     ]
    },
    {
     "name": "stderr",
     "output_type": "stream",
     "text": [
      "[WDM] - ====== WebDriver manager ======\n",
      "[WDM] - Current google-chrome version is 103.0.5060\n",
      "[WDM] - Get LATEST chromedriver version for 103.0.5060 google-chrome\n",
      "[WDM] - Driver [C:\\Users\\aidan\\.wdm\\drivers\\chromedriver\\win32\\103.0.5060.53\\chromedriver.exe] found in cache\n"
     ]
    },
    {
     "name": "stdout",
     "output_type": "stream",
     "text": [
      "\n"
     ]
    },
    {
     "name": "stderr",
     "output_type": "stream",
     "text": [
      "[WDM] - ====== WebDriver manager ======\n",
      "[WDM] - Current google-chrome version is 103.0.5060\n",
      "[WDM] - Get LATEST chromedriver version for 103.0.5060 google-chrome\n",
      "[WDM] - Driver [C:\\Users\\aidan\\.wdm\\drivers\\chromedriver\\win32\\103.0.5060.53\\chromedriver.exe] found in cache\n"
     ]
    },
    {
     "name": "stdout",
     "output_type": "stream",
     "text": [
      "\n"
     ]
    },
    {
     "name": "stderr",
     "output_type": "stream",
     "text": [
      "[WDM] - ====== WebDriver manager ======\n",
      "[WDM] - Current google-chrome version is 103.0.5060\n",
      "[WDM] - Get LATEST chromedriver version for 103.0.5060 google-chrome\n",
      "[WDM] - Driver [C:\\Users\\aidan\\.wdm\\drivers\\chromedriver\\win32\\103.0.5060.53\\chromedriver.exe] found in cache\n"
     ]
    },
    {
     "name": "stdout",
     "output_type": "stream",
     "text": [
      "\n"
     ]
    },
    {
     "name": "stderr",
     "output_type": "stream",
     "text": [
      "[WDM] - ====== WebDriver manager ======\n",
      "[WDM] - Current google-chrome version is 103.0.5060\n",
      "[WDM] - Get LATEST chromedriver version for 103.0.5060 google-chrome\n",
      "[WDM] - Driver [C:\\Users\\aidan\\.wdm\\drivers\\chromedriver\\win32\\103.0.5060.53\\chromedriver.exe] found in cache\n"
     ]
    },
    {
     "name": "stdout",
     "output_type": "stream",
     "text": [
      "\n"
     ]
    },
    {
     "name": "stderr",
     "output_type": "stream",
     "text": [
      "[WDM] - ====== WebDriver manager ======\n",
      "[WDM] - Current google-chrome version is 103.0.5060\n",
      "[WDM] - Get LATEST chromedriver version for 103.0.5060 google-chrome\n",
      "[WDM] - Driver [C:\\Users\\aidan\\.wdm\\drivers\\chromedriver\\win32\\103.0.5060.53\\chromedriver.exe] found in cache\n"
     ]
    },
    {
     "name": "stdout",
     "output_type": "stream",
     "text": [
      "\n"
     ]
    },
    {
     "name": "stderr",
     "output_type": "stream",
     "text": [
      "[WDM] - ====== WebDriver manager ======\n",
      "[WDM] - Current google-chrome version is 103.0.5060\n",
      "[WDM] - Get LATEST chromedriver version for 103.0.5060 google-chrome\n",
      "[WDM] - Driver [C:\\Users\\aidan\\.wdm\\drivers\\chromedriver\\win32\\103.0.5060.53\\chromedriver.exe] found in cache\n"
     ]
    },
    {
     "name": "stdout",
     "output_type": "stream",
     "text": [
      "\n"
     ]
    },
    {
     "name": "stderr",
     "output_type": "stream",
     "text": [
      "[WDM] - ====== WebDriver manager ======\n",
      "[WDM] - Current google-chrome version is 103.0.5060\n",
      "[WDM] - Get LATEST chromedriver version for 103.0.5060 google-chrome\n",
      "[WDM] - Driver [C:\\Users\\aidan\\.wdm\\drivers\\chromedriver\\win32\\103.0.5060.53\\chromedriver.exe] found in cache\n"
     ]
    },
    {
     "name": "stdout",
     "output_type": "stream",
     "text": [
      "\n"
     ]
    },
    {
     "name": "stderr",
     "output_type": "stream",
     "text": [
      "[WDM] - ====== WebDriver manager ======\n",
      "[WDM] - Current google-chrome version is 103.0.5060\n",
      "[WDM] - Get LATEST chromedriver version for 103.0.5060 google-chrome\n",
      "[WDM] - Driver [C:\\Users\\aidan\\.wdm\\drivers\\chromedriver\\win32\\103.0.5060.53\\chromedriver.exe] found in cache\n"
     ]
    },
    {
     "name": "stdout",
     "output_type": "stream",
     "text": [
      "\n"
     ]
    },
    {
     "name": "stderr",
     "output_type": "stream",
     "text": [
      "[WDM] - ====== WebDriver manager ======\n",
      "[WDM] - Current google-chrome version is 103.0.5060\n",
      "[WDM] - Get LATEST chromedriver version for 103.0.5060 google-chrome\n",
      "[WDM] - Driver [C:\\Users\\aidan\\.wdm\\drivers\\chromedriver\\win32\\103.0.5060.53\\chromedriver.exe] found in cache\n"
     ]
    },
    {
     "name": "stdout",
     "output_type": "stream",
     "text": [
      "\n"
     ]
    },
    {
     "name": "stderr",
     "output_type": "stream",
     "text": [
      "[WDM] - ====== WebDriver manager ======\n",
      "[WDM] - Current google-chrome version is 103.0.5060\n",
      "[WDM] - Get LATEST chromedriver version for 103.0.5060 google-chrome\n",
      "[WDM] - Driver [C:\\Users\\aidan\\.wdm\\drivers\\chromedriver\\win32\\103.0.5060.53\\chromedriver.exe] found in cache\n"
     ]
    },
    {
     "name": "stdout",
     "output_type": "stream",
     "text": [
      "\n"
     ]
    },
    {
     "name": "stderr",
     "output_type": "stream",
     "text": [
      "[WDM] - ====== WebDriver manager ======\n",
      "[WDM] - Current google-chrome version is 103.0.5060\n",
      "[WDM] - Get LATEST chromedriver version for 103.0.5060 google-chrome\n",
      "[WDM] - Driver [C:\\Users\\aidan\\.wdm\\drivers\\chromedriver\\win32\\103.0.5060.53\\chromedriver.exe] found in cache\n"
     ]
    },
    {
     "name": "stdout",
     "output_type": "stream",
     "text": [
      "\n"
     ]
    },
    {
     "name": "stderr",
     "output_type": "stream",
     "text": [
      "[WDM] - ====== WebDriver manager ======\n",
      "[WDM] - Current google-chrome version is 103.0.5060\n",
      "[WDM] - Get LATEST chromedriver version for 103.0.5060 google-chrome\n",
      "[WDM] - Driver [C:\\Users\\aidan\\.wdm\\drivers\\chromedriver\\win32\\103.0.5060.53\\chromedriver.exe] found in cache\n"
     ]
    },
    {
     "name": "stdout",
     "output_type": "stream",
     "text": [
      "\n"
     ]
    },
    {
     "name": "stderr",
     "output_type": "stream",
     "text": [
      "[WDM] - ====== WebDriver manager ======\n",
      "[WDM] - Current google-chrome version is 103.0.5060\n",
      "[WDM] - Get LATEST chromedriver version for 103.0.5060 google-chrome\n",
      "[WDM] - Driver [C:\\Users\\aidan\\.wdm\\drivers\\chromedriver\\win32\\103.0.5060.53\\chromedriver.exe] found in cache\n"
     ]
    },
    {
     "name": "stdout",
     "output_type": "stream",
     "text": [
      "\n"
     ]
    },
    {
     "name": "stderr",
     "output_type": "stream",
     "text": [
      "[WDM] - ====== WebDriver manager ======\n",
      "[WDM] - Current google-chrome version is 103.0.5060\n",
      "[WDM] - Get LATEST chromedriver version for 103.0.5060 google-chrome\n",
      "[WDM] - Driver [C:\\Users\\aidan\\.wdm\\drivers\\chromedriver\\win32\\103.0.5060.53\\chromedriver.exe] found in cache\n"
     ]
    },
    {
     "name": "stdout",
     "output_type": "stream",
     "text": [
      "\n"
     ]
    },
    {
     "name": "stderr",
     "output_type": "stream",
     "text": [
      "[WDM] - ====== WebDriver manager ======\n",
      "[WDM] - Current google-chrome version is 103.0.5060\n",
      "[WDM] - Get LATEST chromedriver version for 103.0.5060 google-chrome\n",
      "[WDM] - Driver [C:\\Users\\aidan\\.wdm\\drivers\\chromedriver\\win32\\103.0.5060.53\\chromedriver.exe] found in cache\n"
     ]
    },
    {
     "name": "stdout",
     "output_type": "stream",
     "text": [
      "\n"
     ]
    },
    {
     "name": "stderr",
     "output_type": "stream",
     "text": [
      "[WDM] - ====== WebDriver manager ======\n",
      "[WDM] - Current google-chrome version is 103.0.5060\n",
      "[WDM] - Get LATEST chromedriver version for 103.0.5060 google-chrome\n",
      "[WDM] - Driver [C:\\Users\\aidan\\.wdm\\drivers\\chromedriver\\win32\\103.0.5060.53\\chromedriver.exe] found in cache\n"
     ]
    },
    {
     "name": "stdout",
     "output_type": "stream",
     "text": [
      "\n"
     ]
    },
    {
     "name": "stderr",
     "output_type": "stream",
     "text": [
      "[WDM] - ====== WebDriver manager ======\n",
      "[WDM] - Current google-chrome version is 103.0.5060\n",
      "[WDM] - Get LATEST chromedriver version for 103.0.5060 google-chrome\n",
      "[WDM] - Driver [C:\\Users\\aidan\\.wdm\\drivers\\chromedriver\\win32\\103.0.5060.53\\chromedriver.exe] found in cache\n"
     ]
    },
    {
     "name": "stdout",
     "output_type": "stream",
     "text": [
      "\n"
     ]
    },
    {
     "name": "stderr",
     "output_type": "stream",
     "text": [
      "[WDM] - ====== WebDriver manager ======\n",
      "[WDM] - Current google-chrome version is 103.0.5060\n",
      "[WDM] - Get LATEST chromedriver version for 103.0.5060 google-chrome\n",
      "[WDM] - Driver [C:\\Users\\aidan\\.wdm\\drivers\\chromedriver\\win32\\103.0.5060.53\\chromedriver.exe] found in cache\n"
     ]
    },
    {
     "name": "stdout",
     "output_type": "stream",
     "text": [
      "\n"
     ]
    },
    {
     "name": "stderr",
     "output_type": "stream",
     "text": [
      "[WDM] - ====== WebDriver manager ======\n",
      "[WDM] - Current google-chrome version is 103.0.5060\n",
      "[WDM] - Get LATEST chromedriver version for 103.0.5060 google-chrome\n",
      "[WDM] - Driver [C:\\Users\\aidan\\.wdm\\drivers\\chromedriver\\win32\\103.0.5060.53\\chromedriver.exe] found in cache\n"
     ]
    },
    {
     "name": "stdout",
     "output_type": "stream",
     "text": [
      "\n"
     ]
    },
    {
     "name": "stderr",
     "output_type": "stream",
     "text": [
      "[WDM] - ====== WebDriver manager ======\n",
      "[WDM] - Current google-chrome version is 103.0.5060\n",
      "[WDM] - Get LATEST chromedriver version for 103.0.5060 google-chrome\n",
      "[WDM] - Driver [C:\\Users\\aidan\\.wdm\\drivers\\chromedriver\\win32\\103.0.5060.53\\chromedriver.exe] found in cache\n"
     ]
    },
    {
     "name": "stdout",
     "output_type": "stream",
     "text": [
      "\n"
     ]
    },
    {
     "name": "stderr",
     "output_type": "stream",
     "text": [
      "[WDM] - ====== WebDriver manager ======\n",
      "[WDM] - Current google-chrome version is 103.0.5060\n",
      "[WDM] - Get LATEST chromedriver version for 103.0.5060 google-chrome\n",
      "[WDM] - Driver [C:\\Users\\aidan\\.wdm\\drivers\\chromedriver\\win32\\103.0.5060.53\\chromedriver.exe] found in cache\n"
     ]
    },
    {
     "name": "stdout",
     "output_type": "stream",
     "text": [
      "\n"
     ]
    },
    {
     "name": "stderr",
     "output_type": "stream",
     "text": [
      "[WDM] - ====== WebDriver manager ======\n",
      "[WDM] - Current google-chrome version is 103.0.5060\n",
      "[WDM] - Get LATEST chromedriver version for 103.0.5060 google-chrome\n",
      "[WDM] - Driver [C:\\Users\\aidan\\.wdm\\drivers\\chromedriver\\win32\\103.0.5060.53\\chromedriver.exe] found in cache\n"
     ]
    },
    {
     "name": "stdout",
     "output_type": "stream",
     "text": [
      "\n"
     ]
    },
    {
     "name": "stderr",
     "output_type": "stream",
     "text": [
      "[WDM] - ====== WebDriver manager ======\n",
      "[WDM] - Current google-chrome version is 103.0.5060\n",
      "[WDM] - Get LATEST chromedriver version for 103.0.5060 google-chrome\n",
      "[WDM] - Driver [C:\\Users\\aidan\\.wdm\\drivers\\chromedriver\\win32\\103.0.5060.53\\chromedriver.exe] found in cache\n"
     ]
    },
    {
     "name": "stdout",
     "output_type": "stream",
     "text": [
      "\n"
     ]
    },
    {
     "name": "stderr",
     "output_type": "stream",
     "text": [
      "[WDM] - ====== WebDriver manager ======\n",
      "[WDM] - Current google-chrome version is 103.0.5060\n",
      "[WDM] - Get LATEST chromedriver version for 103.0.5060 google-chrome\n",
      "[WDM] - Driver [C:\\Users\\aidan\\.wdm\\drivers\\chromedriver\\win32\\103.0.5060.53\\chromedriver.exe] found in cache\n"
     ]
    },
    {
     "name": "stdout",
     "output_type": "stream",
     "text": [
      "\n"
     ]
    },
    {
     "name": "stderr",
     "output_type": "stream",
     "text": [
      "[WDM] - ====== WebDriver manager ======\n",
      "[WDM] - Current google-chrome version is 103.0.5060\n",
      "[WDM] - Get LATEST chromedriver version for 103.0.5060 google-chrome\n",
      "[WDM] - Driver [C:\\Users\\aidan\\.wdm\\drivers\\chromedriver\\win32\\103.0.5060.53\\chromedriver.exe] found in cache\n"
     ]
    },
    {
     "name": "stdout",
     "output_type": "stream",
     "text": [
      "\n"
     ]
    },
    {
     "name": "stderr",
     "output_type": "stream",
     "text": [
      "[WDM] - ====== WebDriver manager ======\n",
      "[WDM] - Current google-chrome version is 103.0.5060\n",
      "[WDM] - Get LATEST chromedriver version for 103.0.5060 google-chrome\n",
      "[WDM] - Driver [C:\\Users\\aidan\\.wdm\\drivers\\chromedriver\\win32\\103.0.5060.53\\chromedriver.exe] found in cache\n"
     ]
    }
   ],
   "source": [
    "fellowships_by_state = {}\n",
    "\n",
    "for specialty in specialties:\n",
    "    page = 0\n",
    "    check_page = True\n",
    "    while check_page:\n",
    "        check_page = False\n",
    "        url = base_url_1 + specialty + base_url_2 + specialty + base_url_3 + str(page)\n",
    "        sourceCode, driver = parse2(url)\n",
    "        soup = BeautifulSoup(sourceCode)\n",
    "        # print(soup)\n",
    "        mydivs = soup.find_all(\"section\")\n",
    "        for x in mydivs:\n",
    "            # print(x)\n",
    "            state = x.find_all(\"div\", {\"class\": \"node__content\"})\n",
    "            # print(state)\n",
    "            state = state[0].find_all(\"div\", {\"class\": \"field field--name-field-state field--type-list-string field--label-hidden field__item\"})\n",
    "            # print(state)\n",
    "            state = state[0].text\n",
    "            # state = state[0].text\n",
    "            positions = x.find_all(\"div\", {\"class\": \"node__content\"})\n",
    "            positions = positions[0].find_all(\"div\", {\"class\": \"field field--name-field-number-of-positions field--type-integer field--label-inline clearfix\"})\n",
    "            positions = positions[0].find_all(\"div\", {\"class\": \"field__item\"})\n",
    "            positions = int(positions[0].text)\n",
    "            # print(state, positions)\n",
    "            # print(\"\\n\" * 1)\n",
    "            if state not in fellowships_by_state:\n",
    "                fellowships_by_state[state] = {specialty: positions, \"Total\": positions}\n",
    "            else:\n",
    "                if specialty not in fellowships_by_state[state]:\n",
    "                    fellowships_by_state[state][specialty] = positions\n",
    "                else:\n",
    "                    fellowships_by_state[state][specialty] += positions\n",
    "                \n",
    "                \n",
    "                fellowships_by_state[state][\"Total\"] += positions\n",
    "            check_page = True\n",
    "        page += 1"
   ]
  },
  {
   "cell_type": "code",
   "execution_count": 33,
   "metadata": {},
   "outputs": [
    {
     "data": {
      "text/plain": [
       "{'New York': {'cornea-disease-surgery': 6,\n",
       "  'Total': 38,\n",
       "  'cornea-disease': 3,\n",
       "  'glaucoma': 9,\n",
       "  'medical-retina': 1,\n",
       "  'neuro-ophthalmology': 6,\n",
       "  'pediatric-ophthalmology': 1,\n",
       "  'surgical-retina-vitreous': 11,\n",
       "  'uveitis': 1},\n",
       " 'Oregon': {'cornea-disease-surgery': 2,\n",
       "  'Total': 9,\n",
       "  'glaucoma': 2,\n",
       "  'pediatric-ophthalmology': 1,\n",
       "  'surgical-retina-vitreous': 2,\n",
       "  'uveitis': 2},\n",
       " 'California': {'cornea-disease-surgery': 11,\n",
       "  'Total': 58,\n",
       "  'cornea-disease': 2,\n",
       "  'glaucoma': 13,\n",
       "  'neuro-ophthalmology': 6,\n",
       "  'ocular-oncology': 1,\n",
       "  'pediatric-ophthalmology': 6,\n",
       "  'surgical-retina-vitreous': 14,\n",
       "  'uveitis': 5},\n",
       " 'Texas': {'cornea-disease-surgery': 5,\n",
       "  'Total': 28,\n",
       "  'glaucoma': 5,\n",
       "  'medical-retina': 1,\n",
       "  'neuro-ophthalmology': 4,\n",
       "  'pediatric-ophthalmology': 4,\n",
       "  'surgical-retina-vitreous': 9},\n",
       " 'North Carolina': {'cornea-disease-surgery': 3,\n",
       "  'Total': 19,\n",
       "  'cornea-disease': 1,\n",
       "  'glaucoma': 6,\n",
       "  'neuro-ophthalmology': 1,\n",
       "  'pediatric-ophthalmology': 3,\n",
       "  'surgical-retina-vitreous': 5},\n",
       " 'Georgia': {'cornea-disease-surgery': 3,\n",
       "  'Total': 12,\n",
       "  'glaucoma': 2,\n",
       "  'neuro-ophthalmology': 2,\n",
       "  'oncology-pathology': 1,\n",
       "  'pediatric-ophthalmology': 1,\n",
       "  'surgical-retina-vitreous': 3},\n",
       " 'Utah': {'cornea-disease-surgery': 2,\n",
       "  'Total': 9,\n",
       "  'glaucoma': 2,\n",
       "  'medical-retina': 1,\n",
       "  'neuro-ophthalmology': 1,\n",
       "  'surgical-retina-vitreous': 2,\n",
       "  'uveitis': 1},\n",
       " 'Maryland': {'cornea-disease-surgery': 3,\n",
       "  'Total': 19,\n",
       "  'cornea-disease': 1,\n",
       "  'glaucoma': 4,\n",
       "  'neuro-ophthalmology': 3,\n",
       "  'pediatric-ophthalmology': 2,\n",
       "  'surgical-retina-vitreous': 2,\n",
       "  'uveitis': 4},\n",
       " 'Massachusetts': {'cornea-disease-surgery': 4,\n",
       "  'Total': 34,\n",
       "  'glaucoma': 8,\n",
       "  'medical-retina': 1,\n",
       "  'neuro-ophthalmology': 3,\n",
       "  'ophthalmic-pathology': 2,\n",
       "  'pediatric-ophthalmology': 3,\n",
       "  'surgical-retina-vitreous': 9,\n",
       "  'uveitis': 4},\n",
       " 'South Carolina': {'cornea-disease-surgery': 1,\n",
       "  'Total': 4,\n",
       "  'glaucoma': 1,\n",
       "  'pediatric-ophthalmology': 2},\n",
       " 'Minnesota': {'cornea-disease-surgery': 1,\n",
       "  'Total': 14,\n",
       "  'cornea-disease': 2,\n",
       "  'glaucoma': 2,\n",
       "  'neuro-ophthalmology': 2,\n",
       "  'pediatric-ophthalmology': 1,\n",
       "  'surgical-retina-vitreous': 6},\n",
       " 'Illinois': {'cornea-disease-surgery': 3,\n",
       "  'Total': 23,\n",
       "  'glaucoma': 4,\n",
       "  'medical-retina': 1,\n",
       "  'neuro-ophthalmology': 1,\n",
       "  'pediatric-ophthalmology': 4,\n",
       "  'surgical-retina-vitreous': 8,\n",
       "  'uveitis': 2},\n",
       " 'Indiana': {'cornea-disease-surgery': 2,\n",
       "  'Total': 7,\n",
       "  'glaucoma': 1,\n",
       "  'neuro-ophthalmology': 1,\n",
       "  'pediatric-ophthalmology': 2,\n",
       "  'surgical-retina-vitreous': 1},\n",
       " 'Colorado': {'cornea-disease-surgery': 1,\n",
       "  'Total': 8,\n",
       "  'glaucoma': 2,\n",
       "  'neuro-ophthalmology': 1,\n",
       "  'pediatric-ophthalmology': 1,\n",
       "  'surgical-retina-vitreous': 3},\n",
       " 'Florida': {'cornea-disease-surgery': 7,\n",
       "  'Total': 26,\n",
       "  'glaucoma': 9,\n",
       "  'medical-retina': 1,\n",
       "  'neuro-ophthalmology': 3,\n",
       "  'pediatric-ophthalmology': 2,\n",
       "  'surgical-retina-vitreous': 2,\n",
       "  'uveitis': 2},\n",
       " 'Iowa': {'cornea-disease-surgery': 1,\n",
       "  'Total': 9,\n",
       "  'glaucoma': 1,\n",
       "  'medical-retina': 1,\n",
       "  'neuro-ophthalmology': 2,\n",
       "  'pediatric-ophthalmology': 2,\n",
       "  'surgical-retina-vitreous': 2},\n",
       " 'Michigan': {'cornea-disease-surgery': 2,\n",
       "  'Total': 24,\n",
       "  'glaucoma': 4,\n",
       "  'medical-retina': 1,\n",
       "  'neuro-ophthalmology': 4,\n",
       "  'oncology-pathology': 1,\n",
       "  'pediatric-ophthalmology': 4,\n",
       "  'surgical-retina-vitreous': 8},\n",
       " 'Oklahoma': {'cornea-disease-surgery': 1,\n",
       "  'Total': 5,\n",
       "  'glaucoma': 1,\n",
       "  'neuro-ophthalmology': 1,\n",
       "  'surgical-retina-vitreous': 2},\n",
       " 'Ontario': {'cornea-disease-surgery': 2,\n",
       "  'Total': 6,\n",
       "  'glaucoma': 2,\n",
       "  'pediatric-ophthalmology': 2},\n",
       " 'Pennsylvania': {'cornea-disease-surgery': 2,\n",
       "  'Total': 32,\n",
       "  'cornea-disease': 3,\n",
       "  'glaucoma': 6,\n",
       "  'neuro-ophthalmology': 4,\n",
       "  'ophthalmic-pathology': 1,\n",
       "  'pediatric-ophthalmology': 5,\n",
       "  'surgical-retina-vitreous': 11},\n",
       " 'Wisconsin': {'cornea-disease-surgery': 1,\n",
       "  'Total': 10,\n",
       "  'glaucoma': 1,\n",
       "  'medical-retina': 1,\n",
       "  'ophthalmic-pathology': 1,\n",
       "  'pediatric-ophthalmology': 3,\n",
       "  'surgical-retina-vitreous': 3},\n",
       " 'South Dakota': {'cornea-disease-surgery': 1, 'Total': 1},\n",
       " 'Ohio': {'cornea-disease': 2,\n",
       "  'Total': 24,\n",
       "  'glaucoma': 4,\n",
       "  'pediatric-ophthalmology': 7,\n",
       "  'surgical-retina-vitreous': 11},\n",
       " 'Kentucky': {'cornea-disease': 1,\n",
       "  'Total': 6,\n",
       "  'glaucoma': 1,\n",
       "  'pediatric-ophthalmology': 1,\n",
       "  'surgical-retina-vitreous': 3},\n",
       " 'Missouri': {'cornea-disease': 3,\n",
       "  'Total': 18,\n",
       "  'glaucoma': 3,\n",
       "  'neuro-ophthalmology': 1,\n",
       "  'pediatric-ophthalmology': 3,\n",
       "  'surgical-retina-vitreous': 8},\n",
       " 'West Virginia': {'cornea-disease': 1,\n",
       "  'Total': 4,\n",
       "  'glaucoma': 1,\n",
       "  'surgical-retina-vitreous': 2},\n",
       " 'Quebec': {'glaucoma': 2,\n",
       "  'Total': 7,\n",
       "  'ophthalmic-pathology': 2,\n",
       "  'pediatric-ophthalmology': 1,\n",
       "  'surgical-retina-vitreous': 2},\n",
       " 'Nova Scotia': {'glaucoma': 1, 'Total': 3, 'pediatric-ophthalmology': 2},\n",
       " 'Louisiana': {'glaucoma': 2, 'Total': 3, 'surgical-retina-vitreous': 1},\n",
       " 'Alabama': {'glaucoma': 2,\n",
       "  'Total': 9,\n",
       "  'neuro-ophthalmology': 1,\n",
       "  'surgical-retina-vitreous': 6},\n",
       " 'British Columbia': {'glaucoma': 2, 'Total': 2},\n",
       " 'Nebraska': {'glaucoma': 1,\n",
       "  'Total': 3,\n",
       "  'pediatric-ophthalmology': 1,\n",
       "  'surgical-retina-vitreous': 1},\n",
       " 'Virginia': {'glaucoma': 2, 'Total': 5, 'surgical-retina-vitreous': 3},\n",
       " 'Tennessee': {'glaucoma': 1,\n",
       "  'Total': 9,\n",
       "  'neuro-ophthalmology': 1,\n",
       "  'ocular-oncology': 1,\n",
       "  'pediatric-ophthalmology': 3,\n",
       "  'surgical-retina-vitreous': 3},\n",
       " 'Arkansas': {'glaucoma': 1, 'Total': 1},\n",
       " 'Connecticut': {'glaucoma': 2,\n",
       "  'Total': 4,\n",
       "  'surgical-retina-vitreous': 1,\n",
       "  'uveitis': 1},\n",
       " 'Mississippi': {'medical-retina': 1,\n",
       "  'Total': 2,\n",
       "  'surgical-retina-vitreous': 1},\n",
       " 'District of Columbia': {'pediatric-ophthalmology': 3, 'Total': 3},\n",
       " 'Washington': {'pediatric-ophthalmology': 1,\n",
       "  'Total': 5,\n",
       "  'surgical-retina-vitreous': 2,\n",
       "  'uveitis': 2},\n",
       " 'Arizona': {'surgical-retina-vitreous': 2, 'Total': 2},\n",
       " 'New Jersey': {'surgical-retina-vitreous': 1, 'Total': 1}}"
      ]
     },
     "execution_count": 33,
     "metadata": {},
     "output_type": "execute_result"
    }
   ],
   "source": [
    "fellowships_by_state"
   ]
  },
  {
   "cell_type": "code",
   "execution_count": 34,
   "metadata": {},
   "outputs": [],
   "source": [
    "with open('fellowships_by_state.pickle', 'wb') as handle:\n",
    "    pickle.dump(fellowships_by_state, handle, protocol=pickle.HIGHEST_PROTOCOL)"
   ]
  },
  {
   "cell_type": "code",
   "execution_count": null,
   "metadata": {},
   "outputs": [],
   "source": []
  }
 ],
 "metadata": {
  "kernelspec": {
   "display_name": "Python 3.10.5 64-bit",
   "language": "python",
   "name": "python3"
  },
  "language_info": {
   "codemirror_mode": {
    "name": "ipython",
    "version": 3
   },
   "file_extension": ".py",
   "mimetype": "text/x-python",
   "name": "python",
   "nbconvert_exporter": "python",
   "pygments_lexer": "ipython3",
   "version": "3.10.5"
  },
  "orig_nbformat": 4,
  "vscode": {
   "interpreter": {
    "hash": "59ce7d6bb8cd4ae6d5cf8ba5759d47519be8aa1ee658f53dd34a0e354aee55b2"
   }
  }
 },
 "nbformat": 4,
 "nbformat_minor": 2
}
