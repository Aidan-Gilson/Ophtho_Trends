{
 "cells": [
  {
   "cell_type": "code",
   "execution_count": 80,
   "metadata": {},
   "outputs": [],
   "source": [
    "import pandas as pd\n",
    "import geopandas\n",
    "import plotly"
   ]
  },
  {
   "cell_type": "code",
   "execution_count": 73,
   "metadata": {},
   "outputs": [],
   "source": [
    "us_state_to_abbrev = {\n",
    "\"Alabama\": \"AL\",\n",
    "\"Alaska\": \"AK\",\n",
    "\"Arizona\": \"AZ\",\n",
    "\"Arkansas\": \"AR\",\n",
    "\"California\": \"CA\",\n",
    "\"Colorado\": \"CO\",\n",
    "\"Connecticut\": \"CT\",\n",
    "\"Delaware\": \"DE\",\n",
    "\"Florida\": \"FL\",\n",
    "\"Georgia\": \"GA\",\n",
    "\"Hawaii\": \"HI\",\n",
    "\"Idaho\": \"ID\",\n",
    "\"Illinois\": \"IL\",\n",
    "\"Indiana\": \"IN\",\n",
    "\"Iowa\": \"IA\",\n",
    "\"Kansas\": \"KS\",\n",
    "\"Kentucky\": \"KY\",\n",
    "\"Louisiana\": \"LA\",\n",
    "\"Maine\": \"ME\",\n",
    "\"Maryland\": \"MD\",\n",
    "\"Massachusetts\": \"MA\",\n",
    "\"Michigan\": \"MI\",\n",
    "\"Minnesota\": \"MN\",\n",
    "\"Mississippi\": \"MS\",\n",
    "\"Missouri\": \"MO\",\n",
    "\"Montana\": \"MT\",\n",
    "\"Nebraska\": \"NE\",\n",
    "\"Nevada\": \"NV\",\n",
    "\"New Hampshire\": \"NH\",\n",
    "\"New Jersey\": \"NJ\",\n",
    "\"New Mexico\": \"NM\",\n",
    "\"New York\": \"NY\",\n",
    "\"North Carolina\": \"NC\",\n",
    "\"North Dakota\": \"ND\",\n",
    "\"Ohio\": \"OH\",\n",
    "\"Oklahoma\": \"OK\",\n",
    "\"Oregon\": \"OR\",\n",
    "\"Pennsylvania\": \"PA\",\n",
    "\"Rhode Island\": \"RI\",\n",
    "\"South Carolina\": \"SC\",\n",
    "\"South Dakota\": \"SD\",\n",
    "\"Tennessee\": \"TN\",\n",
    "\"Texas\": \"TX\",\n",
    "\"Utah\": \"UT\",\n",
    "\"Vermont\": \"VT\",\n",
    "\"Virginia\": \"VA\",\n",
    "\"Washington\": \"WA\",\n",
    "\"West Virginia\": \"WV\",\n",
    "\"Wisconsin\": \"WI\",\n",
    "\"Wyoming\": \"WY\",\n",
    "\"District of Columbia\": \"DC\"\n",
    "}"
   ]
  },
  {
   "cell_type": "code",
   "execution_count": 83,
   "metadata": {},
   "outputs": [
    {
     "name": "stdout",
     "output_type": "stream",
     "text": [
      "              NAME Residents\n",
      "0         New York        72\n",
      "1       California        45\n",
      "2            Texas        43\n",
      "3     Pennsylvania        31\n",
      "4         Michigan        27\n",
      "5         Illinois        23\n",
      "6             Ohio        22\n",
      "7          Florida        20\n",
      "8    Massachusetts        18\n",
      "9        Louisiana        17\n",
      "10        Missouri        17\n",
      "11        Maryland        16\n",
      "12  North Carolina        14\n",
      "13        District        13\n",
      "14       Tennessee        10\n",
      "15       Minnesota         9\n",
      "16        Virginia         9\n",
      "17         Georgia         9\n",
      "18        Kentucky         8\n",
      "19  South Carolina         7\n",
      "20      Washington         7\n",
      "21         Indiana         6\n",
      "22        Colorado         6\n",
      "23       Wisconsin         6\n",
      "24            Iowa         5\n",
      "25      New Jersey         5\n",
      "26     Connecticut         5\n",
      "27        Oklahoma         5\n",
      "28          Oregon         5\n",
      "29         Alabama         5\n",
      "30            Utah         4\n",
      "31     Mississippi         4\n",
      "32     Puerto Rico         4\n",
      "33   West Virginia         4\n",
      "34    Rhode Island         3\n",
      "35        Arkansas         3\n",
      "36          Kansas         3\n",
      "37   New Hampshire         2\n",
      "38        Nebraska         2\n",
      "39         Arizona         2\n"
     ]
    }
   ],
   "source": [
    "residents = pd.read_csv(\"Residency.csv\", header = None)\n",
    "residents.columns = [\"NAME\"]\n",
    "residents[\"Residents\"] = 0\n",
    "\n",
    "for x in residents[\"NAME\"]:\n",
    "    y = x.split(\" \")\n",
    "    if len(y) == 3:\n",
    "        state = y[0] + \" \" + y[1]\n",
    "    else:\n",
    "        state = y[0]\n",
    "    number = y[-1]\n",
    "    number = number[1:-1]\n",
    "    residents.loc[residents[\"NAME\"] == x, \"Residents\"] = number\n",
    "    residents.loc[residents[\"NAME\"] == x, \"NAME\"] = state\n",
    "\n",
    "print(residents)"
   ]
  },
  {
   "cell_type": "code",
   "execution_count": 75,
   "metadata": {},
   "outputs": [],
   "source": [
    "def covid_total_pull(condition, month, years, state):\n",
    "    years_all = [x for x in range(years[0], years[-1]+1)]\n",
    "    months = [\"0\"+str(x) for x in range(1,10)] + [str(x) for x in range(10,13)]\n",
    "    dates = [str(years_all[0])+\"-\"+months[y]+\"-01\" for y in range(month-1, 12)]\n",
    "    if len(years_all) >=2:\n",
    "        dates += [str(years_all[-1])+\"-\"+months[y]+\"-01\" for y in range(0,month)]\n",
    "    if len(years_all) >2:\n",
    "        for x in range(years_all[1], years_all[-1]):\n",
    "            dates += [str(x)+\"-\"+months[y]+\"-01\" for y in range(0,12)]\n",
    "    dates = sorted(dates)\n",
    "    \n",
    "    df = pd.read_csv(\"COVID/\"+condition+\"_\"+state+\".csv\")\n",
    "    try:\n",
    "        df = df.drop(\"isPartial\", axis = 1)\n",
    "    except:\n",
    "        return None\n",
    "    df = df[df[\"date\"].isin(dates)].mean()\n",
    "    df = pd.DataFrame(df, columns = [state])\n",
    "    return(df)\n"
   ]
  },
  {
   "cell_type": "code",
   "execution_count": 76,
   "metadata": {},
   "outputs": [],
   "source": [
    "def pull_all_states(condition, month, years):\n",
    "    all_data = covid_total_pull(condition, month, years, \"MA\")\n",
    "    for x in us_state_to_abbrev:\n",
    "        state = us_state_to_abbrev[x]\n",
    "        if state != \"Massachusetts\":\n",
    "            data_next = covid_total_pull(condition, month, years, state)\n",
    "            if data_next is not None:\n",
    "                all_data[state] = data_next[state]\n",
    "            else:\n",
    "                all_data[state] = 0\n",
    "    return all_data"
   ]
  },
  {
   "cell_type": "code",
   "execution_count": 77,
   "metadata": {},
   "outputs": [],
   "source": [
    "def all_conditions(month, years):\n",
    "    kw_list = [\"cataract\", \"diabetic retinopathy\", \"macular degeneration\", \"uveitis\"]\n",
    "    all_data = pull_all_states(\"glaucoma\", month, years)\n",
    "    for x in kw_list:\n",
    "        all_data = pd.concat([all_data, pull_all_states(x, month, years)])\n",
    "    return all_data"
   ]
  },
  {
   "cell_type": "code",
   "execution_count": null,
   "metadata": {},
   "outputs": [],
   "source": [
    "state_to_state = all_conditions(10, [2020, 2021]).mean()\n",
    "state_to_state = pd.DataFrame(state_to_state, columns = [\"Interest_21\"])\n",
    "state_to_state[\"Interest_20\"] = all_conditions(10, [2019, 2020]).mean()\n",
    "state_to_state[\"Interest_19\"] = all_conditions(10, [2018, 2019]).mean()\n",
    "state_to_state[\"STUSPS\"] = state_to_state.index"
   ]
  },
  {
   "cell_type": "code",
   "execution_count": 87,
   "metadata": {},
   "outputs": [
    {
     "name": "stdout",
     "output_type": "stream",
     "text": [
      "Index(['STATEFP', 'STATENS', 'AFFGEOID', 'GEOID', 'STUSPS', 'NAME', 'LSAD',\n",
      "       'ALAND', 'AWATER', 'region', 'geometry', 'Interest_21', 'Interest_20',\n",
      "       'Interest_19', 'Residents'],\n",
      "      dtype='object')\n"
     ]
    }
   ],
   "source": [
    "states = geopandas.read_file('data/usa-states-census-2014.shp')\n",
    "states = states.drop_duplicates()\n",
    "states = states.merge(state_to_state, on=\"STUSPS\")\n",
    "states = states.merge(residents, on=\"NAME\")\n",
    "print(states.columns)"
   ]
  },
  {
   "cell_type": "code",
   "execution_count": 88,
   "metadata": {},
   "outputs": [
    {
     "ename": "KeyError",
     "evalue": "'Rate_100k_21'",
     "output_type": "error",
     "traceback": [
      "\u001b[1;31m---------------------------------------------------------------------------\u001b[0m",
      "\u001b[1;31mKeyError\u001b[0m                                  Traceback (most recent call last)",
      "File \u001b[1;32mc:\\Users\\aidan\\AppData\\Local\\Programs\\Python\\Python310\\lib\\site-packages\\pandas\\core\\indexes\\base.py:3621\u001b[0m, in \u001b[0;36mIndex.get_loc\u001b[1;34m(self, key, method, tolerance)\u001b[0m\n\u001b[0;32m   3620\u001b[0m \u001b[39mtry\u001b[39;00m:\n\u001b[1;32m-> 3621\u001b[0m     \u001b[39mreturn\u001b[39;00m \u001b[39mself\u001b[39;49m\u001b[39m.\u001b[39;49m_engine\u001b[39m.\u001b[39;49mget_loc(casted_key)\n\u001b[0;32m   3622\u001b[0m \u001b[39mexcept\u001b[39;00m \u001b[39mKeyError\u001b[39;00m \u001b[39mas\u001b[39;00m err:\n",
      "File \u001b[1;32mc:\\Users\\aidan\\AppData\\Local\\Programs\\Python\\Python310\\lib\\site-packages\\pandas\\_libs\\index.pyx:136\u001b[0m, in \u001b[0;36mpandas._libs.index.IndexEngine.get_loc\u001b[1;34m()\u001b[0m\n",
      "File \u001b[1;32mc:\\Users\\aidan\\AppData\\Local\\Programs\\Python\\Python310\\lib\\site-packages\\pandas\\_libs\\index.pyx:163\u001b[0m, in \u001b[0;36mpandas._libs.index.IndexEngine.get_loc\u001b[1;34m()\u001b[0m\n",
      "File \u001b[1;32mpandas\\_libs\\hashtable_class_helper.pxi:5198\u001b[0m, in \u001b[0;36mpandas._libs.hashtable.PyObjectHashTable.get_item\u001b[1;34m()\u001b[0m\n",
      "File \u001b[1;32mpandas\\_libs\\hashtable_class_helper.pxi:5206\u001b[0m, in \u001b[0;36mpandas._libs.hashtable.PyObjectHashTable.get_item\u001b[1;34m()\u001b[0m\n",
      "\u001b[1;31mKeyError\u001b[0m: 'Rate_100k_21'",
      "\nThe above exception was the direct cause of the following exception:\n",
      "\u001b[1;31mKeyError\u001b[0m                                  Traceback (most recent call last)",
      "\u001b[1;32mc:\\Users\\aidan\\Box Sync\\Main\\VSCode\\Ophtho_Trends\\residents.ipynb Cell 9'\u001b[0m in \u001b[0;36m<cell line: 1>\u001b[1;34m()\u001b[0m\n\u001b[1;32m----> <a href='vscode-notebook-cell:/c%3A/Users/aidan/Box%20Sync/Main/VSCode/Ophtho_Trends/residents.ipynb#ch0000013?line=0'>1</a>\u001b[0m states[\u001b[39m\"\u001b[39m\u001b[39mProvider_Ratio\u001b[39m\u001b[39m\"\u001b[39m] \u001b[39m=\u001b[39m states[\u001b[39m\"\u001b[39;49m\u001b[39mRate_100k_21\u001b[39;49m\u001b[39m\"\u001b[39;49m]\u001b[39m/\u001b[39mstates[\u001b[39m\"\u001b[39m\u001b[39mResidents\u001b[39m\u001b[39m\"\u001b[39m]\n",
      "File \u001b[1;32mc:\\Users\\aidan\\AppData\\Local\\Programs\\Python\\Python310\\lib\\site-packages\\geopandas\\geodataframe.py:1412\u001b[0m, in \u001b[0;36mGeoDataFrame.__getitem__\u001b[1;34m(self, key)\u001b[0m\n\u001b[0;32m   1406\u001b[0m \u001b[39mdef\u001b[39;00m \u001b[39m__getitem__\u001b[39m(\u001b[39mself\u001b[39m, key):\n\u001b[0;32m   1407\u001b[0m     \u001b[39m\"\"\"\u001b[39;00m\n\u001b[0;32m   1408\u001b[0m \u001b[39m    If the result is a column containing only 'geometry', return a\u001b[39;00m\n\u001b[0;32m   1409\u001b[0m \u001b[39m    GeoSeries. If it's a DataFrame with any columns of GeometryDtype,\u001b[39;00m\n\u001b[0;32m   1410\u001b[0m \u001b[39m    return a GeoDataFrame.\u001b[39;00m\n\u001b[0;32m   1411\u001b[0m \u001b[39m    \"\"\"\u001b[39;00m\n\u001b[1;32m-> 1412\u001b[0m     result \u001b[39m=\u001b[39m \u001b[39msuper\u001b[39;49m()\u001b[39m.\u001b[39;49m\u001b[39m__getitem__\u001b[39;49m(key)\n\u001b[0;32m   1413\u001b[0m     geo_col \u001b[39m=\u001b[39m \u001b[39mself\u001b[39m\u001b[39m.\u001b[39m_geometry_column_name\n\u001b[0;32m   1414\u001b[0m     \u001b[39mif\u001b[39;00m \u001b[39misinstance\u001b[39m(result, Series) \u001b[39mand\u001b[39;00m \u001b[39misinstance\u001b[39m(result\u001b[39m.\u001b[39mdtype, GeometryDtype):\n",
      "File \u001b[1;32mc:\\Users\\aidan\\AppData\\Local\\Programs\\Python\\Python310\\lib\\site-packages\\pandas\\core\\frame.py:3505\u001b[0m, in \u001b[0;36mDataFrame.__getitem__\u001b[1;34m(self, key)\u001b[0m\n\u001b[0;32m   3503\u001b[0m \u001b[39mif\u001b[39;00m \u001b[39mself\u001b[39m\u001b[39m.\u001b[39mcolumns\u001b[39m.\u001b[39mnlevels \u001b[39m>\u001b[39m \u001b[39m1\u001b[39m:\n\u001b[0;32m   3504\u001b[0m     \u001b[39mreturn\u001b[39;00m \u001b[39mself\u001b[39m\u001b[39m.\u001b[39m_getitem_multilevel(key)\n\u001b[1;32m-> 3505\u001b[0m indexer \u001b[39m=\u001b[39m \u001b[39mself\u001b[39;49m\u001b[39m.\u001b[39;49mcolumns\u001b[39m.\u001b[39;49mget_loc(key)\n\u001b[0;32m   3506\u001b[0m \u001b[39mif\u001b[39;00m is_integer(indexer):\n\u001b[0;32m   3507\u001b[0m     indexer \u001b[39m=\u001b[39m [indexer]\n",
      "File \u001b[1;32mc:\\Users\\aidan\\AppData\\Local\\Programs\\Python\\Python310\\lib\\site-packages\\pandas\\core\\indexes\\base.py:3623\u001b[0m, in \u001b[0;36mIndex.get_loc\u001b[1;34m(self, key, method, tolerance)\u001b[0m\n\u001b[0;32m   3621\u001b[0m     \u001b[39mreturn\u001b[39;00m \u001b[39mself\u001b[39m\u001b[39m.\u001b[39m_engine\u001b[39m.\u001b[39mget_loc(casted_key)\n\u001b[0;32m   3622\u001b[0m \u001b[39mexcept\u001b[39;00m \u001b[39mKeyError\u001b[39;00m \u001b[39mas\u001b[39;00m err:\n\u001b[1;32m-> 3623\u001b[0m     \u001b[39mraise\u001b[39;00m \u001b[39mKeyError\u001b[39;00m(key) \u001b[39mfrom\u001b[39;00m \u001b[39merr\u001b[39;00m\n\u001b[0;32m   3624\u001b[0m \u001b[39mexcept\u001b[39;00m \u001b[39mTypeError\u001b[39;00m:\n\u001b[0;32m   3625\u001b[0m     \u001b[39m# If we have a listlike key, _check_indexing_error will raise\u001b[39;00m\n\u001b[0;32m   3626\u001b[0m     \u001b[39m#  InvalidIndexError. Otherwise we fall through and re-raise\u001b[39;00m\n\u001b[0;32m   3627\u001b[0m     \u001b[39m#  the TypeError.\u001b[39;00m\n\u001b[0;32m   3628\u001b[0m     \u001b[39mself\u001b[39m\u001b[39m.\u001b[39m_check_indexing_error(key)\n",
      "\u001b[1;31mKeyError\u001b[0m: 'Rate_100k_21'"
     ]
    }
   ],
   "source": [
    "states[\"Provider_Ratio\"] = states[\"Rate_100k_21\"]/states[\"Residents\"]"
   ]
  }
 ],
 "metadata": {
  "kernelspec": {
   "display_name": "Python 3.10.5 64-bit",
   "language": "python",
   "name": "python3"
  },
  "language_info": {
   "codemirror_mode": {
    "name": "ipython",
    "version": 3
   },
   "file_extension": ".py",
   "mimetype": "text/x-python",
   "name": "python",
   "nbconvert_exporter": "python",
   "pygments_lexer": "ipython3",
   "version": "3.10.5"
  },
  "orig_nbformat": 4,
  "vscode": {
   "interpreter": {
    "hash": "59ce7d6bb8cd4ae6d5cf8ba5759d47519be8aa1ee658f53dd34a0e354aee55b2"
   }
  }
 },
 "nbformat": 4,
 "nbformat_minor": 2
}
